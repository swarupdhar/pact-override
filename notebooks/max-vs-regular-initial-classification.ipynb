{
 "cells": [
  {
   "cell_type": "markdown",
   "metadata": {},
   "source": [
    "# Classifying max vs regular custody level"
   ]
  },
  {
   "cell_type": "markdown",
   "metadata": {},
   "source": [
    "## Initial classification"
   ]
  },
  {
   "cell_type": "markdown",
   "metadata": {},
   "source": [
    "**Notebook Setup**"
   ]
  },
  {
   "cell_type": "code",
   "execution_count": 3,
   "metadata": {},
   "outputs": [],
   "source": [
    "#!pip install bioinfokit"
   ]
  },
  {
   "cell_type": "code",
   "execution_count": 1,
   "metadata": {},
   "outputs": [],
   "source": [
    "import sys\n",
    "sys.path.append(\"../src\")\n",
    "%load_ext autoreload\n",
    "%autoreload 2"
   ]
  },
  {
   "cell_type": "code",
   "execution_count": 2,
   "metadata": {},
   "outputs": [],
   "source": [
    "import pandas as pd\n",
    "import numpy as np\n",
    "import matplotlib.pyplot as plt\n",
    "import statsmodels.api as sm\n",
    "import seaborn as sns\n",
    "#from heatmap import heatmap\n",
    "import statsmodels.formula.api as smf\n",
    "#import bioinfokit"
   ]
  },
  {
   "cell_type": "code",
   "execution_count": 3,
   "metadata": {},
   "outputs": [],
   "source": [
    "plt.style.use('ggplot')"
   ]
  },
  {
   "cell_type": "code",
   "execution_count": 5,
   "metadata": {},
   "outputs": [],
   "source": [
    "%matplotlib inline\n",
    "\n",
    "from project import rf_models, preprocessing\n",
    "\n",
    "df = pd.read_csv(\"../data/initial_custody_2017_gsprs.csv\", low_memory=False)\n",
    "\n",
    "df['high_ic_instit_adj'] = np.where(df['ic_institut_adj']>2, 1, 0)\n",
    "df['ic_override_up'] = np.where(df['ic_ovride_cust_lvl']-df['ic_custdy_level']>0,1,0)\n",
    "df['high_ic'] = np.where(df['ic_custdy_level']>4, 1, 0)\n",
    "\n",
    "\n",
    "# preprocessing\n",
    "data = preprocessing.preprocess_input_vars(df)\n",
    "data = data[data.ic_custdy_level > 1]\n",
    "data = data[\n",
    "    [\n",
    "        \"gender_female\",\n",
    "        \"age_gt_45\",\n",
    "        \"age_lt_25\",\n",
    "        \"race_B\",\n",
    "        \"race_A\",\n",
    "        \"race_H\",\n",
    "        \"race_I\",\n",
    "        \"race_O\",\n",
    "        \"off_1_prs_max\",\n",
    "        \"off_1_gs_max\",\n",
    "        #\"ic_custdy_level\",\n",
    "        \"prior_commits\",\n",
    "        \"ic_institut_adj\",\n",
    "        \"escape_hist_1\",\n",
    "        #\"escape_hist_2\",\n",
    "        #\"escape_hist_3\",\n",
    "        #\"escape_hist_4\",\n",
    "        \"escape_hist_5\",\n",
    "        \"mrt_stat_DIV\",\n",
    "        \"mrt_stat_SEP\",\n",
    "        \"mrt_stat_MAR\",\n",
    "        \"mrt_stat_WID\",\n",
    "        \"employed\",\n",
    "        #\"high_ic_instit_adj\",\n",
    "        \"high_ic\"\n",
    "    ]\n",
    "]\n",
    "data = data.dropna()\n",
    "\n",
    "df_ic_all = data"
   ]
  },
  {
   "cell_type": "code",
   "execution_count": 6,
   "metadata": {},
   "outputs": [],
   "source": [
    "df = pd.concat([df, pd.get_dummies(df.race, prefix=\"race\").drop(\"race_W\", axis=1)], axis=1)"
   ]
  },
  {
   "cell_type": "markdown",
   "metadata": {},
   "source": [
    "#### Exploratory data analysis"
   ]
  },
  {
   "cell_type": "code",
   "execution_count": 7,
   "metadata": {},
   "outputs": [
    {
     "data": {
      "text/plain": [
       "0    13764\n",
       "1       51\n",
       "Name: high_ic, dtype: int64"
      ]
     },
     "execution_count": 7,
     "metadata": {},
     "output_type": "execute_result"
    }
   ],
   "source": [
    "df_ic_all['high_ic'].value_counts()"
   ]
  },
  {
   "cell_type": "code",
   "execution_count": 8,
   "metadata": {},
   "outputs": [],
   "source": [
    "# This is to find if there is perfect separation\n",
    "#max_secy = df_ic_all[df_ic_all['high_ic']==1]"
   ]
  },
  {
   "cell_type": "code",
   "execution_count": 9,
   "metadata": {},
   "outputs": [],
   "source": [
    "#max_secy"
   ]
  },
  {
   "cell_type": "code",
   "execution_count": 10,
   "metadata": {},
   "outputs": [
    {
     "name": "stdout",
     "output_type": "stream",
     "text": [
      "percentage of high lev is 99.63083604777417\n",
      "percentage of low lev is 0.3691639522258415\n"
     ]
    }
   ],
   "source": [
    "count_hi = len(df_ic_all[df_ic_all['high_ic']==0])\n",
    "count_lo = len(df_ic_all[df_ic_all['high_ic']==1])\n",
    "pct_hi = count_hi/(count_hi+count_lo)\n",
    "print(\"percentage of high lev is\", pct_hi*100)\n",
    "pct_lo = count_lo/(count_hi+count_lo)\n",
    "print(\"percentage of low lev is\", pct_lo*100)"
   ]
  },
  {
   "cell_type": "markdown",
   "metadata": {},
   "source": [
    "#### See how quantitative variables vary with custody level"
   ]
  },
  {
   "cell_type": "code",
   "execution_count": 11,
   "metadata": {},
   "outputs": [
    {
     "data": {
      "text/plain": [
       "high_ic\n",
       "0    3.282912\n",
       "1    3.843137\n",
       "Name: prior_commits, dtype: float64"
      ]
     },
     "execution_count": 11,
     "metadata": {},
     "output_type": "execute_result"
    }
   ],
   "source": [
    "df_ic_all.groupby('high_ic').mean()['prior_commits']"
   ]
  },
  {
   "cell_type": "code",
   "execution_count": 12,
   "metadata": {},
   "outputs": [
    {
     "data": {
      "text/plain": [
       "high_ic\n",
       "0    11.773394\n",
       "1    13.431373\n",
       "Name: off_1_gs_max, dtype: float64"
      ]
     },
     "execution_count": 12,
     "metadata": {},
     "output_type": "execute_result"
    }
   ],
   "source": [
    "df_ic_all.groupby('high_ic').mean()['off_1_gs_max']"
   ]
  },
  {
   "cell_type": "code",
   "execution_count": 13,
   "metadata": {},
   "outputs": [
    {
     "data": {
      "text/plain": [
       "high_ic\n",
       "0    2.522922\n",
       "1    2.725490\n",
       "Name: off_1_prs_max, dtype: float64"
      ]
     },
     "execution_count": 13,
     "metadata": {},
     "output_type": "execute_result"
    }
   ],
   "source": [
    "df_ic_all.groupby('high_ic').mean()['off_1_prs_max']"
   ]
  },
  {
   "cell_type": "code",
   "execution_count": 14,
   "metadata": {},
   "outputs": [
    {
     "data": {
      "text/plain": [
       "high_ic\n",
       "0    3.146178\n",
       "1    4.098039\n",
       "Name: ic_institut_adj, dtype: float64"
      ]
     },
     "execution_count": 14,
     "metadata": {},
     "output_type": "execute_result"
    }
   ],
   "source": [
    "df_ic_all.groupby('high_ic').mean()['ic_institut_adj']"
   ]
  },
  {
   "cell_type": "markdown",
   "metadata": {},
   "source": [
    "####  See how quantitative variables vary with race_B"
   ]
  },
  {
   "cell_type": "code",
   "execution_count": 15,
   "metadata": {},
   "outputs": [
    {
     "data": {
      "text/plain": [
       "race_B\n",
       "0    2.949816\n",
       "1    3.328127\n",
       "Name: ic_institut_adj, dtype: float64"
      ]
     },
     "execution_count": 15,
     "metadata": {},
     "output_type": "execute_result"
    }
   ],
   "source": [
    "df_ic_all.groupby('race_B').mean()['ic_institut_adj']"
   ]
  },
  {
   "cell_type": "code",
   "execution_count": 16,
   "metadata": {},
   "outputs": [
    {
     "data": {
      "text/plain": [
       "race_B\n",
       "0    2.401013\n",
       "1    2.633169\n",
       "Name: off_1_prs_max, dtype: float64"
      ]
     },
     "execution_count": 16,
     "metadata": {},
     "output_type": "execute_result"
    }
   ],
   "source": [
    "df_ic_all.groupby('race_B').mean()['off_1_prs_max']"
   ]
  },
  {
   "cell_type": "code",
   "execution_count": 17,
   "metadata": {},
   "outputs": [
    {
     "data": {
      "text/plain": [
       "race_B\n",
       "0    11.151473\n",
       "1    12.340184\n",
       "Name: off_1_gs_max, dtype: float64"
      ]
     },
     "execution_count": 17,
     "metadata": {},
     "output_type": "execute_result"
    }
   ],
   "source": [
    "df_ic_all.groupby('race_B').mean()['off_1_gs_max']"
   ]
  },
  {
   "cell_type": "code",
   "execution_count": 18,
   "metadata": {},
   "outputs": [
    {
     "data": {
      "text/plain": [
       "race_B\n",
       "0    3.343002\n",
       "1    3.233183\n",
       "Name: prior_commits, dtype: float64"
      ]
     },
     "execution_count": 18,
     "metadata": {},
     "output_type": "execute_result"
    }
   ],
   "source": [
    "df_ic_all.groupby('race_B').mean()['prior_commits']"
   ]
  },
  {
   "cell_type": "markdown",
   "metadata": {},
   "source": [
    "#### Visualizations"
   ]
  },
  {
   "cell_type": "code",
   "execution_count": 19,
   "metadata": {},
   "outputs": [
    {
     "data": {
      "text/plain": [
       "Text(0, 0.5, 'Count of people')"
      ]
     },
     "execution_count": 19,
     "metadata": {},
     "output_type": "execute_result"
    },
    {
     "data": {
      "image/png": "[encoded data removed]",
      "text/plain": [
       "<Figure size 432x288 with 1 Axes>"
      ]
     },
     "metadata": {
      "needs_background": "light"
     },
     "output_type": "display_data"
    }
   ],
   "source": [
    "%matplotlib inline\n",
    "pd.crosstab(df_ic_all.race_B,df_ic_all.high_ic).plot(kind='bar')\n",
    "plt.title('Custody level by Black or not')\n",
    "plt.xlabel('Black')\n",
    "plt.ylabel('Count of people')"
   ]
  },
  {
   "cell_type": "code",
   "execution_count": 20,
   "metadata": {},
   "outputs": [
    {
     "data": {
      "text/plain": [
       "Text(0, 0.5, 'Proportion of people')"
      ]
     },
     "execution_count": 20,
     "metadata": {},
     "output_type": "execute_result"
    },
    {
     "data": {
      "image/png": "[encoded data removed]",
      "text/plain": [
       "<Figure size 432x288 with 1 Axes>"
      ]
     },
     "metadata": {
      "needs_background": "light"
     },
     "output_type": "display_data"
    }
   ],
   "source": [
    "table=pd.crosstab(df_ic_all.ic_institut_adj,df_ic_all.high_ic)\n",
    "table.div(table.sum(1).astype(float), axis=0).plot(kind='bar', stacked=True)\n",
    "plt.title('Stacked Bar Chart of Custody level vs Institutional Adjustment')\n",
    "plt.xlabel('Institutional adjustment')\n",
    "plt.ylabel('Proportion of people')"
   ]
  },
  {
   "cell_type": "code",
   "execution_count": 21,
   "metadata": {},
   "outputs": [
    {
     "data": {
      "text/plain": [
       "Text(0, 0.5, 'Proportion of people')"
      ]
     },
     "execution_count": 21,
     "metadata": {},
     "output_type": "execute_result"
    },
    {
     "data": {
      "image/png": "[encoded data removed]",
      "text/plain": [
       "<Figure size 432x288 with 1 Axes>"
      ]
     },
     "metadata": {
      "needs_background": "light"
     },
     "output_type": "display_data"
    }
   ],
   "source": [
    "table=pd.crosstab(df_ic_all.employed,df_ic_all.high_ic)\n",
    "table.div(table.sum(1).astype(float), axis=0).plot(kind='bar', stacked=True)\n",
    "plt.title('Stacked Bar Chart of Custody level vs Employment status')\n",
    "plt.xlabel('Employment status')\n",
    "plt.ylabel('Proportion of people')"
   ]
  },
  {
   "cell_type": "code",
   "execution_count": 22,
   "metadata": {},
   "outputs": [
    {
     "data": {
      "text/plain": [
       "Text(0, 0.5, 'Proportion of people')"
      ]
     },
     "execution_count": 22,
     "metadata": {},
     "output_type": "execute_result"
    },
    {
     "data": {
      "image/png": "[encoded data removed]",
      "text/plain": [
       "<Figure size 432x288 with 1 Axes>"
      ]
     },
     "metadata": {
      "needs_background": "light"
     },
     "output_type": "display_data"
    }
   ],
   "source": [
    "table=pd.crosstab(df_ic_all.gender_female,df_ic_all.high_ic)\n",
    "table.div(table.sum(1).astype(float), axis=0).plot(kind='bar', stacked=True)\n",
    "plt.title('Stacked Bar Chart of Custody level vs Female or not')\n",
    "plt.xlabel('Female')\n",
    "plt.ylabel('Proportion of people')"
   ]
  },
  {
   "cell_type": "markdown",
   "metadata": {},
   "source": [
    "### Building the full model with all features used by the PACT"
   ]
  },
  {
   "cell_type": "code",
   "execution_count": 23,
   "metadata": {},
   "outputs": [],
   "source": [
    "from sklearn.linear_model import LogisticRegression\n",
    "from sklearn.model_selection import train_test_split\n",
    "from sklearn import metrics\n",
    "from sklearn.metrics import classification_report\n",
    "from sklearn.metrics import roc_auc_score\n",
    "from sklearn.metrics import roc_curve"
   ]
  },
  {
   "cell_type": "code",
   "execution_count": 24,
   "metadata": {},
   "outputs": [],
   "source": [
    "data_final = df_ic_all"
   ]
  },
  {
   "cell_type": "code",
   "execution_count": 57,
   "metadata": {},
   "outputs": [],
   "source": [
    "#We ommitted escape histories 2, 3 and 4 because they were highly correlated with escape history 1\n",
    "#and because we want to know if they're frequent escapees or not, and not necessarily how many times\n",
    "\n",
    "#We also ommitted some variables to avoid complete separation \n",
    "\n",
    "data_final_vars=data_final.columns.values.tolist()\n",
    "yvars = ['high_ic']\n",
    "Xvars = [i for i in data_final_vars if i not in yvars]\n",
    "X = data_final.loc[:, data_final.columns != 'high_ic']\n",
    "y = data_final.loc[:, data_final.columns == 'high_ic']\n",
    "ll = ['age_gt_45',\n",
    " 'ic_institut_adj',\n",
    " 'escape_hist_1',\n",
    " #'escape_hist_2',\n",
    " #'escape_hist_3',\n",
    " #'escape_hist_4',\n",
    " 'escape_hist_5',\n",
    " #'mrt_stat_DIV',\n",
    " #'mrt_stat_SEP',\n",
    " 'mrt_stat_MAR',\n",
    " #'mrt_stat_WID',\n",
    " 'employed']\n",
    "ll.append('race_B')\n",
    "#ll.append('race_A')\n",
    "ll.append('race_H')\n",
    "#ll.append('race_I')\n",
    "#ll.append('race_O')\n",
    "ll.append('off_1_gs_max')\n",
    "ll.append('off_1_prs_max')\n",
    "ll.append('prior_commits')\n",
    "ll.append('age_lt_25')\n",
    "ll.append('gender_female')\n",
    "X = X[ll]\n"
   ]
  },
  {
   "cell_type": "code",
   "execution_count": 42,
   "metadata": {},
   "outputs": [
    {
     "data": {
      "text/plain": [
       "array(['age_gt_45', 'ic_institut_adj', 'escape_hist_1', 'escape_hist_5',\n",
       "       'mrt_stat_MAR', 'employed', 'race_B', 'race_H', 'off_1_gs_max',\n",
       "       'off_1_prs_max', 'prior_commits', 'age_lt_25', 'gender_female'],\n",
       "      dtype=object)"
      ]
     },
     "execution_count": 42,
     "metadata": {},
     "output_type": "execute_result"
    }
   ],
   "source": [
    "X.columns.values"
   ]
  },
  {
   "cell_type": "markdown",
   "metadata": {},
   "source": [
    "### Oversampling"
   ]
  },
  {
   "cell_type": "code",
   "execution_count": 43,
   "metadata": {},
   "outputs": [],
   "source": [
    "from imblearn.over_sampling import SMOTE\n",
    "\n",
    "os = SMOTE(random_state=0)\n",
    "\n",
    "X, y = os.fit_resample(X, y)"
   ]
  },
  {
   "cell_type": "code",
   "execution_count": null,
   "metadata": {},
   "outputs": [],
   "source": []
  },
  {
   "cell_type": "code",
   "execution_count": 44,
   "metadata": {},
   "outputs": [
    {
     "name": "stdout",
     "output_type": "stream",
     "text": [
      "Optimization terminated successfully.\n",
      "         Current function value: 0.411284\n",
      "         Iterations 11\n",
      "                         Results: Logit\n",
      "=================================================================\n",
      "Model:              Logit            Pseudo R-squared: 0.407     \n",
      "Dependent Variable: high_ic          AIC:              22669.6490\n",
      "Date:               2021-12-03 21:35 BIC:              22776.5475\n",
      "No. Observations:   27528            Log-Likelihood:   -11322.   \n",
      "Df Model:           12               LL-Null:          -19081.   \n",
      "Df Residuals:       27515            LLR p-value:      0.0000    \n",
      "Converged:          1.0000           Scale:            1.0000    \n",
      "No. Iterations:     11.0000                                      \n",
      "-----------------------------------------------------------------\n",
      "                  Coef.  Std.Err.    z     P>|z|   [0.025  0.975]\n",
      "-----------------------------------------------------------------\n",
      "age_gt_45        -1.9067   0.0871 -21.8868 0.0000 -2.0774 -1.7359\n",
      "ic_institut_adj   0.3342   0.0129  25.8351 0.0000  0.3088  0.3595\n",
      "escape_hist_1    -2.6658   0.0432 -61.7290 0.0000 -2.7504 -2.5811\n",
      "escape_hist_5    -6.9384   1.0032  -6.9161 0.0000 -8.9047 -4.9721\n",
      "mrt_stat_MAR     -6.1851   0.7106  -8.7045 0.0000 -7.5778 -4.7924\n",
      "employed         -3.8484   0.1443 -26.6697 0.0000 -4.1313 -3.5656\n",
      "race_B           -0.9944   0.0385 -25.8136 0.0000 -1.0699 -0.9189\n",
      "race_H           -1.7049   0.0662 -25.7355 0.0000 -1.8347 -1.5750\n",
      "off_1_gs_max      0.0821   0.0042  19.3316 0.0000  0.0738  0.0905\n",
      "off_1_prs_max    -0.0596   0.0152  -3.9265 0.0001 -0.0893 -0.0298\n",
      "prior_commits    -0.1082   0.0061 -17.7136 0.0000 -0.1201 -0.0962\n",
      "age_lt_25         0.1958   0.0393   4.9772 0.0000  0.1187  0.2729\n",
      "gender_female    -5.4390   0.7156  -7.6010 0.0000 -6.8415 -4.0365\n",
      "=================================================================\n",
      "\n",
      "                       OR        z-value      2.5%     97.5%\n",
      "age_gt_45        0.148573  3.469307e-106  0.125253  0.176236\n",
      "ic_institut_adj  1.396806  3.576017e-147  1.361838  1.432672\n",
      "escape_hist_1    0.069546   0.000000e+00  0.063901  0.075688\n",
      "escape_hist_5    0.000970   4.643120e-12  0.000136  0.006928\n",
      "mrt_stat_MAR     0.002060   3.188777e-18  0.000512  0.008292\n",
      "employed         0.021313  1.057738e-156  0.016063  0.028280\n",
      "race_B           0.369950  6.231713e-147  0.343047  0.398963\n",
      "race_H           0.181793  4.683761e-146  0.159657  0.206998\n",
      "off_1_gs_max     1.085600   2.911722e-83  1.076597  1.094677\n",
      "off_1_prs_max    0.942182   8.617707e-05  0.914585  0.970612\n",
      "prior_commits    0.897472   3.293483e-70  0.886794  0.908279\n",
      "age_lt_25        1.216273   6.450286e-07  1.126022  1.313757\n",
      "gender_female    0.004344   2.938887e-14  0.001069  0.017659\n",
      "\n",
      "Accuracy of logistic regression classifier on test set: 0.83\n",
      "\n",
      "\n",
      "[[3236  884]\n",
      " [ 535 3604]]\n",
      "\n",
      "\n",
      "              precision    recall  f1-score   support\n",
      "\n",
      "           0       0.86      0.79      0.82      4120\n",
      "           1       0.80      0.87      0.84      4139\n",
      "\n",
      "    accuracy                           0.83      8259\n",
      "   macro avg       0.83      0.83      0.83      8259\n",
      "weighted avg       0.83      0.83      0.83      8259\n",
      "\n"
     ]
    },
    {
     "data": {
      "image/png": "[encoded data removed]",
      "text/plain": [
       "<Figure size 432x288 with 1 Axes>"
      ]
     },
     "metadata": {
      "needs_background": "light"
     },
     "output_type": "display_data"
    }
   ],
   "source": [
    "logit_model=sm.Logit(y,X)\n",
    "result=logit_model.fit(max_iter=1000)\n",
    "print(result.summary2())\n",
    "\n",
    "model_odds = pd.DataFrame(np.exp(result.params), columns= ['OR'])\n",
    "model_odds['z-value']= result.pvalues\n",
    "model_odds[['2.5%', '97.5%']] = np.exp(result.conf_int())\n",
    "print(model_odds)\n",
    "\n",
    "X_train, X_test, y_train, y_test = train_test_split(X, y, test_size=0.3, random_state=0)\n",
    "logreg = LogisticRegression(max_iter=1000)\n",
    "logreg.fit(X_train, y_train.values.ravel())\n",
    "y_pred = logreg.predict(X_test)\n",
    "print('\\nAccuracy of logistic regression classifier on test set: {:.2f}'.format(logreg.score(X_test, y_test)))\n",
    "\n",
    "from sklearn.metrics import confusion_matrix\n",
    "cm = confusion_matrix(y_test, y_pred)\n",
    "print(\"\\n\")\n",
    "print(cm)\n",
    "print(\"\\n\")\n",
    "print(classification_report(y_test, y_pred))\n",
    "\n",
    "logit_roc_auc = roc_auc_score(y_test, logreg.predict(X_test))\n",
    "fpr, tpr, thresholds = roc_curve(y_test, logreg.predict_proba(X_test)[:,1])\n",
    "plt.figure()\n",
    "plt.plot(fpr, tpr, label='Logistic Regression (area = %0.2f)' % logit_roc_auc)\n",
    "plt.plot([0, 1], [0, 1],'r--')\n",
    "plt.xlim([0.0, 1.0])\n",
    "plt.ylim([0.0, 1.05])\n",
    "plt.xlabel('False Positive Rate')\n",
    "plt.ylabel('True Positive Rate')\n",
    "plt.title('Receiver operating characteristic')\n",
    "plt.legend(loc=\"lower right\")\n",
    "plt.show()\n"
   ]
  },
  {
   "cell_type": "markdown",
   "metadata": {},
   "source": [
    "#### Checking conditions on this model"
   ]
  },
  {
   "cell_type": "code",
   "execution_count": 45,
   "metadata": {},
   "outputs": [
    {
     "name": "stdout",
     "output_type": "stream",
     "text": [
      "-0.3019999926410333\n",
      "0.24411431723861104\n"
     ]
    }
   ],
   "source": [
    "# Absence of colinearity\n",
    "Xc = np.asarray(X.corr())\n",
    "print(Xc.min())\n",
    "print(Xc[Xc < 1].max())"
   ]
  },
  {
   "cell_type": "code",
   "execution_count": 46,
   "metadata": {},
   "outputs": [
    {
     "data": {
      "text/html": [
       "<div>\n",
       "<style scoped>\n",
       "    .dataframe tbody tr th:only-of-type {\n",
       "        vertical-align: middle;\n",
       "    }\n",
       "\n",
       "    .dataframe tbody tr th {\n",
       "        vertical-align: top;\n",
       "    }\n",
       "\n",
       "    .dataframe thead th {\n",
       "        text-align: right;\n",
       "    }\n",
       "</style>\n",
       "<table border=\"1\" class=\"dataframe\">\n",
       "  <thead>\n",
       "    <tr style=\"text-align: right;\">\n",
       "      <th></th>\n",
       "      <th>age_gt_45</th>\n",
       "      <th>ic_institut_adj</th>\n",
       "      <th>escape_hist_1</th>\n",
       "      <th>escape_hist_5</th>\n",
       "      <th>mrt_stat_MAR</th>\n",
       "      <th>employed</th>\n",
       "      <th>race_B</th>\n",
       "      <th>race_H</th>\n",
       "      <th>off_1_gs_max</th>\n",
       "      <th>off_1_prs_max</th>\n",
       "      <th>prior_commits</th>\n",
       "      <th>age_lt_25</th>\n",
       "      <th>gender_female</th>\n",
       "    </tr>\n",
       "  </thead>\n",
       "  <tbody>\n",
       "    <tr>\n",
       "      <th>age_gt_45</th>\n",
       "      <td>1.000000</td>\n",
       "      <td>-0.226307</td>\n",
       "      <td>0.141081</td>\n",
       "      <td>-0.005675</td>\n",
       "      <td>0.149167</td>\n",
       "      <td>0.186787</td>\n",
       "      <td>-0.089366</td>\n",
       "      <td>-0.013282</td>\n",
       "      <td>-0.169635</td>\n",
       "      <td>0.031739</td>\n",
       "      <td>0.195913</td>\n",
       "      <td>-0.221147</td>\n",
       "      <td>0.037855</td>\n",
       "    </tr>\n",
       "    <tr>\n",
       "      <th>ic_institut_adj</th>\n",
       "      <td>-0.226307</td>\n",
       "      <td>1.000000</td>\n",
       "      <td>-0.240947</td>\n",
       "      <td>0.014366</td>\n",
       "      <td>-0.158483</td>\n",
       "      <td>-0.242475</td>\n",
       "      <td>-0.043861</td>\n",
       "      <td>-0.052795</td>\n",
       "      <td>0.106913</td>\n",
       "      <td>0.146917</td>\n",
       "      <td>0.076072</td>\n",
       "      <td>0.199438</td>\n",
       "      <td>-0.059146</td>\n",
       "    </tr>\n",
       "    <tr>\n",
       "      <th>escape_hist_1</th>\n",
       "      <td>0.141081</td>\n",
       "      <td>-0.240947</td>\n",
       "      <td>1.000000</td>\n",
       "      <td>-0.074168</td>\n",
       "      <td>0.123813</td>\n",
       "      <td>0.240970</td>\n",
       "      <td>-0.008567</td>\n",
       "      <td>0.046066</td>\n",
       "      <td>-0.107156</td>\n",
       "      <td>-0.148784</td>\n",
       "      <td>-0.241095</td>\n",
       "      <td>-0.000612</td>\n",
       "      <td>0.076517</td>\n",
       "    </tr>\n",
       "    <tr>\n",
       "      <th>escape_hist_5</th>\n",
       "      <td>-0.005675</td>\n",
       "      <td>0.014366</td>\n",
       "      <td>-0.074168</td>\n",
       "      <td>1.000000</td>\n",
       "      <td>0.023343</td>\n",
       "      <td>0.008231</td>\n",
       "      <td>0.003559</td>\n",
       "      <td>0.012700</td>\n",
       "      <td>-0.071455</td>\n",
       "      <td>-0.014351</td>\n",
       "      <td>0.023151</td>\n",
       "      <td>-0.002800</td>\n",
       "      <td>0.001925</td>\n",
       "    </tr>\n",
       "    <tr>\n",
       "      <th>mrt_stat_MAR</th>\n",
       "      <td>0.149167</td>\n",
       "      <td>-0.158483</td>\n",
       "      <td>0.123813</td>\n",
       "      <td>0.023343</td>\n",
       "      <td>1.000000</td>\n",
       "      <td>0.203426</td>\n",
       "      <td>-0.044905</td>\n",
       "      <td>0.026323</td>\n",
       "      <td>-0.066917</td>\n",
       "      <td>-0.011111</td>\n",
       "      <td>0.013637</td>\n",
       "      <td>-0.138745</td>\n",
       "      <td>0.040925</td>\n",
       "    </tr>\n",
       "    <tr>\n",
       "      <th>employed</th>\n",
       "      <td>0.186787</td>\n",
       "      <td>-0.242475</td>\n",
       "      <td>0.240970</td>\n",
       "      <td>0.008231</td>\n",
       "      <td>0.203426</td>\n",
       "      <td>1.000000</td>\n",
       "      <td>-0.085008</td>\n",
       "      <td>-0.002561</td>\n",
       "      <td>-0.124508</td>\n",
       "      <td>-0.057642</td>\n",
       "      <td>-0.017369</td>\n",
       "      <td>-0.180524</td>\n",
       "      <td>0.042598</td>\n",
       "    </tr>\n",
       "    <tr>\n",
       "      <th>race_B</th>\n",
       "      <td>-0.089366</td>\n",
       "      <td>-0.043861</td>\n",
       "      <td>-0.008567</td>\n",
       "      <td>0.003559</td>\n",
       "      <td>-0.044905</td>\n",
       "      <td>-0.085008</td>\n",
       "      <td>1.000000</td>\n",
       "      <td>-0.302000</td>\n",
       "      <td>0.148000</td>\n",
       "      <td>0.039516</td>\n",
       "      <td>-0.152081</td>\n",
       "      <td>0.050334</td>\n",
       "      <td>-0.035826</td>\n",
       "    </tr>\n",
       "    <tr>\n",
       "      <th>race_H</th>\n",
       "      <td>-0.013282</td>\n",
       "      <td>-0.052795</td>\n",
       "      <td>0.046066</td>\n",
       "      <td>0.012700</td>\n",
       "      <td>0.026323</td>\n",
       "      <td>-0.002561</td>\n",
       "      <td>-0.302000</td>\n",
       "      <td>1.000000</td>\n",
       "      <td>0.032750</td>\n",
       "      <td>-0.042944</td>\n",
       "      <td>-0.044295</td>\n",
       "      <td>0.001846</td>\n",
       "      <td>0.019402</td>\n",
       "    </tr>\n",
       "    <tr>\n",
       "      <th>off_1_gs_max</th>\n",
       "      <td>-0.169635</td>\n",
       "      <td>0.106913</td>\n",
       "      <td>-0.107156</td>\n",
       "      <td>-0.071455</td>\n",
       "      <td>-0.066917</td>\n",
       "      <td>-0.124508</td>\n",
       "      <td>0.148000</td>\n",
       "      <td>0.032750</td>\n",
       "      <td>1.000000</td>\n",
       "      <td>0.054581</td>\n",
       "      <td>-0.182235</td>\n",
       "      <td>0.225021</td>\n",
       "      <td>-0.054664</td>\n",
       "    </tr>\n",
       "    <tr>\n",
       "      <th>off_1_prs_max</th>\n",
       "      <td>0.031739</td>\n",
       "      <td>0.146917</td>\n",
       "      <td>-0.148784</td>\n",
       "      <td>-0.014351</td>\n",
       "      <td>-0.011111</td>\n",
       "      <td>-0.057642</td>\n",
       "      <td>0.039516</td>\n",
       "      <td>-0.042944</td>\n",
       "      <td>0.054581</td>\n",
       "      <td>1.000000</td>\n",
       "      <td>0.244114</td>\n",
       "      <td>-0.199543</td>\n",
       "      <td>-0.052429</td>\n",
       "    </tr>\n",
       "    <tr>\n",
       "      <th>prior_commits</th>\n",
       "      <td>0.195913</td>\n",
       "      <td>0.076072</td>\n",
       "      <td>-0.241095</td>\n",
       "      <td>0.023151</td>\n",
       "      <td>0.013637</td>\n",
       "      <td>-0.017369</td>\n",
       "      <td>-0.152081</td>\n",
       "      <td>-0.044295</td>\n",
       "      <td>-0.182235</td>\n",
       "      <td>0.244114</td>\n",
       "      <td>1.000000</td>\n",
       "      <td>-0.287657</td>\n",
       "      <td>-0.023921</td>\n",
       "    </tr>\n",
       "    <tr>\n",
       "      <th>age_lt_25</th>\n",
       "      <td>-0.221147</td>\n",
       "      <td>0.199438</td>\n",
       "      <td>-0.000612</td>\n",
       "      <td>-0.002800</td>\n",
       "      <td>-0.138745</td>\n",
       "      <td>-0.180524</td>\n",
       "      <td>0.050334</td>\n",
       "      <td>0.001846</td>\n",
       "      <td>0.225021</td>\n",
       "      <td>-0.199543</td>\n",
       "      <td>-0.287657</td>\n",
       "      <td>1.000000</td>\n",
       "      <td>-0.051517</td>\n",
       "    </tr>\n",
       "    <tr>\n",
       "      <th>gender_female</th>\n",
       "      <td>0.037855</td>\n",
       "      <td>-0.059146</td>\n",
       "      <td>0.076517</td>\n",
       "      <td>0.001925</td>\n",
       "      <td>0.040925</td>\n",
       "      <td>0.042598</td>\n",
       "      <td>-0.035826</td>\n",
       "      <td>0.019402</td>\n",
       "      <td>-0.054664</td>\n",
       "      <td>-0.052429</td>\n",
       "      <td>-0.023921</td>\n",
       "      <td>-0.051517</td>\n",
       "      <td>1.000000</td>\n",
       "    </tr>\n",
       "  </tbody>\n",
       "</table>\n",
       "</div>"
      ],
      "text/plain": [
       "                 age_gt_45  ic_institut_adj  escape_hist_1  escape_hist_5  \\\n",
       "age_gt_45         1.000000        -0.226307       0.141081      -0.005675   \n",
       "ic_institut_adj  -0.226307         1.000000      -0.240947       0.014366   \n",
       "escape_hist_1     0.141081        -0.240947       1.000000      -0.074168   \n",
       "escape_hist_5    -0.005675         0.014366      -0.074168       1.000000   \n",
       "mrt_stat_MAR      0.149167        -0.158483       0.123813       0.023343   \n",
       "employed          0.186787        -0.242475       0.240970       0.008231   \n",
       "race_B           -0.089366        -0.043861      -0.008567       0.003559   \n",
       "race_H           -0.013282        -0.052795       0.046066       0.012700   \n",
       "off_1_gs_max     -0.169635         0.106913      -0.107156      -0.071455   \n",
       "off_1_prs_max     0.031739         0.146917      -0.148784      -0.014351   \n",
       "prior_commits     0.195913         0.076072      -0.241095       0.023151   \n",
       "age_lt_25        -0.221147         0.199438      -0.000612      -0.002800   \n",
       "gender_female     0.037855        -0.059146       0.076517       0.001925   \n",
       "\n",
       "                 mrt_stat_MAR  employed    race_B    race_H  off_1_gs_max  \\\n",
       "age_gt_45            0.149167  0.186787 -0.089366 -0.013282     -0.169635   \n",
       "ic_institut_adj     -0.158483 -0.242475 -0.043861 -0.052795      0.106913   \n",
       "escape_hist_1        0.123813  0.240970 -0.008567  0.046066     -0.107156   \n",
       "escape_hist_5        0.023343  0.008231  0.003559  0.012700     -0.071455   \n",
       "mrt_stat_MAR         1.000000  0.203426 -0.044905  0.026323     -0.066917   \n",
       "employed             0.203426  1.000000 -0.085008 -0.002561     -0.124508   \n",
       "race_B              -0.044905 -0.085008  1.000000 -0.302000      0.148000   \n",
       "race_H               0.026323 -0.002561 -0.302000  1.000000      0.032750   \n",
       "off_1_gs_max        -0.066917 -0.124508  0.148000  0.032750      1.000000   \n",
       "off_1_prs_max       -0.011111 -0.057642  0.039516 -0.042944      0.054581   \n",
       "prior_commits        0.013637 -0.017369 -0.152081 -0.044295     -0.182235   \n",
       "age_lt_25           -0.138745 -0.180524  0.050334  0.001846      0.225021   \n",
       "gender_female        0.040925  0.042598 -0.035826  0.019402     -0.054664   \n",
       "\n",
       "                 off_1_prs_max  prior_commits  age_lt_25  gender_female  \n",
       "age_gt_45             0.031739       0.195913  -0.221147       0.037855  \n",
       "ic_institut_adj       0.146917       0.076072   0.199438      -0.059146  \n",
       "escape_hist_1        -0.148784      -0.241095  -0.000612       0.076517  \n",
       "escape_hist_5        -0.014351       0.023151  -0.002800       0.001925  \n",
       "mrt_stat_MAR         -0.011111       0.013637  -0.138745       0.040925  \n",
       "employed             -0.057642      -0.017369  -0.180524       0.042598  \n",
       "race_B                0.039516      -0.152081   0.050334      -0.035826  \n",
       "race_H               -0.042944      -0.044295   0.001846       0.019402  \n",
       "off_1_gs_max          0.054581      -0.182235   0.225021      -0.054664  \n",
       "off_1_prs_max         1.000000       0.244114  -0.199543      -0.052429  \n",
       "prior_commits         0.244114       1.000000  -0.287657      -0.023921  \n",
       "age_lt_25            -0.199543      -0.287657   1.000000      -0.051517  \n",
       "gender_female        -0.052429      -0.023921  -0.051517       1.000000  "
      ]
     },
     "execution_count": 46,
     "metadata": {},
     "output_type": "execute_result"
    }
   ],
   "source": [
    "X.corr()"
   ]
  },
  {
   "cell_type": "markdown",
   "metadata": {},
   "source": [
    "#### Continuous IVs linearly related to log odss"
   ]
  },
  {
   "cell_type": "code",
   "execution_count": 47,
   "metadata": {},
   "outputs": [
    {
     "data": {
      "image/png": "[encoded data removed]",
      "text/plain": [
       "<Figure size 432x288 with 1 Axes>"
      ]
     },
     "metadata": {
      "needs_background": "light"
     },
     "output_type": "display_data"
    }
   ],
   "source": [
    "prior_commits = sns.regplot(x= 'prior_commits', y= 'high_ic', data=data_final, logistic= True).set_title(\"Prior Commits Log Odds Linear Plot\")\n",
    "\n"
   ]
  },
  {
   "cell_type": "code",
   "execution_count": 48,
   "metadata": {},
   "outputs": [
    {
     "data": {
      "image/png": "[encoded data removed]",
      "text/plain": [
       "<Figure size 432x288 with 1 Axes>"
      ]
     },
     "metadata": {
      "needs_background": "light"
     },
     "output_type": "display_data"
    }
   ],
   "source": [
    "off_1_gs_max = sns.regplot(x= 'off_1_gs_max', y= 'high_ic', data=data_final, logistic= True).set_title(\"Offense gravity score Log Odds Linear Plot\")\n"
   ]
  },
  {
   "cell_type": "code",
   "execution_count": 49,
   "metadata": {},
   "outputs": [
    {
     "data": {
      "image/png": "[encoded data removed]",
      "text/plain": [
       "<Figure size 432x288 with 1 Axes>"
      ]
     },
     "metadata": {
      "needs_background": "light"
     },
     "output_type": "display_data"
    }
   ],
   "source": [
    "off_1_prs_max = sns.regplot(x= 'off_1_prs_max', y= 'high_ic', data=data_final, logistic= True).set_title(\"Prior record score Log Odds Linear Plot\")\n"
   ]
  },
  {
   "cell_type": "markdown",
   "metadata": {},
   "source": [
    "#### Outliers"
   ]
  },
  {
   "cell_type": "code",
   "execution_count": 50,
   "metadata": {},
   "outputs": [
    {
     "data": {
      "image/png": "[encoded data removed]",
      "text/plain": [
       "<Figure size 432x288 with 1 Axes>"
      ]
     },
     "metadata": {
      "needs_background": "light"
     },
     "output_type": "display_data"
    }
   ],
   "source": [
    "prior_commits_box = sns.boxplot(data= data_final[['prior_commits']]).set_title(\"Prior commits and low/high Box Plot\")\n"
   ]
  },
  {
   "cell_type": "code",
   "execution_count": 51,
   "metadata": {},
   "outputs": [
    {
     "name": "stderr",
     "output_type": "stream",
     "text": [
      "/home/ncr006/anaconda3/lib/python3.9/site-packages/seaborn/_decorators.py:36: FutureWarning: Pass the following variables as keyword args: x, y. From version 0.12, the only valid positional argument will be `data`, and passing other arguments without an explicit keyword will result in an error or misinterpretation.\n",
      "  warnings.warn(\n",
      "/home/ncr006/anaconda3/lib/python3.9/site-packages/seaborn/_decorators.py:36: FutureWarning: Pass the following variables as keyword args: x, y. From version 0.12, the only valid positional argument will be `data`, and passing other arguments without an explicit keyword will result in an error or misinterpretation.\n",
      "  warnings.warn(\n"
     ]
    },
    {
     "data": {
      "image/png": "[encoded data removed]",
      "text/plain": [
       "<Figure size 1080x1080 with 2 Axes>"
      ]
     },
     "metadata": {
      "needs_background": "light"
     },
     "output_type": "display_data"
    }
   ],
   "source": [
    "#### Residuals\n",
    "## Plotting multiple plots same figure\n",
    "fig, (axL, axR) = plt.subplots(2, figsize=(15, 15))\n",
    "plt.suptitle(\"Logistic Regression Residual Plots \\n using Seaborn Lowess line (N = 400)\")\n",
    "\n",
    "\n",
    "# Deviance Residuals\n",
    "sns.regplot(result.fittedvalues, result.resid_dev, ax= axL,\n",
    "            color=\"black\", scatter_kws={\"s\": 5},\n",
    "            line_kws={\"color\":\"b\", \"alpha\":1, \"lw\":2}, lowess=True)\n",
    "\n",
    "axL.set_title(\"Deviance Residuals \\n against Fitted Values\")\n",
    "axL.set_xlabel(\"Linear Predictor Values\")\n",
    "axL.set_ylabel(\"Deviance Residuals\")\n",
    "\n",
    "# Studentized Pearson Residuals\n",
    "sns.regplot(result.fittedvalues, result.resid_pearson, ax= axR,\n",
    "            color=\"black\", scatter_kws={\"s\": 5},\n",
    "            line_kws={\"color\":\"g\", \"alpha\":1, \"lw\":2}, lowess=True)\n",
    "\n",
    "axR.set_title(\"Studentized Pearson Residuals \\n against Fitted Values\")\n",
    "axR.set_xlabel(\"Linear Predictor Values\")\n",
    "axR.set_ylabel(\"Studentized Pearson Residuals\")\n",
    "\n",
    "plt.show()"
   ]
  },
  {
   "cell_type": "markdown",
   "metadata": {},
   "source": [
    "### Feature selection"
   ]
  },
  {
   "cell_type": "code",
   "execution_count": 66,
   "metadata": {},
   "outputs": [],
   "source": [
    "yvars = ['high_ic']\n",
    "Xvars = ll #[i for i in data_final_vars if i not in yvars]\n",
    "X = data_final.loc[:, data_final.columns != 'high_ic']\n",
    "y = data_final.loc[:, data_final.columns == 'high_ic']\n",
    "X = X[ll]\n",
    "from sklearn.feature_selection import RFE\n",
    "from sklearn.linear_model import LogisticRegression\n",
    "logreg = LogisticRegression(max_iter=500) # increase the number of iterations to get convergence\n",
    "rfe = RFE(logreg, n_features_to_select=4, step=1)\n",
    "rfe = rfe.fit(X, y.values.ravel())"
   ]
  },
  {
   "cell_type": "code",
   "execution_count": 68,
   "metadata": {},
   "outputs": [
    {
     "data": {
      "text/plain": [
       "['escape_hist_1', 'escape_hist_5', 'employed', 'age_lt_25']"
      ]
     },
     "execution_count": 68,
     "metadata": {},
     "output_type": "execute_result"
    }
   ],
   "source": [
    "zz= list(zip(Xvars,list(rfe.support_)))\n",
    "features = [a for (a,b) in zz if b]\n",
    "features"
   ]
  },
  {
   "cell_type": "code",
   "execution_count": 69,
   "metadata": {},
   "outputs": [
    {
     "data": {
      "text/plain": [
       "array(['age_gt_45', 'ic_institut_adj', 'escape_hist_1', 'escape_hist_5',\n",
       "       'mrt_stat_MAR', 'employed', 'race_B', 'race_H', 'off_1_gs_max',\n",
       "       'off_1_prs_max', 'prior_commits', 'age_lt_25', 'gender_female'],\n",
       "      dtype=object)"
      ]
     },
     "execution_count": 69,
     "metadata": {},
     "output_type": "execute_result"
    }
   ],
   "source": [
    "X.columns.values"
   ]
  },
  {
   "cell_type": "code",
   "execution_count": null,
   "metadata": {},
   "outputs": [],
   "source": []
  },
  {
   "cell_type": "code",
   "execution_count": null,
   "metadata": {},
   "outputs": [],
   "source": []
  },
  {
   "cell_type": "code",
   "execution_count": null,
   "metadata": {},
   "outputs": [],
   "source": []
  },
  {
   "cell_type": "code",
   "execution_count": null,
   "metadata": {},
   "outputs": [],
   "source": []
  },
  {
   "cell_type": "code",
   "execution_count": null,
   "metadata": {},
   "outputs": [],
   "source": []
  },
  {
   "cell_type": "code",
   "execution_count": null,
   "metadata": {},
   "outputs": [],
   "source": []
  },
  {
   "cell_type": "code",
   "execution_count": null,
   "metadata": {},
   "outputs": [],
   "source": []
  },
  {
   "cell_type": "code",
   "execution_count": null,
   "metadata": {},
   "outputs": [],
   "source": []
  },
  {
   "cell_type": "code",
   "execution_count": null,
   "metadata": {},
   "outputs": [],
   "source": []
  },
  {
   "cell_type": "code",
   "execution_count": null,
   "metadata": {},
   "outputs": [],
   "source": []
  },
  {
   "cell_type": "code",
   "execution_count": null,
   "metadata": {},
   "outputs": [],
   "source": []
  },
  {
   "cell_type": "code",
   "execution_count": null,
   "metadata": {},
   "outputs": [],
   "source": []
  }
 ],
 "metadata": {
  "interpreter": {
   "hash": "20ee1cfdc84c60eed2c3b984f4d3a2f31ec1d88fe692b137e9191f9b5e219ca2"
  },
  "kernelspec": {
   "display_name": "Python 3 (ipykernel)",
   "language": "python",
   "name": "python3"
  },
  "language_info": {
   "codemirror_mode": {
    "name": "ipython",
    "version": 3
   },
   "file_extension": ".py",
   "mimetype": "text/x-python",
   "name": "python",
   "nbconvert_exporter": "python",
   "pygments_lexer": "ipython3",
   "version": "3.9.7"
  }
 },
 "nbformat": 4,
 "nbformat_minor": 2
}

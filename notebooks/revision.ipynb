{
 "cells": [
  {
   "cell_type": "markdown",
   "metadata": {},
   "source": [
    "# Revision Work"
   ]
  },
  {
   "cell_type": "markdown",
   "metadata": {},
   "source": [
    "**Notebook Setup**"
   ]
  },
  {
   "cell_type": "code",
   "execution_count": 1,
   "metadata": {},
   "outputs": [],
   "source": [
    "import sys\n",
    "sys.path.append(\"../src\")\n",
    "%load_ext autoreload\n",
    "%autoreload 2"
   ]
  },
  {
   "cell_type": "code",
   "execution_count": 2,
   "metadata": {},
   "outputs": [],
   "source": [
    "import pandas as pd\n",
    "import numpy as np\n",
    "import matplotlib.pyplot as plt\n",
    "from sklearn.model_selection import train_test_split\n",
    "from sklearn.linear_model import LogisticRegression\n",
    "\n",
    "%matplotlib inline"
   ]
  },
  {
   "cell_type": "code",
   "execution_count": 3,
   "metadata": {},
   "outputs": [],
   "source": [
    "plt.style.use('ggplot')"
   ]
  },
  {
   "cell_type": "code",
   "execution_count": 4,
   "metadata": {},
   "outputs": [],
   "source": [
    "df = pd.read_csv(\"../data/initial_custody_gsprs.csv\", low_memory=False)"
   ]
  },
  {
   "cell_type": "code",
   "execution_count": 5,
   "metadata": {},
   "outputs": [],
   "source": [
    "df[\"age_gt_45\"] = ((df.ic_date // 10000) - (df.date_of_birth // 10000)) > 45\n",
    "df[\"age_lt_25\"] = ((df.ic_date // 10000) - (df.date_of_birth // 10000)) < 25\n",
    "df[\"gender_female\"] = df.sex.transform(lambda x: 1 if x == \"F\" else 0)"
   ]
  },
  {
   "cell_type": "code",
   "execution_count": 6,
   "metadata": {},
   "outputs": [],
   "source": [
    "df = pd.concat([df, pd.get_dummies(df.race, prefix=\"race\").drop(\"race_W\", axis=1)], axis=1)"
   ]
  },
  {
   "cell_type": "code",
   "execution_count": 7,
   "metadata": {},
   "outputs": [],
   "source": [
    "df[\"prior_commits\"] = df.ic_prior_commits\n",
    "\n",
    "df[\"escape_hist_1\"] = df.ic_escpe_hist_1.transform(lambda x: 1 if str(x) == \"X\" else 0)\n",
    "df[\"escape_hist_2\"] = df.ic_escpe_hist_2.transform(lambda x: 1 if str(x) == \"X\" else 0)\n",
    "df[\"escape_hist_3\"] = df.ic_escpe_hist_3.transform(lambda x: 1 if str(x) == \"X\" else 0)\n",
    "df[\"escape_hist_4\"] = df.ic_escpe_hist_4.transform(lambda x: 1 if str(x) == \"X\" else 0)\n",
    "df[\"escape_hist_5\"] = df.ic_escpe_hist_5.transform(lambda x: 1 if str(x) == \"X\" else 0)\n",
    "\n",
    "df[\"escape_hist_total\"] = (\n",
    "    df[\"ic_escpe_hist_1\"] +\n",
    "    df[\"ic_escpe_hist_2\"] +\n",
    "    df[\"ic_escpe_hist_3\"] +\n",
    "    df[\"ic_escpe_hist_4\"] +\n",
    "    df[\"ic_escpe_hist_5\"]\n",
    ")"
   ]
  },
  {
   "cell_type": "code",
   "execution_count": 8,
   "metadata": {},
   "outputs": [],
   "source": [
    "df = pd.concat(\n",
    "    [\n",
    "        df,\n",
    "        pd.get_dummies(\n",
    "            df.ic_mrtl_stat_fr_cl,\n",
    "            prefix=\"mrt_stat\"\n",
    "        ).drop([\"mrt_stat_SIN\", \"mrt_stat_UNK\"], axis=1)\n",
    "    ],\n",
    "    axis=1\n",
    ")"
   ]
  },
  {
   "cell_type": "code",
   "execution_count": 9,
   "metadata": {},
   "outputs": [],
   "source": [
    "df[\"employed\"] = df.ic_employ_ind.fillna(0).replace(\"X\", 1)"
   ]
  },
  {
   "cell_type": "code",
   "execution_count": 10,
   "metadata": {},
   "outputs": [],
   "source": [
    "df = df[df.ic_custdy_level > 1]"
   ]
  },
  {
   "cell_type": "markdown",
   "metadata": {},
   "source": [
    "## Logistic Regression from Paper"
   ]
  },
  {
   "cell_type": "code",
   "execution_count": 11,
   "metadata": {},
   "outputs": [],
   "source": [
    "df[\"custody_level\"] = df.ic_custdy_level.transform(lambda x: 0 if x <= 3 else 1)\n",
    "data = df[\n",
    "    [\n",
    "        \"gender_female\",\n",
    "        \"age_gt_45\",\n",
    "        \"age_lt_25\",\n",
    "        \"race_B\",\n",
    "        \"race_A\",\n",
    "        \"race_H\",\n",
    "        \"race_I\",\n",
    "        \"race_O\",\n",
    "        \"off_1_prs_max\",\n",
    "        \"off_1_gs_max\",\n",
    "        \"custody_level\",\n",
    "        \"prior_commits\",\n",
    "        \"ic_institut_adj\",\n",
    "        \"escape_hist_1\",\n",
    "        \"escape_hist_2\",\n",
    "        \"escape_hist_3\",\n",
    "        \"escape_hist_4\",\n",
    "        \"escape_hist_5\",\n",
    "        \"mrt_stat_DIV\",\n",
    "        \"mrt_stat_SEP\",\n",
    "        \"mrt_stat_MAR\",\n",
    "        \"mrt_stat_WID\",\n",
    "        \"employed\"\n",
    "    ]\n",
    "]\n",
    "\n",
    "data = data.dropna()"
   ]
  },
  {
   "cell_type": "code",
   "execution_count": 12,
   "metadata": {},
   "outputs": [],
   "source": [
    "\n",
    "X = data.drop(\"custody_level\", axis=1)\n",
    "Y = data[\"custody_level\"]"
   ]
  },
  {
   "cell_type": "code",
   "execution_count": 13,
   "metadata": {},
   "outputs": [],
   "source": [
    "X_train, X_test, Y_train, Y_test = train_test_split(X, Y, train_size=0.2, random_state=1)"
   ]
  },
  {
   "cell_type": "code",
   "execution_count": 14,
   "metadata": {},
   "outputs": [],
   "source": [
    "model = LogisticRegression(max_iter=10_000)"
   ]
  },
  {
   "cell_type": "code",
   "execution_count": 15,
   "metadata": {},
   "outputs": [
    {
     "data": {
      "text/plain": [
       "LogisticRegression(max_iter=10000)"
      ]
     },
     "execution_count": 15,
     "metadata": {},
     "output_type": "execute_result"
    }
   ],
   "source": [
    "model.fit(X_train, Y_train)"
   ]
  },
  {
   "cell_type": "code",
   "execution_count": 16,
   "metadata": {},
   "outputs": [],
   "source": [
    "coeffs = pd.concat([\n",
    "    pd.DataFrame(model.intercept_, [\"(Intercept)\"], columns=[\"coef\"]),\n",
    "    pd.DataFrame(model.coef_[0], X.columns, columns=['coef']).sort_values(by='coef', ascending=False)\n",
    "])"
   ]
  },
  {
   "cell_type": "code",
   "execution_count": 17,
   "metadata": {},
   "outputs": [
    {
     "data": {
      "text/html": [
       "<div>\n",
       "<style scoped>\n",
       "    .dataframe tbody tr th:only-of-type {\n",
       "        vertical-align: middle;\n",
       "    }\n",
       "\n",
       "    .dataframe tbody tr th {\n",
       "        vertical-align: top;\n",
       "    }\n",
       "\n",
       "    .dataframe thead th {\n",
       "        text-align: right;\n",
       "    }\n",
       "</style>\n",
       "<table border=\"1\" class=\"dataframe\">\n",
       "  <thead>\n",
       "    <tr style=\"text-align: right;\">\n",
       "      <th></th>\n",
       "      <th>coef</th>\n",
       "    </tr>\n",
       "  </thead>\n",
       "  <tbody>\n",
       "    <tr>\n",
       "      <th>(Intercept)</th>\n",
       "      <td>-7.032848</td>\n",
       "    </tr>\n",
       "    <tr>\n",
       "      <th>escape_hist_5</th>\n",
       "      <td>2.536285</td>\n",
       "    </tr>\n",
       "    <tr>\n",
       "      <th>escape_hist_4</th>\n",
       "      <td>1.879133</td>\n",
       "    </tr>\n",
       "    <tr>\n",
       "      <th>ic_institut_adj</th>\n",
       "      <td>1.350059</td>\n",
       "    </tr>\n",
       "    <tr>\n",
       "      <th>race_A</th>\n",
       "      <td>0.953177</td>\n",
       "    </tr>\n",
       "    <tr>\n",
       "      <th>age_lt_25</th>\n",
       "      <td>0.730370</td>\n",
       "    </tr>\n",
       "    <tr>\n",
       "      <th>off_1_prs_max</th>\n",
       "      <td>0.274796</td>\n",
       "    </tr>\n",
       "    <tr>\n",
       "      <th>off_1_gs_max</th>\n",
       "      <td>0.177978</td>\n",
       "    </tr>\n",
       "    <tr>\n",
       "      <th>prior_commits</th>\n",
       "      <td>0.166200</td>\n",
       "    </tr>\n",
       "    <tr>\n",
       "      <th>escape_hist_3</th>\n",
       "      <td>0.162808</td>\n",
       "    </tr>\n",
       "    <tr>\n",
       "      <th>race_B</th>\n",
       "      <td>0.067214</td>\n",
       "    </tr>\n",
       "    <tr>\n",
       "      <th>escape_hist_2</th>\n",
       "      <td>-0.007651</td>\n",
       "    </tr>\n",
       "    <tr>\n",
       "      <th>race_I</th>\n",
       "      <td>-0.099143</td>\n",
       "    </tr>\n",
       "    <tr>\n",
       "      <th>race_O</th>\n",
       "      <td>-0.198500</td>\n",
       "    </tr>\n",
       "    <tr>\n",
       "      <th>race_H</th>\n",
       "      <td>-0.209451</td>\n",
       "    </tr>\n",
       "    <tr>\n",
       "      <th>gender_female</th>\n",
       "      <td>-0.347170</td>\n",
       "    </tr>\n",
       "    <tr>\n",
       "      <th>escape_hist_1</th>\n",
       "      <td>-0.586825</td>\n",
       "    </tr>\n",
       "    <tr>\n",
       "      <th>employed</th>\n",
       "      <td>-1.131159</td>\n",
       "    </tr>\n",
       "    <tr>\n",
       "      <th>mrt_stat_WID</th>\n",
       "      <td>-1.261663</td>\n",
       "    </tr>\n",
       "    <tr>\n",
       "      <th>age_gt_45</th>\n",
       "      <td>-1.504008</td>\n",
       "    </tr>\n",
       "    <tr>\n",
       "      <th>mrt_stat_SEP</th>\n",
       "      <td>-1.646081</td>\n",
       "    </tr>\n",
       "    <tr>\n",
       "      <th>mrt_stat_MAR</th>\n",
       "      <td>-1.881561</td>\n",
       "    </tr>\n",
       "    <tr>\n",
       "      <th>mrt_stat_DIV</th>\n",
       "      <td>-2.299750</td>\n",
       "    </tr>\n",
       "  </tbody>\n",
       "</table>\n",
       "</div>"
      ],
      "text/plain": [
       "                     coef\n",
       "(Intercept)     -7.032848\n",
       "escape_hist_5    2.536285\n",
       "escape_hist_4    1.879133\n",
       "ic_institut_adj  1.350059\n",
       "race_A           0.953177\n",
       "age_lt_25        0.730370\n",
       "off_1_prs_max    0.274796\n",
       "off_1_gs_max     0.177978\n",
       "prior_commits    0.166200\n",
       "escape_hist_3    0.162808\n",
       "race_B           0.067214\n",
       "escape_hist_2   -0.007651\n",
       "race_I          -0.099143\n",
       "race_O          -0.198500\n",
       "race_H          -0.209451\n",
       "gender_female   -0.347170\n",
       "escape_hist_1   -0.586825\n",
       "employed        -1.131159\n",
       "mrt_stat_WID    -1.261663\n",
       "age_gt_45       -1.504008\n",
       "mrt_stat_SEP    -1.646081\n",
       "mrt_stat_MAR    -1.881561\n",
       "mrt_stat_DIV    -2.299750"
      ]
     },
     "execution_count": 17,
     "metadata": {},
     "output_type": "execute_result"
    }
   ],
   "source": [
    "coeffs"
   ]
  },
  {
   "cell_type": "code",
   "execution_count": 18,
   "metadata": {},
   "outputs": [],
   "source": [
    "control = np.exp(model.intercept_[0]) / (1 + np.exp(model.intercept_[0]))"
   ]
  },
  {
   "cell_type": "code",
   "execution_count": 19,
   "metadata": {},
   "outputs": [
    {
     "data": {
      "text/html": [
       "<div>\n",
       "<style scoped>\n",
       "    .dataframe tbody tr th:only-of-type {\n",
       "        vertical-align: middle;\n",
       "    }\n",
       "\n",
       "    .dataframe tbody tr th {\n",
       "        vertical-align: top;\n",
       "    }\n",
       "\n",
       "    .dataframe thead th {\n",
       "        text-align: right;\n",
       "    }\n",
       "</style>\n",
       "<table border=\"1\" class=\"dataframe\">\n",
       "  <thead>\n",
       "    <tr style=\"text-align: right;\">\n",
       "      <th></th>\n",
       "      <th>coef</th>\n",
       "    </tr>\n",
       "  </thead>\n",
       "  <tbody>\n",
       "    <tr>\n",
       "      <th>escape_hist_5</th>\n",
       "      <td>12.504417</td>\n",
       "    </tr>\n",
       "    <tr>\n",
       "      <th>escape_hist_4</th>\n",
       "      <td>6.515952</td>\n",
       "    </tr>\n",
       "    <tr>\n",
       "      <th>ic_institut_adj</th>\n",
       "      <td>3.847959</td>\n",
       "    </tr>\n",
       "    <tr>\n",
       "      <th>race_A</th>\n",
       "      <td>2.590298</td>\n",
       "    </tr>\n",
       "    <tr>\n",
       "      <th>age_lt_25</th>\n",
       "      <td>2.073881</td>\n",
       "    </tr>\n",
       "    <tr>\n",
       "      <th>off_1_prs_max</th>\n",
       "      <td>1.315895</td>\n",
       "    </tr>\n",
       "    <tr>\n",
       "      <th>off_1_gs_max</th>\n",
       "      <td>1.194594</td>\n",
       "    </tr>\n",
       "    <tr>\n",
       "      <th>prior_commits</th>\n",
       "      <td>1.180621</td>\n",
       "    </tr>\n",
       "    <tr>\n",
       "      <th>escape_hist_3</th>\n",
       "      <td>1.176627</td>\n",
       "    </tr>\n",
       "    <tr>\n",
       "      <th>race_B</th>\n",
       "      <td>1.069458</td>\n",
       "    </tr>\n",
       "    <tr>\n",
       "      <th>escape_hist_2</th>\n",
       "      <td>0.992385</td>\n",
       "    </tr>\n",
       "    <tr>\n",
       "      <th>race_I</th>\n",
       "      <td>0.905688</td>\n",
       "    </tr>\n",
       "    <tr>\n",
       "      <th>race_O</th>\n",
       "      <td>0.820090</td>\n",
       "    </tr>\n",
       "    <tr>\n",
       "      <th>race_H</th>\n",
       "      <td>0.811165</td>\n",
       "    </tr>\n",
       "    <tr>\n",
       "      <th>gender_female</th>\n",
       "      <td>0.706868</td>\n",
       "    </tr>\n",
       "    <tr>\n",
       "      <th>escape_hist_1</th>\n",
       "      <td>0.556308</td>\n",
       "    </tr>\n",
       "    <tr>\n",
       "      <th>employed</th>\n",
       "      <td>0.322852</td>\n",
       "    </tr>\n",
       "    <tr>\n",
       "      <th>mrt_stat_WID</th>\n",
       "      <td>0.283362</td>\n",
       "    </tr>\n",
       "    <tr>\n",
       "      <th>age_gt_45</th>\n",
       "      <td>0.222390</td>\n",
       "    </tr>\n",
       "    <tr>\n",
       "      <th>mrt_stat_SEP</th>\n",
       "      <td>0.192941</td>\n",
       "    </tr>\n",
       "    <tr>\n",
       "      <th>mrt_stat_MAR</th>\n",
       "      <td>0.152466</td>\n",
       "    </tr>\n",
       "    <tr>\n",
       "      <th>mrt_stat_DIV</th>\n",
       "      <td>0.100363</td>\n",
       "    </tr>\n",
       "  </tbody>\n",
       "</table>\n",
       "</div>"
      ],
      "text/plain": [
       "                      coef\n",
       "escape_hist_5    12.504417\n",
       "escape_hist_4     6.515952\n",
       "ic_institut_adj   3.847959\n",
       "race_A            2.590298\n",
       "age_lt_25         2.073881\n",
       "off_1_prs_max     1.315895\n",
       "off_1_gs_max      1.194594\n",
       "prior_commits     1.180621\n",
       "escape_hist_3     1.176627\n",
       "race_B            1.069458\n",
       "escape_hist_2     0.992385\n",
       "race_I            0.905688\n",
       "race_O            0.820090\n",
       "race_H            0.811165\n",
       "gender_female     0.706868\n",
       "escape_hist_1     0.556308\n",
       "employed          0.322852\n",
       "mrt_stat_WID      0.283362\n",
       "age_gt_45         0.222390\n",
       "mrt_stat_SEP      0.192941\n",
       "mrt_stat_MAR      0.152466\n",
       "mrt_stat_DIV      0.100363"
      ]
     },
     "execution_count": 19,
     "metadata": {},
     "output_type": "execute_result"
    }
   ],
   "source": [
    "(np.exp(coeffs) / (1 - control + (control * np.exp(coeffs)))).iloc[1:]"
   ]
  },
  {
   "cell_type": "code",
   "execution_count": 20,
   "metadata": {},
   "outputs": [
    {
     "name": "stdout",
     "output_type": "stream",
     "text": [
      "No Skill: ROC AUC=0.500\n",
      "Logistic: ROC AUC=0.920\n"
     ]
    },
    {
     "data": {
      "image/png": "[encoded data removed]",
      "text/plain": [
       "<Figure size 432x288 with 1 Axes>"
      ]
     },
     "metadata": {},
     "output_type": "display_data"
    }
   ],
   "source": [
    "from sklearn.metrics import roc_curve\n",
    "from sklearn.metrics import roc_auc_score\n",
    "from matplotlib import pyplot\n",
    "\n",
    "\n",
    "ns_probs = [0 for _ in range(len(Y_test))]\n",
    "\n",
    "lr_probs = model.predict_proba(X_test)\n",
    "# keep probabilities for the positive outcome only\n",
    "lr_probs = lr_probs[:, 1]\n",
    "# calculate scores\n",
    "ns_auc = roc_auc_score(Y_test, ns_probs)\n",
    "lr_auc = roc_auc_score(Y_test, lr_probs)\n",
    "# summarize scores\n",
    "print('No Skill: ROC AUC=%.3f' % (ns_auc))\n",
    "print('Logistic: ROC AUC=%.3f' % (lr_auc))\n",
    "# calculate roc curves\n",
    "ns_fpr, ns_tpr, _ = roc_curve(Y_test, ns_probs)\n",
    "lr_fpr, lr_tpr, _ = roc_curve(Y_test, lr_probs)\n",
    "# plot the roc curve for the model\n",
    "pyplot.plot(ns_fpr, ns_tpr, linestyle='--', label='')\n",
    "pyplot.plot(lr_fpr, lr_tpr, marker='.', label='Logistic Regression')\n",
    "# axis labels\n",
    "pyplot.xlabel('False Positive Rate')\n",
    "pyplot.ylabel('True Positive Rate')\n",
    "# show the legend\n",
    "pyplot.legend()\n",
    "# show the plot\n",
    "pyplot.show()"
   ]
  },
  {
   "cell_type": "markdown",
   "metadata": {},
   "source": [
    "## Setting 2 - 4 Being Low and 5 as High "
   ]
  },
  {
   "cell_type": "code",
   "execution_count": 21,
   "metadata": {},
   "outputs": [],
   "source": [
    "df[\"custody_level\"] = df.ic_custdy_level.transform(lambda x: 0 if x <= 4 else 1)\n",
    "data = df[\n",
    "    [\n",
    "        \"gender_female\",\n",
    "        \"age_gt_45\",\n",
    "        \"age_lt_25\",\n",
    "        \"race_B\",\n",
    "        \"race_A\",\n",
    "        \"race_H\",\n",
    "        \"race_I\",\n",
    "        \"race_O\",\n",
    "        \"off_1_prs_max\",\n",
    "        \"off_1_gs_max\",\n",
    "        \"custody_level\",\n",
    "        \"prior_commits\",\n",
    "        \"ic_institut_adj\",\n",
    "        \"escape_hist_1\",\n",
    "        \"escape_hist_2\",\n",
    "        \"escape_hist_3\",\n",
    "        \"escape_hist_4\",\n",
    "        \"escape_hist_5\",\n",
    "        \"mrt_stat_DIV\",\n",
    "        \"mrt_stat_SEP\",\n",
    "        \"mrt_stat_MAR\",\n",
    "        \"mrt_stat_WID\",\n",
    "        \"employed\"\n",
    "    ]\n",
    "]\n",
    "\n",
    "data = data.dropna()"
   ]
  },
  {
   "cell_type": "code",
   "execution_count": 22,
   "metadata": {},
   "outputs": [],
   "source": [
    "X = data.drop(\"custody_level\", axis=1)\n",
    "Y = data[\"custody_level\"]"
   ]
  },
  {
   "cell_type": "code",
   "execution_count": 23,
   "metadata": {},
   "outputs": [],
   "source": [
    "X_train, X_test, Y_train, Y_test = train_test_split(X, Y, train_size=0.2, random_state=1)"
   ]
  },
  {
   "cell_type": "code",
   "execution_count": 24,
   "metadata": {},
   "outputs": [],
   "source": [
    "model = LogisticRegression(max_iter=10_000)"
   ]
  },
  {
   "cell_type": "code",
   "execution_count": 25,
   "metadata": {},
   "outputs": [
    {
     "data": {
      "text/plain": [
       "LogisticRegression(max_iter=10000)"
      ]
     },
     "execution_count": 25,
     "metadata": {},
     "output_type": "execute_result"
    }
   ],
   "source": [
    "model.fit(X_train, Y_train)"
   ]
  },
  {
   "cell_type": "code",
   "execution_count": 26,
   "metadata": {},
   "outputs": [],
   "source": [
    "coeffs = pd.concat([\n",
    "    pd.DataFrame(model.intercept_, [\"(Intercept)\"], columns=[\"coef\"]),\n",
    "    pd.DataFrame(model.coef_[0], X.columns, columns=['coef']).sort_values(by='coef', ascending=False)\n",
    "])"
   ]
  },
  {
   "cell_type": "code",
   "execution_count": 27,
   "metadata": {},
   "outputs": [
    {
     "data": {
      "text/html": [
       "<div>\n",
       "<style scoped>\n",
       "    .dataframe tbody tr th:only-of-type {\n",
       "        vertical-align: middle;\n",
       "    }\n",
       "\n",
       "    .dataframe tbody tr th {\n",
       "        vertical-align: top;\n",
       "    }\n",
       "\n",
       "    .dataframe thead th {\n",
       "        text-align: right;\n",
       "    }\n",
       "</style>\n",
       "<table border=\"1\" class=\"dataframe\">\n",
       "  <thead>\n",
       "    <tr style=\"text-align: right;\">\n",
       "      <th></th>\n",
       "      <th>coef</th>\n",
       "    </tr>\n",
       "  </thead>\n",
       "  <tbody>\n",
       "    <tr>\n",
       "      <th>(Intercept)</th>\n",
       "      <td>-8.788663</td>\n",
       "    </tr>\n",
       "    <tr>\n",
       "      <th>ic_institut_adj</th>\n",
       "      <td>0.645777</td>\n",
       "    </tr>\n",
       "    <tr>\n",
       "      <th>age_lt_25</th>\n",
       "      <td>0.540728</td>\n",
       "    </tr>\n",
       "    <tr>\n",
       "      <th>escape_hist_5</th>\n",
       "      <td>0.510984</td>\n",
       "    </tr>\n",
       "    <tr>\n",
       "      <th>escape_hist_4</th>\n",
       "      <td>0.479882</td>\n",
       "    </tr>\n",
       "    <tr>\n",
       "      <th>race_H</th>\n",
       "      <td>0.416962</td>\n",
       "    </tr>\n",
       "    <tr>\n",
       "      <th>prior_commits</th>\n",
       "      <td>0.136568</td>\n",
       "    </tr>\n",
       "    <tr>\n",
       "      <th>mrt_stat_MAR</th>\n",
       "      <td>0.135278</td>\n",
       "    </tr>\n",
       "    <tr>\n",
       "      <th>off_1_gs_max</th>\n",
       "      <td>0.081915</td>\n",
       "    </tr>\n",
       "    <tr>\n",
       "      <th>escape_hist_2</th>\n",
       "      <td>0.067926</td>\n",
       "    </tr>\n",
       "    <tr>\n",
       "      <th>off_1_prs_max</th>\n",
       "      <td>0.017994</td>\n",
       "    </tr>\n",
       "    <tr>\n",
       "      <th>escape_hist_3</th>\n",
       "      <td>0.008651</td>\n",
       "    </tr>\n",
       "    <tr>\n",
       "      <th>race_I</th>\n",
       "      <td>-0.018594</td>\n",
       "    </tr>\n",
       "    <tr>\n",
       "      <th>race_A</th>\n",
       "      <td>-0.045025</td>\n",
       "    </tr>\n",
       "    <tr>\n",
       "      <th>race_O</th>\n",
       "      <td>-0.090749</td>\n",
       "    </tr>\n",
       "    <tr>\n",
       "      <th>escape_hist_1</th>\n",
       "      <td>-0.176452</td>\n",
       "    </tr>\n",
       "    <tr>\n",
       "      <th>mrt_stat_WID</th>\n",
       "      <td>-0.236322</td>\n",
       "    </tr>\n",
       "    <tr>\n",
       "      <th>mrt_stat_DIV</th>\n",
       "      <td>-0.297332</td>\n",
       "    </tr>\n",
       "    <tr>\n",
       "      <th>race_B</th>\n",
       "      <td>-0.456636</td>\n",
       "    </tr>\n",
       "    <tr>\n",
       "      <th>employed</th>\n",
       "      <td>-0.513420</td>\n",
       "    </tr>\n",
       "    <tr>\n",
       "      <th>mrt_stat_SEP</th>\n",
       "      <td>-0.586775</td>\n",
       "    </tr>\n",
       "    <tr>\n",
       "      <th>age_gt_45</th>\n",
       "      <td>-0.680424</td>\n",
       "    </tr>\n",
       "    <tr>\n",
       "      <th>gender_female</th>\n",
       "      <td>-0.725334</td>\n",
       "    </tr>\n",
       "  </tbody>\n",
       "</table>\n",
       "</div>"
      ],
      "text/plain": [
       "                     coef\n",
       "(Intercept)     -8.788663\n",
       "ic_institut_adj  0.645777\n",
       "age_lt_25        0.540728\n",
       "escape_hist_5    0.510984\n",
       "escape_hist_4    0.479882\n",
       "race_H           0.416962\n",
       "prior_commits    0.136568\n",
       "mrt_stat_MAR     0.135278\n",
       "off_1_gs_max     0.081915\n",
       "escape_hist_2    0.067926\n",
       "off_1_prs_max    0.017994\n",
       "escape_hist_3    0.008651\n",
       "race_I          -0.018594\n",
       "race_A          -0.045025\n",
       "race_O          -0.090749\n",
       "escape_hist_1   -0.176452\n",
       "mrt_stat_WID    -0.236322\n",
       "mrt_stat_DIV    -0.297332\n",
       "race_B          -0.456636\n",
       "employed        -0.513420\n",
       "mrt_stat_SEP    -0.586775\n",
       "age_gt_45       -0.680424\n",
       "gender_female   -0.725334"
      ]
     },
     "execution_count": 27,
     "metadata": {},
     "output_type": "execute_result"
    }
   ],
   "source": [
    "coeffs"
   ]
  },
  {
   "cell_type": "code",
   "execution_count": 28,
   "metadata": {},
   "outputs": [],
   "source": [
    "control = np.exp(model.intercept_[0]) / (1 + np.exp(model.intercept_[0]))"
   ]
  },
  {
   "cell_type": "code",
   "execution_count": 29,
   "metadata": {},
   "outputs": [
    {
     "data": {
      "text/html": [
       "<div>\n",
       "<style scoped>\n",
       "    .dataframe tbody tr th:only-of-type {\n",
       "        vertical-align: middle;\n",
       "    }\n",
       "\n",
       "    .dataframe tbody tr th {\n",
       "        vertical-align: top;\n",
       "    }\n",
       "\n",
       "    .dataframe thead th {\n",
       "        text-align: right;\n",
       "    }\n",
       "</style>\n",
       "<table border=\"1\" class=\"dataframe\">\n",
       "  <thead>\n",
       "    <tr style=\"text-align: right;\">\n",
       "      <th></th>\n",
       "      <th>coef</th>\n",
       "    </tr>\n",
       "  </thead>\n",
       "  <tbody>\n",
       "    <tr>\n",
       "      <th>ic_institut_adj</th>\n",
       "      <td>1.907205</td>\n",
       "    </tr>\n",
       "    <tr>\n",
       "      <th>age_lt_25</th>\n",
       "      <td>1.717068</td>\n",
       "    </tr>\n",
       "    <tr>\n",
       "      <th>escape_hist_5</th>\n",
       "      <td>1.666761</td>\n",
       "    </tr>\n",
       "    <tr>\n",
       "      <th>escape_hist_4</th>\n",
       "      <td>1.615732</td>\n",
       "    </tr>\n",
       "    <tr>\n",
       "      <th>race_H</th>\n",
       "      <td>1.517226</td>\n",
       "    </tr>\n",
       "    <tr>\n",
       "      <th>prior_commits</th>\n",
       "      <td>1.146307</td>\n",
       "    </tr>\n",
       "    <tr>\n",
       "      <th>mrt_stat_MAR</th>\n",
       "      <td>1.144830</td>\n",
       "    </tr>\n",
       "    <tr>\n",
       "      <th>off_1_gs_max</th>\n",
       "      <td>1.085349</td>\n",
       "    </tr>\n",
       "    <tr>\n",
       "      <th>escape_hist_2</th>\n",
       "      <td>1.070275</td>\n",
       "    </tr>\n",
       "    <tr>\n",
       "      <th>off_1_prs_max</th>\n",
       "      <td>1.018154</td>\n",
       "    </tr>\n",
       "    <tr>\n",
       "      <th>escape_hist_3</th>\n",
       "      <td>1.008687</td>\n",
       "    </tr>\n",
       "    <tr>\n",
       "      <th>race_I</th>\n",
       "      <td>0.981580</td>\n",
       "    </tr>\n",
       "    <tr>\n",
       "      <th>race_A</th>\n",
       "      <td>0.955980</td>\n",
       "    </tr>\n",
       "    <tr>\n",
       "      <th>race_O</th>\n",
       "      <td>0.913259</td>\n",
       "    </tr>\n",
       "    <tr>\n",
       "      <th>escape_hist_1</th>\n",
       "      <td>0.838260</td>\n",
       "    </tr>\n",
       "    <tr>\n",
       "      <th>mrt_stat_WID</th>\n",
       "      <td>0.789551</td>\n",
       "    </tr>\n",
       "    <tr>\n",
       "      <th>mrt_stat_DIV</th>\n",
       "      <td>0.742826</td>\n",
       "    </tr>\n",
       "    <tr>\n",
       "      <th>race_B</th>\n",
       "      <td>0.633446</td>\n",
       "    </tr>\n",
       "    <tr>\n",
       "      <th>employed</th>\n",
       "      <td>0.598482</td>\n",
       "    </tr>\n",
       "    <tr>\n",
       "      <th>mrt_stat_SEP</th>\n",
       "      <td>0.556155</td>\n",
       "    </tr>\n",
       "    <tr>\n",
       "      <th>age_gt_45</th>\n",
       "      <td>0.506440</td>\n",
       "    </tr>\n",
       "    <tr>\n",
       "      <th>gender_female</th>\n",
       "      <td>0.484201</td>\n",
       "    </tr>\n",
       "  </tbody>\n",
       "</table>\n",
       "</div>"
      ],
      "text/plain": [
       "                     coef\n",
       "ic_institut_adj  1.907205\n",
       "age_lt_25        1.717068\n",
       "escape_hist_5    1.666761\n",
       "escape_hist_4    1.615732\n",
       "race_H           1.517226\n",
       "prior_commits    1.146307\n",
       "mrt_stat_MAR     1.144830\n",
       "off_1_gs_max     1.085349\n",
       "escape_hist_2    1.070275\n",
       "off_1_prs_max    1.018154\n",
       "escape_hist_3    1.008687\n",
       "race_I           0.981580\n",
       "race_A           0.955980\n",
       "race_O           0.913259\n",
       "escape_hist_1    0.838260\n",
       "mrt_stat_WID     0.789551\n",
       "mrt_stat_DIV     0.742826\n",
       "race_B           0.633446\n",
       "employed         0.598482\n",
       "mrt_stat_SEP     0.556155\n",
       "age_gt_45        0.506440\n",
       "gender_female    0.484201"
      ]
     },
     "execution_count": 29,
     "metadata": {},
     "output_type": "execute_result"
    }
   ],
   "source": [
    "(np.exp(coeffs) / (1 - control + (control * np.exp(coeffs)))).iloc[1:]"
   ]
  },
  {
   "cell_type": "code",
   "execution_count": 30,
   "metadata": {},
   "outputs": [
    {
     "name": "stdout",
     "output_type": "stream",
     "text": [
      "No Skill: ROC AUC=0.500\n",
      "Logistic: ROC AUC=0.714\n"
     ]
    },
    {
     "data": {
      "image/png": "[encoded data removed]",
      "text/plain": [
       "<Figure size 432x288 with 1 Axes>"
      ]
     },
     "metadata": {},
     "output_type": "display_data"
    }
   ],
   "source": [
    "from sklearn.metrics import roc_curve\n",
    "from sklearn.metrics import roc_auc_score\n",
    "from matplotlib import pyplot\n",
    "\n",
    "\n",
    "ns_probs = [0 for _ in range(len(Y_test))]\n",
    "\n",
    "lr_probs = model.predict_proba(X_test)\n",
    "# keep probabilities for the positive outcome only\n",
    "lr_probs = lr_probs[:, 1]\n",
    "# calculate scores\n",
    "ns_auc = roc_auc_score(Y_test, ns_probs)\n",
    "lr_auc = roc_auc_score(Y_test, lr_probs)\n",
    "# summarize scores\n",
    "print('No Skill: ROC AUC=%.3f' % (ns_auc))\n",
    "print('Logistic: ROC AUC=%.3f' % (lr_auc))\n",
    "# calculate roc curves\n",
    "ns_fpr, ns_tpr, _ = roc_curve(Y_test, ns_probs)\n",
    "lr_fpr, lr_tpr, _ = roc_curve(Y_test, lr_probs)\n",
    "# plot the roc curve for the model\n",
    "pyplot.plot(ns_fpr, ns_tpr, linestyle='--', label='')\n",
    "pyplot.plot(lr_fpr, lr_tpr, marker='.', label='Logistic Regression')\n",
    "# axis labels\n",
    "pyplot.xlabel('False Positive Rate')\n",
    "pyplot.ylabel('True Positive Rate')\n",
    "# show the legend\n",
    "pyplot.legend()\n",
    "# show the plot\n",
    "pyplot.show()"
   ]
  },
  {
   "cell_type": "markdown",
   "metadata": {},
   "source": [
    "## Multinomial"
   ]
  },
  {
   "cell_type": "code",
   "execution_count": 32,
   "metadata": {},
   "outputs": [
    {
     "data": {
      "text/plain": [
       "LogisticRegression(max_iter=10000, multi_class='multinomial')"
      ]
     },
     "execution_count": 32,
     "metadata": {},
     "output_type": "execute_result"
    }
   ],
   "source": [
    "df[\"custody_level\"] = df.ic_custdy_level\n",
    "data = df[\n",
    "    [\n",
    "        \"gender_female\",\n",
    "        \"age_gt_45\",\n",
    "        \"age_lt_25\",\n",
    "        \"race_B\",\n",
    "        \"race_A\",\n",
    "        \"race_H\",\n",
    "        \"race_I\",\n",
    "        \"race_O\",\n",
    "        \"off_1_prs_max\",\n",
    "        \"off_1_gs_max\",\n",
    "        \"custody_level\",\n",
    "        \"prior_commits\",\n",
    "        \"ic_institut_adj\",\n",
    "        \"escape_hist_1\",\n",
    "        \"escape_hist_2\",\n",
    "        \"escape_hist_3\",\n",
    "        \"escape_hist_4\",\n",
    "        \"escape_hist_5\",\n",
    "        \"mrt_stat_DIV\",\n",
    "        \"mrt_stat_SEP\",\n",
    "        \"mrt_stat_MAR\",\n",
    "        \"mrt_stat_WID\",\n",
    "        \"employed\"\n",
    "    ]\n",
    "]\n",
    "\n",
    "data = data.dropna()\n",
    "X = data.drop(\"custody_level\", axis=1)\n",
    "Y = data[\"custody_level\"]\n",
    "X_train, X_test, Y_train, Y_test = train_test_split(X, Y, train_size=0.2, random_state=1)\n",
    "model = LogisticRegression(multi_class=\"multinomial\", max_iter=10_000)\n",
    "model.fit(X_train, Y_train)"
   ]
  },
  {
   "cell_type": "code",
   "execution_count": 34,
   "metadata": {},
   "outputs": [
    {
     "name": "stdout",
     "output_type": "stream",
     "text": [
      "Mean Accuracy: 0.753 (0.009)\n"
     ]
    }
   ],
   "source": [
    "from sklearn.model_selection import RepeatedStratifiedKFold\n",
    "from sklearn.model_selection import cross_val_score\n",
    "\n",
    "cv = RepeatedStratifiedKFold(n_splits=10, n_repeats=3, random_state=1)\n",
    "# evaluate the model and collect the scores\n",
    "n_scores = cross_val_score(model, X_test, Y_test, scoring='accuracy', cv=cv, n_jobs=-1)\n",
    "# report the model performance\n",
    "print('Mean Accuracy: %.3f (%.3f)' % (np.mean(n_scores), np.std(n_scores)))"
   ]
  },
  {
   "cell_type": "code",
   "execution_count": null,
   "metadata": {},
   "outputs": [],
   "source": []
  }
 ],
 "metadata": {
  "interpreter": {
   "hash": "20ee1cfdc84c60eed2c3b984f4d3a2f31ec1d88fe692b137e9191f9b5e219ca2"
  },
  "kernelspec": {
   "display_name": "Python 3.9.6 64-bit ('venv': venv)",
   "language": "python",
   "name": "python3"
  },
  "language_info": {
   "codemirror_mode": {
    "name": "ipython",
    "version": 3
   },
   "file_extension": ".py",
   "mimetype": "text/x-python",
   "name": "python",
   "nbconvert_exporter": "python",
   "pygments_lexer": "ipython3",
   "version": "3.9.6"
  },
  "orig_nbformat": 2
 },
 "nbformat": 4,
 "nbformat_minor": 2
}

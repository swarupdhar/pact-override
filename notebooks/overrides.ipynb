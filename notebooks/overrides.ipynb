{
 "cells": [
  {
   "cell_type": "code",
   "execution_count": 56,
   "metadata": {},
   "outputs": [
    {
     "name": "stdout",
     "output_type": "stream",
     "text": [
      "The autoreload extension is already loaded. To reload it, use:\n",
      "  %reload_ext autoreload\n"
     ]
    }
   ],
   "source": [
    "import sys\n",
    "sys.path.append(\"../../src\")\n",
    "%load_ext autoreload\n",
    "%autoreload 2\n",
    "\n",
    "from typing import Callable, Dict, List\n",
    "import pandas as pd\n",
    "import numpy as np\n",
    "from sklearn.preprocessing import LabelEncoder\n",
    "\n",
    "\n",
    "\n",
    "import matplotlib.pyplot as plt\n",
    "import statsmodels.api as sm\n",
    "import seaborn as sns\n",
    "#from heatmap import heatmap\n",
    "import statsmodels.formula.api as smf\n",
    "#import bioinfokit\n",
    "\n",
    "plt.style.use('ggplot')"
   ]
  },
  {
   "cell_type": "code",
   "execution_count": 57,
   "metadata": {},
   "outputs": [],
   "source": [
    "def preprocess_input_vars_ic_or(df:pd.DataFrame) -> pd.DataFrame:\n",
    "    df = df.copy()\n",
    "\n",
    "    ic_date = df[\"ic_date\"]//10000\n",
    "    ic_date = ic_date.replace(0, np.nan)\n",
    "\n",
    "    df[\"age\"] = ic_date - (df.date_of_birth//10000)\n",
    "    \n",
    "    df[\"age_gt_45\"] = ((ic_date - (df.date_of_birth//10000)\\\n",
    "        .astype(int)) > 45)\\\n",
    "        .apply(lambda x: 1 if x else 0)\n",
    "    \n",
    "    df[\"age_lt_25\"] = ((ic_date - (df.date_of_birth//10000)\\\n",
    "        .astype(int)) < 25)\\\n",
    "        .apply(lambda x: 1 if x else 0)\n",
    "    \n",
    "    df[\"gender_female\"] = df.sex.transform(lambda x: 1 if x == \"F\" else 0)\n",
    "\n",
    "    df = pd.concat(\n",
    "        [df, pd.get_dummies(df.race, prefix=\"race\").drop(\"race_W\", axis=1)],\n",
    "        axis=1\n",
    "    )\n",
    "    \n",
    "    df[\"prior_commits\"] = df.ic_prior_commits\n",
    "\n",
    "    df[\"escape_hist_1\"] = df.ic_escpe_hist_1.transform(\n",
    "        lambda x: 1 if str(x) == \"X\" else 0\n",
    "    )\n",
    "    df[\"escape_hist_2\"] = df.ic_escpe_hist_2.transform(\n",
    "        lambda x: 1 if str(x) == \"X\" else 0\n",
    "    )\n",
    "    df[\"escape_hist_3\"] = df.ic_escpe_hist_3.transform(\n",
    "        lambda x: 1 if str(x) == \"X\" else 0\n",
    "    )\n",
    "    df[\"escape_hist_4\"] = df.ic_escpe_hist_4.transform(\n",
    "        lambda x: 1 if str(x) == \"X\" else 0\n",
    "    )\n",
    "    df[\"escape_hist_5\"] = df.ic_escpe_hist_5.transform(\n",
    "        lambda x: 1 if str(x) == \"X\" else 0\n",
    "    )\n",
    "\n",
    "    df[\"escape_hist\"] = (\n",
    "        df[\"escape_hist_1\"] +\n",
    "        df[\"escape_hist_2\"] +\n",
    "        df[\"escape_hist_3\"] +\n",
    "        df[\"escape_hist_4\"] +\n",
    "        df[\"escape_hist_5\"]\n",
    "    )\n",
    "\n",
    "    df = pd.concat(\n",
    "        [\n",
    "            df,\n",
    "            pd.get_dummies(df.ic_mrtl_stat_fr_cl, prefix=\"mrt_stat\")\\\n",
    "                .drop([\"mrt_stat_SIN\", \"mrt_stat_UNK\"], axis=1)\n",
    "        ],\n",
    "        axis=1\n",
    "    )\n",
    "\n",
    "    df[\"maritial_status\"] = LabelEncoder().fit_transform(df[\"ic_mrtl_stat_fr_cl\"])\n",
    "\n",
    "    df[\"employed\"] = df.ic_employ_ind.fillna(0).replace(\"X\", 1)\n",
    "\n",
    "    df[\"race\"] = LabelEncoder().fit_transform(df[\"race\"])\n",
    "    \n",
    "    \n",
    "    temp_var = \"prob_alcohol\"\n",
    "    df[temp_var] = df[temp_var].replace(' ', 0)    \n",
    "    df[temp_var] = df[temp_var].replace('  ', 0)    \n",
    "    df[temp_var] = df[temp_var].replace('NV', 0)\n",
    "    df[temp_var] = df[temp_var].replace(np.nan, 0)\n",
    "    df[temp_var] = df[temp_var].replace('V ', 1)\n",
    "    \n",
    "    temp_var = \"prob_drugs\"\n",
    "    df[temp_var] = df[temp_var].replace(' ', 0)    \n",
    "    df[temp_var] = df[temp_var].replace('  ', 0)    \n",
    "    df[temp_var] = df[temp_var].replace('NV', 0)    \n",
    "    df[temp_var] = df[temp_var].replace('V ', 1)\n",
    "    \n",
    "    temp_var = \"prob_assault\"\n",
    "    df[temp_var] = df[temp_var].replace(' ', 0)    \n",
    "    df[temp_var] = df[temp_var].replace('  ', 0)    \n",
    "    df[temp_var] = df[temp_var].replace('NV', 0)    \n",
    "    df[temp_var] = df[temp_var].replace('V ', 1)\n",
    "    \n",
    "\n",
    "    temp_var = \"prob_sexual\"\n",
    "    df[temp_var] = df[temp_var].replace(' ', 0)    \n",
    "    df[temp_var] = df[temp_var].replace('  ', 0)    \n",
    "    df[temp_var] = df[temp_var].replace('NV', 0)    \n",
    "    df[temp_var] = df[temp_var].replace('V ', 1)\n",
    "    \n",
    "\n",
    "    temp_var = \"prob_psyco\"\n",
    "    df[temp_var] = df[temp_var].replace(' ', 0)    \n",
    "    df[temp_var] = df[temp_var].replace('  ', 0)    \n",
    "    df[temp_var] = df[temp_var].replace('NV', 0)    \n",
    "    df[temp_var] = df[temp_var].replace('V ', 1)\n",
    "    \n",
    "    temp_var = \"prob_suicide\"\n",
    "    df[temp_var] = df[temp_var].replace(' ', 0)    \n",
    "    df[temp_var] = df[temp_var].replace('  ', 0)    \n",
    "    df[temp_var] = df[temp_var].replace('NV', 0)    \n",
    "    df[temp_var] = df[temp_var].replace('V ', 1)\n",
    "    \n",
    "    temp_var = \"prob_escape\"\n",
    "    df[temp_var] = df[temp_var].replace(' ', 0)    \n",
    "    df[temp_var] = df[temp_var].replace('  ', 0)    \n",
    "    df[temp_var] = df[temp_var].replace('NV', 0)    \n",
    "    df[temp_var] = df[temp_var].replace('V ', 1)\n",
    "    \n",
    "\n",
    "    df[\"problematic_conditions\"] = (df[\"prob_escape\"] \n",
    "                                    + df[\"prob_alcohol\"] \n",
    "                                    + df[\"prob_assault\"]\n",
    "                                    + df[\"prob_drugs\"] \n",
    "                                    + df[\"prob_psyco\"]\n",
    "                                    + df[\"prob_sexual\"]\n",
    "                                    + df[\"prob_suicide\"])\n",
    "    \n",
    "    temp_var = \"problematic_offenses\"\n",
    "    df[temp_var] = df[temp_var].replace(' ', 0)    \n",
    "    df[temp_var] = df[temp_var].replace('N', 0)    \n",
    "    df[temp_var] = df[temp_var].replace('Y', 1)    \n",
    "    \n",
    "    return df\n"
   ]
  },
  {
   "cell_type": "markdown",
   "metadata": {},
   "source": [
    "## Overrides during initial classification"
   ]
  },
  {
   "cell_type": "code",
   "execution_count": null,
   "metadata": {},
   "outputs": [],
   "source": []
  },
  {
   "cell_type": "code",
   "execution_count": 58,
   "metadata": {},
   "outputs": [],
   "source": [
    "df = pd.read_csv(\"../data/initial_custody_2017_gsprs.csv\", low_memory=False)\n",
    "\n",
    "df['high_ic_instit_adj'] = np.where(df['ic_institut_adj']>2, 1, 0)\n",
    "df['ic_override_up'] = np.where(df['ic_ovride_cust_lvl']-df['ic_custdy_level']>0,1,0)\n",
    "df['high_ic'] = np.where(df['ic_custdy_level']>3, 1, 0)\n",
    "\n",
    "data = preprocess_input_vars_ic_or(df)\n",
    "\n",
    "data_ic_or = data[\n",
    "    [\n",
    "        \"gender_female\",\n",
    "        \"age_gt_45\",\n",
    "        \"age_lt_25\",\n",
    "        \"race_B\",\n",
    "        \"race_A\",\n",
    "        \"race_H\",\n",
    "        #\"race_I\",\n",
    "        \"race_O\",\n",
    "        \"off_1_prs_max\",\n",
    "        \"off_1_gs_max\",\n",
    "        \"ic_custdy_level\",\n",
    "        \"prior_commits\",\n",
    "        \"ic_institut_adj\",\n",
    "        \"escape_hist_1\",\n",
    "        #\"escape_hist_2\",\n",
    "        #\"escape_hist_3\",\n",
    "        #\"escape_hist_4\",\n",
    "        \"escape_hist_5\",\n",
    "        \"mrt_stat_DIV\",\n",
    "        \"mrt_stat_SEP\",\n",
    "        \"mrt_stat_MAR\",\n",
    "        \"mrt_stat_WID\",\n",
    "        \"employed\",\n",
    "        \"problematic_offenses\",\n",
    "        \"problematic_conditions\",\n",
    "        \"ic_override_up\"\n",
    "    ]\n",
    "]\n",
    "\n",
    "data_ic_or = data_ic_or.dropna()"
   ]
  },
  {
   "cell_type": "code",
   "execution_count": 59,
   "metadata": {},
   "outputs": [
    {
     "data": {
      "text/plain": [
       "8"
      ]
     },
     "execution_count": 59,
     "metadata": {},
     "output_type": "execute_result"
    }
   ],
   "source": [
    "np.sum(data_ic_or[data_ic_or['ic_override_up']==1]['mrt_stat_WID'])"
   ]
  },
  {
   "cell_type": "code",
   "execution_count": 60,
   "metadata": {},
   "outputs": [
    {
     "data": {
      "text/plain": [
       "0    13563\n",
       "1      253\n",
       "Name: ic_override_up, dtype: int64"
      ]
     },
     "execution_count": 60,
     "metadata": {},
     "output_type": "execute_result"
    }
   ],
   "source": [
    "data_ic_or['ic_override_up'].value_counts()"
   ]
  },
  {
   "cell_type": "code",
   "execution_count": 61,
   "metadata": {},
   "outputs": [],
   "source": [
    "X = data_ic_or.loc[:, data_ic_or.columns != 'ic_override_up']\n",
    "y = data_ic_or.loc[:, data_ic_or.columns == 'ic_override_up']"
   ]
  },
  {
   "cell_type": "markdown",
   "metadata": {},
   "source": [
    "### Balance classes"
   ]
  },
  {
   "cell_type": "code",
   "execution_count": 62,
   "metadata": {},
   "outputs": [],
   "source": [
    "from imblearn.over_sampling import SMOTE\n",
    "\n",
    "os = SMOTE(random_state=0)\n",
    "\n",
    "X_os, y_os = os.fit_resample(X, y)"
   ]
  },
  {
   "cell_type": "markdown",
   "metadata": {},
   "source": [
    "### Recursive feature elimination"
   ]
  },
  {
   "cell_type": "code",
   "execution_count": 63,
   "metadata": {},
   "outputs": [
    {
     "data": {
      "text/plain": [
       "['gender_female', 'race_A', 'race_O', 'mrt_stat_WID']"
      ]
     },
     "execution_count": 63,
     "metadata": {},
     "output_type": "execute_result"
    }
   ],
   "source": [
    "from sklearn.feature_selection import RFE\n",
    "from sklearn.linear_model import LogisticRegression\n",
    "\n",
    "\n",
    "logreg = LogisticRegression(max_iter=2000) # increase the number of iterations to get convergence\n",
    "\n",
    "rfe = RFE(logreg, n_features_to_select=4, step=1)\n",
    "rfe = rfe.fit(X_os, y_os.values.ravel())\n",
    "\n",
    "zz= list(zip(X_os.columns,list(rfe.support_)))\n",
    "\n",
    "features = [a for (a,b) in zz if b]\n",
    "\n",
    "features\n"
   ]
  },
  {
   "cell_type": "code",
   "execution_count": 64,
   "metadata": {
    "scrolled": true
   },
   "outputs": [
    {
     "name": "stdout",
     "output_type": "stream",
     "text": [
      "Optimization terminated successfully.\n",
      "         Current function value: 0.090641\n",
      "         Iterations 9\n",
      "                            Results: Logit\n",
      "=======================================================================\n",
      "Model:                 Logit              Pseudo R-squared:   0.008    \n",
      "Dependent Variable:    ic_override_up     AIC:                2546.6026\n",
      "Date:                  2022-02-04 23:39   BIC:                2704.8079\n",
      "No. Observations:      13816              Log-Likelihood:     -1252.3  \n",
      "Df Model:              20                 LL-Null:            -1262.7  \n",
      "Df Residuals:          13795              LLR p-value:        0.40699  \n",
      "Converged:             1.0000             Scale:              1.0000   \n",
      "No. Iterations:        9.0000                                          \n",
      "-----------------------------------------------------------------------\n",
      "                        Coef.  Std.Err.    z     P>|z|   [0.025  0.975]\n",
      "-----------------------------------------------------------------------\n",
      "gender_female          -0.4765   0.3922  -1.2150 0.2244 -1.2451  0.2921\n",
      "age_gt_45              -1.0845   0.2077  -5.2208 0.0000 -1.4916 -0.6774\n",
      "age_lt_25              -0.1178   0.1714  -0.6877 0.4917 -0.4537  0.2180\n",
      "race_B                 -0.2360   0.1481  -1.5934 0.1111 -0.5263  0.0543\n",
      "race_A                  0.3241   1.0352   0.3130 0.7543 -1.7049  2.3530\n",
      "race_H                 -0.3334   0.2302  -1.4483 0.1475 -0.7846  0.1178\n",
      "race_O                  0.5744   0.7423   0.7739 0.4390 -0.8803  2.0292\n",
      "off_1_prs_max           0.0390   0.0550   0.7081 0.4789 -0.0689  0.1468\n",
      "off_1_gs_max            0.0357   0.0212   1.6847 0.0920 -0.0058  0.0773\n",
      "ic_custdy_level        -1.2485   0.1134 -11.0117 0.0000 -1.4707 -1.0263\n",
      "prior_commits          -0.0168   0.0233  -0.7217 0.4705 -0.0625  0.0288\n",
      "ic_institut_adj         0.0668   0.0604   1.1066 0.2685 -0.0515  0.1852\n",
      "escape_hist_1          -0.6587   0.1338  -4.9225 0.0000 -0.9210 -0.3965\n",
      "escape_hist_5           1.3515   0.2555   5.2887 0.0000  0.8506  1.8523\n",
      "mrt_stat_DIV            0.0318   0.2132   0.1491 0.8815 -0.3862  0.4498\n",
      "mrt_stat_SEP           -0.3598   0.3015  -1.1934 0.2327 -0.9507  0.2311\n",
      "mrt_stat_MAR           -0.0753   0.1962  -0.3840 0.7010 -0.4599  0.3092\n",
      "mrt_stat_WID            0.7471   0.3944   1.8942 0.0582 -0.0259  1.5202\n",
      "employed               -0.5214   0.1560  -3.3427 0.0008 -0.8272 -0.2157\n",
      "problematic_offenses    1.2666   0.1451   8.7306 0.0000  0.9822  1.5509\n",
      "problematic_conditions -0.1640   0.0503  -3.2638 0.0011 -0.2625 -0.0655\n",
      "=======================================================================\n",
      "\n",
      "+\n",
      "                              OR       z-value      2.5%      97.5%\n",
      "gender_female           0.620975  2.243726e-01  0.287918   1.339304\n",
      "age_gt_45               0.338078  1.781232e-07  0.225011   0.507960\n",
      "age_lt_25               0.888840  4.916699e-01  0.635273   1.243618\n",
      "race_B                  0.789765  1.110756e-01  0.590762   1.055802\n",
      "race_A                  1.382721  7.542575e-01  0.181786  10.517410\n",
      "race_H                  0.716477  1.475388e-01  0.456297   1.125013\n",
      "race_O                  1.776147  4.389788e-01  0.414638   7.608319\n",
      "off_1_prs_max           1.039736  4.788849e-01  0.933428   1.158152\n",
      "off_1_gs_max            1.036362  9.204555e-02  0.994181   1.080333\n",
      "ic_custdy_level         0.286932  3.354813e-28  0.229758   0.358334\n",
      "prior_commits           0.983327  4.704933e-01  0.939435   1.029270\n",
      "ic_institut_adj         1.069109  2.684553e-01  0.949775   1.203437\n",
      "escape_hist_1           0.517500  8.544801e-07  0.398106   0.672699\n",
      "escape_hist_5           3.863175  1.232137e-07  2.341124   6.374767\n",
      "mrt_stat_DIV            1.032311  8.814577e-01  0.679665   1.567927\n",
      "mrt_stat_SEP            0.697833  2.327290e-01  0.386482   1.260007\n",
      "mrt_stat_MAR            0.927430  7.009904e-01  0.631355   1.362349\n",
      "mrt_stat_WID            2.110972  5.819550e-02  0.974402   4.573265\n",
      "employed                0.593662  8.296544e-04  0.437277   0.805976\n",
      "problematic_offenses    3.548727  2.532419e-18  2.670456   4.715849\n",
      "problematic_conditions  0.848732  1.099119e-03  0.769125   0.936579\n"
     ]
    }
   ],
   "source": [
    "#ll.append('race_B')\n",
    "#ll.append('gender_female')\n",
    "#ll.append('problematic_conditions')\n",
    "#ll.append('problematic_offenses')\n",
    "#ll.append('age_lt_25')\n",
    "#ll.append('age_gt_45')\n",
    "#ll.append('ic_institut_adj')\n",
    "\n",
    "#X = X[ll]\n",
    "\n",
    "logit_model=sm.Logit(y,X.astype(float))\n",
    "result=logit_model.fit(solver=\"lbfgs\",maxiter=10000)\n",
    "print(result.summary2())\n",
    "print(\"+\")\n",
    "model_odds = pd.DataFrame(np.exp(result.params), columns= ['OR'])\n",
    "model_odds['z-value']= result.pvalues\n",
    "model_odds[['2.5%', '97.5%']] = np.exp(result.conf_int())\n",
    "print(model_odds)"
   ]
  },
  {
   "cell_type": "code",
   "execution_count": 65,
   "metadata": {},
   "outputs": [
    {
     "name": "stdout",
     "output_type": "stream",
     "text": [
      "Accuracy of logistic regression classifier on test set: 0.76\n",
      "[[3119  951]\n",
      " [  42   33]]\n",
      "              precision    recall  f1-score   support\n",
      "\n",
      "           0       0.99      0.77      0.86      4070\n",
      "           1       0.03      0.44      0.06        75\n",
      "\n",
      "    accuracy                           0.76      4145\n",
      "   macro avg       0.51      0.60      0.46      4145\n",
      "weighted avg       0.97      0.76      0.85      4145\n",
      "\n"
     ]
    },
    {
     "data": {
      "image/png": "[encoded data removed]",
      "text/plain": [
       "<Figure size 432x288 with 1 Axes>"
      ]
     },
     "metadata": {},
     "output_type": "display_data"
    }
   ],
   "source": [
    "from sklearn.linear_model import LogisticRegression\n",
    "from sklearn.model_selection import train_test_split\n",
    "from sklearn import metrics\n",
    "import matplotlib.pyplot as plt\n",
    "\n",
    "X_train, X_test, y_train, y_test = train_test_split(X, y, test_size=0.3, random_state=42)\n",
    "\n",
    "X_train_os, y_train_os = os.fit_resample(X_train, y_train)\n",
    "\n",
    "logreg = LogisticRegression(max_iter=2000)\n",
    "logreg.fit(X_train_os, y_train_os.values.ravel())\n",
    "\n",
    "y_pred = logreg.predict(X_test)\n",
    "print('Accuracy of logistic regression classifier on test set: {:.2f}'.format(logreg.score(X_test, y_test)))\n",
    "\n",
    "from sklearn.metrics import confusion_matrix\n",
    "confusion_matrix = confusion_matrix(y_test, y_pred)\n",
    "print(confusion_matrix)\n",
    "\n",
    "from sklearn.metrics import classification_report\n",
    "print(classification_report(y_test, y_pred))\n",
    "\n",
    "from sklearn.metrics import roc_auc_score\n",
    "from sklearn.metrics import roc_curve\n",
    "logit_roc_auc = roc_auc_score(y_test, logreg.predict(X_test))\n",
    "fpr, tpr, thresholds = roc_curve(y_test, logreg.predict_proba(X_test)[:,1])\n",
    "plt.figure()\n",
    "plt.plot(fpr, tpr, label='Logistic Regression (area = %0.2f)' % logit_roc_auc)\n",
    "plt.plot([0, 1], [0, 1],'r--')\n",
    "plt.xlim([0.0, 1.0])\n",
    "plt.ylim([0.0, 1.05])\n",
    "plt.xlabel('False Positive Rate')\n",
    "plt.ylabel('True Positive Rate')\n",
    "plt.title('Receiver operating characteristic')\n",
    "plt.legend(loc=\"lower right\")\n",
    "plt.show()"
   ]
  },
  {
   "cell_type": "markdown",
   "metadata": {},
   "source": [
    "### IC override SVM"
   ]
  },
  {
   "cell_type": "code",
   "execution_count": 66,
   "metadata": {},
   "outputs": [
    {
     "name": "stderr",
     "output_type": "stream",
     "text": [
      "/home/ncr006/anaconda2/envs/psapm/lib/python3.8/site-packages/sklearn/utils/validation.py:63: DataConversionWarning: A column-vector y was passed when a 1d array was expected. Please change the shape of y to (n_samples, ), for example using ravel().\n",
      "  return f(*args, **kwargs)\n"
     ]
    },
    {
     "name": "stdout",
     "output_type": "stream",
     "text": [
      "Accuracy for our dataset in predicting test data is : 76.19%\n"
     ]
    }
   ],
   "source": [
    "#We ommitted escape histories 2, 3 and 4 because they were highly correlated with escape history 1\n",
    "#and because we want to know if they're frequent escapees or not, and not necessarily how many times\n",
    "\n",
    "from sklearn.metrics import accuracy_score\n",
    "\n",
    "\n",
    "\n",
    "\n",
    "\n",
    "#applying Support Vector Classifier \n",
    "#fitting kernel SVM to training dataset\n",
    "from sklearn.svm import SVC\n",
    "classifier_df = SVC(kernel = 'linear' , random_state = 0)\n",
    "classifier_df.fit(X_train_os,y_train_os)\n",
    "\n",
    "#predicting test data result\n",
    "y_pred = classifier_df.predict(X_test)\n",
    "\n",
    "\n",
    "#setting up accuracy score\n",
    "\n",
    "acc = accuracy_score(y_test,y_pred) *100\n",
    "print(\"Accuracy for our dataset in predicting test data is : {:.2f}%\".format(acc))"
   ]
  },
  {
   "cell_type": "code",
   "execution_count": 67,
   "metadata": {},
   "outputs": [
    {
     "name": "stdout",
     "output_type": "stream",
     "text": [
      "              precision    recall  f1-score   support\n",
      "\n",
      "           0       0.99      0.77      0.86      4070\n",
      "           1       0.03      0.43      0.06        75\n",
      "\n",
      "    accuracy                           0.76      4145\n",
      "   macro avg       0.51      0.60      0.46      4145\n",
      "weighted avg       0.97      0.76      0.85      4145\n",
      "\n"
     ]
    }
   ],
   "source": [
    "from sklearn.metrics import classification_report\n",
    "print(classification_report(y_test, y_pred))"
   ]
  },
  {
   "cell_type": "markdown",
   "metadata": {},
   "source": [
    "### IC override Neural Network"
   ]
  },
  {
   "cell_type": "code",
   "execution_count": 24,
   "metadata": {},
   "outputs": [
    {
     "name": "stderr",
     "output_type": "stream",
     "text": [
      "/home/ncr006/anaconda2/envs/psapm/lib/python3.8/site-packages/sklearn/utils/validation.py:63: DataConversionWarning: A column-vector y was passed when a 1d array was expected. Please change the shape of y to (n_samples, ), for example using ravel().\n",
      "  return f(*args, **kwargs)\n"
     ]
    },
    {
     "name": "stdout",
     "output_type": "stream",
     "text": [
      "Accuracy for our dataset in predicting test data is : 83.52%\n"
     ]
    }
   ],
   "source": [
    "from sklearn.neural_network import MLPClassifier\n",
    "\n",
    "clf = MLPClassifier(solver='lbfgs', \n",
    "                    alpha=1e-5,\n",
    "                    hidden_layer_sizes=(14,), \n",
    "                    random_state=1, \n",
    "                    max_iter=10000)\n",
    "\n",
    "clf.fit(X_train_os, y_train_os)\n",
    "\n",
    "y_pred = clf.predict(X_test)\n",
    "\n",
    "acc = accuracy_score(y_test,y_pred) *100\n",
    "print(\"Accuracy for our dataset in predicting test data is : {:.2f}%\".format(acc))"
   ]
  },
  {
   "cell_type": "code",
   "execution_count": 25,
   "metadata": {},
   "outputs": [
    {
     "name": "stdout",
     "output_type": "stream",
     "text": [
      "              precision    recall  f1-score   support\n",
      "\n",
      "           0       0.99      0.84      0.91      4070\n",
      "           1       0.04      0.31      0.06        75\n",
      "\n",
      "    accuracy                           0.84      4145\n",
      "   macro avg       0.51      0.58      0.49      4145\n",
      "weighted avg       0.97      0.84      0.89      4145\n",
      "\n"
     ]
    }
   ],
   "source": [
    "from sklearn.metrics import classification_report\n",
    "print(classification_report(y_test, y_pred))"
   ]
  },
  {
   "cell_type": "markdown",
   "metadata": {},
   "source": [
    "### IC override Random Forest"
   ]
  },
  {
   "cell_type": "code",
   "execution_count": 22,
   "metadata": {},
   "outputs": [
    {
     "name": "stderr",
     "output_type": "stream",
     "text": [
      "<ipython-input-22-973a04dff940>:5: DataConversionWarning: A column-vector y was passed when a 1d array was expected. Please change the shape of y to (n_samples,), for example using ravel().\n",
      "  clf.fit(X_train_os, y_train_os)\n"
     ]
    },
    {
     "name": "stdout",
     "output_type": "stream",
     "text": [
      "Accuracy for our dataset in predicting test data is : 97.35%\n"
     ]
    }
   ],
   "source": [
    "from sklearn.ensemble import RandomForestClassifier\n",
    "from sklearn.metrics import confusion_matrix\n",
    "\n",
    "clf = RandomForestClassifier(n_estimators = 100, criterion = 'gini', random_state = 0)\n",
    "clf.fit(X_train_os, y_train_os)\n",
    "\n",
    "from sklearn.metrics import accuracy_score\n",
    "\n",
    "y_pred = clf.predict(X_test)\n",
    "\n",
    "acc = accuracy_score(y_test,y_pred) *100\n",
    "print(\"Accuracy for our dataset in predicting test data is : {:.2f}%\".format(acc))"
   ]
  },
  {
   "cell_type": "code",
   "execution_count": 23,
   "metadata": {},
   "outputs": [
    {
     "name": "stdout",
     "output_type": "stream",
     "text": [
      "              precision    recall  f1-score   support\n",
      "\n",
      "           0       0.98      0.99      0.99      4070\n",
      "           1       0.05      0.03      0.04        75\n",
      "\n",
      "    accuracy                           0.97      4145\n",
      "   macro avg       0.52      0.51      0.51      4145\n",
      "weighted avg       0.97      0.97      0.97      4145\n",
      "\n"
     ]
    }
   ],
   "source": [
    "from sklearn.metrics import classification_report\n",
    "print(classification_report(y_test, y_pred))"
   ]
  },
  {
   "cell_type": "code",
   "execution_count": null,
   "metadata": {},
   "outputs": [],
   "source": []
  },
  {
   "cell_type": "code",
   "execution_count": null,
   "metadata": {},
   "outputs": [],
   "source": []
  },
  {
   "cell_type": "code",
   "execution_count": null,
   "metadata": {},
   "outputs": [],
   "source": []
  },
  {
   "cell_type": "code",
   "execution_count": null,
   "metadata": {},
   "outputs": [],
   "source": []
  },
  {
   "cell_type": "markdown",
   "metadata": {},
   "source": [
    "## Overrides during reclassification"
   ]
  },
  {
   "cell_type": "code",
   "execution_count": 26,
   "metadata": {},
   "outputs": [],
   "source": [
    "def preprocess_input_vars_re_or(df:pd.DataFrame) -> pd.DataFrame:\n",
    "    df = df.copy()\n",
    "\n",
    "    re_date = df[\"re_de_year\"]\n",
    "    re_date = re_date.replace(0, np.nan)\n",
    "    \n",
    "    df[\"re_ovride_cust_lvl\"] = df[\"re_ovride_cust_lvl\"].replace(\" \", np.nan)\n",
    "    df[\"re_ovride_cust_lvl\"] = df[\"re_ovride_cust_lvl\"].replace(\"\", np.nan)\n",
    "    \n",
    "    df[\"re_ovride_cust_lvl\"] = df[\"re_ovride_cust_lvl\"].astype(float)\n",
    "    \n",
    "    \n",
    "    df[\"age\"] = re_date - (df.date_of_birth//10000)\n",
    "\n",
    "    df[\"age_gt_45\"] = ((re_date - (df.date_of_birth//10000)\\\n",
    "        .astype(int)) > 45)\\\n",
    "        .apply(lambda x: 1 if x else 0)\n",
    "    \n",
    "    df[\"age_lt_25\"] = ((re_date - (df.date_of_birth//10000)\\\n",
    "        .astype(int)) < 25)\\\n",
    "        .apply(lambda x: 1 if x else 0)\n",
    "    \n",
    "    df[\"gender_female\"] = df.sex.transform(lambda x: 1 if x == \"F\" else 0)\n",
    "\n",
    "    df = pd.concat(\n",
    "        [df, pd.get_dummies(df.race, prefix=\"race\").drop(\"race_W\", axis=1)],\n",
    "        axis=1\n",
    "    )\n",
    "    \n",
    "    df[\"prior_commits\"] = df.ic_prior_commits\n",
    "\n",
    "    df[\"re_escp_hist_1\"] = df.re_escp_hist_1.transform(\n",
    "        lambda x: 1 if str(x) == \"X\" else 0\n",
    "    )\n",
    "    df[\"re_escp_hist_2\"] = df.re_escp_hist_2.transform(\n",
    "        lambda x: 1 if str(x) == \"X\" else 0\n",
    "    )\n",
    "    df[\"re_escp_hist_3\"] = df.re_escp_hist_3.transform(\n",
    "        lambda x: 1 if str(x) == \"X\" else 0\n",
    "    )\n",
    "    df[\"re_escp_hist_4\"] = df.re_escp_hist_4.transform(\n",
    "        lambda x: 1 if str(x) == \"X\" else 0\n",
    "    )\n",
    "    df[\"re_escp_hist_5\"] = df.re_escp_hist_5.transform(\n",
    "        lambda x: 1 if str(x) == \"X\" else 0\n",
    "    )\n",
    "\n",
    "    df[\"escape_hist\"] = (\n",
    "        df[\"re_escp_hist_1\"] +\n",
    "        df[\"re_escp_hist_2\"] +\n",
    "        df[\"re_escp_hist_3\"] +\n",
    "        df[\"re_escp_hist_4\"] +\n",
    "        df[\"re_escp_hist_5\"]\n",
    "    )\n",
    "    \n",
    "    \n",
    "    df = pd.concat(\n",
    "        [\n",
    "            df,\n",
    "            pd.get_dummies(df.ic_mrtl_stat_fr_cl, prefix=\"mrt_stat\")\\\n",
    "                .drop([\"mrt_stat_SIN\", \"mrt_stat_UNK\"], axis=1)\n",
    "        ],\n",
    "        axis=1\n",
    "    )\n",
    "\n",
    "    df[\"marital_status\"] = LabelEncoder().fit_transform(df[\"ic_mrtl_stat_fr_cl\"])\n",
    "\n",
    "    df[\"race\"] = LabelEncoder().fit_transform(df[\"race\"])\n",
    "    \n",
    "\n",
    "    df[\"employed\"] = df.ic_employ_ind.fillna(0).replace(\"X\", 1)\n",
    "    \n",
    "    \n",
    "    temp_var = \"prob_alcohol\"\n",
    "    df[temp_var] = df[temp_var].replace(' ', 0)    \n",
    "    df[temp_var] = df[temp_var].replace('  ', 0)    \n",
    "    df[temp_var] = df[temp_var].replace('NV', 0)\n",
    "    df[temp_var] = df[temp_var].replace(np.nan, 0)\n",
    "    df[temp_var] = df[temp_var].replace('V ', 1)\n",
    "    \n",
    "    temp_var = \"prob_drugs\"\n",
    "    df[temp_var] = df[temp_var].replace(' ', 0)    \n",
    "    df[temp_var] = df[temp_var].replace('  ', 0)    \n",
    "    df[temp_var] = df[temp_var].replace('NV', 0)    \n",
    "    df[temp_var] = df[temp_var].replace('V ', 1)\n",
    "    \n",
    "    temp_var = \"prob_assault\"\n",
    "    df[temp_var] = df[temp_var].replace(' ', 0)    \n",
    "    df[temp_var] = df[temp_var].replace('  ', 0)    \n",
    "    df[temp_var] = df[temp_var].replace('NV', 0)    \n",
    "    df[temp_var] = df[temp_var].replace('V ', 1)\n",
    "    \n",
    "\n",
    "    temp_var = \"prob_sexual\"\n",
    "    df[temp_var] = df[temp_var].replace(' ', 0)    \n",
    "    df[temp_var] = df[temp_var].replace('  ', 0)    \n",
    "    df[temp_var] = df[temp_var].replace('NV', 0)    \n",
    "    df[temp_var] = df[temp_var].replace('V ', 1)\n",
    "    \n",
    "\n",
    "    temp_var = \"prob_psyco\"\n",
    "    df[temp_var] = df[temp_var].replace(' ', 0)    \n",
    "    df[temp_var] = df[temp_var].replace('  ', 0)    \n",
    "    df[temp_var] = df[temp_var].replace('NV', 0)    \n",
    "    df[temp_var] = df[temp_var].replace('V ', 1)\n",
    "    \n",
    "    temp_var = \"prob_suicide\"\n",
    "    df[temp_var] = df[temp_var].replace(' ', 0)    \n",
    "    df[temp_var] = df[temp_var].replace('  ', 0)    \n",
    "    df[temp_var] = df[temp_var].replace('NV', 0)    \n",
    "    df[temp_var] = df[temp_var].replace('V ', 1)\n",
    "    \n",
    "    temp_var = \"prob_escape\"\n",
    "    df[temp_var] = df[temp_var].replace(' ', 0)    \n",
    "    df[temp_var] = df[temp_var].replace('  ', 0)    \n",
    "    df[temp_var] = df[temp_var].replace('NV', 0)    \n",
    "    df[temp_var] = df[temp_var].replace('V ', 1)\n",
    "    \n",
    "\n",
    "    df[\"problematic_conditions\"] = (df[\"prob_escape\"] \n",
    "                                    + df[\"prob_alcohol\"] \n",
    "                                    + df[\"prob_assault\"]\n",
    "                                    + df[\"prob_drugs\"] \n",
    "                                    + df[\"prob_escape\"] \n",
    "                                    + df[\"prob_psyco\"]\n",
    "                                    + df[\"prob_sexual\"]\n",
    "                                    + df[\"prob_suicide\"])\n",
    "    \n",
    "    temp_var = \"problematic_offenses\"\n",
    "    df[temp_var] = df[temp_var].replace(' ', 0)    \n",
    "    df[temp_var] = df[temp_var].replace('N', 0)    \n",
    "    df[temp_var] = df[temp_var].replace('Y', 1)    \n",
    "    \n",
    "    #df['re_ovride_cust_lvl'] = df['re_ovride_cust_lvl'].replace(np.nan, np.n)\n",
    "    #df['re_custody_level'] = df['re_ovride_cust_lvl'].replace(np.nan, 0)\n",
    "    return df\n"
   ]
  },
  {
   "cell_type": "code",
   "execution_count": null,
   "metadata": {},
   "outputs": [],
   "source": []
  },
  {
   "cell_type": "code",
   "execution_count": 27,
   "metadata": {},
   "outputs": [],
   "source": [
    "df = pd.read_csv(\"../data/re_custody_2017_gsprs.csv\", low_memory=False)\n",
    "\n",
    "df['re_ovride_cust_lvl'] = df['re_ovride_cust_lvl'].replace(' ', np.nan)\n",
    "\n"
   ]
  },
  {
   "cell_type": "code",
   "execution_count": null,
   "metadata": {},
   "outputs": [],
   "source": []
  },
  {
   "cell_type": "code",
   "execution_count": 28,
   "metadata": {},
   "outputs": [],
   "source": [
    "df['re_override_up'] = np.where(df['re_ovride_cust_lvl'].astype(float)-df['re_custody_level']>0,1,0)\n",
    "df['high_re'] = np.where(df['re_custody_level']>3, 1, 0)\n",
    "\n"
   ]
  },
  {
   "cell_type": "code",
   "execution_count": 29,
   "metadata": {},
   "outputs": [],
   "source": [
    "data = preprocess_input_vars_re_or(df)\n",
    "\n"
   ]
  },
  {
   "cell_type": "code",
   "execution_count": 30,
   "metadata": {},
   "outputs": [],
   "source": [
    "data_re_or = data[\n",
    "    [\n",
    "        \"gender_female\",\n",
    "        \"age_gt_45\",\n",
    "        \"age_lt_25\",\n",
    "        \"race_B\",\n",
    "        \"race_A\",\n",
    "        \"race_H\",\n",
    "        \"race_I\",\n",
    "        \"race_O\",\n",
    "        \"off_1_prs_max\",\n",
    "        \"off_1_gs_max\",\n",
    "        \"prior_commits\",\n",
    "        \"re_discip_reports\",\n",
    "        \"re_escp_hist_1\",\n",
    "        #\"re_escp_hist_2\",\n",
    "        #\"re_escp_hist_3\",\n",
    "        #\"re_escp_hist_4\",\n",
    "        \"re_escp_hist_5\",\n",
    "        \"mrt_stat_DIV\",\n",
    "        \"mrt_stat_SEP\",\n",
    "        \"mrt_stat_MAR\",\n",
    "        \"mrt_stat_WID\",\n",
    "        \"employed\",\n",
    "        \"problematic_offenses\",\n",
    "        \"problematic_conditions\",\n",
    "        \"re_override_up\",\n",
    "        \"re_custody_level\"\n",
    "    ]\n",
    "]\n",
    "\n",
    "data_re_or = data_re_or.dropna()"
   ]
  },
  {
   "cell_type": "code",
   "execution_count": 31,
   "metadata": {},
   "outputs": [
    {
     "data": {
      "text/plain": [
       "0    13746\n",
       "1     2797\n",
       "Name: re_override_up, dtype: int64"
      ]
     },
     "execution_count": 31,
     "metadata": {},
     "output_type": "execute_result"
    }
   ],
   "source": [
    "data_re_or['re_override_up'].value_counts()"
   ]
  },
  {
   "cell_type": "code",
   "execution_count": 32,
   "metadata": {},
   "outputs": [],
   "source": [
    "X = data_re_or.loc[:, data_re_or.columns != 're_override_up']\n",
    "y = data_re_or.loc[:, data_re_or.columns == 're_override_up']"
   ]
  },
  {
   "cell_type": "markdown",
   "metadata": {},
   "source": [
    "### Balance classes"
   ]
  },
  {
   "cell_type": "code",
   "execution_count": 33,
   "metadata": {},
   "outputs": [],
   "source": [
    "os = SMOTE(random_state=0)\n",
    "\n",
    "X_os, y_os = os.fit_resample(X,y)"
   ]
  },
  {
   "cell_type": "code",
   "execution_count": 34,
   "metadata": {},
   "outputs": [
    {
     "data": {
      "text/plain": [
       "Index(['gender_female', 'age_gt_45', 'age_lt_25', 'race_B', 'race_A', 'race_H',\n",
       "       'race_I', 'race_O', 'off_1_prs_max', 'off_1_gs_max', 'prior_commits',\n",
       "       're_discip_reports', 're_escp_hist_1', 're_escp_hist_5', 'mrt_stat_DIV',\n",
       "       'mrt_stat_SEP', 'mrt_stat_MAR', 'mrt_stat_WID', 'employed',\n",
       "       'problematic_offenses', 'problematic_conditions', 're_custody_level'],\n",
       "      dtype='object')"
      ]
     },
     "execution_count": 34,
     "metadata": {},
     "output_type": "execute_result"
    }
   ],
   "source": [
    "X.columns"
   ]
  },
  {
   "cell_type": "markdown",
   "metadata": {},
   "source": [
    "### RFE"
   ]
  },
  {
   "cell_type": "code",
   "execution_count": 35,
   "metadata": {},
   "outputs": [
    {
     "data": {
      "text/plain": [
       "['gender_female', 'age_lt_25', 'mrt_stat_SEP', 'problematic_offenses']"
      ]
     },
     "execution_count": 35,
     "metadata": {},
     "output_type": "execute_result"
    }
   ],
   "source": [
    "logreg = LogisticRegression(max_iter=500) # increase the number of iterations to get convergence\n",
    "\n",
    "rfe = RFE(logreg, n_features_to_select=4, step=1)\n",
    "rfe = rfe.fit(X_os, y_os.values.ravel())\n",
    "\n",
    "zz= list(zip(X_os.columns,list(rfe.support_)))\n",
    "\n",
    "ll = [a for (a,b) in zz if b]\n",
    "\n",
    "ll"
   ]
  },
  {
   "cell_type": "code",
   "execution_count": 36,
   "metadata": {},
   "outputs": [
    {
     "name": "stdout",
     "output_type": "stream",
     "text": [
      "Optimization terminated successfully.\n",
      "         Current function value: 0.290415\n",
      "         Iterations 9\n",
      "                            Results: Logit\n",
      "=======================================================================\n",
      "Model:                 Logit              Pseudo R-squared:   0.361    \n",
      "Dependent Variable:    re_override_up     AIC:                9652.6819\n",
      "Date:                  2022-02-03 23:17   BIC:                9822.3837\n",
      "No. Observations:      16543              Log-Likelihood:     -4804.3  \n",
      "Df Model:              21                 LL-Null:            -7517.4  \n",
      "Df Residuals:          16521              LLR p-value:        0.0000   \n",
      "Converged:             1.0000             Scale:              1.0000   \n",
      "No. Iterations:        9.0000                                          \n",
      "-----------------------------------------------------------------------\n",
      "                        Coef.  Std.Err.    z     P>|z|   [0.025  0.975]\n",
      "-----------------------------------------------------------------------\n",
      "gender_female          -0.8013   0.1930  -4.1517 0.0000 -1.1796 -0.4230\n",
      "age_gt_45               0.4659   0.0567   8.2142 0.0000  0.3547  0.5770\n",
      "age_lt_25              -1.3063   0.2669  -4.8945 0.0000 -1.8294 -0.7832\n",
      "race_B                  0.2138   0.0625   3.4237 0.0006  0.0914  0.3363\n",
      "race_A                  0.7401   0.4458   1.6601 0.0969 -0.1337  1.6139\n",
      "race_H                 -0.2195   0.0976  -2.2493 0.0245 -0.4108 -0.0282\n",
      "race_I                 -0.3760   0.8021  -0.4687 0.6393 -1.9482  1.1962\n",
      "race_O                  0.2038   0.4718   0.4320 0.6658 -0.7210  1.1286\n",
      "off_1_prs_max          -0.0463   0.0222  -2.0831 0.0372 -0.0899 -0.0027\n",
      "off_1_gs_max            0.3371   0.0124  27.0993 0.0000  0.3127  0.3614\n",
      "prior_commits          -0.1525   0.0119 -12.8024 0.0000 -0.1758 -0.1291\n",
      "re_discip_reports       0.0641   0.0466   1.3745 0.1693 -0.0273  0.1555\n",
      "re_escp_hist_1         -0.2543   0.0601  -4.2323 0.0000 -0.3720 -0.1365\n",
      "re_escp_hist_5          0.9963   0.0947  10.5165 0.0000  0.8106  1.1820\n",
      "mrt_stat_DIV           -0.8298   0.1112  -7.4603 0.0000 -1.0478 -0.6118\n",
      "mrt_stat_SEP           -1.1391   0.1720  -6.6219 0.0000 -1.4763 -0.8019\n",
      "mrt_stat_MAR           -0.5312   0.0948  -5.6038 0.0000 -0.7170 -0.3454\n",
      "mrt_stat_WID            0.0336   0.2110   0.1592 0.8735 -0.3799  0.4471\n",
      "employed               -0.6498   0.0717  -9.0644 0.0000 -0.7903 -0.5093\n",
      "problematic_offenses    1.2320   0.0650  18.9469 0.0000  1.1045  1.3594\n",
      "problematic_conditions -0.2015   0.0195 -10.3118 0.0000 -0.2398 -0.1632\n",
      "re_custody_level       -2.5998   0.0946 -27.4878 0.0000 -2.7852 -2.4144\n",
      "=======================================================================\n",
      "\n",
      "                              OR        z-value      2.5%     97.5%\n",
      "gender_female           0.448744   3.300776e-05  0.307405  0.655070\n",
      "age_gt_45               1.593393   2.134964e-16  1.425764  1.780730\n",
      "age_lt_25               0.270826   9.854869e-07  0.160515  0.456945\n",
      "race_B                  1.238428   6.177645e-04  1.095734  1.399706\n",
      "race_A                  2.096199   9.688432e-02  0.874885  5.022431\n",
      "race_H                  0.802905   2.449122e-02  0.663121  0.972154\n",
      "race_I                  0.686607   6.392599e-01  0.142534  3.307477\n",
      "race_O                  1.226080   6.657673e-01  0.486273  3.091414\n",
      "off_1_prs_max           0.954740   3.723859e-02  0.914029  0.997265\n",
      "off_1_gs_max            1.400819  1.003291e-161  1.367083  1.435388\n",
      "prior_commits           0.858589   1.588962e-37  0.838780  0.878865\n",
      "re_discip_reports       1.066219   1.692845e-01  0.973059  1.168297\n",
      "re_escp_hist_1          0.775477   2.312846e-05  0.689333  0.872386\n",
      "re_escp_hist_5          2.708213   7.248764e-26  2.249282  3.260782\n",
      "mrt_stat_DIV            0.436133   8.635233e-14  0.350703  0.542373\n",
      "mrt_stat_SEP            0.320106   3.546535e-11  0.228491  0.448454\n",
      "mrt_stat_MAR            0.587877   2.097544e-08  0.488194  0.707914\n",
      "mrt_stat_WID            1.034164   8.734969e-01  0.683905  1.563806\n",
      "employed                0.522138   1.252620e-19  0.453694  0.600907\n",
      "problematic_offenses    3.427917   4.681716e-80  3.017756  3.893826\n",
      "problematic_conditions  0.817498   6.229901e-25  0.786780  0.849416\n",
      "re_custody_level        0.074287  2.458576e-166  0.061717  0.089417\n"
     ]
    }
   ],
   "source": [
    "#ll.append('race_B')\n",
    "#ll.append('problematic_conditions')\n",
    "#ll.append('age_gt_45')\n",
    "#ll.append('re_discip_reports')\n",
    "\n",
    "#X = X[ll]\n",
    "\n",
    "logit_model=sm.Logit(y,X.astype(float))\n",
    "result=logit_model.fit()\n",
    "print(result.summary2())\n",
    "\n",
    "model_odds = pd.DataFrame(np.exp(result.params), columns= ['OR'])\n",
    "model_odds['z-value']= result.pvalues\n",
    "model_odds[['2.5%', '97.5%']] = np.exp(result.conf_int())\n",
    "print(model_odds)"
   ]
  },
  {
   "cell_type": "code",
   "execution_count": null,
   "metadata": {},
   "outputs": [],
   "source": []
  },
  {
   "cell_type": "code",
   "execution_count": 37,
   "metadata": {
    "scrolled": false
   },
   "outputs": [
    {
     "name": "stdout",
     "output_type": "stream",
     "text": [
      "Accuracy of logistic regression classifier on test set: 0.81\n",
      "[[3331  756]\n",
      " [ 173  703]]\n",
      "              precision    recall  f1-score   support\n",
      "\n",
      "           0       0.95      0.82      0.88      4087\n",
      "           1       0.48      0.80      0.60       876\n",
      "\n",
      "    accuracy                           0.81      4963\n",
      "   macro avg       0.72      0.81      0.74      4963\n",
      "weighted avg       0.87      0.81      0.83      4963\n",
      "\n"
     ]
    },
    {
     "data": {
      "image/png": "[encoded data removed]",
      "text/plain": [
       "<Figure size 432x288 with 1 Axes>"
      ]
     },
     "metadata": {},
     "output_type": "display_data"
    }
   ],
   "source": [
    "X_train, X_test, y_train, y_test = train_test_split(X, y, test_size=0.3, random_state=2)\n",
    "\n",
    "\n",
    "\n",
    "X_train_os, y_train_os = os.fit_resample(X_train, y_train)\n",
    "\n",
    "logreg = LogisticRegression(max_iter=2000)\n",
    "logreg.fit(X_train_os, y_train_os.values.ravel())\n",
    "\n",
    "y_pred = logreg.predict(X_test)\n",
    "print('Accuracy of logistic regression classifier on test set: {:.2f}'.format(logreg.score(X_test, y_test)))\n",
    "\n",
    "from sklearn.metrics import confusion_matrix\n",
    "confusion_matrix = confusion_matrix(y_test, y_pred)\n",
    "print(confusion_matrix)\n",
    "\n",
    "from sklearn.metrics import classification_report\n",
    "print(classification_report(y_test, y_pred))\n",
    "\n",
    "from sklearn.metrics import roc_auc_score\n",
    "from sklearn.metrics import roc_curve\n",
    "logit_roc_auc = roc_auc_score(y_test, logreg.predict(X_test))\n",
    "fpr, tpr, thresholds = roc_curve(y_test, logreg.predict_proba(X_test)[:,1])\n",
    "plt.figure()\n",
    "plt.plot(fpr, tpr, label='Logistic Regression (area = %0.2f)' % logit_roc_auc)\n",
    "plt.plot([0, 1], [0, 1],'r--')\n",
    "plt.xlim([0.0, 1.0])\n",
    "plt.ylim([0.0, 1.05])\n",
    "plt.xlabel('False Positive Rate')\n",
    "plt.ylabel('True Positive Rate')\n",
    "plt.title('Receiver operating characteristic')\n",
    "plt.legend(loc=\"lower right\")\n",
    "plt.show()"
   ]
  },
  {
   "cell_type": "markdown",
   "metadata": {},
   "source": [
    "### RE override with SVM"
   ]
  },
  {
   "cell_type": "code",
   "execution_count": 53,
   "metadata": {},
   "outputs": [
    {
     "name": "stderr",
     "output_type": "stream",
     "text": [
      "/home/ncr006/anaconda2/envs/psapm/lib/python3.8/site-packages/sklearn/utils/validation.py:63: DataConversionWarning: A column-vector y was passed when a 1d array was expected. Please change the shape of y to (n_samples, ), for example using ravel().\n",
      "  return f(*args, **kwargs)\n"
     ]
    },
    {
     "name": "stdout",
     "output_type": "stream",
     "text": [
      "Accuracy for our dataset in predicting test data is : 83.96%\n",
      "              precision    recall  f1-score   support\n",
      "\n",
      "           0       0.95      0.85      0.90      4087\n",
      "           1       0.53      0.81      0.64       876\n",
      "\n",
      "    accuracy                           0.84      4963\n",
      "   macro avg       0.74      0.83      0.77      4963\n",
      "weighted avg       0.88      0.84      0.85      4963\n",
      "\n"
     ]
    }
   ],
   "source": [
    "#We ommitted escape histories 2, 3 and 4 because they were highly correlated with escape history 1\n",
    "#and because we want to know if they're frequent escapees or not, and not necessarily how many times\n",
    "\n",
    "from sklearn.metrics import accuracy_score\n",
    "\n",
    "\n",
    "\n",
    "\n",
    "\n",
    "#applying Support Vector Classifier \n",
    "#fitting kernel SVM to training dataset\n",
    "from sklearn.svm import SVC\n",
    "classifier_df = SVC(kernel = 'linear' , random_state = 0)\n",
    "classifier_df.fit(X_train_os,y_train_os)\n",
    "\n",
    "#predicting test data result\n",
    "y_pred = classifier_df.predict(X_test)\n",
    "\n",
    "\n",
    "#setting up accuracy score\n",
    "\n",
    "acc = accuracy_score(y_test,y_pred) *100\n",
    "print(\"Accuracy for our dataset in predicting test data is : {:.2f}%\".format(acc))\n",
    "\n",
    "from sklearn.metrics import classification_report\n",
    "print(classification_report(y_test, y_pred))"
   ]
  },
  {
   "cell_type": "markdown",
   "metadata": {},
   "source": [
    "### RE override with Neural Network"
   ]
  },
  {
   "cell_type": "code",
   "execution_count": 54,
   "metadata": {},
   "outputs": [
    {
     "name": "stderr",
     "output_type": "stream",
     "text": [
      "/home/ncr006/anaconda2/envs/psapm/lib/python3.8/site-packages/sklearn/utils/validation.py:63: DataConversionWarning: A column-vector y was passed when a 1d array was expected. Please change the shape of y to (n_samples, ), for example using ravel().\n",
      "  return f(*args, **kwargs)\n"
     ]
    },
    {
     "name": "stdout",
     "output_type": "stream",
     "text": [
      "Accuracy for our dataset in predicting test data is : 94.34%\n",
      "              precision    recall  f1-score   support\n",
      "\n",
      "           0       0.96      0.97      0.97      4087\n",
      "           1       0.85      0.82      0.84       876\n",
      "\n",
      "    accuracy                           0.94      4963\n",
      "   macro avg       0.91      0.90      0.90      4963\n",
      "weighted avg       0.94      0.94      0.94      4963\n",
      "\n"
     ]
    }
   ],
   "source": [
    "from sklearn.neural_network import MLPClassifier\n",
    "\n",
    "clf = MLPClassifier(solver='lbfgs', \n",
    "                    alpha=1e-5,\n",
    "                    hidden_layer_sizes=(14,), \n",
    "                    random_state=1, \n",
    "                    max_iter=10000)\n",
    "\n",
    "clf.fit(X_train_os, y_train_os)\n",
    "\n",
    "y_pred = clf.predict(X_test)\n",
    "\n",
    "acc = accuracy_score(y_test,y_pred) *100\n",
    "print(\"Accuracy for our dataset in predicting test data is : {:.2f}%\".format(acc))\n",
    "\n",
    "from sklearn.metrics import classification_report\n",
    "print(classification_report(y_test, y_pred))"
   ]
  },
  {
   "cell_type": "markdown",
   "metadata": {},
   "source": [
    "### RE override with Random Forest"
   ]
  },
  {
   "cell_type": "code",
   "execution_count": 55,
   "metadata": {},
   "outputs": [
    {
     "name": "stderr",
     "output_type": "stream",
     "text": [
      "<ipython-input-55-cb9a4075274c>:5: DataConversionWarning: A column-vector y was passed when a 1d array was expected. Please change the shape of y to (n_samples,), for example using ravel().\n",
      "  clf.fit(X_train_os, y_train_os)\n"
     ]
    },
    {
     "name": "stdout",
     "output_type": "stream",
     "text": [
      "Accuracy for our dataset in predicting test data is : 95.37%\n",
      "              precision    recall  f1-score   support\n",
      "\n",
      "           0       0.96      0.98      0.97      4087\n",
      "           1       0.92      0.81      0.86       876\n",
      "\n",
      "    accuracy                           0.95      4963\n",
      "   macro avg       0.94      0.90      0.92      4963\n",
      "weighted avg       0.95      0.95      0.95      4963\n",
      "\n"
     ]
    }
   ],
   "source": [
    "from sklearn.ensemble import RandomForestClassifier\n",
    "from sklearn.metrics import confusion_matrix\n",
    "\n",
    "clf = RandomForestClassifier(n_estimators = 100, criterion = 'gini', random_state = 0)\n",
    "clf.fit(X_train_os, y_train_os)\n",
    "\n",
    "from sklearn.metrics import accuracy_score\n",
    "\n",
    "y_pred = clf.predict(X_test)\n",
    "\n",
    "acc = accuracy_score(y_test,y_pred) *100\n",
    "print(\"Accuracy for our dataset in predicting test data is : {:.2f}%\".format(acc))\n",
    "\n",
    "from sklearn.metrics import classification_report\n",
    "print(classification_report(y_test, y_pred))"
   ]
  },
  {
   "cell_type": "code",
   "execution_count": null,
   "metadata": {},
   "outputs": [],
   "source": []
  },
  {
   "cell_type": "code",
   "execution_count": null,
   "metadata": {},
   "outputs": [],
   "source": []
  },
  {
   "cell_type": "code",
   "execution_count": null,
   "metadata": {},
   "outputs": [],
   "source": []
  },
  {
   "cell_type": "code",
   "execution_count": null,
   "metadata": {},
   "outputs": [],
   "source": []
  },
  {
   "cell_type": "code",
   "execution_count": null,
   "metadata": {},
   "outputs": [],
   "source": []
  },
  {
   "cell_type": "code",
   "execution_count": null,
   "metadata": {},
   "outputs": [],
   "source": []
  },
  {
   "cell_type": "code",
   "execution_count": null,
   "metadata": {},
   "outputs": [],
   "source": []
  },
  {
   "cell_type": "code",
   "execution_count": null,
   "metadata": {},
   "outputs": [],
   "source": []
  },
  {
   "cell_type": "code",
   "execution_count": null,
   "metadata": {},
   "outputs": [],
   "source": []
  },
  {
   "cell_type": "code",
   "execution_count": null,
   "metadata": {},
   "outputs": [],
   "source": []
  },
  {
   "cell_type": "code",
   "execution_count": null,
   "metadata": {},
   "outputs": [],
   "source": []
  },
  {
   "cell_type": "markdown",
   "metadata": {},
   "source": [
    "## Trying again but with SVM"
   ]
  },
  {
   "cell_type": "code",
   "execution_count": 38,
   "metadata": {},
   "outputs": [],
   "source": [
    "import pandas as pd\n",
    "\n",
    "import numpy as np\n",
    "\n",
    "import matplotlib.pyplot as plt\n",
    "\n",
    "%matplotlib inline\n",
    "\n",
    "import seaborn as sns"
   ]
  },
  {
   "cell_type": "code",
   "execution_count": 39,
   "metadata": {},
   "outputs": [],
   "source": [
    "df = pd.read_csv(\"../data/initial_custody_2017_gsprs.csv\", low_memory=False)\n",
    "\n",
    "df['high_ic_instit_adj'] = np.where(df['ic_institut_adj']>2, 1, 0)\n",
    "df['ic_override_up'] = np.where(df['ic_ovride_cust_lvl']-df['ic_custdy_level']>0,1,0)\n",
    "df['high_ic'] = np.where(df['ic_custdy_level']>3, 1, 0)\n",
    "\n",
    "data = preprocess_input_vars_ic_or(df)\n",
    "\n",
    "data_ic_or = data[\n",
    "    [\n",
    "        \"gender_female\",\n",
    "        \"age_gt_45\",\n",
    "        \"age_lt_25\",\n",
    "        \"race_B\",\n",
    "        \"race_A\",\n",
    "        \"race_H\",\n",
    "        \"race_I\",\n",
    "        \"race_O\",\n",
    "        \"off_1_prs_max\",\n",
    "        \"off_1_gs_max\",\n",
    "        \"ic_custdy_level\",\n",
    "        \"prior_commits\",\n",
    "        \"ic_institut_adj\",\n",
    "        \"escape_hist_1\",\n",
    "        #\"escape_hist_2\",\n",
    "        #\"escape_hist_3\",\n",
    "        #\"escape_hist_4\",\n",
    "        \"escape_hist_5\",\n",
    "        \"mrt_stat_DIV\",\n",
    "        \"mrt_stat_SEP\",\n",
    "        \"mrt_stat_MAR\",\n",
    "        \"mrt_stat_WID\",\n",
    "        \"employed\",\n",
    "        \"problematic_offenses\",\n",
    "        \"problematic_conditions\",\n",
    "        \"ic_override_up\"\n",
    "    ]\n",
    "]\n",
    "\n",
    "data_ic_or = data_ic_or.dropna()"
   ]
  },
  {
   "cell_type": "code",
   "execution_count": 40,
   "metadata": {},
   "outputs": [],
   "source": [
    "X = data_ic_or.loc[:, data_ic_or.columns != 'ic_override_up']\n",
    "y = data_ic_or.loc[:, data_ic_or.columns == 'ic_override_up']['ic_override_up']"
   ]
  },
  {
   "cell_type": "code",
   "execution_count": 41,
   "metadata": {},
   "outputs": [
    {
     "data": {
      "text/plain": [
       "253"
      ]
     },
     "execution_count": 41,
     "metadata": {},
     "output_type": "execute_result"
    }
   ],
   "source": [
    "np.sum(y)"
   ]
  },
  {
   "cell_type": "code",
   "execution_count": 42,
   "metadata": {},
   "outputs": [],
   "source": [
    "from sklearn.model_selection import train_test_split"
   ]
  },
  {
   "cell_type": "code",
   "execution_count": 43,
   "metadata": {},
   "outputs": [],
   "source": [
    "x_training_data, x_test_data, y_training_data, y_test_data = train_test_split(X, y, test_size = 0.3, random_state=42)\n"
   ]
  },
  {
   "cell_type": "code",
   "execution_count": 44,
   "metadata": {},
   "outputs": [],
   "source": [
    "from sklearn.svm import SVC\n",
    "model = SVC(kernel=\"linear\",random_state=0)"
   ]
  },
  {
   "cell_type": "code",
   "execution_count": 45,
   "metadata": {},
   "outputs": [
    {
     "ename": "KeyboardInterrupt",
     "evalue": "",
     "output_type": "error",
     "traceback": [
      "\u001b[0;31m---------------------------------------------------------------------------\u001b[0m",
      "\u001b[0;31mKeyboardInterrupt\u001b[0m                         Traceback (most recent call last)",
      "\u001b[0;32m<ipython-input-45-8f28f1f1248f>\u001b[0m in \u001b[0;36m<module>\u001b[0;34m\u001b[0m\n\u001b[1;32m      3\u001b[0m grid_search = GridSearchCV(estimator= model,\n\u001b[1;32m      4\u001b[0m                           param_grid = parameters, scoring = 'accuracy',cv = 10)\n\u001b[0;32m----> 5\u001b[0;31m \u001b[0mgrid_search\u001b[0m \u001b[0;34m=\u001b[0m \u001b[0mgrid_search\u001b[0m\u001b[0;34m.\u001b[0m\u001b[0mfit\u001b[0m\u001b[0;34m(\u001b[0m\u001b[0mx_training_data\u001b[0m\u001b[0;34m,\u001b[0m \u001b[0my_training_data\u001b[0m\u001b[0;34m)\u001b[0m\u001b[0;34m\u001b[0m\u001b[0;34m\u001b[0m\u001b[0m\n\u001b[0m",
      "\u001b[0;32m~/anaconda2/envs/psapm/lib/python3.8/site-packages/sklearn/utils/validation.py\u001b[0m in \u001b[0;36minner_f\u001b[0;34m(*args, **kwargs)\u001b[0m\n\u001b[1;32m     61\u001b[0m             \u001b[0mextra_args\u001b[0m \u001b[0;34m=\u001b[0m \u001b[0mlen\u001b[0m\u001b[0;34m(\u001b[0m\u001b[0margs\u001b[0m\u001b[0;34m)\u001b[0m \u001b[0;34m-\u001b[0m \u001b[0mlen\u001b[0m\u001b[0;34m(\u001b[0m\u001b[0mall_args\u001b[0m\u001b[0;34m)\u001b[0m\u001b[0;34m\u001b[0m\u001b[0;34m\u001b[0m\u001b[0m\n\u001b[1;32m     62\u001b[0m             \u001b[0;32mif\u001b[0m \u001b[0mextra_args\u001b[0m \u001b[0;34m<=\u001b[0m \u001b[0;36m0\u001b[0m\u001b[0;34m:\u001b[0m\u001b[0;34m\u001b[0m\u001b[0;34m\u001b[0m\u001b[0m\n\u001b[0;32m---> 63\u001b[0;31m                 \u001b[0;32mreturn\u001b[0m \u001b[0mf\u001b[0m\u001b[0;34m(\u001b[0m\u001b[0;34m*\u001b[0m\u001b[0margs\u001b[0m\u001b[0;34m,\u001b[0m \u001b[0;34m**\u001b[0m\u001b[0mkwargs\u001b[0m\u001b[0;34m)\u001b[0m\u001b[0;34m\u001b[0m\u001b[0;34m\u001b[0m\u001b[0m\n\u001b[0m\u001b[1;32m     64\u001b[0m \u001b[0;34m\u001b[0m\u001b[0m\n\u001b[1;32m     65\u001b[0m             \u001b[0;31m# extra_args > 0\u001b[0m\u001b[0;34m\u001b[0m\u001b[0;34m\u001b[0m\u001b[0;34m\u001b[0m\u001b[0m\n",
      "\u001b[0;32m~/anaconda2/envs/psapm/lib/python3.8/site-packages/sklearn/model_selection/_search.py\u001b[0m in \u001b[0;36mfit\u001b[0;34m(self, X, y, groups, **fit_params)\u001b[0m\n\u001b[1;32m    839\u001b[0m                 \u001b[0;32mreturn\u001b[0m \u001b[0mresults\u001b[0m\u001b[0;34m\u001b[0m\u001b[0;34m\u001b[0m\u001b[0m\n\u001b[1;32m    840\u001b[0m \u001b[0;34m\u001b[0m\u001b[0m\n\u001b[0;32m--> 841\u001b[0;31m             \u001b[0mself\u001b[0m\u001b[0;34m.\u001b[0m\u001b[0m_run_search\u001b[0m\u001b[0;34m(\u001b[0m\u001b[0mevaluate_candidates\u001b[0m\u001b[0;34m)\u001b[0m\u001b[0;34m\u001b[0m\u001b[0;34m\u001b[0m\u001b[0m\n\u001b[0m\u001b[1;32m    842\u001b[0m \u001b[0;34m\u001b[0m\u001b[0m\n\u001b[1;32m    843\u001b[0m             \u001b[0;31m# multimetric is determined here because in the case of a callable\u001b[0m\u001b[0;34m\u001b[0m\u001b[0;34m\u001b[0m\u001b[0;34m\u001b[0m\u001b[0m\n",
      "\u001b[0;32m~/anaconda2/envs/psapm/lib/python3.8/site-packages/sklearn/model_selection/_search.py\u001b[0m in \u001b[0;36m_run_search\u001b[0;34m(self, evaluate_candidates)\u001b[0m\n\u001b[1;32m   1294\u001b[0m     \u001b[0;32mdef\u001b[0m \u001b[0m_run_search\u001b[0m\u001b[0;34m(\u001b[0m\u001b[0mself\u001b[0m\u001b[0;34m,\u001b[0m \u001b[0mevaluate_candidates\u001b[0m\u001b[0;34m)\u001b[0m\u001b[0;34m:\u001b[0m\u001b[0;34m\u001b[0m\u001b[0;34m\u001b[0m\u001b[0m\n\u001b[1;32m   1295\u001b[0m         \u001b[0;34m\"\"\"Search all candidates in param_grid\"\"\"\u001b[0m\u001b[0;34m\u001b[0m\u001b[0;34m\u001b[0m\u001b[0m\n\u001b[0;32m-> 1296\u001b[0;31m         \u001b[0mevaluate_candidates\u001b[0m\u001b[0;34m(\u001b[0m\u001b[0mParameterGrid\u001b[0m\u001b[0;34m(\u001b[0m\u001b[0mself\u001b[0m\u001b[0;34m.\u001b[0m\u001b[0mparam_grid\u001b[0m\u001b[0;34m)\u001b[0m\u001b[0;34m)\u001b[0m\u001b[0;34m\u001b[0m\u001b[0;34m\u001b[0m\u001b[0m\n\u001b[0m\u001b[1;32m   1297\u001b[0m \u001b[0;34m\u001b[0m\u001b[0m\n\u001b[1;32m   1298\u001b[0m \u001b[0;34m\u001b[0m\u001b[0m\n",
      "\u001b[0;32m~/anaconda2/envs/psapm/lib/python3.8/site-packages/sklearn/model_selection/_search.py\u001b[0m in \u001b[0;36mevaluate_candidates\u001b[0;34m(candidate_params, cv, more_results)\u001b[0m\n\u001b[1;32m    793\u001b[0m                               n_splits, n_candidates, n_candidates * n_splits))\n\u001b[1;32m    794\u001b[0m \u001b[0;34m\u001b[0m\u001b[0m\n\u001b[0;32m--> 795\u001b[0;31m                 out = parallel(delayed(_fit_and_score)(clone(base_estimator),\n\u001b[0m\u001b[1;32m    796\u001b[0m                                                        \u001b[0mX\u001b[0m\u001b[0;34m,\u001b[0m \u001b[0my\u001b[0m\u001b[0;34m,\u001b[0m\u001b[0;34m\u001b[0m\u001b[0;34m\u001b[0m\u001b[0m\n\u001b[1;32m    797\u001b[0m                                                        \u001b[0mtrain\u001b[0m\u001b[0;34m=\u001b[0m\u001b[0mtrain\u001b[0m\u001b[0;34m,\u001b[0m \u001b[0mtest\u001b[0m\u001b[0;34m=\u001b[0m\u001b[0mtest\u001b[0m\u001b[0;34m,\u001b[0m\u001b[0;34m\u001b[0m\u001b[0;34m\u001b[0m\u001b[0m\n",
      "\u001b[0;32m~/anaconda2/envs/psapm/lib/python3.8/site-packages/joblib/parallel.py\u001b[0m in \u001b[0;36m__call__\u001b[0;34m(self, iterable)\u001b[0m\n\u001b[1;32m   1042\u001b[0m                 \u001b[0mself\u001b[0m\u001b[0;34m.\u001b[0m\u001b[0m_iterating\u001b[0m \u001b[0;34m=\u001b[0m \u001b[0mself\u001b[0m\u001b[0;34m.\u001b[0m\u001b[0m_original_iterator\u001b[0m \u001b[0;32mis\u001b[0m \u001b[0;32mnot\u001b[0m \u001b[0;32mNone\u001b[0m\u001b[0;34m\u001b[0m\u001b[0;34m\u001b[0m\u001b[0m\n\u001b[1;32m   1043\u001b[0m \u001b[0;34m\u001b[0m\u001b[0m\n\u001b[0;32m-> 1044\u001b[0;31m             \u001b[0;32mwhile\u001b[0m \u001b[0mself\u001b[0m\u001b[0;34m.\u001b[0m\u001b[0mdispatch_one_batch\u001b[0m\u001b[0;34m(\u001b[0m\u001b[0miterator\u001b[0m\u001b[0;34m)\u001b[0m\u001b[0;34m:\u001b[0m\u001b[0;34m\u001b[0m\u001b[0;34m\u001b[0m\u001b[0m\n\u001b[0m\u001b[1;32m   1045\u001b[0m                 \u001b[0;32mpass\u001b[0m\u001b[0;34m\u001b[0m\u001b[0;34m\u001b[0m\u001b[0m\n\u001b[1;32m   1046\u001b[0m \u001b[0;34m\u001b[0m\u001b[0m\n",
      "\u001b[0;32m~/anaconda2/envs/psapm/lib/python3.8/site-packages/joblib/parallel.py\u001b[0m in \u001b[0;36mdispatch_one_batch\u001b[0;34m(self, iterator)\u001b[0m\n\u001b[1;32m    857\u001b[0m                 \u001b[0;32mreturn\u001b[0m \u001b[0;32mFalse\u001b[0m\u001b[0;34m\u001b[0m\u001b[0;34m\u001b[0m\u001b[0m\n\u001b[1;32m    858\u001b[0m             \u001b[0;32melse\u001b[0m\u001b[0;34m:\u001b[0m\u001b[0;34m\u001b[0m\u001b[0;34m\u001b[0m\u001b[0m\n\u001b[0;32m--> 859\u001b[0;31m                 \u001b[0mself\u001b[0m\u001b[0;34m.\u001b[0m\u001b[0m_dispatch\u001b[0m\u001b[0;34m(\u001b[0m\u001b[0mtasks\u001b[0m\u001b[0;34m)\u001b[0m\u001b[0;34m\u001b[0m\u001b[0;34m\u001b[0m\u001b[0m\n\u001b[0m\u001b[1;32m    860\u001b[0m                 \u001b[0;32mreturn\u001b[0m \u001b[0;32mTrue\u001b[0m\u001b[0;34m\u001b[0m\u001b[0;34m\u001b[0m\u001b[0m\n\u001b[1;32m    861\u001b[0m \u001b[0;34m\u001b[0m\u001b[0m\n",
      "\u001b[0;32m~/anaconda2/envs/psapm/lib/python3.8/site-packages/joblib/parallel.py\u001b[0m in \u001b[0;36m_dispatch\u001b[0;34m(self, batch)\u001b[0m\n\u001b[1;32m    775\u001b[0m         \u001b[0;32mwith\u001b[0m \u001b[0mself\u001b[0m\u001b[0;34m.\u001b[0m\u001b[0m_lock\u001b[0m\u001b[0;34m:\u001b[0m\u001b[0;34m\u001b[0m\u001b[0;34m\u001b[0m\u001b[0m\n\u001b[1;32m    776\u001b[0m             \u001b[0mjob_idx\u001b[0m \u001b[0;34m=\u001b[0m \u001b[0mlen\u001b[0m\u001b[0;34m(\u001b[0m\u001b[0mself\u001b[0m\u001b[0;34m.\u001b[0m\u001b[0m_jobs\u001b[0m\u001b[0;34m)\u001b[0m\u001b[0;34m\u001b[0m\u001b[0;34m\u001b[0m\u001b[0m\n\u001b[0;32m--> 777\u001b[0;31m             \u001b[0mjob\u001b[0m \u001b[0;34m=\u001b[0m \u001b[0mself\u001b[0m\u001b[0;34m.\u001b[0m\u001b[0m_backend\u001b[0m\u001b[0;34m.\u001b[0m\u001b[0mapply_async\u001b[0m\u001b[0;34m(\u001b[0m\u001b[0mbatch\u001b[0m\u001b[0;34m,\u001b[0m \u001b[0mcallback\u001b[0m\u001b[0;34m=\u001b[0m\u001b[0mcb\u001b[0m\u001b[0;34m)\u001b[0m\u001b[0;34m\u001b[0m\u001b[0;34m\u001b[0m\u001b[0m\n\u001b[0m\u001b[1;32m    778\u001b[0m             \u001b[0;31m# A job can complete so quickly than its callback is\u001b[0m\u001b[0;34m\u001b[0m\u001b[0;34m\u001b[0m\u001b[0;34m\u001b[0m\u001b[0m\n\u001b[1;32m    779\u001b[0m             \u001b[0;31m# called before we get here, causing self._jobs to\u001b[0m\u001b[0;34m\u001b[0m\u001b[0;34m\u001b[0m\u001b[0;34m\u001b[0m\u001b[0m\n",
      "\u001b[0;32m~/anaconda2/envs/psapm/lib/python3.8/site-packages/joblib/_parallel_backends.py\u001b[0m in \u001b[0;36mapply_async\u001b[0;34m(self, func, callback)\u001b[0m\n\u001b[1;32m    206\u001b[0m     \u001b[0;32mdef\u001b[0m \u001b[0mapply_async\u001b[0m\u001b[0;34m(\u001b[0m\u001b[0mself\u001b[0m\u001b[0;34m,\u001b[0m \u001b[0mfunc\u001b[0m\u001b[0;34m,\u001b[0m \u001b[0mcallback\u001b[0m\u001b[0;34m=\u001b[0m\u001b[0;32mNone\u001b[0m\u001b[0;34m)\u001b[0m\u001b[0;34m:\u001b[0m\u001b[0;34m\u001b[0m\u001b[0;34m\u001b[0m\u001b[0m\n\u001b[1;32m    207\u001b[0m         \u001b[0;34m\"\"\"Schedule a func to be run\"\"\"\u001b[0m\u001b[0;34m\u001b[0m\u001b[0;34m\u001b[0m\u001b[0m\n\u001b[0;32m--> 208\u001b[0;31m         \u001b[0mresult\u001b[0m \u001b[0;34m=\u001b[0m \u001b[0mImmediateResult\u001b[0m\u001b[0;34m(\u001b[0m\u001b[0mfunc\u001b[0m\u001b[0;34m)\u001b[0m\u001b[0;34m\u001b[0m\u001b[0;34m\u001b[0m\u001b[0m\n\u001b[0m\u001b[1;32m    209\u001b[0m         \u001b[0;32mif\u001b[0m \u001b[0mcallback\u001b[0m\u001b[0;34m:\u001b[0m\u001b[0;34m\u001b[0m\u001b[0;34m\u001b[0m\u001b[0m\n\u001b[1;32m    210\u001b[0m             \u001b[0mcallback\u001b[0m\u001b[0;34m(\u001b[0m\u001b[0mresult\u001b[0m\u001b[0;34m)\u001b[0m\u001b[0;34m\u001b[0m\u001b[0;34m\u001b[0m\u001b[0m\n",
      "\u001b[0;32m~/anaconda2/envs/psapm/lib/python3.8/site-packages/joblib/_parallel_backends.py\u001b[0m in \u001b[0;36m__init__\u001b[0;34m(self, batch)\u001b[0m\n\u001b[1;32m    570\u001b[0m         \u001b[0;31m# Don't delay the application, to avoid keeping the input\u001b[0m\u001b[0;34m\u001b[0m\u001b[0;34m\u001b[0m\u001b[0;34m\u001b[0m\u001b[0m\n\u001b[1;32m    571\u001b[0m         \u001b[0;31m# arguments in memory\u001b[0m\u001b[0;34m\u001b[0m\u001b[0;34m\u001b[0m\u001b[0;34m\u001b[0m\u001b[0m\n\u001b[0;32m--> 572\u001b[0;31m         \u001b[0mself\u001b[0m\u001b[0;34m.\u001b[0m\u001b[0mresults\u001b[0m \u001b[0;34m=\u001b[0m \u001b[0mbatch\u001b[0m\u001b[0;34m(\u001b[0m\u001b[0;34m)\u001b[0m\u001b[0;34m\u001b[0m\u001b[0;34m\u001b[0m\u001b[0m\n\u001b[0m\u001b[1;32m    573\u001b[0m \u001b[0;34m\u001b[0m\u001b[0m\n\u001b[1;32m    574\u001b[0m     \u001b[0;32mdef\u001b[0m \u001b[0mget\u001b[0m\u001b[0;34m(\u001b[0m\u001b[0mself\u001b[0m\u001b[0;34m)\u001b[0m\u001b[0;34m:\u001b[0m\u001b[0;34m\u001b[0m\u001b[0;34m\u001b[0m\u001b[0m\n",
      "\u001b[0;32m~/anaconda2/envs/psapm/lib/python3.8/site-packages/joblib/parallel.py\u001b[0m in \u001b[0;36m__call__\u001b[0;34m(self)\u001b[0m\n\u001b[1;32m    260\u001b[0m         \u001b[0;31m# change the default number of processes to -1\u001b[0m\u001b[0;34m\u001b[0m\u001b[0;34m\u001b[0m\u001b[0;34m\u001b[0m\u001b[0m\n\u001b[1;32m    261\u001b[0m         \u001b[0;32mwith\u001b[0m \u001b[0mparallel_backend\u001b[0m\u001b[0;34m(\u001b[0m\u001b[0mself\u001b[0m\u001b[0;34m.\u001b[0m\u001b[0m_backend\u001b[0m\u001b[0;34m,\u001b[0m \u001b[0mn_jobs\u001b[0m\u001b[0;34m=\u001b[0m\u001b[0mself\u001b[0m\u001b[0;34m.\u001b[0m\u001b[0m_n_jobs\u001b[0m\u001b[0;34m)\u001b[0m\u001b[0;34m:\u001b[0m\u001b[0;34m\u001b[0m\u001b[0;34m\u001b[0m\u001b[0m\n\u001b[0;32m--> 262\u001b[0;31m             return [func(*args, **kwargs)\n\u001b[0m\u001b[1;32m    263\u001b[0m                     for func, args, kwargs in self.items]\n\u001b[1;32m    264\u001b[0m \u001b[0;34m\u001b[0m\u001b[0m\n",
      "\u001b[0;32m~/anaconda2/envs/psapm/lib/python3.8/site-packages/joblib/parallel.py\u001b[0m in \u001b[0;36m<listcomp>\u001b[0;34m(.0)\u001b[0m\n\u001b[1;32m    260\u001b[0m         \u001b[0;31m# change the default number of processes to -1\u001b[0m\u001b[0;34m\u001b[0m\u001b[0;34m\u001b[0m\u001b[0;34m\u001b[0m\u001b[0m\n\u001b[1;32m    261\u001b[0m         \u001b[0;32mwith\u001b[0m \u001b[0mparallel_backend\u001b[0m\u001b[0;34m(\u001b[0m\u001b[0mself\u001b[0m\u001b[0;34m.\u001b[0m\u001b[0m_backend\u001b[0m\u001b[0;34m,\u001b[0m \u001b[0mn_jobs\u001b[0m\u001b[0;34m=\u001b[0m\u001b[0mself\u001b[0m\u001b[0;34m.\u001b[0m\u001b[0m_n_jobs\u001b[0m\u001b[0;34m)\u001b[0m\u001b[0;34m:\u001b[0m\u001b[0;34m\u001b[0m\u001b[0;34m\u001b[0m\u001b[0m\n\u001b[0;32m--> 262\u001b[0;31m             return [func(*args, **kwargs)\n\u001b[0m\u001b[1;32m    263\u001b[0m                     for func, args, kwargs in self.items]\n\u001b[1;32m    264\u001b[0m \u001b[0;34m\u001b[0m\u001b[0m\n",
      "\u001b[0;32m~/anaconda2/envs/psapm/lib/python3.8/site-packages/sklearn/utils/fixes.py\u001b[0m in \u001b[0;36m__call__\u001b[0;34m(self, *args, **kwargs)\u001b[0m\n\u001b[1;32m    220\u001b[0m     \u001b[0;32mdef\u001b[0m \u001b[0m__call__\u001b[0m\u001b[0;34m(\u001b[0m\u001b[0mself\u001b[0m\u001b[0;34m,\u001b[0m \u001b[0;34m*\u001b[0m\u001b[0margs\u001b[0m\u001b[0;34m,\u001b[0m \u001b[0;34m**\u001b[0m\u001b[0mkwargs\u001b[0m\u001b[0;34m)\u001b[0m\u001b[0;34m:\u001b[0m\u001b[0;34m\u001b[0m\u001b[0;34m\u001b[0m\u001b[0m\n\u001b[1;32m    221\u001b[0m         \u001b[0;32mwith\u001b[0m \u001b[0mconfig_context\u001b[0m\u001b[0;34m(\u001b[0m\u001b[0;34m**\u001b[0m\u001b[0mself\u001b[0m\u001b[0;34m.\u001b[0m\u001b[0mconfig\u001b[0m\u001b[0;34m)\u001b[0m\u001b[0;34m:\u001b[0m\u001b[0;34m\u001b[0m\u001b[0;34m\u001b[0m\u001b[0m\n\u001b[0;32m--> 222\u001b[0;31m             \u001b[0;32mreturn\u001b[0m \u001b[0mself\u001b[0m\u001b[0;34m.\u001b[0m\u001b[0mfunction\u001b[0m\u001b[0;34m(\u001b[0m\u001b[0;34m*\u001b[0m\u001b[0margs\u001b[0m\u001b[0;34m,\u001b[0m \u001b[0;34m**\u001b[0m\u001b[0mkwargs\u001b[0m\u001b[0;34m)\u001b[0m\u001b[0;34m\u001b[0m\u001b[0;34m\u001b[0m\u001b[0m\n\u001b[0m",
      "\u001b[0;32m~/anaconda2/envs/psapm/lib/python3.8/site-packages/sklearn/model_selection/_validation.py\u001b[0m in \u001b[0;36m_fit_and_score\u001b[0;34m(estimator, X, y, scorer, train, test, verbose, parameters, fit_params, return_train_score, return_parameters, return_n_test_samples, return_times, return_estimator, split_progress, candidate_progress, error_score)\u001b[0m\n\u001b[1;32m    596\u001b[0m             \u001b[0mestimator\u001b[0m\u001b[0;34m.\u001b[0m\u001b[0mfit\u001b[0m\u001b[0;34m(\u001b[0m\u001b[0mX_train\u001b[0m\u001b[0;34m,\u001b[0m \u001b[0;34m**\u001b[0m\u001b[0mfit_params\u001b[0m\u001b[0;34m)\u001b[0m\u001b[0;34m\u001b[0m\u001b[0;34m\u001b[0m\u001b[0m\n\u001b[1;32m    597\u001b[0m         \u001b[0;32melse\u001b[0m\u001b[0;34m:\u001b[0m\u001b[0;34m\u001b[0m\u001b[0;34m\u001b[0m\u001b[0m\n\u001b[0;32m--> 598\u001b[0;31m             \u001b[0mestimator\u001b[0m\u001b[0;34m.\u001b[0m\u001b[0mfit\u001b[0m\u001b[0;34m(\u001b[0m\u001b[0mX_train\u001b[0m\u001b[0;34m,\u001b[0m \u001b[0my_train\u001b[0m\u001b[0;34m,\u001b[0m \u001b[0;34m**\u001b[0m\u001b[0mfit_params\u001b[0m\u001b[0;34m)\u001b[0m\u001b[0;34m\u001b[0m\u001b[0;34m\u001b[0m\u001b[0m\n\u001b[0m\u001b[1;32m    599\u001b[0m \u001b[0;34m\u001b[0m\u001b[0m\n\u001b[1;32m    600\u001b[0m     \u001b[0;32mexcept\u001b[0m \u001b[0mException\u001b[0m \u001b[0;32mas\u001b[0m \u001b[0me\u001b[0m\u001b[0;34m:\u001b[0m\u001b[0;34m\u001b[0m\u001b[0;34m\u001b[0m\u001b[0m\n",
      "\u001b[0;32m~/anaconda2/envs/psapm/lib/python3.8/site-packages/sklearn/svm/_base.py\u001b[0m in \u001b[0;36mfit\u001b[0;34m(self, X, y, sample_weight)\u001b[0m\n\u001b[1;32m    224\u001b[0m \u001b[0;34m\u001b[0m\u001b[0m\n\u001b[1;32m    225\u001b[0m         \u001b[0mseed\u001b[0m \u001b[0;34m=\u001b[0m \u001b[0mrnd\u001b[0m\u001b[0;34m.\u001b[0m\u001b[0mrandint\u001b[0m\u001b[0;34m(\u001b[0m\u001b[0mnp\u001b[0m\u001b[0;34m.\u001b[0m\u001b[0miinfo\u001b[0m\u001b[0;34m(\u001b[0m\u001b[0;34m'i'\u001b[0m\u001b[0;34m)\u001b[0m\u001b[0;34m.\u001b[0m\u001b[0mmax\u001b[0m\u001b[0;34m)\u001b[0m\u001b[0;34m\u001b[0m\u001b[0;34m\u001b[0m\u001b[0m\n\u001b[0;32m--> 226\u001b[0;31m         \u001b[0mfit\u001b[0m\u001b[0;34m(\u001b[0m\u001b[0mX\u001b[0m\u001b[0;34m,\u001b[0m \u001b[0my\u001b[0m\u001b[0;34m,\u001b[0m \u001b[0msample_weight\u001b[0m\u001b[0;34m,\u001b[0m \u001b[0msolver_type\u001b[0m\u001b[0;34m,\u001b[0m \u001b[0mkernel\u001b[0m\u001b[0;34m,\u001b[0m \u001b[0mrandom_seed\u001b[0m\u001b[0;34m=\u001b[0m\u001b[0mseed\u001b[0m\u001b[0;34m)\u001b[0m\u001b[0;34m\u001b[0m\u001b[0;34m\u001b[0m\u001b[0m\n\u001b[0m\u001b[1;32m    227\u001b[0m         \u001b[0;31m# see comment on the other call to np.iinfo in this file\u001b[0m\u001b[0;34m\u001b[0m\u001b[0;34m\u001b[0m\u001b[0;34m\u001b[0m\u001b[0m\n\u001b[1;32m    228\u001b[0m \u001b[0;34m\u001b[0m\u001b[0m\n",
      "\u001b[0;32m~/anaconda2/envs/psapm/lib/python3.8/site-packages/sklearn/svm/_base.py\u001b[0m in \u001b[0;36m_dense_fit\u001b[0;34m(self, X, y, sample_weight, solver_type, kernel, random_seed)\u001b[0m\n\u001b[1;32m    275\u001b[0m         \u001b[0mself\u001b[0m\u001b[0;34m.\u001b[0m\u001b[0msupport_\u001b[0m\u001b[0;34m,\u001b[0m \u001b[0mself\u001b[0m\u001b[0;34m.\u001b[0m\u001b[0msupport_vectors_\u001b[0m\u001b[0;34m,\u001b[0m \u001b[0mself\u001b[0m\u001b[0;34m.\u001b[0m\u001b[0m_n_support\u001b[0m\u001b[0;34m,\u001b[0m\u001b[0;31m \u001b[0m\u001b[0;31m\\\u001b[0m\u001b[0;34m\u001b[0m\u001b[0;34m\u001b[0m\u001b[0m\n\u001b[1;32m    276\u001b[0m             \u001b[0mself\u001b[0m\u001b[0;34m.\u001b[0m\u001b[0mdual_coef_\u001b[0m\u001b[0;34m,\u001b[0m \u001b[0mself\u001b[0m\u001b[0;34m.\u001b[0m\u001b[0mintercept_\u001b[0m\u001b[0;34m,\u001b[0m \u001b[0mself\u001b[0m\u001b[0;34m.\u001b[0m\u001b[0m_probA\u001b[0m\u001b[0;34m,\u001b[0m\u001b[0;31m \u001b[0m\u001b[0;31m\\\u001b[0m\u001b[0;34m\u001b[0m\u001b[0;34m\u001b[0m\u001b[0m\n\u001b[0;32m--> 277\u001b[0;31m             self._probB, self.fit_status_ = libsvm.fit(\n\u001b[0m\u001b[1;32m    278\u001b[0m                 \u001b[0mX\u001b[0m\u001b[0;34m,\u001b[0m \u001b[0my\u001b[0m\u001b[0;34m,\u001b[0m\u001b[0;34m\u001b[0m\u001b[0;34m\u001b[0m\u001b[0m\n\u001b[1;32m    279\u001b[0m                 \u001b[0msvm_type\u001b[0m\u001b[0;34m=\u001b[0m\u001b[0msolver_type\u001b[0m\u001b[0;34m,\u001b[0m \u001b[0msample_weight\u001b[0m\u001b[0;34m=\u001b[0m\u001b[0msample_weight\u001b[0m\u001b[0;34m,\u001b[0m\u001b[0;34m\u001b[0m\u001b[0;34m\u001b[0m\u001b[0m\n",
      "\u001b[0;31mKeyboardInterrupt\u001b[0m: "
     ]
    }
   ],
   "source": [
    "from sklearn.model_selection import GridSearchCV\n",
    "parameters = [{'C': [1,10,100], 'kernel': ['linear']}]\n",
    "grid_search = GridSearchCV(estimator= model,\n",
    "                          param_grid = parameters, scoring = 'accuracy',cv = 10)\n",
    "grid_search = grid_search.fit(x_training_data, y_training_data)"
   ]
  },
  {
   "cell_type": "code",
   "execution_count": null,
   "metadata": {},
   "outputs": [],
   "source": [
    "grid_search.best_score_"
   ]
  },
  {
   "cell_type": "code",
   "execution_count": null,
   "metadata": {},
   "outputs": [],
   "source": [
    "grid_search.cv_results_"
   ]
  },
  {
   "cell_type": "code",
   "execution_count": 46,
   "metadata": {},
   "outputs": [
    {
     "data": {
      "text/plain": [
       "98.19059107358264"
      ]
     },
     "execution_count": 46,
     "metadata": {},
     "output_type": "execute_result"
    }
   ],
   "source": [
    "from sklearn.metrics import accuracy_score\n",
    "clf = SVC(C=1, kernel='linear', random_state=0)\n",
    "clf.fit(x_training_data, y_training_data)\n",
    "y_pred = clf.predict(x_test_data)\n",
    "acc = accuracy_score(y_test_data,y_pred) *100\n",
    "acc"
   ]
  },
  {
   "cell_type": "code",
   "execution_count": 47,
   "metadata": {},
   "outputs": [
    {
     "data": {
      "text/plain": [
       "(75, 178)"
      ]
     },
     "execution_count": 47,
     "metadata": {},
     "output_type": "execute_result"
    }
   ],
   "source": [
    "np.sum(y_test_data), np.sum(y_training_data)"
   ]
  },
  {
   "cell_type": "code",
   "execution_count": 48,
   "metadata": {},
   "outputs": [
    {
     "name": "stdout",
     "output_type": "stream",
     "text": [
      "              precision    recall  f1-score   support\n",
      "\n",
      "           0       0.98      1.00      0.99      4070\n",
      "           1       0.00      0.00      0.00        75\n",
      "\n",
      "    accuracy                           0.98      4145\n",
      "   macro avg       0.49      0.50      0.50      4145\n",
      "weighted avg       0.96      0.98      0.97      4145\n",
      "\n"
     ]
    },
    {
     "name": "stderr",
     "output_type": "stream",
     "text": [
      "/home/ncr006/anaconda2/envs/psapm/lib/python3.8/site-packages/sklearn/metrics/_classification.py:1248: UndefinedMetricWarning: Precision and F-score are ill-defined and being set to 0.0 in labels with no predicted samples. Use `zero_division` parameter to control this behavior.\n",
      "  _warn_prf(average, modifier, msg_start, len(result))\n",
      "/home/ncr006/anaconda2/envs/psapm/lib/python3.8/site-packages/sklearn/metrics/_classification.py:1248: UndefinedMetricWarning: Precision and F-score are ill-defined and being set to 0.0 in labels with no predicted samples. Use `zero_division` parameter to control this behavior.\n",
      "  _warn_prf(average, modifier, msg_start, len(result))\n",
      "/home/ncr006/anaconda2/envs/psapm/lib/python3.8/site-packages/sklearn/metrics/_classification.py:1248: UndefinedMetricWarning: Precision and F-score are ill-defined and being set to 0.0 in labels with no predicted samples. Use `zero_division` parameter to control this behavior.\n",
      "  _warn_prf(average, modifier, msg_start, len(result))\n"
     ]
    }
   ],
   "source": [
    "\n",
    "from sklearn.metrics import classification_report\n",
    "print(classification_report(y_test_data, y_pred))"
   ]
  },
  {
   "cell_type": "code",
   "execution_count": 38,
   "metadata": {},
   "outputs": [],
   "source": []
  },
  {
   "cell_type": "code",
   "execution_count": 39,
   "metadata": {},
   "outputs": [
    {
     "data": {
      "text/plain": [
       "SVC()"
      ]
     },
     "execution_count": 39,
     "metadata": {},
     "output_type": "execute_result"
    }
   ],
   "source": []
  },
  {
   "cell_type": "code",
   "execution_count": 40,
   "metadata": {},
   "outputs": [],
   "source": [
    "predictions = model.predict(x_test_data)"
   ]
  },
  {
   "cell_type": "code",
   "execution_count": 41,
   "metadata": {},
   "outputs": [
    {
     "data": {
      "text/plain": [
       "0"
      ]
     },
     "execution_count": 41,
     "metadata": {},
     "output_type": "execute_result"
    }
   ],
   "source": [
    "np.sum(predictions)"
   ]
  },
  {
   "cell_type": "code",
   "execution_count": 98,
   "metadata": {},
   "outputs": [],
   "source": [
    "from sklearn.metrics import classification_report\n",
    "\n",
    "from sklearn.metrics import confusion_matrix\n"
   ]
  },
  {
   "cell_type": "code",
   "execution_count": 17,
   "metadata": {},
   "outputs": [
    {
     "data": {
      "text/html": [
       "<div>\n",
       "<style scoped>\n",
       "    .dataframe tbody tr th:only-of-type {\n",
       "        vertical-align: middle;\n",
       "    }\n",
       "\n",
       "    .dataframe tbody tr th {\n",
       "        vertical-align: top;\n",
       "    }\n",
       "\n",
       "    .dataframe thead th {\n",
       "        text-align: right;\n",
       "    }\n",
       "</style>\n",
       "<table border=\"1\" class=\"dataframe\">\n",
       "  <thead>\n",
       "    <tr style=\"text-align: right;\">\n",
       "      <th></th>\n",
       "      <th>gender_female</th>\n",
       "      <th>age_gt_45</th>\n",
       "      <th>age_lt_25</th>\n",
       "      <th>race_B</th>\n",
       "      <th>prior_commits</th>\n",
       "      <th>ic_institut_adj</th>\n",
       "      <th>escape_hist_1</th>\n",
       "      <th>escape_hist_5</th>\n",
       "      <th>employed</th>\n",
       "      <th>problematic_offenses</th>\n",
       "      <th>problematic_conditions</th>\n",
       "    </tr>\n",
       "  </thead>\n",
       "  <tbody>\n",
       "    <tr>\n",
       "      <th>2</th>\n",
       "      <td>0</td>\n",
       "      <td>1</td>\n",
       "      <td>0</td>\n",
       "      <td>1</td>\n",
       "      <td>6</td>\n",
       "      <td>3.0</td>\n",
       "      <td>0</td>\n",
       "      <td>0</td>\n",
       "      <td>0</td>\n",
       "      <td>0</td>\n",
       "      <td>3</td>\n",
       "    </tr>\n",
       "    <tr>\n",
       "      <th>3</th>\n",
       "      <td>0</td>\n",
       "      <td>1</td>\n",
       "      <td>0</td>\n",
       "      <td>0</td>\n",
       "      <td>2</td>\n",
       "      <td>5.0</td>\n",
       "      <td>1</td>\n",
       "      <td>0</td>\n",
       "      <td>0</td>\n",
       "      <td>1</td>\n",
       "      <td>3</td>\n",
       "    </tr>\n",
       "    <tr>\n",
       "      <th>8</th>\n",
       "      <td>0</td>\n",
       "      <td>1</td>\n",
       "      <td>0</td>\n",
       "      <td>1</td>\n",
       "      <td>10</td>\n",
       "      <td>3.0</td>\n",
       "      <td>0</td>\n",
       "      <td>0</td>\n",
       "      <td>0</td>\n",
       "      <td>1</td>\n",
       "      <td>3</td>\n",
       "    </tr>\n",
       "    <tr>\n",
       "      <th>14</th>\n",
       "      <td>0</td>\n",
       "      <td>1</td>\n",
       "      <td>0</td>\n",
       "      <td>1</td>\n",
       "      <td>1</td>\n",
       "      <td>2.0</td>\n",
       "      <td>0</td>\n",
       "      <td>0</td>\n",
       "      <td>1</td>\n",
       "      <td>0</td>\n",
       "      <td>2</td>\n",
       "    </tr>\n",
       "    <tr>\n",
       "      <th>20</th>\n",
       "      <td>0</td>\n",
       "      <td>0</td>\n",
       "      <td>0</td>\n",
       "      <td>1</td>\n",
       "      <td>1</td>\n",
       "      <td>3.0</td>\n",
       "      <td>0</td>\n",
       "      <td>0</td>\n",
       "      <td>1</td>\n",
       "      <td>1</td>\n",
       "      <td>3</td>\n",
       "    </tr>\n",
       "    <tr>\n",
       "      <th>...</th>\n",
       "      <td>...</td>\n",
       "      <td>...</td>\n",
       "      <td>...</td>\n",
       "      <td>...</td>\n",
       "      <td>...</td>\n",
       "      <td>...</td>\n",
       "      <td>...</td>\n",
       "      <td>...</td>\n",
       "      <td>...</td>\n",
       "      <td>...</td>\n",
       "      <td>...</td>\n",
       "    </tr>\n",
       "    <tr>\n",
       "      <th>59565</th>\n",
       "      <td>0</td>\n",
       "      <td>0</td>\n",
       "      <td>1</td>\n",
       "      <td>0</td>\n",
       "      <td>2</td>\n",
       "      <td>3.0</td>\n",
       "      <td>1</td>\n",
       "      <td>0</td>\n",
       "      <td>0</td>\n",
       "      <td>1</td>\n",
       "      <td>4</td>\n",
       "    </tr>\n",
       "    <tr>\n",
       "      <th>59567</th>\n",
       "      <td>0</td>\n",
       "      <td>0</td>\n",
       "      <td>0</td>\n",
       "      <td>0</td>\n",
       "      <td>4</td>\n",
       "      <td>2.0</td>\n",
       "      <td>0</td>\n",
       "      <td>0</td>\n",
       "      <td>1</td>\n",
       "      <td>0</td>\n",
       "      <td>2</td>\n",
       "    </tr>\n",
       "    <tr>\n",
       "      <th>59568</th>\n",
       "      <td>0</td>\n",
       "      <td>0</td>\n",
       "      <td>0</td>\n",
       "      <td>0</td>\n",
       "      <td>7</td>\n",
       "      <td>4.0</td>\n",
       "      <td>0</td>\n",
       "      <td>0</td>\n",
       "      <td>1</td>\n",
       "      <td>0</td>\n",
       "      <td>4</td>\n",
       "    </tr>\n",
       "    <tr>\n",
       "      <th>59574</th>\n",
       "      <td>0</td>\n",
       "      <td>0</td>\n",
       "      <td>0</td>\n",
       "      <td>0</td>\n",
       "      <td>7</td>\n",
       "      <td>2.0</td>\n",
       "      <td>0</td>\n",
       "      <td>0</td>\n",
       "      <td>1</td>\n",
       "      <td>0</td>\n",
       "      <td>3</td>\n",
       "    </tr>\n",
       "    <tr>\n",
       "      <th>59577</th>\n",
       "      <td>0</td>\n",
       "      <td>0</td>\n",
       "      <td>0</td>\n",
       "      <td>0</td>\n",
       "      <td>5</td>\n",
       "      <td>2.0</td>\n",
       "      <td>0</td>\n",
       "      <td>0</td>\n",
       "      <td>0</td>\n",
       "      <td>0</td>\n",
       "      <td>3</td>\n",
       "    </tr>\n",
       "  </tbody>\n",
       "</table>\n",
       "<p>28657 rows × 11 columns</p>\n",
       "</div>"
      ],
      "text/plain": [
       "       gender_female  age_gt_45  age_lt_25  race_B  prior_commits  \\\n",
       "2                  0          1          0       1              6   \n",
       "3                  0          1          0       0              2   \n",
       "8                  0          1          0       1             10   \n",
       "14                 0          1          0       1              1   \n",
       "20                 0          0          0       1              1   \n",
       "...              ...        ...        ...     ...            ...   \n",
       "59565              0          0          1       0              2   \n",
       "59567              0          0          0       0              4   \n",
       "59568              0          0          0       0              7   \n",
       "59574              0          0          0       0              7   \n",
       "59577              0          0          0       0              5   \n",
       "\n",
       "       ic_institut_adj  escape_hist_1  escape_hist_5  employed  \\\n",
       "2                  3.0              0              0         0   \n",
       "3                  5.0              1              0         0   \n",
       "8                  3.0              0              0         0   \n",
       "14                 2.0              0              0         1   \n",
       "20                 3.0              0              0         1   \n",
       "...                ...            ...            ...       ...   \n",
       "59565              3.0              1              0         0   \n",
       "59567              2.0              0              0         1   \n",
       "59568              4.0              0              0         1   \n",
       "59574              2.0              0              0         1   \n",
       "59577              2.0              0              0         0   \n",
       "\n",
       "      problematic_offenses  problematic_conditions  \n",
       "2                        0                       3  \n",
       "3                        1                       3  \n",
       "8                        1                       3  \n",
       "14                       0                       2  \n",
       "20                       1                       3  \n",
       "...                    ...                     ...  \n",
       "59565                    1                       4  \n",
       "59567                    0                       2  \n",
       "59568                    0                       4  \n",
       "59574                    0                       3  \n",
       "59577                    0                       3  \n",
       "\n",
       "[28657 rows x 11 columns]"
      ]
     },
     "execution_count": 17,
     "metadata": {},
     "output_type": "execute_result"
    }
   ],
   "source": [
    "X"
   ]
  },
  {
   "cell_type": "code",
   "execution_count": 99,
   "metadata": {},
   "outputs": [
    {
     "name": "stdout",
     "output_type": "stream",
     "text": [
      "              precision    recall  f1-score   support\n",
      "\n",
      "           0       0.98      1.00      0.99      4070\n",
      "           1       0.00      0.00      0.00        75\n",
      "\n",
      "    accuracy                           0.98      4145\n",
      "   macro avg       0.49      0.50      0.50      4145\n",
      "weighted avg       0.96      0.98      0.97      4145\n",
      "\n"
     ]
    },
    {
     "name": "stderr",
     "output_type": "stream",
     "text": [
      "/home/ncr006/anaconda2/envs/psapm/lib/python3.8/site-packages/sklearn/metrics/_classification.py:1248: UndefinedMetricWarning: Precision and F-score are ill-defined and being set to 0.0 in labels with no predicted samples. Use `zero_division` parameter to control this behavior.\n",
      "  _warn_prf(average, modifier, msg_start, len(result))\n",
      "/home/ncr006/anaconda2/envs/psapm/lib/python3.8/site-packages/sklearn/metrics/_classification.py:1248: UndefinedMetricWarning: Precision and F-score are ill-defined and being set to 0.0 in labels with no predicted samples. Use `zero_division` parameter to control this behavior.\n",
      "  _warn_prf(average, modifier, msg_start, len(result))\n",
      "/home/ncr006/anaconda2/envs/psapm/lib/python3.8/site-packages/sklearn/metrics/_classification.py:1248: UndefinedMetricWarning: Precision and F-score are ill-defined and being set to 0.0 in labels with no predicted samples. Use `zero_division` parameter to control this behavior.\n",
      "  _warn_prf(average, modifier, msg_start, len(result))\n"
     ]
    }
   ],
   "source": [
    "print(classification_report(y_test_data, predictions))"
   ]
  },
  {
   "cell_type": "code",
   "execution_count": 92,
   "metadata": {},
   "outputs": [
    {
     "name": "stdout",
     "output_type": "stream",
     "text": [
      "[[4070    0]\n",
      " [  75    0]]\n"
     ]
    }
   ],
   "source": [
    "print(confusion_matrix(y_test_data, predictions))"
   ]
  },
  {
   "cell_type": "code",
   "execution_count": 44,
   "metadata": {},
   "outputs": [],
   "source": [
    "from imblearn.over_sampling import SVMSMOTE\n",
    "svmsmote = SVMSMOTE(random_state = 101)\n",
    "X_oversample_svm, y_oversample_svm = svmsmote.fit_resample(x_training_data, y_training_data)"
   ]
  },
  {
   "cell_type": "code",
   "execution_count": 45,
   "metadata": {},
   "outputs": [
    {
     "data": {
      "text/plain": [
       "SVC()"
      ]
     },
     "execution_count": 45,
     "metadata": {},
     "output_type": "execute_result"
    }
   ],
   "source": [
    "classifier_svm = SVC()\n",
    "classifier_svm.fit(X_oversample_svm, y_oversample_svm)"
   ]
  },
  {
   "cell_type": "code",
   "execution_count": 46,
   "metadata": {},
   "outputs": [],
   "source": [
    "predictions = model.predict(x_test_data)"
   ]
  },
  {
   "cell_type": "code",
   "execution_count": 47,
   "metadata": {},
   "outputs": [
    {
     "data": {
      "text/plain": [
       "0"
      ]
     },
     "execution_count": 47,
     "metadata": {},
     "output_type": "execute_result"
    }
   ],
   "source": [
    "np.sum(predictions)"
   ]
  },
  {
   "cell_type": "code",
   "execution_count": null,
   "metadata": {},
   "outputs": [],
   "source": []
  }
 ],
 "metadata": {
  "kernelspec": {
   "display_name": "Python 3",
   "language": "python",
   "name": "python3"
  },
  "language_info": {
   "codemirror_mode": {
    "name": "ipython",
    "version": 3
   },
   "file_extension": ".py",
   "mimetype": "text/x-python",
   "name": "python",
   "nbconvert_exporter": "python",
   "pygments_lexer": "ipython3",
   "version": "3.8.10"
  }
 },
 "nbformat": 4,
 "nbformat_minor": 2
}

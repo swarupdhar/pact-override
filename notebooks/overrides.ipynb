{
 "cells": [
  {
   "cell_type": "code",
   "execution_count": 21,
   "metadata": {},
   "outputs": [
    {
     "name": "stdout",
     "output_type": "stream",
     "text": [
      "The autoreload extension is already loaded. To reload it, use:\n",
      "  %reload_ext autoreload\n"
     ]
    }
   ],
   "source": [
    "import sys\n",
    "sys.path.append(\"../../src\")\n",
    "%load_ext autoreload\n",
    "%autoreload 2\n",
    "\n",
    "from typing import Callable, Dict, List\n",
    "import pandas as pd\n",
    "import numpy as np\n",
    "from sklearn.preprocessing import LabelEncoder\n",
    "\n",
    "\n",
    "\n",
    "import matplotlib.pyplot as plt\n",
    "import statsmodels.api as sm\n",
    "import seaborn as sns\n",
    "#from heatmap import heatmap\n",
    "import statsmodels.formula.api as smf\n",
    "#import bioinfokit\n",
    "\n",
    "plt.style.use('ggplot')"
   ]
  },
  {
   "cell_type": "code",
   "execution_count": 22,
   "metadata": {},
   "outputs": [],
   "source": [
    "def preprocess_input_vars_ic_or(df:pd.DataFrame) -> pd.DataFrame:\n",
    "    df = df.copy()\n",
    "\n",
    "    ic_date = df[\"ic_date\"]//10000\n",
    "    ic_date = ic_date.replace(0, np.nan)\n",
    "\n",
    "    df[\"age\"] = ic_date - (df.date_of_birth//10000)\n",
    "    \n",
    "    df[\"age_gt_45\"] = ((ic_date - (df.date_of_birth//10000)\\\n",
    "        .astype(int)) > 45)\\\n",
    "        .apply(lambda x: 1 if x else 0)\n",
    "    \n",
    "    df[\"age_lt_25\"] = ((ic_date - (df.date_of_birth//10000)\\\n",
    "        .astype(int)) < 25)\\\n",
    "        .apply(lambda x: 1 if x else 0)\n",
    "    \n",
    "    df[\"gender_female\"] = df.sex.transform(lambda x: 1 if x == \"F\" else 0)\n",
    "\n",
    "    df = pd.concat(\n",
    "        [df, pd.get_dummies(df.race, prefix=\"race\").drop(\"race_W\", axis=1)],\n",
    "        axis=1\n",
    "    )\n",
    "    \n",
    "    df[\"prior_commits\"] = df.ic_prior_commits\n",
    "\n",
    "    df[\"escape_hist_1\"] = df.ic_escpe_hist_1.transform(\n",
    "        lambda x: 1 if str(x) == \"X\" else 0\n",
    "    )\n",
    "    df[\"escape_hist_2\"] = df.ic_escpe_hist_2.transform(\n",
    "        lambda x: 1 if str(x) == \"X\" else 0\n",
    "    )\n",
    "    df[\"escape_hist_3\"] = df.ic_escpe_hist_3.transform(\n",
    "        lambda x: 1 if str(x) == \"X\" else 0\n",
    "    )\n",
    "    df[\"escape_hist_4\"] = df.ic_escpe_hist_4.transform(\n",
    "        lambda x: 1 if str(x) == \"X\" else 0\n",
    "    )\n",
    "    df[\"escape_hist_5\"] = df.ic_escpe_hist_5.transform(\n",
    "        lambda x: 1 if str(x) == \"X\" else 0\n",
    "    )\n",
    "\n",
    "    df[\"escape_hist\"] = (\n",
    "        df[\"escape_hist_1\"] +\n",
    "        df[\"escape_hist_2\"] +\n",
    "        df[\"escape_hist_3\"] +\n",
    "        df[\"escape_hist_4\"] +\n",
    "        df[\"escape_hist_5\"]\n",
    "    )\n",
    "\n",
    "    df = pd.concat(\n",
    "        [\n",
    "            df,\n",
    "            pd.get_dummies(df.ic_mrtl_stat_fr_cl, prefix=\"mrt_stat\")\\\n",
    "                .drop([\"mrt_stat_SIN\", \"mrt_stat_UNK\"], axis=1)\n",
    "        ],\n",
    "        axis=1\n",
    "    )\n",
    "\n",
    "    df[\"maritial_status\"] = LabelEncoder().fit_transform(df[\"ic_mrtl_stat_fr_cl\"])\n",
    "\n",
    "    df[\"employed\"] = df.ic_employ_ind.fillna(0).replace(\"X\", 1)\n",
    "\n",
    "    df[\"race\"] = LabelEncoder().fit_transform(df[\"race\"])\n",
    "    \n",
    "    \n",
    "    temp_var = \"prob_alcohol\"\n",
    "    df[temp_var] = df[temp_var].replace(' ', 0)    \n",
    "    df[temp_var] = df[temp_var].replace('  ', 0)    \n",
    "    df[temp_var] = df[temp_var].replace('NV', 0)\n",
    "    df[temp_var] = df[temp_var].replace(np.nan, 0)\n",
    "    df[temp_var] = df[temp_var].replace('V ', 1)\n",
    "    \n",
    "    temp_var = \"prob_drugs\"\n",
    "    df[temp_var] = df[temp_var].replace(' ', 0)    \n",
    "    df[temp_var] = df[temp_var].replace('  ', 0)    \n",
    "    df[temp_var] = df[temp_var].replace('NV', 0)    \n",
    "    df[temp_var] = df[temp_var].replace('V ', 1)\n",
    "    \n",
    "    temp_var = \"prob_assault\"\n",
    "    df[temp_var] = df[temp_var].replace(' ', 0)    \n",
    "    df[temp_var] = df[temp_var].replace('  ', 0)    \n",
    "    df[temp_var] = df[temp_var].replace('NV', 0)    \n",
    "    df[temp_var] = df[temp_var].replace('V ', 1)\n",
    "    \n",
    "\n",
    "    temp_var = \"prob_sexual\"\n",
    "    df[temp_var] = df[temp_var].replace(' ', 0)    \n",
    "    df[temp_var] = df[temp_var].replace('  ', 0)    \n",
    "    df[temp_var] = df[temp_var].replace('NV', 0)    \n",
    "    df[temp_var] = df[temp_var].replace('V ', 1)\n",
    "    \n",
    "\n",
    "    temp_var = \"prob_psyco\"\n",
    "    df[temp_var] = df[temp_var].replace(' ', 0)    \n",
    "    df[temp_var] = df[temp_var].replace('  ', 0)    \n",
    "    df[temp_var] = df[temp_var].replace('NV', 0)    \n",
    "    df[temp_var] = df[temp_var].replace('V ', 1)\n",
    "    \n",
    "    temp_var = \"prob_suicide\"\n",
    "    df[temp_var] = df[temp_var].replace(' ', 0)    \n",
    "    df[temp_var] = df[temp_var].replace('  ', 0)    \n",
    "    df[temp_var] = df[temp_var].replace('NV', 0)    \n",
    "    df[temp_var] = df[temp_var].replace('V ', 1)\n",
    "    \n",
    "    temp_var = \"prob_escape\"\n",
    "    df[temp_var] = df[temp_var].replace(' ', 0)    \n",
    "    df[temp_var] = df[temp_var].replace('  ', 0)    \n",
    "    df[temp_var] = df[temp_var].replace('NV', 0)    \n",
    "    df[temp_var] = df[temp_var].replace('V ', 1)\n",
    "    \n",
    "\n",
    "    df[\"problematic_conditions\"] = (df[\"prob_escape\"] \n",
    "                                    + df[\"prob_alcohol\"] \n",
    "                                    + df[\"prob_assault\"]\n",
    "                                    + df[\"prob_drugs\"] \n",
    "                                    + df[\"prob_psyco\"]\n",
    "                                    + df[\"prob_sexual\"]\n",
    "                                    + df[\"prob_suicide\"])\n",
    "    \n",
    "    temp_var = \"problematic_offenses\"\n",
    "    df[temp_var] = df[temp_var].replace(' ', 0)    \n",
    "    df[temp_var] = df[temp_var].replace('N', 0)    \n",
    "    df[temp_var] = df[temp_var].replace('Y', 1)    \n",
    "    \n",
    "    return df\n"
   ]
  },
  {
   "cell_type": "markdown",
   "metadata": {},
   "source": [
    "## Overrides during initial classification"
   ]
  },
  {
   "cell_type": "code",
   "execution_count": null,
   "metadata": {},
   "outputs": [],
   "source": []
  },
  {
   "cell_type": "code",
   "execution_count": 23,
   "metadata": {},
   "outputs": [],
   "source": [
    "df = pd.read_csv(\"../data/initial_custody_2017_gsprs.csv\", low_memory=False)\n",
    "\n",
    "df['high_ic_instit_adj'] = np.where(df['ic_institut_adj']>2, 1, 0)\n",
    "df['ic_override_up'] = np.where(df['ic_ovride_cust_lvl']-df['ic_custdy_level']>0,1,0)\n",
    "df['high_ic'] = np.where(df['ic_custdy_level']>3, 1, 0)\n",
    "\n",
    "data = preprocess_input_vars_ic_or(df)\n",
    "\n",
    "data_ic_or = data[\n",
    "    [\n",
    "        \"gender_female\",\n",
    "        \"age_gt_45\",\n",
    "        \"age_lt_25\",\n",
    "        \"race_B\",\n",
    "        \"race_A\",\n",
    "        \"race_H\",\n",
    "        #\"race_I\",\n",
    "        \"race_O\",\n",
    "        \"off_1_prs_max\",\n",
    "        \"off_1_gs_max\",\n",
    "        \"ic_custdy_level\",\n",
    "        \"prior_commits\",\n",
    "        \"ic_institut_adj\",\n",
    "        \"escape_hist_1\",\n",
    "        #\"escape_hist_2\",\n",
    "        #\"escape_hist_3\",\n",
    "        #\"escape_hist_4\",\n",
    "        \"escape_hist_5\",\n",
    "        \"mrt_stat_DIV\",\n",
    "        \"mrt_stat_SEP\",\n",
    "        \"mrt_stat_MAR\",\n",
    "        \"mrt_stat_WID\",\n",
    "        \"employed\",\n",
    "        \"problematic_offenses\",\n",
    "        \"problematic_conditions\",\n",
    "        \"ic_override_up\"\n",
    "    ]\n",
    "]\n",
    "\n",
    "data_ic_or = data_ic_or.dropna()"
   ]
  },
  {
   "cell_type": "code",
   "execution_count": 24,
   "metadata": {},
   "outputs": [
    {
     "data": {
      "text/plain": [
       "8"
      ]
     },
     "execution_count": 24,
     "metadata": {},
     "output_type": "execute_result"
    }
   ],
   "source": [
    "np.sum(data_ic_or[data_ic_or['ic_override_up']==1]['mrt_stat_WID'])"
   ]
  },
  {
   "cell_type": "code",
   "execution_count": 25,
   "metadata": {},
   "outputs": [
    {
     "data": {
      "text/plain": [
       "0    13563\n",
       "1      253\n",
       "Name: ic_override_up, dtype: int64"
      ]
     },
     "execution_count": 25,
     "metadata": {},
     "output_type": "execute_result"
    }
   ],
   "source": [
    "data_ic_or['ic_override_up'].value_counts()"
   ]
  },
  {
   "cell_type": "code",
   "execution_count": 26,
   "metadata": {},
   "outputs": [],
   "source": [
    "X = data_ic_or.loc[:, data_ic_or.columns != 'ic_override_up']\n",
    "y = data_ic_or.loc[:, data_ic_or.columns == 'ic_override_up']"
   ]
  },
  {
   "cell_type": "markdown",
   "metadata": {},
   "source": [
    "### Balance classes"
   ]
  },
  {
   "cell_type": "code",
   "execution_count": 27,
   "metadata": {},
   "outputs": [],
   "source": [
    "from imblearn.over_sampling import SMOTE\n",
    "\n",
    "os = SMOTE(random_state=0)\n",
    "\n",
    "X_os, y_os = os.fit_resample(X, y)"
   ]
  },
  {
   "cell_type": "markdown",
   "metadata": {},
   "source": [
    "### Recursive feature elimination"
   ]
  },
  {
   "cell_type": "code",
   "execution_count": 28,
   "metadata": {},
   "outputs": [
    {
     "data": {
      "text/plain": [
       "['gender_female', 'race_A', 'race_O', 'mrt_stat_WID']"
      ]
     },
     "execution_count": 28,
     "metadata": {},
     "output_type": "execute_result"
    }
   ],
   "source": [
    "from sklearn.feature_selection import RFE\n",
    "from sklearn.linear_model import LogisticRegression\n",
    "\n",
    "\n",
    "logreg = LogisticRegression(max_iter=2000) # increase the number of iterations to get convergence\n",
    "\n",
    "rfe = RFE(logreg, n_features_to_select=4, step=1)\n",
    "rfe = rfe.fit(X_os, y_os.values.ravel())\n",
    "\n",
    "zz= list(zip(X_os.columns,list(rfe.support_)))\n",
    "\n",
    "features = [a for (a,b) in zz if b]\n",
    "\n",
    "features\n"
   ]
  },
  {
   "cell_type": "code",
   "execution_count": 29,
   "metadata": {
    "scrolled": true
   },
   "outputs": [
    {
     "name": "stdout",
     "output_type": "stream",
     "text": [
      "Optimization terminated successfully.\n",
      "         Current function value: 0.090641\n",
      "         Iterations 9\n",
      "                            Results: Logit\n",
      "=======================================================================\n",
      "Model:                 Logit              Pseudo R-squared:   0.008    \n",
      "Dependent Variable:    ic_override_up     AIC:                2546.6026\n",
      "Date:                  2021-12-04 10:59   BIC:                2704.8079\n",
      "No. Observations:      13816              Log-Likelihood:     -1252.3  \n",
      "Df Model:              20                 LL-Null:            -1262.7  \n",
      "Df Residuals:          13795              LLR p-value:        0.40699  \n",
      "Converged:             1.0000             Scale:              1.0000   \n",
      "No. Iterations:        9.0000                                          \n",
      "-----------------------------------------------------------------------\n",
      "                        Coef.  Std.Err.    z     P>|z|   [0.025  0.975]\n",
      "-----------------------------------------------------------------------\n",
      "gender_female          -0.4765   0.3922  -1.2150 0.2244 -1.2451  0.2921\n",
      "age_gt_45              -1.0845   0.2077  -5.2208 0.0000 -1.4916 -0.6774\n",
      "age_lt_25              -0.1178   0.1714  -0.6877 0.4917 -0.4537  0.2180\n",
      "race_B                 -0.2360   0.1481  -1.5934 0.1111 -0.5263  0.0543\n",
      "race_A                  0.3241   1.0352   0.3130 0.7543 -1.7049  2.3530\n",
      "race_H                 -0.3334   0.2302  -1.4483 0.1475 -0.7846  0.1178\n",
      "race_O                  0.5744   0.7423   0.7739 0.4390 -0.8803  2.0292\n",
      "off_1_prs_max           0.0390   0.0550   0.7081 0.4789 -0.0689  0.1468\n",
      "off_1_gs_max            0.0357   0.0212   1.6847 0.0920 -0.0058  0.0773\n",
      "ic_custdy_level        -1.2485   0.1134 -11.0117 0.0000 -1.4707 -1.0263\n",
      "prior_commits          -0.0168   0.0233  -0.7217 0.4705 -0.0625  0.0288\n",
      "ic_institut_adj         0.0668   0.0604   1.1066 0.2685 -0.0515  0.1852\n",
      "escape_hist_1          -0.6587   0.1338  -4.9225 0.0000 -0.9210 -0.3965\n",
      "escape_hist_5           1.3515   0.2555   5.2887 0.0000  0.8506  1.8523\n",
      "mrt_stat_DIV            0.0318   0.2132   0.1491 0.8815 -0.3862  0.4498\n",
      "mrt_stat_SEP           -0.3598   0.3015  -1.1934 0.2327 -0.9507  0.2311\n",
      "mrt_stat_MAR           -0.0753   0.1962  -0.3840 0.7010 -0.4599  0.3092\n",
      "mrt_stat_WID            0.7471   0.3944   1.8942 0.0582 -0.0259  1.5202\n",
      "employed               -0.5214   0.1560  -3.3427 0.0008 -0.8272 -0.2157\n",
      "problematic_offenses    1.2666   0.1451   8.7306 0.0000  0.9822  1.5509\n",
      "problematic_conditions -0.1640   0.0503  -3.2638 0.0011 -0.2625 -0.0655\n",
      "=======================================================================\n",
      "\n",
      "+\n",
      "                              OR       z-value      2.5%      97.5%\n",
      "gender_female           0.620975  2.243726e-01  0.287918   1.339304\n",
      "age_gt_45               0.338078  1.781232e-07  0.225011   0.507960\n",
      "age_lt_25               0.888840  4.916699e-01  0.635273   1.243618\n",
      "race_B                  0.789765  1.110756e-01  0.590762   1.055802\n",
      "race_A                  1.382721  7.542575e-01  0.181786  10.517410\n",
      "race_H                  0.716477  1.475388e-01  0.456297   1.125013\n",
      "race_O                  1.776147  4.389788e-01  0.414638   7.608319\n",
      "off_1_prs_max           1.039736  4.788849e-01  0.933428   1.158152\n",
      "off_1_gs_max            1.036362  9.204555e-02  0.994181   1.080333\n",
      "ic_custdy_level         0.286932  3.354813e-28  0.229758   0.358334\n",
      "prior_commits           0.983327  4.704933e-01  0.939435   1.029270\n",
      "ic_institut_adj         1.069109  2.684553e-01  0.949775   1.203437\n",
      "escape_hist_1           0.517500  8.544801e-07  0.398106   0.672699\n",
      "escape_hist_5           3.863175  1.232137e-07  2.341124   6.374767\n",
      "mrt_stat_DIV            1.032311  8.814577e-01  0.679665   1.567927\n",
      "mrt_stat_SEP            0.697833  2.327290e-01  0.386482   1.260007\n",
      "mrt_stat_MAR            0.927430  7.009904e-01  0.631355   1.362349\n",
      "mrt_stat_WID            2.110972  5.819550e-02  0.974402   4.573265\n",
      "employed                0.593662  8.296544e-04  0.437277   0.805976\n",
      "problematic_offenses    3.548727  2.532419e-18  2.670456   4.715849\n",
      "problematic_conditions  0.848732  1.099119e-03  0.769125   0.936579\n"
     ]
    }
   ],
   "source": [
    "#ll.append('race_B')\n",
    "#ll.append('gender_female')\n",
    "#ll.append('problematic_conditions')\n",
    "#ll.append('problematic_offenses')\n",
    "#ll.append('age_lt_25')\n",
    "#ll.append('age_gt_45')\n",
    "#ll.append('ic_institut_adj')\n",
    "\n",
    "#X = X[ll]\n",
    "\n",
    "logit_model=sm.Logit(y,X.astype(float))\n",
    "result=logit_model.fit(solver=\"lbfgs\",maxiter=10000)\n",
    "print(result.summary2())\n",
    "print(\"+\")\n",
    "model_odds = pd.DataFrame(np.exp(result.params), columns= ['OR'])\n",
    "model_odds['z-value']= result.pvalues\n",
    "model_odds[['2.5%', '97.5%']] = np.exp(result.conf_int())\n",
    "print(model_odds)"
   ]
  },
  {
   "cell_type": "code",
   "execution_count": 30,
   "metadata": {},
   "outputs": [
    {
     "name": "stdout",
     "output_type": "stream",
     "text": [
      "Accuracy of logistic regression classifier on test set: 0.76\n",
      "[[3119  951]\n",
      " [  42   33]]\n",
      "              precision    recall  f1-score   support\n",
      "\n",
      "           0       0.99      0.77      0.86      4070\n",
      "           1       0.03      0.44      0.06        75\n",
      "\n",
      "    accuracy                           0.76      4145\n",
      "   macro avg       0.51      0.60      0.46      4145\n",
      "weighted avg       0.97      0.76      0.85      4145\n",
      "\n"
     ]
    },
    {
     "data": {
      "image/png": "[encoded data removed]",
      "text/plain": [
       "<Figure size 432x288 with 1 Axes>"
      ]
     },
     "metadata": {},
     "output_type": "display_data"
    }
   ],
   "source": [
    "from sklearn.linear_model import LogisticRegression\n",
    "from sklearn.model_selection import train_test_split\n",
    "from sklearn import metrics\n",
    "import matplotlib.pyplot as plt\n",
    "\n",
    "X_train, X_test, y_train, y_test = train_test_split(X, y, test_size=0.3, random_state=42)\n",
    "\n",
    "X_train_os, y_train_os = os.fit_resample(X_train, y_train)\n",
    "\n",
    "logreg = LogisticRegression(max_iter=2000)\n",
    "logreg.fit(X_train_os, y_train_os.values.ravel())\n",
    "\n",
    "y_pred = logreg.predict(X_test)\n",
    "print('Accuracy of logistic regression classifier on test set: {:.2f}'.format(logreg.score(X_test, y_test)))\n",
    "\n",
    "from sklearn.metrics import confusion_matrix\n",
    "confusion_matrix = confusion_matrix(y_test, y_pred)\n",
    "print(confusion_matrix)\n",
    "\n",
    "from sklearn.metrics import classification_report\n",
    "print(classification_report(y_test, y_pred))\n",
    "\n",
    "from sklearn.metrics import roc_auc_score\n",
    "from sklearn.metrics import roc_curve\n",
    "logit_roc_auc = roc_auc_score(y_test, logreg.predict(X_test))\n",
    "fpr, tpr, thresholds = roc_curve(y_test, logreg.predict_proba(X_test)[:,1])\n",
    "plt.figure()\n",
    "plt.plot(fpr, tpr, label='Logistic Regression (area = %0.2f)' % logit_roc_auc)\n",
    "plt.plot([0, 1], [0, 1],'r--')\n",
    "plt.xlim([0.0, 1.0])\n",
    "plt.ylim([0.0, 1.05])\n",
    "plt.xlabel('False Positive Rate')\n",
    "plt.ylabel('True Positive Rate')\n",
    "plt.title('Receiver operating characteristic')\n",
    "plt.legend(loc=\"lower right\")\n",
    "plt.show()"
   ]
  },
  {
   "cell_type": "markdown",
   "metadata": {},
   "source": [
    "## Overrides during reclassification"
   ]
  },
  {
   "cell_type": "code",
   "execution_count": 43,
   "metadata": {},
   "outputs": [],
   "source": [
    "def preprocess_input_vars_re_or(df:pd.DataFrame) -> pd.DataFrame:\n",
    "    df = df.copy()\n",
    "\n",
    "    re_date = df[\"re_de_year\"]\n",
    "    re_date = re_date.replace(0, np.nan)\n",
    "    \n",
    "    df[\"re_ovride_cust_lvl\"] = df[\"re_ovride_cust_lvl\"].replace(\" \", np.nan)\n",
    "    df[\"re_ovride_cust_lvl\"] = df[\"re_ovride_cust_lvl\"].replace(\"\", np.nan)\n",
    "    \n",
    "    df[\"re_ovride_cust_lvl\"] = df[\"re_ovride_cust_lvl\"].astype(float)\n",
    "    \n",
    "    \n",
    "    df[\"age\"] = re_date - (df.date_of_birth//10000)\n",
    "\n",
    "    df[\"age_gt_45\"] = ((re_date - (df.date_of_birth//10000)\\\n",
    "        .astype(int)) > 45)\\\n",
    "        .apply(lambda x: 1 if x else 0)\n",
    "    \n",
    "    df[\"age_lt_25\"] = ((re_date - (df.date_of_birth//10000)\\\n",
    "        .astype(int)) < 25)\\\n",
    "        .apply(lambda x: 1 if x else 0)\n",
    "    \n",
    "    df[\"gender_female\"] = df.sex.transform(lambda x: 1 if x == \"F\" else 0)\n",
    "\n",
    "    df = pd.concat(\n",
    "        [df, pd.get_dummies(df.race, prefix=\"race\").drop(\"race_W\", axis=1)],\n",
    "        axis=1\n",
    "    )\n",
    "    \n",
    "    df[\"prior_commits\"] = df.ic_prior_commits\n",
    "\n",
    "    df[\"re_escp_hist_1\"] = df.re_escp_hist_1.transform(\n",
    "        lambda x: 1 if str(x) == \"X\" else 0\n",
    "    )\n",
    "    df[\"re_escp_hist_2\"] = df.re_escp_hist_2.transform(\n",
    "        lambda x: 1 if str(x) == \"X\" else 0\n",
    "    )\n",
    "    df[\"re_escp_hist_3\"] = df.re_escp_hist_3.transform(\n",
    "        lambda x: 1 if str(x) == \"X\" else 0\n",
    "    )\n",
    "    df[\"re_escp_hist_4\"] = df.re_escp_hist_4.transform(\n",
    "        lambda x: 1 if str(x) == \"X\" else 0\n",
    "    )\n",
    "    df[\"re_escp_hist_5\"] = df.re_escp_hist_5.transform(\n",
    "        lambda x: 1 if str(x) == \"X\" else 0\n",
    "    )\n",
    "\n",
    "    df[\"escape_hist\"] = (\n",
    "        df[\"re_escp_hist_1\"] +\n",
    "        df[\"re_escp_hist_2\"] +\n",
    "        df[\"re_escp_hist_3\"] +\n",
    "        df[\"re_escp_hist_4\"] +\n",
    "        df[\"re_escp_hist_5\"]\n",
    "    )\n",
    "    \n",
    "    \n",
    "    df = pd.concat(\n",
    "        [\n",
    "            df,\n",
    "            pd.get_dummies(df.ic_mrtl_stat_fr_cl, prefix=\"mrt_stat\")\\\n",
    "                .drop([\"mrt_stat_SIN\", \"mrt_stat_UNK\"], axis=1)\n",
    "        ],\n",
    "        axis=1\n",
    "    )\n",
    "\n",
    "    df[\"marital_status\"] = LabelEncoder().fit_transform(df[\"ic_mrtl_stat_fr_cl\"])\n",
    "\n",
    "    df[\"race\"] = LabelEncoder().fit_transform(df[\"race\"])\n",
    "    \n",
    "\n",
    "    df[\"employed\"] = df.ic_employ_ind.fillna(0).replace(\"X\", 1)\n",
    "    \n",
    "    \n",
    "    temp_var = \"prob_alcohol\"\n",
    "    df[temp_var] = df[temp_var].replace(' ', 0)    \n",
    "    df[temp_var] = df[temp_var].replace('  ', 0)    \n",
    "    df[temp_var] = df[temp_var].replace('NV', 0)\n",
    "    df[temp_var] = df[temp_var].replace(np.nan, 0)\n",
    "    df[temp_var] = df[temp_var].replace('V ', 1)\n",
    "    \n",
    "    temp_var = \"prob_drugs\"\n",
    "    df[temp_var] = df[temp_var].replace(' ', 0)    \n",
    "    df[temp_var] = df[temp_var].replace('  ', 0)    \n",
    "    df[temp_var] = df[temp_var].replace('NV', 0)    \n",
    "    df[temp_var] = df[temp_var].replace('V ', 1)\n",
    "    \n",
    "    temp_var = \"prob_assault\"\n",
    "    df[temp_var] = df[temp_var].replace(' ', 0)    \n",
    "    df[temp_var] = df[temp_var].replace('  ', 0)    \n",
    "    df[temp_var] = df[temp_var].replace('NV', 0)    \n",
    "    df[temp_var] = df[temp_var].replace('V ', 1)\n",
    "    \n",
    "\n",
    "    temp_var = \"prob_sexual\"\n",
    "    df[temp_var] = df[temp_var].replace(' ', 0)    \n",
    "    df[temp_var] = df[temp_var].replace('  ', 0)    \n",
    "    df[temp_var] = df[temp_var].replace('NV', 0)    \n",
    "    df[temp_var] = df[temp_var].replace('V ', 1)\n",
    "    \n",
    "\n",
    "    temp_var = \"prob_psyco\"\n",
    "    df[temp_var] = df[temp_var].replace(' ', 0)    \n",
    "    df[temp_var] = df[temp_var].replace('  ', 0)    \n",
    "    df[temp_var] = df[temp_var].replace('NV', 0)    \n",
    "    df[temp_var] = df[temp_var].replace('V ', 1)\n",
    "    \n",
    "    temp_var = \"prob_suicide\"\n",
    "    df[temp_var] = df[temp_var].replace(' ', 0)    \n",
    "    df[temp_var] = df[temp_var].replace('  ', 0)    \n",
    "    df[temp_var] = df[temp_var].replace('NV', 0)    \n",
    "    df[temp_var] = df[temp_var].replace('V ', 1)\n",
    "    \n",
    "    temp_var = \"prob_escape\"\n",
    "    df[temp_var] = df[temp_var].replace(' ', 0)    \n",
    "    df[temp_var] = df[temp_var].replace('  ', 0)    \n",
    "    df[temp_var] = df[temp_var].replace('NV', 0)    \n",
    "    df[temp_var] = df[temp_var].replace('V ', 1)\n",
    "    \n",
    "\n",
    "    df[\"problematic_conditions\"] = (df[\"prob_escape\"] \n",
    "                                    + df[\"prob_alcohol\"] \n",
    "                                    + df[\"prob_assault\"]\n",
    "                                    + df[\"prob_drugs\"] \n",
    "                                    + df[\"prob_escape\"] \n",
    "                                    + df[\"prob_psyco\"]\n",
    "                                    + df[\"prob_sexual\"]\n",
    "                                    + df[\"prob_suicide\"])\n",
    "    \n",
    "    temp_var = \"problematic_offenses\"\n",
    "    df[temp_var] = df[temp_var].replace(' ', 0)    \n",
    "    df[temp_var] = df[temp_var].replace('N', 0)    \n",
    "    df[temp_var] = df[temp_var].replace('Y', 1)    \n",
    "    \n",
    "    #df['re_ovride_cust_lvl'] = df['re_ovride_cust_lvl'].replace(np.nan, np.n)\n",
    "    #df['re_custody_level'] = df['re_ovride_cust_lvl'].replace(np.nan, 0)\n",
    "    return df\n"
   ]
  },
  {
   "cell_type": "code",
   "execution_count": null,
   "metadata": {},
   "outputs": [],
   "source": []
  },
  {
   "cell_type": "code",
   "execution_count": 44,
   "metadata": {},
   "outputs": [],
   "source": [
    "df = pd.read_csv(\"../data/re_custody_2017_gsprs.csv\", low_memory=False)\n",
    "\n",
    "df['re_ovride_cust_lvl'] = df['re_ovride_cust_lvl'].replace(' ', np.nan)\n",
    "\n"
   ]
  },
  {
   "cell_type": "code",
   "execution_count": null,
   "metadata": {},
   "outputs": [],
   "source": []
  },
  {
   "cell_type": "code",
   "execution_count": 45,
   "metadata": {},
   "outputs": [],
   "source": [
    "df['re_override_up'] = np.where(df['re_ovride_cust_lvl'].astype(float)-df['re_custody_level']>0,1,0)\n",
    "df['high_re'] = np.where(df['re_custody_level']>3, 1, 0)\n",
    "\n"
   ]
  },
  {
   "cell_type": "code",
   "execution_count": 46,
   "metadata": {},
   "outputs": [],
   "source": [
    "data = preprocess_input_vars_re_or(df)\n",
    "\n"
   ]
  },
  {
   "cell_type": "code",
   "execution_count": 47,
   "metadata": {},
   "outputs": [],
   "source": [
    "data_re_or = data[\n",
    "    [\n",
    "        \"gender_female\",\n",
    "        \"age_gt_45\",\n",
    "        \"age_lt_25\",\n",
    "        \"race_B\",\n",
    "        \"race_A\",\n",
    "        \"race_H\",\n",
    "        \"race_I\",\n",
    "        \"race_O\",\n",
    "        \"off_1_prs_max\",\n",
    "        \"off_1_gs_max\",\n",
    "        \"prior_commits\",\n",
    "        \"re_discip_reports\",\n",
    "        \"re_escp_hist_1\",\n",
    "        #\"re_escp_hist_2\",\n",
    "        #\"re_escp_hist_3\",\n",
    "        #\"re_escp_hist_4\",\n",
    "        \"re_escp_hist_5\",\n",
    "        \"mrt_stat_DIV\",\n",
    "        \"mrt_stat_SEP\",\n",
    "        \"mrt_stat_MAR\",\n",
    "        \"mrt_stat_WID\",\n",
    "        \"employed\",\n",
    "        \"problematic_offenses\",\n",
    "        \"problematic_conditions\",\n",
    "        \"re_override_up\",\n",
    "        \"re_custody_level\"\n",
    "    ]\n",
    "]\n",
    "\n",
    "data_re_or = data_re_or.dropna()"
   ]
  },
  {
   "cell_type": "code",
   "execution_count": 55,
   "metadata": {},
   "outputs": [
    {
     "data": {
      "text/plain": [
       "0    13746\n",
       "1     2797\n",
       "Name: re_override_up, dtype: int64"
      ]
     },
     "execution_count": 55,
     "metadata": {},
     "output_type": "execute_result"
    }
   ],
   "source": [
    "data_re_or['re_override_up'].value_counts()"
   ]
  },
  {
   "cell_type": "code",
   "execution_count": 49,
   "metadata": {},
   "outputs": [],
   "source": [
    "X = data_re_or.loc[:, data_re_or.columns != 're_override_up']\n",
    "y = data_re_or.loc[:, data_re_or.columns == 're_override_up']"
   ]
  },
  {
   "cell_type": "markdown",
   "metadata": {},
   "source": [
    "### Balance classes"
   ]
  },
  {
   "cell_type": "code",
   "execution_count": 50,
   "metadata": {},
   "outputs": [],
   "source": [
    "os = SMOTE(random_state=0)\n",
    "\n",
    "X_os, y_os = os.fit_resample(X,y)"
   ]
  },
  {
   "cell_type": "code",
   "execution_count": 51,
   "metadata": {},
   "outputs": [
    {
     "data": {
      "text/plain": [
       "Index(['gender_female', 'age_gt_45', 'age_lt_25', 'race_B', 'race_A', 'race_H',\n",
       "       'race_I', 'race_O', 'off_1_prs_max', 'off_1_gs_max', 'prior_commits',\n",
       "       're_discip_reports', 're_escp_hist_1', 're_escp_hist_5', 'mrt_stat_DIV',\n",
       "       'mrt_stat_SEP', 'mrt_stat_MAR', 'mrt_stat_WID', 'employed',\n",
       "       'problematic_offenses', 'problematic_conditions', 're_custody_level'],\n",
       "      dtype='object')"
      ]
     },
     "execution_count": 51,
     "metadata": {},
     "output_type": "execute_result"
    }
   ],
   "source": [
    "X.columns"
   ]
  },
  {
   "cell_type": "markdown",
   "metadata": {},
   "source": [
    "### RFE"
   ]
  },
  {
   "cell_type": "code",
   "execution_count": 52,
   "metadata": {},
   "outputs": [
    {
     "data": {
      "text/plain": [
       "['gender_female', 'age_lt_25', 'mrt_stat_SEP', 'problematic_offenses']"
      ]
     },
     "execution_count": 52,
     "metadata": {},
     "output_type": "execute_result"
    }
   ],
   "source": [
    "logreg = LogisticRegression(max_iter=500) # increase the number of iterations to get convergence\n",
    "\n",
    "rfe = RFE(logreg, n_features_to_select=4, step=1)\n",
    "rfe = rfe.fit(X_os, y_os.values.ravel())\n",
    "\n",
    "zz= list(zip(X_os.columns,list(rfe.support_)))\n",
    "\n",
    "ll = [a for (a,b) in zz if b]\n",
    "\n",
    "ll"
   ]
  },
  {
   "cell_type": "code",
   "execution_count": 53,
   "metadata": {},
   "outputs": [
    {
     "name": "stdout",
     "output_type": "stream",
     "text": [
      "Optimization terminated successfully.\n",
      "         Current function value: 0.290415\n",
      "         Iterations 9\n",
      "                            Results: Logit\n",
      "=======================================================================\n",
      "Model:                 Logit              Pseudo R-squared:   0.361    \n",
      "Dependent Variable:    re_override_up     AIC:                9652.6819\n",
      "Date:                  2021-12-04 11:18   BIC:                9822.3837\n",
      "No. Observations:      16543              Log-Likelihood:     -4804.3  \n",
      "Df Model:              21                 LL-Null:            -7517.4  \n",
      "Df Residuals:          16521              LLR p-value:        0.0000   \n",
      "Converged:             1.0000             Scale:              1.0000   \n",
      "No. Iterations:        9.0000                                          \n",
      "-----------------------------------------------------------------------\n",
      "                        Coef.  Std.Err.    z     P>|z|   [0.025  0.975]\n",
      "-----------------------------------------------------------------------\n",
      "gender_female          -0.8013   0.1930  -4.1517 0.0000 -1.1796 -0.4230\n",
      "age_gt_45               0.4659   0.0567   8.2142 0.0000  0.3547  0.5770\n",
      "age_lt_25              -1.3063   0.2669  -4.8945 0.0000 -1.8294 -0.7832\n",
      "race_B                  0.2138   0.0625   3.4237 0.0006  0.0914  0.3363\n",
      "race_A                  0.7401   0.4458   1.6601 0.0969 -0.1337  1.6139\n",
      "race_H                 -0.2195   0.0976  -2.2493 0.0245 -0.4108 -0.0282\n",
      "race_I                 -0.3760   0.8021  -0.4687 0.6393 -1.9482  1.1962\n",
      "race_O                  0.2038   0.4718   0.4320 0.6658 -0.7210  1.1286\n",
      "off_1_prs_max          -0.0463   0.0222  -2.0831 0.0372 -0.0899 -0.0027\n",
      "off_1_gs_max            0.3371   0.0124  27.0993 0.0000  0.3127  0.3614\n",
      "prior_commits          -0.1525   0.0119 -12.8024 0.0000 -0.1758 -0.1291\n",
      "re_discip_reports       0.0641   0.0466   1.3745 0.1693 -0.0273  0.1555\n",
      "re_escp_hist_1         -0.2543   0.0601  -4.2323 0.0000 -0.3720 -0.1365\n",
      "re_escp_hist_5          0.9963   0.0947  10.5165 0.0000  0.8106  1.1820\n",
      "mrt_stat_DIV           -0.8298   0.1112  -7.4603 0.0000 -1.0478 -0.6118\n",
      "mrt_stat_SEP           -1.1391   0.1720  -6.6219 0.0000 -1.4763 -0.8019\n",
      "mrt_stat_MAR           -0.5312   0.0948  -5.6038 0.0000 -0.7170 -0.3454\n",
      "mrt_stat_WID            0.0336   0.2110   0.1592 0.8735 -0.3799  0.4471\n",
      "employed               -0.6498   0.0717  -9.0644 0.0000 -0.7903 -0.5093\n",
      "problematic_offenses    1.2320   0.0650  18.9469 0.0000  1.1045  1.3594\n",
      "problematic_conditions -0.2015   0.0195 -10.3118 0.0000 -0.2398 -0.1632\n",
      "re_custody_level       -2.5998   0.0946 -27.4878 0.0000 -2.7852 -2.4144\n",
      "=======================================================================\n",
      "\n",
      "                              OR        z-value      2.5%     97.5%\n",
      "gender_female           0.448744   3.300776e-05  0.307405  0.655070\n",
      "age_gt_45               1.593393   2.134964e-16  1.425764  1.780730\n",
      "age_lt_25               0.270826   9.854869e-07  0.160515  0.456945\n",
      "race_B                  1.238428   6.177645e-04  1.095734  1.399706\n",
      "race_A                  2.096199   9.688432e-02  0.874885  5.022431\n",
      "race_H                  0.802905   2.449122e-02  0.663121  0.972154\n",
      "race_I                  0.686607   6.392599e-01  0.142534  3.307477\n",
      "race_O                  1.226080   6.657673e-01  0.486273  3.091414\n",
      "off_1_prs_max           0.954740   3.723859e-02  0.914029  0.997265\n",
      "off_1_gs_max            1.400819  1.003291e-161  1.367083  1.435388\n",
      "prior_commits           0.858589   1.588962e-37  0.838780  0.878865\n",
      "re_discip_reports       1.066219   1.692845e-01  0.973059  1.168297\n",
      "re_escp_hist_1          0.775477   2.312846e-05  0.689333  0.872386\n",
      "re_escp_hist_5          2.708213   7.248764e-26  2.249282  3.260782\n",
      "mrt_stat_DIV            0.436133   8.635233e-14  0.350703  0.542373\n",
      "mrt_stat_SEP            0.320106   3.546535e-11  0.228491  0.448454\n",
      "mrt_stat_MAR            0.587877   2.097544e-08  0.488194  0.707914\n",
      "mrt_stat_WID            1.034164   8.734969e-01  0.683905  1.563806\n",
      "employed                0.522138   1.252620e-19  0.453694  0.600907\n",
      "problematic_offenses    3.427917   4.681716e-80  3.017756  3.893826\n",
      "problematic_conditions  0.817498   6.229901e-25  0.786780  0.849416\n",
      "re_custody_level        0.074287  2.458576e-166  0.061717  0.089417\n"
     ]
    }
   ],
   "source": [
    "#ll.append('race_B')\n",
    "#ll.append('problematic_conditions')\n",
    "#ll.append('age_gt_45')\n",
    "#ll.append('re_discip_reports')\n",
    "\n",
    "#X = X[ll]\n",
    "\n",
    "logit_model=sm.Logit(y,X.astype(float))\n",
    "result=logit_model.fit()\n",
    "print(result.summary2())\n",
    "\n",
    "model_odds = pd.DataFrame(np.exp(result.params), columns= ['OR'])\n",
    "model_odds['z-value']= result.pvalues\n",
    "model_odds[['2.5%', '97.5%']] = np.exp(result.conf_int())\n",
    "print(model_odds)"
   ]
  },
  {
   "cell_type": "code",
   "execution_count": null,
   "metadata": {},
   "outputs": [],
   "source": []
  },
  {
   "cell_type": "code",
   "execution_count": 54,
   "metadata": {
    "scrolled": false
   },
   "outputs": [
    {
     "name": "stdout",
     "output_type": "stream",
     "text": [
      "Accuracy of logistic regression classifier on test set: 0.81\n",
      "[[3330  757]\n",
      " [ 173  703]]\n",
      "              precision    recall  f1-score   support\n",
      "\n",
      "           0       0.95      0.81      0.88      4087\n",
      "           1       0.48      0.80      0.60       876\n",
      "\n",
      "    accuracy                           0.81      4963\n",
      "   macro avg       0.72      0.81      0.74      4963\n",
      "weighted avg       0.87      0.81      0.83      4963\n",
      "\n"
     ]
    },
    {
     "data": {
      "image/png": "[encoded data removed]",
      "text/plain": [
       "<Figure size 432x288 with 1 Axes>"
      ]
     },
     "metadata": {},
     "output_type": "display_data"
    }
   ],
   "source": [
    "X_train, X_test, y_train, y_test = train_test_split(X, y, test_size=0.3, random_state=2)\n",
    "\n",
    "\n",
    "\n",
    "X_train_os, y_train_os = os.fit_resample(X_train, y_train)\n",
    "\n",
    "logreg = LogisticRegression(max_iter=2000)\n",
    "logreg.fit(X_train_os, y_train_os.values.ravel())\n",
    "\n",
    "y_pred = logreg.predict(X_test)\n",
    "print('Accuracy of logistic regression classifier on test set: {:.2f}'.format(logreg.score(X_test, y_test)))\n",
    "\n",
    "from sklearn.metrics import confusion_matrix\n",
    "confusion_matrix = confusion_matrix(y_test, y_pred)\n",
    "print(confusion_matrix)\n",
    "\n",
    "from sklearn.metrics import classification_report\n",
    "print(classification_report(y_test, y_pred))\n",
    "\n",
    "from sklearn.metrics import roc_auc_score\n",
    "from sklearn.metrics import roc_curve\n",
    "logit_roc_auc = roc_auc_score(y_test, logreg.predict(X_test))\n",
    "fpr, tpr, thresholds = roc_curve(y_test, logreg.predict_proba(X_test)[:,1])\n",
    "plt.figure()\n",
    "plt.plot(fpr, tpr, label='Logistic Regression (area = %0.2f)' % logit_roc_auc)\n",
    "plt.plot([0, 1], [0, 1],'r--')\n",
    "plt.xlim([0.0, 1.0])\n",
    "plt.ylim([0.0, 1.05])\n",
    "plt.xlabel('False Positive Rate')\n",
    "plt.ylabel('True Positive Rate')\n",
    "plt.title('Receiver operating characteristic')\n",
    "plt.legend(loc=\"lower right\")\n",
    "plt.show()"
   ]
  },
  {
   "cell_type": "code",
   "execution_count": null,
   "metadata": {},
   "outputs": [],
   "source": []
  }
 ],
 "metadata": {
  "kernelspec": {
   "display_name": "Python 3 (ipykernel)",
   "language": "python",
   "name": "python3"
  },
  "language_info": {
   "codemirror_mode": {
    "name": "ipython",
    "version": 3
   },
   "file_extension": ".py",
   "mimetype": "text/x-python",
   "name": "python",
   "nbconvert_exporter": "python",
   "pygments_lexer": "ipython3",
   "version": "3.9.7"
  }
 },
 "nbformat": 4,
 "nbformat_minor": 2
}

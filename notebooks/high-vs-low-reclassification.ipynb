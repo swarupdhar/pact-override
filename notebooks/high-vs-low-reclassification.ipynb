{
 "cells": [
  {
   "cell_type": "markdown",
   "metadata": {},
   "source": [
    "# Classifying high vs low custody level"
   ]
  },
  {
   "cell_type": "markdown",
   "metadata": {},
   "source": [
    "## Reclassification"
   ]
  },
  {
   "cell_type": "markdown",
   "metadata": {},
   "source": [
    "**Notebook Setup**"
   ]
  },
  {
   "cell_type": "code",
   "execution_count": 1,
   "metadata": {},
   "outputs": [],
   "source": [
    "#!pip install bioinfokit"
   ]
  },
  {
   "cell_type": "code",
   "execution_count": 2,
   "metadata": {},
   "outputs": [],
   "source": [
    "import sys\n",
    "sys.path.append(\"../src\")\n",
    "%load_ext autoreload\n",
    "%autoreload 2"
   ]
  },
  {
   "cell_type": "code",
   "execution_count": 3,
   "metadata": {},
   "outputs": [],
   "source": [
    "import pandas as pd\n",
    "import numpy as np\n",
    "import matplotlib.pyplot as plt\n",
    "import statsmodels.api as sm\n",
    "import seaborn as sns\n",
    "#from heatmap import heatmap\n",
    "import statsmodels.formula.api as smf\n",
    "#import bioinfokit"
   ]
  },
  {
   "cell_type": "code",
   "execution_count": 4,
   "metadata": {},
   "outputs": [],
   "source": [
    "plt.style.use('ggplot')"
   ]
  },
  {
   "cell_type": "code",
   "execution_count": 5,
   "metadata": {},
   "outputs": [],
   "source": [
    "from math391.models.logit_models import LogitModelRunner\n",
    "from math391.preprocessing import preprocess_for_logit\n",
    "from math391.plotting import roc_plot"
   ]
  },
  {
   "cell_type": "code",
   "execution_count": 6,
   "metadata": {},
   "outputs": [
    {
     "name": "stdout",
     "output_type": "stream",
     "text": [
      "Index(['re_curr_off_cd_1', 're_curr_off_cd_2', 're_curr_off_cd_3',\n",
      "       're_prev_off_cd_1', 're_prev_off_cd_2', 're_prev_off_cd_3',\n",
      "       're_escp_hist_1', 're_escp_hist_2', 're_escp_hist_3', 're_escp_hist_4',\n",
      "       're_escp_hist_5', 're_discip_reports', 're_age_for_class',\n",
      "       're_instit_violence', 'ic_prior_commits', 'race', 'sex',\n",
      "       'ethnic_identity', 'citizenship', 'religion', 'legal_zip_code',\n",
      "       'ic_employ_ind', 'date_of_birth', 're_custody_level', 'ic_custdy_level',\n",
      "       'control_number', 're_ovride_cust_lvl', 're_de_year', 'off_1_gs_max',\n",
      "       'off_1_gs_min', 'off_2_gs_max', 'off_2_gs_min', 'off_3_gs_max',\n",
      "       'off_3_gs_min', 'off_1_prs_max', 'off_1_prs_min', 'off_2_prs_max',\n",
      "       'off_2_prs_min', 'off_3_prs_max', 'off_3_prs_min', 'marital_status',\n",
      "       'ic_mrtl_stat_fr_cl', 'affilatns_ind', 'affilatn_code_1',\n",
      "       'affilatn_code_2', 'affilatn_code_3', 'affilatn_code_4',\n",
      "       'affilatn_code_5', 'affilatn_code_6', 'affilatn_code_7',\n",
      "       'affilatn_code_8', 'affilatn_code_9', 'affilatn_code_10',\n",
      "       'prob_alcohol', 'prob_drugs', 'prob_sexual', 'prob_assault',\n",
      "       'prob_escape', 'prob_suicide', 'prob_psyco', 'program_level_1',\n",
      "       'program_level_2', 'program_level_3', 'ic_prog_code_1',\n",
      "       'ic_prog_code_2', 'ic_prog_code_3', 'ic_othr_needs_cond',\n",
      "       're_wrk_performnce', 're_hous_perfrmnce', 're_othr_needs_cond',\n",
      "       'problematic_offenses', 'age', 'age_gt_45', 'age_lt_25',\n",
      "       'gender_female', 'race_A', 'race_B', 'race_H', 'race_I', 'race_O',\n",
      "       'prior_commits', 'escape_hist', 'mrt_stat_  ', 'mrt_stat_   ',\n",
      "       'mrt_stat_0', 'mrt_stat_180', 'mrt_stat_3', 'mrt_stat_31',\n",
      "       'mrt_stat_DIV', 'mrt_stat_MAR', 'mrt_stat_SEP', 'mrt_stat_WID',\n",
      "       'employed', 'high_re_discip_reports', 're_override_up', 'high_re'],\n",
      "      dtype='object')\n"
     ]
    }
   ],
   "source": [
    "%matplotlib inline\n",
    "\n",
    "from project import rf_models, preprocessing\n",
    "\n",
    "df = pd.read_csv(\"../data/re_custody_2017_gsprs.csv\", low_memory=False)\n",
    "\n",
    "\n",
    "\n",
    "# preprocessing\n",
    "data = preprocessing.preprocess_input_vars_re(df)\n",
    "data = data[data.ic_custdy_level > 1]\n",
    "data['high_re_discip_reports'] = np.where(data['re_discip_reports']>2, 1, 0)\n",
    "\n",
    "data['re_override_up'] = np.where(data['re_ovride_cust_lvl']-data['re_custody_level']>0,1,0)\n",
    "data['high_re'] = np.where(data['re_custody_level']>3, 1, 0)\n",
    "print(data.columns)\n",
    "data = data[\n",
    "    [\n",
    "        \"gender_female\",\n",
    "        \"age_gt_45\",\n",
    "        \"age_lt_25\",\n",
    "        \"race_B\",\n",
    "        \"race_A\",\n",
    "        \"race_H\",\n",
    "        \"race_I\",\n",
    "        \"race_O\",\n",
    "        \"off_1_prs_max\",\n",
    "        \"off_1_gs_max\",\n",
    "        #\"ic_custdy_level\",\n",
    "        \"prior_commits\",\n",
    "        \"re_discip_reports\",\n",
    "        \"re_escp_hist_1\",\n",
    "        #\"re_escp_hist_2\",\n",
    "        #\"re_escp_hist_3\",\n",
    "        #\"re_escp_hist_4\",\n",
    "        \"re_escp_hist_5\",\n",
    "        \"mrt_stat_DIV\",\n",
    "        \"mrt_stat_SEP\",\n",
    "        \"mrt_stat_MAR\",\n",
    "        \"mrt_stat_WID\",\n",
    "        \"employed\",\n",
    "        #\"high_re_discip_reports\",\n",
    "        \"high_re\",\n",
    "        #\"re_ovride_cust_lvl\"\n",
    "    ]\n",
    "]\n",
    "data = data.dropna()\n",
    "\n",
    "\n",
    "df_re_all = data"
   ]
  },
  {
   "cell_type": "code",
   "execution_count": null,
   "metadata": {},
   "outputs": [],
   "source": []
  },
  {
   "cell_type": "markdown",
   "metadata": {},
   "source": [
    "#### Exploratory data analysis"
   ]
  },
  {
   "cell_type": "code",
   "execution_count": 7,
   "metadata": {},
   "outputs": [
    {
     "data": {
      "text/plain": [
       "0    12025\n",
       "1     2547\n",
       "Name: high_re, dtype: int64"
      ]
     },
     "execution_count": 7,
     "metadata": {},
     "output_type": "execute_result"
    }
   ],
   "source": [
    "df_re_all['high_re'].value_counts()"
   ]
  },
  {
   "cell_type": "code",
   "execution_count": 8,
   "metadata": {},
   "outputs": [
    {
     "name": "stdout",
     "output_type": "stream",
     "text": [
      "percentage of high lev is 82.52127367554213\n",
      "percentage of low lev is 17.478726324457863\n"
     ]
    }
   ],
   "source": [
    "count_hi = len(df_re_all[df_re_all['high_re']==0])\n",
    "count_lo = len(df_re_all[df_re_all['high_re']==1])\n",
    "pct_hi = count_hi/(count_hi+count_lo)\n",
    "print(\"percentage of high lev is\", pct_hi*100)\n",
    "pct_lo = count_lo/(count_hi+count_lo)\n",
    "print(\"percentage of low lev is\", pct_lo*100)"
   ]
  },
  {
   "cell_type": "markdown",
   "metadata": {},
   "source": [
    "#### See how quantitative variables vary with custody level"
   ]
  },
  {
   "cell_type": "code",
   "execution_count": 9,
   "metadata": {},
   "outputs": [
    {
     "data": {
      "text/plain": [
       "high_re\n",
       "0    3.235842\n",
       "1    3.300746\n",
       "Name: prior_commits, dtype: float64"
      ]
     },
     "execution_count": 9,
     "metadata": {},
     "output_type": "execute_result"
    }
   ],
   "source": [
    "df_re_all.groupby('high_re').mean()['prior_commits']"
   ]
  },
  {
   "cell_type": "code",
   "execution_count": 10,
   "metadata": {},
   "outputs": [
    {
     "data": {
      "text/plain": [
       "high_re\n",
       "0    11.883576\n",
       "1    11.705929\n",
       "Name: off_1_gs_max, dtype: float64"
      ]
     },
     "execution_count": 10,
     "metadata": {},
     "output_type": "execute_result"
    }
   ],
   "source": [
    "df_re_all.groupby('high_re').mean()['off_1_gs_max']"
   ]
  },
  {
   "cell_type": "code",
   "execution_count": 11,
   "metadata": {},
   "outputs": [
    {
     "data": {
      "text/plain": [
       "high_re\n",
       "0    2.548857\n",
       "1    2.552218\n",
       "Name: off_1_prs_max, dtype: float64"
      ]
     },
     "execution_count": 11,
     "metadata": {},
     "output_type": "execute_result"
    }
   ],
   "source": [
    "df_re_all.groupby('high_re').mean()['off_1_prs_max']"
   ]
  },
  {
   "cell_type": "code",
   "execution_count": 12,
   "metadata": {},
   "outputs": [
    {
     "data": {
      "text/plain": [
       "high_re\n",
       "0    1.745031\n",
       "1    4.058108\n",
       "Name: re_discip_reports, dtype: float64"
      ]
     },
     "execution_count": 12,
     "metadata": {},
     "output_type": "execute_result"
    }
   ],
   "source": [
    "df_re_all.groupby('high_re').mean()['re_discip_reports']"
   ]
  },
  {
   "cell_type": "markdown",
   "metadata": {},
   "source": [
    "####  See how quantitative variables vary with race_B"
   ]
  },
  {
   "cell_type": "code",
   "execution_count": 6,
   "metadata": {},
   "outputs": [
    {
     "data": {
      "text/plain": [
       "race_B\n",
       "0    3.204942\n",
       "1    3.273152\n",
       "Name: re_ovride_cust_lvl, dtype: float64"
      ]
     },
     "execution_count": 6,
     "metadata": {},
     "output_type": "execute_result"
    }
   ],
   "source": [
    "df_re_all.groupby('race_B').mean()['re_ovride_cust_lvl']"
   ]
  },
  {
   "cell_type": "code",
   "execution_count": 13,
   "metadata": {},
   "outputs": [
    {
     "data": {
      "text/plain": [
       "race_B\n",
       "0    2.055176\n",
       "1    2.233702\n",
       "Name: re_discip_reports, dtype: float64"
      ]
     },
     "execution_count": 13,
     "metadata": {},
     "output_type": "execute_result"
    }
   ],
   "source": [
    "df_re_all.groupby('race_B').mean()['re_discip_reports']"
   ]
  },
  {
   "cell_type": "code",
   "execution_count": 14,
   "metadata": {},
   "outputs": [
    {
     "data": {
      "text/plain": [
       "race_B\n",
       "0    2.428125\n",
       "1    2.658165\n",
       "Name: off_1_prs_max, dtype: float64"
      ]
     },
     "execution_count": 14,
     "metadata": {},
     "output_type": "execute_result"
    }
   ],
   "source": [
    "df_re_all.groupby('race_B').mean()['off_1_prs_max']"
   ]
  },
  {
   "cell_type": "code",
   "execution_count": 15,
   "metadata": {},
   "outputs": [
    {
     "data": {
      "text/plain": [
       "race_B\n",
       "0    11.169304\n",
       "1    12.464802\n",
       "Name: off_1_gs_max, dtype: float64"
      ]
     },
     "execution_count": 15,
     "metadata": {},
     "output_type": "execute_result"
    }
   ],
   "source": [
    "df_re_all.groupby('race_B').mean()['off_1_gs_max']"
   ]
  },
  {
   "cell_type": "code",
   "execution_count": 16,
   "metadata": {},
   "outputs": [
    {
     "data": {
      "text/plain": [
       "race_B\n",
       "0    3.300566\n",
       "1    3.199349\n",
       "Name: prior_commits, dtype: float64"
      ]
     },
     "execution_count": 16,
     "metadata": {},
     "output_type": "execute_result"
    }
   ],
   "source": [
    "df_re_all.groupby('race_B').mean()['prior_commits']"
   ]
  },
  {
   "cell_type": "markdown",
   "metadata": {},
   "source": [
    "#### Visualizations"
   ]
  },
  {
   "cell_type": "code",
   "execution_count": 17,
   "metadata": {},
   "outputs": [
    {
     "data": {
      "text/plain": [
       "Text(0, 0.5, 'Count of people')"
      ]
     },
     "execution_count": 17,
     "metadata": {},
     "output_type": "execute_result"
    },
    {
     "data": {
      "image/png": "[encoded data removed]",
      "text/plain": [
       "<Figure size 432x288 with 1 Axes>"
      ]
     },
     "metadata": {
      "needs_background": "light"
     },
     "output_type": "display_data"
    }
   ],
   "source": [
    "%matplotlib inline\n",
    "pd.crosstab(df_re_all.race_B,df_re_all.high_re).plot(kind='bar')\n",
    "plt.title('Custody level by Black or not')\n",
    "plt.xlabel('Black')\n",
    "plt.ylabel('Count of people')"
   ]
  },
  {
   "cell_type": "code",
   "execution_count": 18,
   "metadata": {},
   "outputs": [
    {
     "data": {
      "text/plain": [
       "Text(0, 0.5, 'Proportion of people')"
      ]
     },
     "execution_count": 18,
     "metadata": {},
     "output_type": "execute_result"
    },
    {
     "data": {
      "image/png": "[encoded data removed]",
      "text/plain": [
       "<Figure size 432x288 with 1 Axes>"
      ]
     },
     "metadata": {
      "needs_background": "light"
     },
     "output_type": "display_data"
    }
   ],
   "source": [
    "table=pd.crosstab(df_re_all.re_discip_reports,df_re_all.high_re)\n",
    "table.div(table.sum(1).astype(float), axis=0).plot(kind='bar', stacked=True)\n",
    "plt.title('Stacked Bar Chart of Custody level vs Institutional Adjustment')\n",
    "plt.xlabel('Institutional adjustment')\n",
    "plt.ylabel('Proportion of people')"
   ]
  },
  {
   "cell_type": "code",
   "execution_count": 19,
   "metadata": {},
   "outputs": [
    {
     "data": {
      "text/plain": [
       "Text(0, 0.5, 'Proportion of people')"
      ]
     },
     "execution_count": 19,
     "metadata": {},
     "output_type": "execute_result"
    },
    {
     "data": {
      "image/png": "[encoded data removed]",
      "text/plain": [
       "<Figure size 432x288 with 1 Axes>"
      ]
     },
     "metadata": {
      "needs_background": "light"
     },
     "output_type": "display_data"
    }
   ],
   "source": [
    "table=pd.crosstab(df_re_all.employed,df_re_all.high_re)\n",
    "table.div(table.sum(1).astype(float), axis=0).plot(kind='bar', stacked=True)\n",
    "plt.title('Stacked Bar Chart of Custody level vs Employment status')\n",
    "plt.xlabel('Employment status')\n",
    "plt.ylabel('Proportion of people')"
   ]
  },
  {
   "cell_type": "code",
   "execution_count": 20,
   "metadata": {},
   "outputs": [
    {
     "data": {
      "text/plain": [
       "Text(0, 0.5, 'Proportion of people')"
      ]
     },
     "execution_count": 20,
     "metadata": {},
     "output_type": "execute_result"
    },
    {
     "data": {
      "image/png": "[encoded data removed]",
      "text/plain": [
       "<Figure size 432x288 with 1 Axes>"
      ]
     },
     "metadata": {
      "needs_background": "light"
     },
     "output_type": "display_data"
    }
   ],
   "source": [
    "table=pd.crosstab(df_re_all.gender_female,df_re_all.high_re)\n",
    "table.div(table.sum(1).astype(float), axis=0).plot(kind='bar', stacked=True)\n",
    "plt.title('Stacked Bar Chart of Custody level vs Female or not')\n",
    "plt.xlabel('Female')\n",
    "plt.ylabel('Proportion of people')"
   ]
  },
  {
   "cell_type": "markdown",
   "metadata": {},
   "source": [
    "### Building the full model with all features used by the PACT"
   ]
  },
  {
   "cell_type": "code",
   "execution_count": 9,
   "metadata": {},
   "outputs": [],
   "source": [
    "from sklearn.linear_model import LogisticRegression\n",
    "from sklearn.model_selection import train_test_split\n",
    "from sklearn import metrics\n",
    "from sklearn.metrics import classification_report\n",
    "from sklearn.metrics import roc_auc_score\n",
    "from sklearn.metrics import roc_curve"
   ]
  },
  {
   "cell_type": "code",
   "execution_count": 10,
   "metadata": {},
   "outputs": [],
   "source": [
    "data_final = df_re_all"
   ]
  },
  {
   "cell_type": "code",
   "execution_count": 11,
   "metadata": {},
   "outputs": [],
   "source": [
    "#We ommitted escape histories 2, 3 and 4 because they were highly correlated with escape history 1\n",
    "#and because we want to know if they're frequent escapees or not, and not necessarily how many times\n",
    "\n",
    "\n",
    "data_final_vars=data_final.columns.values.tolist()\n",
    "yvars = ['high_re']\n",
    "Xvars = [i for i in data_final_vars if i not in yvars]\n",
    "X = data_final.loc[:, data_final.columns != 'high_re']\n",
    "y = data_final.loc[:, data_final.columns == 'high_re']\n",
    "ll = ['age_gt_45',\n",
    " 're_discip_reports',\n",
    " 're_escp_hist_1',\n",
    " 're_escp_hist_5',\n",
    " 'mrt_stat_DIV',\n",
    " 'mrt_stat_SEP',\n",
    " 'mrt_stat_MAR',\n",
    " 'mrt_stat_WID',\n",
    " 'employed']\n",
    "ll.append('race_B')\n",
    "ll.append('race_A')\n",
    "ll.append('race_H')\n",
    "ll.append('race_I')\n",
    "ll.append('race_O')\n",
    "ll.append('off_1_gs_max')\n",
    "ll.append('off_1_prs_max')\n",
    "ll.append('prior_commits')\n",
    "ll.append('age_lt_25')\n",
    "ll.append('gender_female')\n",
    "X = X[ll]\n"
   ]
  },
  {
   "cell_type": "markdown",
   "metadata": {},
   "source": [
    "#### Oversampling to get balanced classes"
   ]
  },
  {
   "cell_type": "code",
   "execution_count": 24,
   "metadata": {},
   "outputs": [
    {
     "name": "stdout",
     "output_type": "stream",
     "text": [
      "Requirement already satisfied: imblearn in /home/ncr006/anaconda3/lib/python3.9/site-packages (0.0)\n",
      "Requirement already satisfied: imbalanced-learn in /home/ncr006/anaconda3/lib/python3.9/site-packages (from imblearn) (0.8.1)\n",
      "Requirement already satisfied: scipy>=0.19.1 in /home/ncr006/anaconda3/lib/python3.9/site-packages (from imbalanced-learn->imblearn) (1.7.1)\n",
      "Requirement already satisfied: joblib>=0.11 in /home/ncr006/anaconda3/lib/python3.9/site-packages (from imbalanced-learn->imblearn) (1.1.0)\n",
      "Requirement already satisfied: numpy>=1.13.3 in /home/ncr006/anaconda3/lib/python3.9/site-packages (from imbalanced-learn->imblearn) (1.20.3)\n",
      "Requirement already satisfied: scikit-learn>=0.24 in /home/ncr006/anaconda3/lib/python3.9/site-packages (from imbalanced-learn->imblearn) (0.24.2)\n",
      "Requirement already satisfied: threadpoolctl>=2.0.0 in /home/ncr006/anaconda3/lib/python3.9/site-packages (from scikit-learn>=0.24->imbalanced-learn->imblearn) (2.2.0)\n"
     ]
    }
   ],
   "source": [
    "!pip install imblearn"
   ]
  },
  {
   "cell_type": "code",
   "execution_count": 25,
   "metadata": {},
   "outputs": [],
   "source": [
    "from imblearn.over_sampling import SMOTE\n",
    "\n",
    "os = SMOTE(random_state=0)"
   ]
  },
  {
   "cell_type": "code",
   "execution_count": 26,
   "metadata": {},
   "outputs": [
    {
     "name": "stdout",
     "output_type": "stream",
     "text": [
      "Counter({0: 8462, 1: 1738})\n"
     ]
    }
   ],
   "source": [
    "from collections import Counter\n",
    "\n",
    "X_train, X_test, y_train, y_test = train_test_split(X, y, test_size=0.3, random_state=0)\n",
    "\n",
    "ctr = Counter(y_train['high_re'])\n",
    "\n",
    "print(ctr)"
   ]
  },
  {
   "cell_type": "code",
   "execution_count": 27,
   "metadata": {},
   "outputs": [],
   "source": [
    "X, y = os.fit_resample(X, y)"
   ]
  },
  {
   "cell_type": "code",
   "execution_count": 28,
   "metadata": {
    "scrolled": true
   },
   "outputs": [
    {
     "name": "stdout",
     "output_type": "stream",
     "text": [
      "Counter({0: 12025, 1: 12025})\n"
     ]
    }
   ],
   "source": [
    "ctr = Counter(y['high_re'])\n",
    "\n",
    "print(ctr)"
   ]
  },
  {
   "cell_type": "code",
   "execution_count": 12,
   "metadata": {},
   "outputs": [
    {
     "name": "stdout",
     "output_type": "stream",
     "text": [
      "Optimization terminated successfully.\n",
      "         Current function value: 0.300384\n",
      "         Iterations 8\n",
      "                          Results: Logit\n",
      "==================================================================\n",
      "Model:                Logit            Pseudo R-squared: 0.352    \n",
      "Dependent Variable:   high_re          AIC:              8792.3982\n",
      "Date:                 2022-02-03 22:20 BIC:              8936.5484\n",
      "No. Observations:     14572            Log-Likelihood:   -4377.2  \n",
      "Df Model:             18               LL-Null:          -6752.6  \n",
      "Df Residuals:         14553            LLR p-value:      0.0000   \n",
      "Converged:            1.0000           Scale:            1.0000   \n",
      "No. Iterations:       8.0000                                      \n",
      "------------------------------------------------------------------\n",
      "                   Coef.  Std.Err.    z     P>|z|   [0.025  0.975]\n",
      "------------------------------------------------------------------\n",
      "age_gt_45         -0.7503   0.0835  -8.9843 0.0000 -0.9140 -0.5867\n",
      "re_discip_reports  1.0421   0.0212  49.2425 0.0000  1.0006  1.0835\n",
      "re_escp_hist_1    -0.7084   0.0591 -11.9930 0.0000 -0.8241 -0.5926\n",
      "re_escp_hist_5    -0.0561   0.0968  -0.5798 0.5621 -0.2458  0.1336\n",
      "mrt_stat_DIV      -0.8901   0.1514  -5.8788 0.0000 -1.1868 -0.5933\n",
      "mrt_stat_SEP      -0.8778   0.1807  -4.8572 0.0000 -1.2321 -0.5236\n",
      "mrt_stat_MAR      -0.6585   0.1165  -5.6524 0.0000 -0.8869 -0.4302\n",
      "mrt_stat_WID      -0.2222   0.3617  -0.6143 0.5390 -0.9312  0.4868\n",
      "employed          -0.8287   0.0801 -10.3439 0.0000 -0.9857 -0.6716\n",
      "race_B             0.1688   0.0648   2.6067 0.0091  0.0419  0.2957\n",
      "race_A            -0.6167   0.8567  -0.7199 0.4716 -2.2958  1.0623\n",
      "race_H             0.0580   0.0993   0.5844 0.5589 -0.1366  0.2526\n",
      "race_I             0.7931   0.9511   0.8339 0.4043 -1.0710  2.6572\n",
      "race_O             0.2134   0.4485   0.4759 0.6342 -0.6656  1.0924\n",
      "off_1_gs_max      -0.2194   0.0070 -31.3018 0.0000 -0.2331 -0.2057\n",
      "off_1_prs_max     -0.2922   0.0228 -12.8065 0.0000 -0.3369 -0.2475\n",
      "prior_commits     -0.1277   0.0100 -12.7753 0.0000 -0.1473 -0.1081\n",
      "age_lt_25          0.0493   0.0971   0.5080 0.6115 -0.1409  0.2395\n",
      "gender_female     -1.2440   0.1919  -6.4828 0.0000 -1.6201 -0.8679\n",
      "==================================================================\n",
      "\n",
      "                         OR        z-value      2.5%      97.5%\n",
      "age_gt_45          0.472205   2.603748e-19  0.400904   0.556187\n",
      "re_discip_reports  2.835070   0.000000e+00  2.719886   2.955132\n",
      "re_escp_hist_1     0.492448   3.866396e-33  0.438616   0.552888\n",
      "re_escp_hist_5     0.945438   5.620530e-01  0.782100   1.142889\n",
      "mrt_stat_DIV       0.410620   4.131645e-09  0.305185   0.552480\n",
      "mrt_stat_SEP       0.415680   1.190599e-06  0.291690   0.592375\n",
      "mrt_stat_MAR       0.517608   1.581930e-08  0.411938   0.650385\n",
      "mrt_stat_WID       0.800744   5.390311e-01  0.394070   1.627100\n",
      "employed           0.436635   4.459095e-25  0.373189   0.510869\n",
      "race_B             1.183904   9.141478e-03  1.042775   1.344133\n",
      "race_A             0.539702   4.715720e-01  0.100683   2.893035\n",
      "race_H             1.059745   5.589274e-01  0.872340   1.287410\n",
      "race_I             2.210281   4.043393e-01  0.342664  14.256934\n",
      "race_O             1.237905   6.341585e-01  0.513980   2.981458\n",
      "off_1_gs_max       0.803008  4.407659e-215  0.792052   0.814115\n",
      "off_1_prs_max      0.746633   1.508437e-37  0.713982   0.780778\n",
      "prior_commits      0.880135   2.252791e-37  0.863062   0.897545\n",
      "age_lt_25          1.050540   6.114716e-01  0.868550   1.270662\n",
      "gender_female      0.288230   9.005432e-11  0.197879   0.419835\n",
      "\n",
      "Accuracy of logistic regression classifier on test set: 0.89\n",
      "\n",
      "\n",
      "[[3366  197]\n",
      " [ 286  523]]\n",
      "\n",
      "\n",
      "              precision    recall  f1-score   support\n",
      "\n",
      "           0       0.92      0.94      0.93      3563\n",
      "           1       0.73      0.65      0.68       809\n",
      "\n",
      "    accuracy                           0.89      4372\n",
      "   macro avg       0.82      0.80      0.81      4372\n",
      "weighted avg       0.89      0.89      0.89      4372\n",
      "\n"
     ]
    },
    {
     "data": {
      "image/png": "[encoded data removed]",
      "text/plain": [
       "<Figure size 432x288 with 1 Axes>"
      ]
     },
     "metadata": {
      "needs_background": "light"
     },
     "output_type": "display_data"
    }
   ],
   "source": [
    "logit_model=sm.Logit(y,X)\n",
    "result=logit_model.fit()\n",
    "print(result.summary2())\n",
    "\n",
    "model_odds = pd.DataFrame(np.exp(result.params), columns= ['OR'])\n",
    "model_odds['z-value']= result.pvalues\n",
    "model_odds[['2.5%', '97.5%']] = np.exp(result.conf_int())\n",
    "print(model_odds)\n",
    "\n",
    "X_train, X_test, y_train, y_test = train_test_split(X, y, test_size=0.3, random_state=0)\n",
    "logreg = LogisticRegression(max_iter=1000)\n",
    "logreg.fit(X_train, y_train.values.ravel())\n",
    "y_pred = logreg.predict(X_test)\n",
    "print('\\nAccuracy of logistic regression classifier on test set: {:.2f}'.format(logreg.score(X_test, y_test)))\n",
    "\n",
    "from sklearn.metrics import confusion_matrix\n",
    "cm = confusion_matrix(y_test, y_pred)\n",
    "print(\"\\n\")\n",
    "print(cm)\n",
    "print(\"\\n\")\n",
    "print(classification_report(y_test, y_pred))\n",
    "\n",
    "logit_roc_auc = roc_auc_score(y_test, logreg.predict(X_test))\n",
    "fpr, tpr, thresholds = roc_curve(y_test, logreg.predict_proba(X_test)[:,1])\n",
    "plt.figure()\n",
    "plt.plot(fpr, tpr, label='Logistic Regression (area = %0.2f)' % logit_roc_auc)\n",
    "plt.plot([0, 1], [0, 1],'r--')\n",
    "plt.xlim([0.0, 1.0])\n",
    "plt.ylim([0.0, 1.05])\n",
    "plt.xlabel('False Positive Rate')\n",
    "plt.ylabel('True Positive Rate')\n",
    "plt.title('Receiver operating characteristic')\n",
    "plt.legend(loc=\"lower right\")\n",
    "plt.show()"
   ]
  },
  {
   "cell_type": "code",
   "execution_count": null,
   "metadata": {},
   "outputs": [],
   "source": []
  },
  {
   "cell_type": "code",
   "execution_count": null,
   "metadata": {},
   "outputs": [],
   "source": []
  },
  {
   "cell_type": "code",
   "execution_count": null,
   "metadata": {},
   "outputs": [],
   "source": []
  },
  {
   "cell_type": "code",
   "execution_count": null,
   "metadata": {},
   "outputs": [],
   "source": []
  },
  {
   "cell_type": "markdown",
   "metadata": {},
   "source": [
    "#### Checking conditions on this model"
   ]
  },
  {
   "cell_type": "code",
   "execution_count": 30,
   "metadata": {},
   "outputs": [
    {
     "name": "stdout",
     "output_type": "stream",
     "text": [
      "-0.35540273837933717\n",
      "0.3029989174671678\n"
     ]
    }
   ],
   "source": [
    "# Absence of colinearity\n",
    "Xc = np.asarray(X.corr())\n",
    "print(Xc.min())\n",
    "print(Xc[Xc < 1].max())"
   ]
  },
  {
   "cell_type": "code",
   "execution_count": null,
   "metadata": {},
   "outputs": [],
   "source": []
  },
  {
   "cell_type": "markdown",
   "metadata": {},
   "source": [
    "#### Continuous IVs linearly related to log odss"
   ]
  },
  {
   "cell_type": "code",
   "execution_count": 31,
   "metadata": {
    "scrolled": true
   },
   "outputs": [
    {
     "data": {
      "image/png": "[encoded data removed]",
      "text/plain": [
       "<Figure size 432x288 with 1 Axes>"
      ]
     },
     "metadata": {
      "needs_background": "light"
     },
     "output_type": "display_data"
    }
   ],
   "source": [
    "prior_commits = sns.regplot(x= 'prior_commits', y= 'high_re', data=data_final, logistic= True).set_title(\"Prior Commits Log Odds Linear Plot\")\n",
    "\n",
    "#gre.figure.savefig(\"gre log lin.png\")\n",
    "\n",
    "#gpa = sns.regplot(x= 'gpa', y= 'admit', data= df, logistic= True).set_title(\"GPA Log Odds Linear Plot\")\n",
    "#gpa.figure.savefig(\"gpa log lin.png\")"
   ]
  },
  {
   "cell_type": "code",
   "execution_count": 32,
   "metadata": {},
   "outputs": [
    {
     "data": {
      "image/png": "[encoded data removed]",
      "text/plain": [
       "<Figure size 432x288 with 1 Axes>"
      ]
     },
     "metadata": {
      "needs_background": "light"
     },
     "output_type": "display_data"
    }
   ],
   "source": [
    "off_1_gs_max = sns.regplot(x= 'off_1_gs_max', y= 'high_re', data=data_final, logistic= True).set_title(\"Offense gravity score Log Odds Linear Plot\")\n"
   ]
  },
  {
   "cell_type": "code",
   "execution_count": 33,
   "metadata": {},
   "outputs": [
    {
     "data": {
      "image/png": "[encoded data removed]",
      "text/plain": [
       "<Figure size 432x288 with 1 Axes>"
      ]
     },
     "metadata": {
      "needs_background": "light"
     },
     "output_type": "display_data"
    }
   ],
   "source": [
    "off_1_prs_max = sns.regplot(x= 'off_1_prs_max', y= 'high_re', data=data_final, logistic= True).set_title(\"Prior record score Log Odds Linear Plot\")\n"
   ]
  },
  {
   "cell_type": "code",
   "execution_count": 34,
   "metadata": {},
   "outputs": [
    {
     "data": {
      "image/png": "[encoded data removed]",
      "text/plain": [
       "<Figure size 432x288 with 1 Axes>"
      ]
     },
     "metadata": {
      "needs_background": "light"
     },
     "output_type": "display_data"
    }
   ],
   "source": [
    "re_discip_reports = sns.regplot(x= 're_discip_reports', y= 'high_re', data=data_final, logistic= True).set_title(\"Prior record score Log Odds Linear Plot\")\n"
   ]
  },
  {
   "cell_type": "markdown",
   "metadata": {},
   "source": [
    "#### Outliers"
   ]
  },
  {
   "cell_type": "code",
   "execution_count": 35,
   "metadata": {},
   "outputs": [
    {
     "data": {
      "image/png": "[encoded data removed]",
      "text/plain": [
       "<Figure size 432x288 with 1 Axes>"
      ]
     },
     "metadata": {
      "needs_background": "light"
     },
     "output_type": "display_data"
    }
   ],
   "source": [
    "prior_commits_box = sns.boxplot(data= data_final[['prior_commits']]).set_title(\"Prior commits and low/high Box Plot\")\n"
   ]
  },
  {
   "cell_type": "code",
   "execution_count": 36,
   "metadata": {},
   "outputs": [
    {
     "data": {
      "image/png": "[encoded data removed]",
      "text/plain": [
       "<Figure size 432x288 with 1 Axes>"
      ]
     },
     "metadata": {
      "needs_background": "light"
     },
     "output_type": "display_data"
    }
   ],
   "source": [
    "discip_reports_box = sns.boxplot(data= data_final[['re_discip_reports']]).set_title(\"Prior commits and low/high Box Plot\")\n"
   ]
  },
  {
   "cell_type": "code",
   "execution_count": 37,
   "metadata": {},
   "outputs": [
    {
     "name": "stderr",
     "output_type": "stream",
     "text": [
      "/home/ncr006/anaconda3/lib/python3.9/site-packages/seaborn/_decorators.py:36: FutureWarning: Pass the following variables as keyword args: x, y. From version 0.12, the only valid positional argument will be `data`, and passing other arguments without an explicit keyword will result in an error or misinterpretation.\n",
      "  warnings.warn(\n",
      "/home/ncr006/anaconda3/lib/python3.9/site-packages/seaborn/_decorators.py:36: FutureWarning: Pass the following variables as keyword args: x, y. From version 0.12, the only valid positional argument will be `data`, and passing other arguments without an explicit keyword will result in an error or misinterpretation.\n",
      "  warnings.warn(\n"
     ]
    },
    {
     "data": {
      "image/png": "[encoded data removed]",
      "text/plain": [
       "<Figure size 1080x1080 with 2 Axes>"
      ]
     },
     "metadata": {
      "needs_background": "light"
     },
     "output_type": "display_data"
    }
   ],
   "source": [
    "#### Residuals\n",
    "## Plotting multiple plots same figure\n",
    "fig, (axL, axR) = plt.subplots(2, figsize=(15, 15))\n",
    "plt.suptitle(\"Logistic Regression Residual Plots \\n using Seaborn Lowess line (N = 400)\")\n",
    "\n",
    "\n",
    "# Deviance Residuals\n",
    "sns.regplot(result.fittedvalues, result.resid_dev, ax= axL,\n",
    "            color=\"black\", scatter_kws={\"s\": 5},\n",
    "            line_kws={\"color\":\"b\", \"alpha\":1, \"lw\":2}, lowess=True)\n",
    "\n",
    "axL.set_title(\"Deviance Residuals \\n against Fitted Values\")\n",
    "axL.set_xlabel(\"Linear Predictor Values\")\n",
    "axL.set_ylabel(\"Deviance Residuals\")\n",
    "\n",
    "# Studentized Pearson Residuals\n",
    "sns.regplot(result.fittedvalues, result.resid_pearson, ax= axR,\n",
    "            color=\"black\", scatter_kws={\"s\": 5},\n",
    "            line_kws={\"color\":\"g\", \"alpha\":1, \"lw\":2}, lowess=True)\n",
    "\n",
    "axR.set_title(\"Studentized Pearson Residuals \\n against Fitted Values\")\n",
    "axR.set_xlabel(\"Linear Predictor Values\")\n",
    "axR.set_ylabel(\"Studentized Pearson Residuals\")\n",
    "\n",
    "plt.show()"
   ]
  },
  {
   "cell_type": "markdown",
   "metadata": {},
   "source": [
    "### Feature selection"
   ]
  },
  {
   "cell_type": "code",
   "execution_count": 38,
   "metadata": {},
   "outputs": [],
   "source": [
    "ll = ['age_gt_45',\n",
    " 're_discip_reports',\n",
    " 're_escp_hist_1',\n",
    " 're_escp_hist_5',\n",
    " 'mrt_stat_DIV',\n",
    " 'mrt_stat_SEP',\n",
    " 'mrt_stat_MAR',\n",
    " 'mrt_stat_WID',\n",
    " 'employed']\n",
    "ll.append('race_B')\n",
    "ll.append('race_A')\n",
    "ll.append('race_H')\n",
    "ll.append('race_I')\n",
    "ll.append('race_O')\n",
    "ll.append('off_1_gs_max')\n",
    "ll.append('off_1_prs_max')\n",
    "ll.append('prior_commits')\n",
    "ll.append('age_lt_25')\n",
    "ll.append('gender_female')"
   ]
  },
  {
   "cell_type": "code",
   "execution_count": 39,
   "metadata": {},
   "outputs": [],
   "source": [
    "yvars = ['high_re']\n",
    "Xvars = [i for i in data_final_vars if i not in yvars]\n",
    "X = data_final.loc[:, data_final.columns != 'high_re']\n",
    "y = data_final.loc[:, data_final.columns == 'high_re']\n",
    "X=X[ll]\n",
    "from sklearn.feature_selection import RFE\n",
    "from sklearn.linear_model import LogisticRegression\n",
    "logreg = LogisticRegression(max_iter=500) # increase the number of iterations to get convergence\n",
    "rfe = RFE(logreg, n_features_to_select=4, step=1)\n",
    "rfe = rfe.fit(X, y.values.ravel())"
   ]
  },
  {
   "cell_type": "code",
   "execution_count": 40,
   "metadata": {},
   "outputs": [
    {
     "data": {
      "text/plain": [
       "['gender_female', 'age_gt_45', 'mrt_stat_WID', 'employed']"
      ]
     },
     "execution_count": 40,
     "metadata": {},
     "output_type": "execute_result"
    }
   ],
   "source": [
    "zz= list(zip(Xvars,list(rfe.support_)))\n",
    "features = [a for (a,b) in zz if b]\n",
    "features"
   ]
  },
  {
   "cell_type": "markdown",
   "metadata": {},
   "source": [
    "## SVM"
   ]
  },
  {
   "cell_type": "code",
   "execution_count": 18,
   "metadata": {},
   "outputs": [
    {
     "name": "stderr",
     "output_type": "stream",
     "text": [
      "/home/ncr006/anaconda2/envs/psapm/lib/python3.8/site-packages/sklearn/utils/validation.py:63: DataConversionWarning: A column-vector y was passed when a 1d array was expected. Please change the shape of y to (n_samples, ), for example using ravel().\n",
      "  return f(*args, **kwargs)\n"
     ]
    },
    {
     "name": "stdout",
     "output_type": "stream",
     "text": [
      "Accuracy for our dataset in predicting test data is : 88.17%\n",
      "              precision    recall  f1-score   support\n",
      "\n",
      "           0       0.91      0.95      0.93      3563\n",
      "           1       0.72      0.59      0.65       809\n",
      "\n",
      "    accuracy                           0.88      4372\n",
      "   macro avg       0.81      0.77      0.79      4372\n",
      "weighted avg       0.88      0.88      0.88      4372\n",
      "\n"
     ]
    }
   ],
   "source": [
    "#We ommitted escape histories 2, 3 and 4 because they were highly correlated with escape history 1\n",
    "#and because we want to know if they're frequent escapees or not, and not necessarily how many times\n",
    "\n",
    "from sklearn.metrics import accuracy_score\n",
    "\n",
    "\n",
    "\n",
    "\n",
    "\n",
    "#applying Support Vector Classifier \n",
    "#fitting kernel SVM to training dataset\n",
    "from sklearn.svm import SVC\n",
    "classifier_df = SVC(kernel = 'linear' , random_state = 0)\n",
    "classifier_df.fit(X_train,y_train)\n",
    "\n",
    "#predicting test data result\n",
    "y_pred = classifier_df.predict(X_test)\n",
    "\n",
    "\n",
    "#setting up accuracy score\n",
    "\n",
    "acc = accuracy_score(y_test,y_pred) *100\n",
    "print(\"Accuracy for our dataset in predicting test data is : {:.2f}%\".format(acc))\n",
    "\n",
    "from sklearn.metrics import classification_report\n",
    "print(classification_report(y_test, y_pred))\n",
    "\n"
   ]
  },
  {
   "cell_type": "code",
   "execution_count": 15,
   "metadata": {},
   "outputs": [
    {
     "name": "stderr",
     "output_type": "stream",
     "text": [
      "/home/ncr006/anaconda2/envs/psapm/lib/python3.8/site-packages/sklearn/utils/validation.py:63: DataConversionWarning: A column-vector y was passed when a 1d array was expected. Please change the shape of y to (n_samples, ), for example using ravel().\n",
      "  return f(*args, **kwargs)\n",
      "/home/ncr006/anaconda2/envs/psapm/lib/python3.8/site-packages/sklearn/utils/validation.py:63: DataConversionWarning: A column-vector y was passed when a 1d array was expected. Please change the shape of y to (n_samples, ), for example using ravel().\n",
      "  return f(*args, **kwargs)\n",
      "/home/ncr006/anaconda2/envs/psapm/lib/python3.8/site-packages/sklearn/utils/validation.py:63: DataConversionWarning: A column-vector y was passed when a 1d array was expected. Please change the shape of y to (n_samples, ), for example using ravel().\n",
      "  return f(*args, **kwargs)\n",
      "/home/ncr006/anaconda2/envs/psapm/lib/python3.8/site-packages/sklearn/utils/validation.py:63: DataConversionWarning: A column-vector y was passed when a 1d array was expected. Please change the shape of y to (n_samples, ), for example using ravel().\n",
      "  return f(*args, **kwargs)\n",
      "/home/ncr006/anaconda2/envs/psapm/lib/python3.8/site-packages/sklearn/utils/validation.py:63: DataConversionWarning: A column-vector y was passed when a 1d array was expected. Please change the shape of y to (n_samples, ), for example using ravel().\n",
      "  return f(*args, **kwargs)\n",
      "/home/ncr006/anaconda2/envs/psapm/lib/python3.8/site-packages/sklearn/utils/validation.py:63: DataConversionWarning: A column-vector y was passed when a 1d array was expected. Please change the shape of y to (n_samples, ), for example using ravel().\n",
      "  return f(*args, **kwargs)\n",
      "/home/ncr006/anaconda2/envs/psapm/lib/python3.8/site-packages/sklearn/utils/validation.py:63: DataConversionWarning: A column-vector y was passed when a 1d array was expected. Please change the shape of y to (n_samples, ), for example using ravel().\n",
      "  return f(*args, **kwargs)\n",
      "/home/ncr006/anaconda2/envs/psapm/lib/python3.8/site-packages/sklearn/utils/validation.py:63: DataConversionWarning: A column-vector y was passed when a 1d array was expected. Please change the shape of y to (n_samples, ), for example using ravel().\n",
      "  return f(*args, **kwargs)\n",
      "/home/ncr006/anaconda2/envs/psapm/lib/python3.8/site-packages/sklearn/utils/validation.py:63: DataConversionWarning: A column-vector y was passed when a 1d array was expected. Please change the shape of y to (n_samples, ), for example using ravel().\n",
      "  return f(*args, **kwargs)\n",
      "/home/ncr006/anaconda2/envs/psapm/lib/python3.8/site-packages/sklearn/utils/validation.py:63: DataConversionWarning: A column-vector y was passed when a 1d array was expected. Please change the shape of y to (n_samples, ), for example using ravel().\n",
      "  return f(*args, **kwargs)\n",
      "/home/ncr006/anaconda2/envs/psapm/lib/python3.8/site-packages/sklearn/utils/validation.py:63: DataConversionWarning: A column-vector y was passed when a 1d array was expected. Please change the shape of y to (n_samples, ), for example using ravel().\n",
      "  return f(*args, **kwargs)\n",
      "/home/ncr006/anaconda2/envs/psapm/lib/python3.8/site-packages/sklearn/utils/validation.py:63: DataConversionWarning: A column-vector y was passed when a 1d array was expected. Please change the shape of y to (n_samples, ), for example using ravel().\n",
      "  return f(*args, **kwargs)\n",
      "/home/ncr006/anaconda2/envs/psapm/lib/python3.8/site-packages/sklearn/utils/validation.py:63: DataConversionWarning: A column-vector y was passed when a 1d array was expected. Please change the shape of y to (n_samples, ), for example using ravel().\n",
      "  return f(*args, **kwargs)\n",
      "/home/ncr006/anaconda2/envs/psapm/lib/python3.8/site-packages/sklearn/utils/validation.py:63: DataConversionWarning: A column-vector y was passed when a 1d array was expected. Please change the shape of y to (n_samples, ), for example using ravel().\n",
      "  return f(*args, **kwargs)\n",
      "/home/ncr006/anaconda2/envs/psapm/lib/python3.8/site-packages/sklearn/utils/validation.py:63: DataConversionWarning: A column-vector y was passed when a 1d array was expected. Please change the shape of y to (n_samples, ), for example using ravel().\n",
      "  return f(*args, **kwargs)\n",
      "/home/ncr006/anaconda2/envs/psapm/lib/python3.8/site-packages/sklearn/utils/validation.py:63: DataConversionWarning: A column-vector y was passed when a 1d array was expected. Please change the shape of y to (n_samples, ), for example using ravel().\n",
      "  return f(*args, **kwargs)\n",
      "/home/ncr006/anaconda2/envs/psapm/lib/python3.8/site-packages/sklearn/utils/validation.py:63: DataConversionWarning: A column-vector y was passed when a 1d array was expected. Please change the shape of y to (n_samples, ), for example using ravel().\n",
      "  return f(*args, **kwargs)\n",
      "/home/ncr006/anaconda2/envs/psapm/lib/python3.8/site-packages/sklearn/utils/validation.py:63: DataConversionWarning: A column-vector y was passed when a 1d array was expected. Please change the shape of y to (n_samples, ), for example using ravel().\n",
      "  return f(*args, **kwargs)\n",
      "/home/ncr006/anaconda2/envs/psapm/lib/python3.8/site-packages/sklearn/utils/validation.py:63: DataConversionWarning: A column-vector y was passed when a 1d array was expected. Please change the shape of y to (n_samples, ), for example using ravel().\n",
      "  return f(*args, **kwargs)\n",
      "/home/ncr006/anaconda2/envs/psapm/lib/python3.8/site-packages/sklearn/utils/validation.py:63: DataConversionWarning: A column-vector y was passed when a 1d array was expected. Please change the shape of y to (n_samples, ), for example using ravel().\n",
      "  return f(*args, **kwargs)\n",
      "/home/ncr006/anaconda2/envs/psapm/lib/python3.8/site-packages/sklearn/utils/validation.py:63: DataConversionWarning: A column-vector y was passed when a 1d array was expected. Please change the shape of y to (n_samples, ), for example using ravel().\n",
      "  return f(*args, **kwargs)\n",
      "/home/ncr006/anaconda2/envs/psapm/lib/python3.8/site-packages/sklearn/utils/validation.py:63: DataConversionWarning: A column-vector y was passed when a 1d array was expected. Please change the shape of y to (n_samples, ), for example using ravel().\n",
      "  return f(*args, **kwargs)\n",
      "/home/ncr006/anaconda2/envs/psapm/lib/python3.8/site-packages/sklearn/utils/validation.py:63: DataConversionWarning: A column-vector y was passed when a 1d array was expected. Please change the shape of y to (n_samples, ), for example using ravel().\n",
      "  return f(*args, **kwargs)\n",
      "/home/ncr006/anaconda2/envs/psapm/lib/python3.8/site-packages/sklearn/utils/validation.py:63: DataConversionWarning: A column-vector y was passed when a 1d array was expected. Please change the shape of y to (n_samples, ), for example using ravel().\n",
      "  return f(*args, **kwargs)\n",
      "/home/ncr006/anaconda2/envs/psapm/lib/python3.8/site-packages/sklearn/utils/validation.py:63: DataConversionWarning: A column-vector y was passed when a 1d array was expected. Please change the shape of y to (n_samples, ), for example using ravel().\n",
      "  return f(*args, **kwargs)\n",
      "/home/ncr006/anaconda2/envs/psapm/lib/python3.8/site-packages/sklearn/utils/validation.py:63: DataConversionWarning: A column-vector y was passed when a 1d array was expected. Please change the shape of y to (n_samples, ), for example using ravel().\n",
      "  return f(*args, **kwargs)\n",
      "/home/ncr006/anaconda2/envs/psapm/lib/python3.8/site-packages/sklearn/utils/validation.py:63: DataConversionWarning: A column-vector y was passed when a 1d array was expected. Please change the shape of y to (n_samples, ), for example using ravel().\n",
      "  return f(*args, **kwargs)\n",
      "/home/ncr006/anaconda2/envs/psapm/lib/python3.8/site-packages/sklearn/utils/validation.py:63: DataConversionWarning: A column-vector y was passed when a 1d array was expected. Please change the shape of y to (n_samples, ), for example using ravel().\n",
      "  return f(*args, **kwargs)\n",
      "/home/ncr006/anaconda2/envs/psapm/lib/python3.8/site-packages/sklearn/utils/validation.py:63: DataConversionWarning: A column-vector y was passed when a 1d array was expected. Please change the shape of y to (n_samples, ), for example using ravel().\n",
      "  return f(*args, **kwargs)\n",
      "/home/ncr006/anaconda2/envs/psapm/lib/python3.8/site-packages/sklearn/utils/validation.py:63: DataConversionWarning: A column-vector y was passed when a 1d array was expected. Please change the shape of y to (n_samples, ), for example using ravel().\n",
      "  return f(*args, **kwargs)\n"
     ]
    },
    {
     "name": "stderr",
     "output_type": "stream",
     "text": [
      "/home/ncr006/anaconda2/envs/psapm/lib/python3.8/site-packages/sklearn/utils/validation.py:63: DataConversionWarning: A column-vector y was passed when a 1d array was expected. Please change the shape of y to (n_samples, ), for example using ravel().\n",
      "  return f(*args, **kwargs)\n"
     ]
    },
    {
     "name": "stdout",
     "output_type": "stream",
     "text": [
      "Accuracy for our dataset with tuning is : 89.72%\n"
     ]
    }
   ],
   "source": [
    "from sklearn.model_selection import GridSearchCV\n",
    "parameters = [{'C': [1,10,100], 'kernel': ['linear']}]\n",
    "grid_search = GridSearchCV(estimator= classifier_df,\n",
    "                          param_grid = parameters, scoring = 'accuracy',cv = 10)\n",
    "grid_search = grid_search.fit(X_train, y_train)\n",
    "\n",
    "accuracy = grid_search.best_score_ *100\n",
    "\n",
    "print(\"Accuracy for our dataset with tuning is : {:.2f}%\".format(accuracy) )"
   ]
  },
  {
   "cell_type": "markdown",
   "metadata": {},
   "source": [
    "## Neural networks"
   ]
  },
  {
   "cell_type": "code",
   "execution_count": 19,
   "metadata": {},
   "outputs": [
    {
     "name": "stderr",
     "output_type": "stream",
     "text": [
      "/home/ncr006/anaconda2/envs/psapm/lib/python3.8/site-packages/sklearn/utils/validation.py:63: DataConversionWarning: A column-vector y was passed when a 1d array was expected. Please change the shape of y to (n_samples, ), for example using ravel().\n",
      "  return f(*args, **kwargs)\n"
     ]
    },
    {
     "name": "stdout",
     "output_type": "stream",
     "text": [
      "Accuracy for our dataset in predicting test data is : 88.56%\n",
      "              precision    recall  f1-score   support\n",
      "\n",
      "           0       0.92      0.94      0.93      3563\n",
      "           1       0.71      0.64      0.67       809\n",
      "\n",
      "    accuracy                           0.89      4372\n",
      "   macro avg       0.82      0.79      0.80      4372\n",
      "weighted avg       0.88      0.89      0.88      4372\n",
      "\n"
     ]
    }
   ],
   "source": [
    "from sklearn.neural_network import MLPClassifier\n",
    "\n",
    "clf = MLPClassifier(solver='lbfgs', \n",
    "                    alpha=1e-5,\n",
    "                    hidden_layer_sizes=(14,), \n",
    "                    random_state=1, \n",
    "                    max_iter=10000)\n",
    "\n",
    "clf.fit(X_train, y_train)\n",
    "\n",
    "y_pred = clf.predict(X_test)\n",
    "\n",
    "acc = accuracy_score(y_test,y_pred) *100\n",
    "print(\"Accuracy for our dataset in predicting test data is : {:.2f}%\".format(acc))\n",
    "\n",
    "from sklearn.metrics import classification_report\n",
    "print(classification_report(y_test, y_pred))\n"
   ]
  },
  {
   "cell_type": "markdown",
   "metadata": {},
   "source": [
    "## Random forests"
   ]
  },
  {
   "cell_type": "code",
   "execution_count": 20,
   "metadata": {},
   "outputs": [
    {
     "name": "stderr",
     "output_type": "stream",
     "text": [
      "<ipython-input-20-8bc267bbfbcd>:5: DataConversionWarning: A column-vector y was passed when a 1d array was expected. Please change the shape of y to (n_samples,), for example using ravel().\n",
      "  clf.fit(X_train, y_train)\n"
     ]
    },
    {
     "name": "stdout",
     "output_type": "stream",
     "text": [
      "Accuracy for our dataset in predicting test data is : 87.01%\n",
      "              precision    recall  f1-score   support\n",
      "\n",
      "           0       0.91      0.93      0.92      3563\n",
      "           1       0.67      0.58      0.62       809\n",
      "\n",
      "    accuracy                           0.87      4372\n",
      "   macro avg       0.79      0.76      0.77      4372\n",
      "weighted avg       0.86      0.87      0.87      4372\n",
      "\n"
     ]
    }
   ],
   "source": [
    "from sklearn.ensemble import RandomForestClassifier\n",
    "from sklearn.metrics import confusion_matrix\n",
    "\n",
    "clf = RandomForestClassifier(n_estimators = 100, criterion = 'gini', random_state = 0)\n",
    "clf.fit(X_train, y_train)\n",
    "\n",
    "from sklearn.metrics import accuracy_score\n",
    "\n",
    "y_pred = clf.predict(X_test)\n",
    "\n",
    "acc = accuracy_score(y_test,y_pred) *100\n",
    "print(\"Accuracy for our dataset in predicting test data is : {:.2f}%\".format(acc))\n",
    "\n",
    "from sklearn.metrics import classification_report\n",
    "print(classification_report(y_test, y_pred))\n"
   ]
  },
  {
   "cell_type": "code",
   "execution_count": null,
   "metadata": {},
   "outputs": [],
   "source": []
  }
 ],
 "metadata": {
  "interpreter": {
   "hash": "20ee1cfdc84c60eed2c3b984f4d3a2f31ec1d88fe692b137e9191f9b5e219ca2"
  },
  "kernelspec": {
   "display_name": "Python 3",
   "language": "python",
   "name": "python3"
  },
  "language_info": {
   "codemirror_mode": {
    "name": "ipython",
    "version": 3
   },
   "file_extension": ".py",
   "mimetype": "text/x-python",
   "name": "python",
   "nbconvert_exporter": "python",
   "pygments_lexer": "ipython3",
   "version": "3.8.10"
  }
 },
 "nbformat": 4,
 "nbformat_minor": 2
}

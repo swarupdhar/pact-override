{
 "cells": [
  {
   "cell_type": "markdown",
   "metadata": {},
   "source": [
    "# Multinomial regression"
   ]
  },
  {
   "cell_type": "markdown",
   "metadata": {},
   "source": [
    "## Reclassification"
   ]
  },
  {
   "cell_type": "markdown",
   "metadata": {},
   "source": [
    "**Notebook Setup**"
   ]
  },
  {
   "cell_type": "code",
   "execution_count": 1,
   "metadata": {},
   "outputs": [],
   "source": [
    "import sys\n",
    "sys.path.append(\"../src\")\n",
    "%load_ext autoreload\n",
    "%autoreload 2"
   ]
  },
  {
   "cell_type": "code",
   "execution_count": 2,
   "metadata": {},
   "outputs": [],
   "source": [
    "import pandas as pd\n",
    "import numpy as np\n",
    "import matplotlib.pyplot as plt\n",
    "from sklearn.model_selection import train_test_split\n",
    "from sklearn.linear_model import LogisticRegression\n",
    "\n",
    "%matplotlib inline"
   ]
  },
  {
   "cell_type": "code",
   "execution_count": 3,
   "metadata": {},
   "outputs": [],
   "source": [
    "plt.style.use('ggplot')"
   ]
  },
  {
   "cell_type": "code",
   "execution_count": 4,
   "metadata": {},
   "outputs": [
    {
     "name": "stdout",
     "output_type": "stream",
     "text": [
      "Index(['re_curr_off_cd_1', 're_curr_off_cd_2', 're_curr_off_cd_3',\n",
      "       're_prev_off_cd_1', 're_prev_off_cd_2', 're_prev_off_cd_3',\n",
      "       're_escp_hist_1', 're_escp_hist_2', 're_escp_hist_3', 're_escp_hist_4',\n",
      "       're_escp_hist_5', 're_discip_reports', 're_age_for_class',\n",
      "       're_instit_violence', 'ic_prior_commits', 'race', 'sex',\n",
      "       'ethnic_identity', 'citizenship', 'religion', 'legal_zip_code',\n",
      "       'ic_employ_ind', 'date_of_birth', 're_custody_level', 'ic_custdy_level',\n",
      "       'control_number', 're_ovride_cust_lvl', 're_de_year', 'off_1_gs_max',\n",
      "       'off_1_gs_min', 'off_2_gs_max', 'off_2_gs_min', 'off_3_gs_max',\n",
      "       'off_3_gs_min', 'off_1_prs_max', 'off_1_prs_min', 'off_2_prs_max',\n",
      "       'off_2_prs_min', 'off_3_prs_max', 'off_3_prs_min', 'marital_status',\n",
      "       'ic_mrtl_stat_fr_cl', 'affilatns_ind', 'affilatn_code_1',\n",
      "       'affilatn_code_2', 'affilatn_code_3', 'affilatn_code_4',\n",
      "       'affilatn_code_5', 'affilatn_code_6', 'affilatn_code_7',\n",
      "       'affilatn_code_8', 'affilatn_code_9', 'affilatn_code_10',\n",
      "       'prob_alcohol', 'prob_drugs', 'prob_sexual', 'prob_assault',\n",
      "       'prob_escape', 'prob_suicide', 'prob_psyco', 'program_level_1',\n",
      "       'program_level_2', 'program_level_3', 'ic_prog_code_1',\n",
      "       'ic_prog_code_2', 'ic_prog_code_3', 'ic_othr_needs_cond',\n",
      "       're_wrk_performnce', 're_hous_perfrmnce', 're_othr_needs_cond',\n",
      "       'problematic_offenses', 'age', 'age_gt_45', 'age_lt_25',\n",
      "       'gender_female', 'race_A', 'race_B', 'race_H', 'race_I', 'race_O',\n",
      "       'prior_commits', 'escape_hist', 'mrt_stat_  ', 'mrt_stat_   ',\n",
      "       'mrt_stat_0', 'mrt_stat_180', 'mrt_stat_3', 'mrt_stat_31',\n",
      "       'mrt_stat_DIV', 'mrt_stat_MAR', 'mrt_stat_SEP', 'mrt_stat_WID',\n",
      "       'employed', 'high_re_discip_reports', 're_override_up', 'high_re'],\n",
      "      dtype='object')\n"
     ]
    }
   ],
   "source": [
    "%matplotlib inline\n",
    "\n",
    "from project import rf_models, preprocessing\n",
    "\n",
    "df = pd.read_csv(\"../data/re_custody_2017_gsprs.csv\", low_memory=False)\n",
    "\n",
    "\n",
    "\n",
    "# preprocessing\n",
    "data = preprocessing.preprocess_input_vars_re(df)\n",
    "data = data[data.ic_custdy_level > 1]\n",
    "data['high_re_discip_reports'] = np.where(data['re_discip_reports']>2, 1, 0)\n",
    "\n",
    "data['re_override_up'] = np.where(data['re_ovride_cust_lvl']-data['re_custody_level']>0,1,0)\n",
    "data['high_re'] = np.where(data['re_custody_level']>3, 1, 0)\n",
    "print(data.columns)\n",
    "data = data[\n",
    "    [\n",
    "        \"gender_female\",\n",
    "        \"age_gt_45\",\n",
    "        \"age_lt_25\",\n",
    "        \"race_B\",\n",
    "        \"race_A\",\n",
    "        \"race_H\",\n",
    "        \"race_I\",\n",
    "        \"race_O\",\n",
    "        \"off_1_prs_max\",\n",
    "        \"off_1_gs_max\",\n",
    "        #\"ic_custdy_level\",\n",
    "        \"prior_commits\",\n",
    "        \"re_discip_reports\",\n",
    "        \"re_escp_hist_1\",\n",
    "        #\"re_escp_hist_2\",\n",
    "        #\"re_escp_hist_3\",\n",
    "        #\"re_escp_hist_4\",\n",
    "        \"re_escp_hist_5\",\n",
    "        \"mrt_stat_DIV\",\n",
    "        \"mrt_stat_SEP\",\n",
    "        \"mrt_stat_MAR\",\n",
    "        \"mrt_stat_WID\",\n",
    "        \"employed\",\n",
    "        #\"high_re_discip_reports\",\n",
    "        #\"high_re\"\n",
    "        \"re_custody_level\"\n",
    "    ]\n",
    "]\n",
    "data = data.dropna()\n",
    "\n",
    "\n",
    "df_re_all = data\n"
   ]
  },
  {
   "cell_type": "markdown",
   "metadata": {},
   "source": [
    "#### Multinomial"
   ]
  },
  {
   "cell_type": "code",
   "execution_count": 5,
   "metadata": {},
   "outputs": [
    {
     "data": {
      "text/plain": [
       "LogisticRegression(max_iter=10000, multi_class='multinomial')"
      ]
     },
     "execution_count": 5,
     "metadata": {},
     "output_type": "execute_result"
    }
   ],
   "source": [
    "X = df_re_all.drop(\"re_custody_level\", axis=1)\n",
    "y = df_re_all[\"re_custody_level\"]\n",
    "X_train, X_test, Y_train, Y_test = train_test_split(X, y, train_size=0.2, random_state=1)\n",
    "model = LogisticRegression(multi_class=\"multinomial\", max_iter=10_000)\n",
    "model.fit(X_train, Y_train)"
   ]
  },
  {
   "cell_type": "code",
   "execution_count": 6,
   "metadata": {},
   "outputs": [
    {
     "name": "stdout",
     "output_type": "stream",
     "text": [
      "Mean Accuracy: 0.776 (0.009)\n"
     ]
    }
   ],
   "source": [
    "from sklearn.model_selection import RepeatedStratifiedKFold\n",
    "from sklearn.model_selection import cross_val_score\n",
    "\n",
    "cv = RepeatedStratifiedKFold(n_splits=10, n_repeats=3, random_state=1)\n",
    "# evaluate the model and collect the scores\n",
    "n_scores = cross_val_score(model, X_test, Y_test, scoring='accuracy', cv=cv, n_jobs=-1)\n",
    "# report the model performance\n",
    "print('Mean Accuracy: %.3f (%.3f)' % (np.mean(n_scores), np.std(n_scores)))"
   ]
  },
  {
   "cell_type": "code",
   "execution_count": 7,
   "metadata": {},
   "outputs": [
    {
     "data": {
      "text/plain": [
       "array([[ 9.17571936e-01,  6.65397919e-01, -1.87597683e-01,\n",
       "        -4.66085134e-01, -4.93947435e-01, -1.06172419e-01,\n",
       "        -3.97606109e-01, -1.14429037e+00, -1.27803624e-01,\n",
       "        -9.32724597e-02,  4.74383135e-02, -2.16108256e+00,\n",
       "         8.20398088e-02, -5.21664259e-01,  6.69641995e-01,\n",
       "         2.94398422e-01,  3.54563233e-01,  5.30459973e-02,\n",
       "         4.15131848e-01],\n",
       "       [ 4.06756327e-01,  1.44932886e-01, -1.07105445e-01,\n",
       "         5.32033431e-02,  8.04874573e-01, -6.07596703e-02,\n",
       "         6.02962916e-02,  5.55019625e-01,  1.42301290e-02,\n",
       "        -7.82747497e-03, -2.56832009e-02,  4.78438964e-02,\n",
       "         2.86325184e-02,  6.27515939e-02, -2.78274361e-01,\n",
       "         3.46456218e-01,  6.78921180e-02,  4.68967727e-02,\n",
       "        -1.91932398e-02],\n",
       "       [-3.97376164e-01, -4.16563427e-01,  3.53125671e-01,\n",
       "         2.56002018e-01, -2.05578346e-01, -1.29123491e-01,\n",
       "         5.51887245e-01,  7.03612214e-01,  1.23475490e-01,\n",
       "         1.02705708e-01, -1.51494442e-02,  1.34106934e+00,\n",
       "        -2.47207350e-01, -1.18356077e-01, -4.72404109e-01,\n",
       "        -4.46614548e-01, -4.09236744e-01, -7.17999377e-01,\n",
       "        -6.77610928e-02],\n",
       "       [-9.26952099e-01, -3.93767377e-01, -5.84225430e-02,\n",
       "         1.56879774e-01, -1.05348792e-01,  2.96055581e-01,\n",
       "        -2.14577427e-01, -1.14341466e-01, -9.90199480e-03,\n",
       "        -1.60577288e-03, -6.60566833e-03,  7.72169325e-01,\n",
       "         1.36535023e-01,  5.77268742e-01,  8.10364748e-02,\n",
       "        -1.94240092e-01, -1.32186067e-02,  6.18056607e-01,\n",
       "        -3.28177515e-01]])"
      ]
     },
     "execution_count": 7,
     "metadata": {},
     "output_type": "execute_result"
    }
   ],
   "source": [
    "model.coef_"
   ]
  },
  {
   "cell_type": "code",
   "execution_count": 8,
   "metadata": {},
   "outputs": [
    {
     "data": {
      "text/plain": [
       "array([[2.50320506, 1.94526442, 0.82894814, 0.62745386, 0.61021286,\n",
       "        0.89926958, 0.67192664, 0.31844982, 0.88002618, 0.91094527,\n",
       "        1.04858152, 0.11520034, 1.08549902, 0.59353193, 1.95353782,\n",
       "        1.34231861, 1.42555788, 1.05447815, 1.51457042],\n",
       "       [1.50193808, 1.15596199, 0.89843093, 1.05464408, 2.23641597,\n",
       "        0.94104937, 1.06215121, 1.74197517, 1.01433186, 0.99220308,\n",
       "        0.97464381, 1.04900689, 1.02904637, 1.06476231, 0.75708908,\n",
       "        1.41404758, 1.07024984, 1.04801382, 0.98098978],\n",
       "       [0.67208117, 0.65930869, 1.42351003, 1.29175533, 0.8141763 ,\n",
       "        0.87886543, 1.73652718, 2.02103997, 1.13142227, 1.10816524,\n",
       "        0.98496473, 3.82312954, 0.78097874, 0.88837966, 0.6235015 ,\n",
       "        0.63979047, 0.66415698, 0.48772704, 0.9344837 ],\n",
       "       [0.39575811, 0.67451094, 0.9432513 , 1.16985496, 0.90001055,\n",
       "        1.34454489, 0.80688233, 0.89195333, 0.99014687, 0.99839552,\n",
       "        0.9934161 , 2.16445657, 1.14629502, 1.78116695, 1.08441045,\n",
       "        0.82346017, 0.98686838, 1.85531892, 0.72023516]])"
      ]
     },
     "execution_count": 8,
     "metadata": {},
     "output_type": "execute_result"
    }
   ],
   "source": [
    "np.exp(model.coef_)"
   ]
  },
  {
   "cell_type": "code",
   "execution_count": 9,
   "metadata": {},
   "outputs": [
    {
     "data": {
      "text/plain": [
       "[('gender_female', 2.5032050625644278),\n",
       " ('age_gt_45', 1.9452644240974244),\n",
       " ('age_lt_25', 0.8289481401356446),\n",
       " ('race_B', 0.6274538639568635),\n",
       " ('race_A', 0.6102128579806267),\n",
       " ('race_H', 0.8992695831227155),\n",
       " ('race_I', 0.6719266410841208),\n",
       " ('race_O', 0.3184498182203988),\n",
       " ('off_1_prs_max', 0.8800261778185762),\n",
       " ('off_1_gs_max', 0.910945270569428),\n",
       " ('prior_commits', 1.0485815157590561),\n",
       " ('re_discip_reports', 0.11520034211762745),\n",
       " ('re_escp_hist_1', 1.0854990214183715),\n",
       " ('re_escp_hist_5', 0.5935319348222496),\n",
       " ('mrt_stat_DIV', 1.953537819461267),\n",
       " ('mrt_stat_SEP', 1.3423186062735821),\n",
       " ('mrt_stat_MAR', 1.4255578809871716),\n",
       " ('mrt_stat_WID', 1.0544781471772724),\n",
       " ('employed', 1.514570420211486)]"
      ]
     },
     "execution_count": 9,
     "metadata": {},
     "output_type": "execute_result"
    }
   ],
   "source": [
    "# For CL 2\n",
    "features = list(X_train.columns.values)\n",
    "coeffs = list(np.exp(model.coef_)[0])\n",
    "list(zip(features, coeffs))"
   ]
  },
  {
   "cell_type": "code",
   "execution_count": 10,
   "metadata": {},
   "outputs": [
    {
     "data": {
      "text/plain": [
       "[('gender_female', 1.5019380795680597),\n",
       " ('age_gt_45', 1.1559619860332522),\n",
       " ('age_lt_25', 0.8984309329603775),\n",
       " ('race_B', 1.054644077964003),\n",
       " ('race_A', 2.2364159740681866),\n",
       " ('race_H', 0.9410493746978116),\n",
       " ('race_I', 1.0621512063876881),\n",
       " ('race_O', 1.7419751710271214),\n",
       " ('off_1_prs_max', 1.0143318592802906),\n",
       " ('off_1_gs_max', 0.9922030799403608),\n",
       " ('prior_commits', 0.9746438069453743),\n",
       " ('re_discip_reports', 1.0490068887937618),\n",
       " ('re_escp_hist_1', 1.029046369358598),\n",
       " ('re_escp_hist_5', 1.0647623129405972),\n",
       " ('mrt_stat_DIV', 0.7570890776054616),\n",
       " ('mrt_stat_SEP', 1.4140475830150097),\n",
       " ('mrt_stat_MAR', 1.0702498415193515),\n",
       " ('mrt_stat_WID', 1.048013819823259),\n",
       " ('employed', 0.980989777701634)]"
      ]
     },
     "execution_count": 10,
     "metadata": {},
     "output_type": "execute_result"
    }
   ],
   "source": [
    "# For CL 3\n",
    "features = list(X_train.columns.values)\n",
    "coeffs = list(np.exp(model.coef_)[1])\n",
    "list(zip(features, coeffs))"
   ]
  },
  {
   "cell_type": "code",
   "execution_count": 11,
   "metadata": {},
   "outputs": [
    {
     "data": {
      "text/plain": [
       "[('gender_female', 0.6720811650978593),\n",
       " ('age_gt_45', 0.6593086935591578),\n",
       " ('age_lt_25', 1.4235100260774745),\n",
       " ('race_B', 1.2917553341585355),\n",
       " ('race_A', 0.8141763047079337),\n",
       " ('race_H', 0.8788654268398883),\n",
       " ('race_I', 1.7365271801800322),\n",
       " ('race_O', 2.021039965841173),\n",
       " ('off_1_prs_max', 1.1314222732776533),\n",
       " ('off_1_gs_max', 1.1081652364668957),\n",
       " ('prior_commits', 0.9849647313549769),\n",
       " ('re_discip_reports', 3.823129543572266),\n",
       " ('re_escp_hist_1', 0.7809787407331134),\n",
       " ('re_escp_hist_5', 0.8883796646003911),\n",
       " ('mrt_stat_DIV', 0.6235014992189579),\n",
       " ('mrt_stat_SEP', 0.6397904692637351),\n",
       " ('mrt_stat_MAR', 0.6641569786493356),\n",
       " ('mrt_stat_WID', 0.48772703860310485),\n",
       " ('employed', 0.9344837018392907)]"
      ]
     },
     "execution_count": 11,
     "metadata": {},
     "output_type": "execute_result"
    }
   ],
   "source": [
    "# For CL 4\n",
    "features = list(X_train.columns.values)\n",
    "coeffs = list(np.exp(model.coef_)[2])\n",
    "list(zip(features, coeffs))"
   ]
  },
  {
   "cell_type": "code",
   "execution_count": 12,
   "metadata": {},
   "outputs": [
    {
     "data": {
      "text/plain": [
       "[('gender_female', 0.39575810567583103),\n",
       " ('age_gt_45', 0.6745109445673683),\n",
       " ('age_lt_25', 0.9432512989414351),\n",
       " ('race_B', 1.1698549579071407),\n",
       " ('race_A', 0.9000105514893465),\n",
       " ('race_H', 1.3445448856727351),\n",
       " ('race_I', 0.8068823344581024),\n",
       " ('race_O', 0.8919533324053555),\n",
       " ('off_1_prs_max', 0.9901468685370755),\n",
       " ('off_1_gs_max', 0.9983955156795937),\n",
       " ('prior_commits', 0.9934161011323084),\n",
       " ('re_discip_reports', 2.16445657448873),\n",
       " ('re_escp_hist_1', 1.1462950236155025),\n",
       " ('re_escp_hist_5', 1.7811669546243418),\n",
       " ('mrt_stat_DIV', 1.0844104494657278),\n",
       " ('mrt_stat_SEP', 0.8234601742039085),\n",
       " ('mrt_stat_MAR', 0.9868683754166777),\n",
       " ('mrt_stat_WID', 1.8553189217549477),\n",
       " ('employed', 0.720235155647592)]"
      ]
     },
     "execution_count": 12,
     "metadata": {},
     "output_type": "execute_result"
    }
   ],
   "source": [
    "# For CL 5\n",
    "features = list(X_train.columns.values)\n",
    "coeffs = list(np.exp(model.coef_)[3])\n",
    "list(zip(features, coeffs))"
   ]
  },
  {
   "cell_type": "markdown",
   "metadata": {},
   "source": [
    "### Feature selection"
   ]
  },
  {
   "cell_type": "code",
   "execution_count": null,
   "metadata": {},
   "outputs": [],
   "source": []
  },
  {
   "cell_type": "code",
   "execution_count": 14,
   "metadata": {},
   "outputs": [
    {
     "data": {
      "text/plain": [
       "['gender_female',\n",
       " 'age_gt_45',\n",
       " 'race_A',\n",
       " 're_discip_reports',\n",
       " 'mrt_stat_DIV',\n",
       " 'mrt_stat_SEP',\n",
       " 'mrt_stat_MAR',\n",
       " 'employed']"
      ]
     },
     "execution_count": 14,
     "metadata": {},
     "output_type": "execute_result"
    }
   ],
   "source": [
    "from sklearn.feature_selection import RFE\n",
    "\n",
    "data_final_vars=df_re_all.columns.values.tolist()\n",
    "yvars = ['re_custody_level']\n",
    "Xvars = [i for i in data_final_vars if i not in yvars]\n",
    "\n",
    "rfe = RFE(model, n_features_to_select=8, step=1)\n",
    "rfe = rfe.fit(X, y.values.ravel())\n",
    "\n",
    "zz= list(zip(Xvars,list(rfe.support_)))\n",
    "ll = [a for (a,b) in zz if b]\n",
    "ll"
   ]
  },
  {
   "cell_type": "markdown",
   "metadata": {},
   "source": [
    "#### Class imbalance"
   ]
  },
  {
   "cell_type": "code",
   "execution_count": 13,
   "metadata": {},
   "outputs": [
    {
     "name": "stdout",
     "output_type": "stream",
     "text": [
      "percentage of lev 2 is 60.156464452374415\n",
      "percentage of lev 3 is 22.36480922316772\n",
      "percentage of lev 4 is 12.242657150699973\n",
      "percentage of lev 5 is 5.236069173757891\n"
     ]
    },
    {
     "data": {
      "text/plain": [
       "1.0"
      ]
     },
     "execution_count": 13,
     "metadata": {},
     "output_type": "execute_result"
    }
   ],
   "source": [
    "count_2 = len(df_re_all[df_re_all['re_custody_level']==2])\n",
    "count_3 = len(df_re_all[df_re_all['re_custody_level']==3])\n",
    "count_4 = len(df_re_all[df_re_all['re_custody_level']==4])\n",
    "count_5 = len(df_re_all[df_re_all['re_custody_level']==5])\n",
    "\n",
    "tot = count_2 + count_3 + count_4 + count_5\n",
    "\n",
    "pct_2 = count_2/tot\n",
    "print(\"percentage of lev 2 is\", pct_2*100)\n",
    "pct_3 = count_3/tot\n",
    "print(\"percentage of lev 3 is\", pct_3*100)\n",
    "pct_4 = count_4/tot\n",
    "print(\"percentage of lev 4 is\", pct_4*100)\n",
    "pct_5 = count_5/tot\n",
    "print(\"percentage of lev 5 is\", pct_5*100)\n",
    "\n",
    "\n",
    "pct_2 +pct_3 + pct_4 +pct_5 "
   ]
  },
  {
   "cell_type": "markdown",
   "metadata": {},
   "source": [
    "#### Oversampling to fix"
   ]
  },
  {
   "cell_type": "code",
   "execution_count": 14,
   "metadata": {},
   "outputs": [],
   "source": [
    "from imblearn.over_sampling import SMOTE\n",
    "\n",
    "os = SMOTE(random_state=0)\n",
    "\n",
    "X, y = os.fit_resample(X, y)"
   ]
  },
  {
   "cell_type": "code",
   "execution_count": 15,
   "metadata": {},
   "outputs": [
    {
     "data": {
      "text/plain": [
       "LogisticRegression(max_iter=10000, multi_class='multinomial')"
      ]
     },
     "execution_count": 15,
     "metadata": {},
     "output_type": "execute_result"
    }
   ],
   "source": [
    "X_train, X_test, Y_train, Y_test = train_test_split(X, y, train_size=0.2, random_state=1)\n",
    "model = LogisticRegression(multi_class=\"multinomial\", max_iter=10_000)\n",
    "model.fit(X_train, Y_train)"
   ]
  },
  {
   "cell_type": "code",
   "execution_count": 18,
   "metadata": {},
   "outputs": [
    {
     "name": "stdout",
     "output_type": "stream",
     "text": [
      "Mean Accuracy: 0.573 (0.007)\n"
     ]
    }
   ],
   "source": [
    "cv = RepeatedStratifiedKFold(n_splits=10, n_repeats=3, random_state=1)\n",
    "# evaluate the model and collect the scores\n",
    "n_scores = cross_val_score(model, X_test, Y_test, scoring='accuracy', cv=cv, n_jobs=-1)\n",
    "# report the model performance\n",
    "print('Mean Accuracy: %.3f (%.3f)' % (np.mean(n_scores), np.std(n_scores)))"
   ]
  },
  {
   "cell_type": "code",
   "execution_count": 19,
   "metadata": {
    "scrolled": true
   },
   "outputs": [
    {
     "data": {
      "text/plain": [
       "array([[5.78411467, 4.37038786, 1.11419576, 1.39118567, 1.26689318,\n",
       "        2.30928592, 0.69388357, 1.89758085, 0.89575868, 0.90602791,\n",
       "        1.06800092, 0.12312354, 1.9579385 , 1.84297649, 3.58743955,\n",
       "        3.59140873, 3.84262969, 1.68862098, 2.8103826 ],\n",
       "       [1.81427057, 1.49665559, 0.67045756, 0.94500785, 0.80613115,\n",
       "        0.93140017, 1.9658766 , 1.04320326, 1.04023151, 1.01550026,\n",
       "        0.9989254 , 1.12237368, 1.02184092, 0.88933676, 0.86831491,\n",
       "        1.48769178, 0.9359293 , 0.6815824 , 1.30849395],\n",
       "       [0.35315728, 0.46472802, 1.56162424, 1.16407307, 0.99524094,\n",
       "        0.90609033, 0.89689664, 0.98302215, 1.06755322, 1.0817903 ,\n",
       "        0.95019302, 3.50585355, 0.696055  , 0.87882621, 0.59492718,\n",
       "        0.86932481, 0.65370415, 0.36999303, 0.63079354],\n",
       "       [0.26983165, 0.32897227, 0.85721678, 0.65343027, 0.9838436 ,\n",
       "        0.51311473, 0.81736257, 0.51388681, 1.00528553, 1.00469745,\n",
       "        0.98646909, 2.06408542, 0.71808211, 0.69424212, 0.53960298,\n",
       "        0.21529807, 0.42535073, 2.34831261, 0.43109759]])"
      ]
     },
     "execution_count": 19,
     "metadata": {},
     "output_type": "execute_result"
    }
   ],
   "source": [
    "np.exp(model.coef_)"
   ]
  },
  {
   "cell_type": "code",
   "execution_count": 26,
   "metadata": {},
   "outputs": [
    {
     "data": {
      "text/plain": [
       "[('gender_female', 5.784114673411529),\n",
       " ('age_gt_45', 4.370387858800114),\n",
       " ('age_lt_25', 1.1141957573483274),\n",
       " ('race_B', 1.3911856714008854),\n",
       " ('race_A', 1.266893179962617),\n",
       " ('race_H', 2.309285921361442),\n",
       " ('race_I', 0.6938835707509523),\n",
       " ('race_O', 1.89758085216362),\n",
       " ('off_1_prs_max', 0.8957586832016886),\n",
       " ('off_1_gs_max', 0.9060279094585155),\n",
       " ('prior_commits', 1.068000918047938),\n",
       " ('re_discip_reports', 0.1231235390031406),\n",
       " ('re_escp_hist_1', 1.9579384986882713),\n",
       " ('re_escp_hist_5', 1.8429764868516205),\n",
       " ('mrt_stat_DIV', 3.587439548528901),\n",
       " ('mrt_stat_SEP', 3.5914087315800787),\n",
       " ('mrt_stat_MAR', 3.8426296913612554),\n",
       " ('mrt_stat_WID', 1.6886209791198246),\n",
       " ('employed', 2.810382598118759)]"
      ]
     },
     "execution_count": 26,
     "metadata": {},
     "output_type": "execute_result"
    }
   ],
   "source": [
    "# For CL 2\n",
    "features = list(X_train.columns.values)\n",
    "coeffs = list(np.exp(model.coef_)[0])\n",
    "list(zip(features, coeffs))"
   ]
  },
  {
   "cell_type": "code",
   "execution_count": 27,
   "metadata": {},
   "outputs": [
    {
     "data": {
      "text/plain": [
       "[('gender_female', 1.814270568959974),\n",
       " ('age_gt_45', 1.4966555859531965),\n",
       " ('age_lt_25', 0.6704575632597396),\n",
       " ('race_B', 0.9450078502145366),\n",
       " ('race_A', 0.8061311517721217),\n",
       " ('race_H', 0.9314001666882661),\n",
       " ('race_I', 1.9658766034594075),\n",
       " ('race_O', 1.0432032576940136),\n",
       " ('off_1_prs_max', 1.0402315149253774),\n",
       " ('off_1_gs_max', 1.0155002632923493),\n",
       " ('prior_commits', 0.9989253995473749),\n",
       " ('re_discip_reports', 1.12237367918668),\n",
       " ('re_escp_hist_1', 1.0218409214736333),\n",
       " ('re_escp_hist_5', 0.8893367599122296),\n",
       " ('mrt_stat_DIV', 0.8683149102319874),\n",
       " ('mrt_stat_SEP', 1.4876917756764316),\n",
       " ('mrt_stat_MAR', 0.9359292990757966),\n",
       " ('mrt_stat_WID', 0.6815824030619526),\n",
       " ('employed', 1.3084939508902862)]"
      ]
     },
     "execution_count": 27,
     "metadata": {},
     "output_type": "execute_result"
    }
   ],
   "source": [
    "# For CL 3\n",
    "features = list(X_train.columns.values)\n",
    "coeffs = list(np.exp(model.coef_)[1])\n",
    "list(zip(features, coeffs))"
   ]
  },
  {
   "cell_type": "code",
   "execution_count": 28,
   "metadata": {},
   "outputs": [
    {
     "data": {
      "text/plain": [
       "[('gender_female', 0.3531572827629946),\n",
       " ('age_gt_45', 0.4647280213862168),\n",
       " ('age_lt_25', 1.5616242438223409),\n",
       " ('race_B', 1.164073065141239),\n",
       " ('race_A', 0.995240937359671),\n",
       " ('race_H', 0.9060903314028289),\n",
       " ('race_I', 0.8968966375476176),\n",
       " ('race_O', 0.9830221465618765),\n",
       " ('off_1_prs_max', 1.0675532155358953),\n",
       " ('off_1_gs_max', 1.0817903046011734),\n",
       " ('prior_commits', 0.95019301948615),\n",
       " ('re_discip_reports', 3.5058535500548698),\n",
       " ('re_escp_hist_1', 0.6960549957380078),\n",
       " ('re_escp_hist_5', 0.878826213604372),\n",
       " ('mrt_stat_DIV', 0.5949271827651591),\n",
       " ('mrt_stat_SEP', 0.8693248090934237),\n",
       " ('mrt_stat_MAR', 0.6537041530285963),\n",
       " ('mrt_stat_WID', 0.36999302785121396),\n",
       " ('employed', 0.6307935357653568)]"
      ]
     },
     "execution_count": 28,
     "metadata": {},
     "output_type": "execute_result"
    }
   ],
   "source": [
    "# For CL 4\n",
    "features = list(X_train.columns.values)\n",
    "coeffs = list(np.exp(model.coef_)[2])\n",
    "list(zip(features, coeffs))"
   ]
  },
  {
   "cell_type": "code",
   "execution_count": 29,
   "metadata": {},
   "outputs": [
    {
     "data": {
      "text/plain": [
       "[('gender_female', 0.2698316464463032),\n",
       " ('age_gt_45', 0.3289722676105704),\n",
       " ('age_lt_25', 0.8572167777033057),\n",
       " ('race_B', 0.6534302672355999),\n",
       " ('race_A', 0.9838436026743212),\n",
       " ('race_H', 0.5131147328948413),\n",
       " ('race_I', 0.8173625690469667),\n",
       " ('race_O', 0.5138868136584845),\n",
       " ('off_1_prs_max', 1.0052855340936062),\n",
       " ('off_1_gs_max', 1.0046974474051054),\n",
       " ('prior_commits', 0.9864690917178893),\n",
       " ('re_discip_reports', 2.0640854192854072),\n",
       " ('re_escp_hist_1', 0.718082112277222),\n",
       " ('re_escp_hist_5', 0.6942421202893079),\n",
       " ('mrt_stat_DIV', 0.5396029772151589),\n",
       " ('mrt_stat_SEP', 0.21529806660015455),\n",
       " ('mrt_stat_MAR', 0.42535072636512355),\n",
       " ('mrt_stat_WID', 2.3483126075983405),\n",
       " ('employed', 0.43109759395890834)]"
      ]
     },
     "execution_count": 29,
     "metadata": {},
     "output_type": "execute_result"
    }
   ],
   "source": [
    "# For CL 5\n",
    "features = list(X_train.columns.values)\n",
    "coeffs = list(np.exp(model.coef_)[3])\n",
    "list(zip(features, coeffs))"
   ]
  },
  {
   "cell_type": "code",
   "execution_count": 30,
   "metadata": {},
   "outputs": [
    {
     "data": {
      "text/plain": [
       "['gender_female', 'mrt_stat_DIV', 'mrt_stat_SEP', 'mrt_stat_MAR']"
      ]
     },
     "execution_count": 30,
     "metadata": {},
     "output_type": "execute_result"
    }
   ],
   "source": [
    "rfe = RFE(model, n_features_to_select=4, step=1)\n",
    "rfe = rfe.fit(X, y.values.ravel())\n",
    "\n",
    "\n",
    "zz= list(zip(Xvars,list(rfe.support_)))\n",
    "ll = [a for (a,b) in zz if b]\n",
    "ll"
   ]
  },
  {
   "cell_type": "markdown",
   "metadata": {},
   "source": [
    "## SVM"
   ]
  },
  {
   "cell_type": "code",
   "execution_count": 21,
   "metadata": {},
   "outputs": [
    {
     "name": "stdout",
     "output_type": "stream",
     "text": [
      "Accuracy for our dataset in predicting test data is : 58.39%\n"
     ]
    }
   ],
   "source": [
    "#We ommitted escape histories 2, 3 and 4 because they were highly correlated with escape history 1\n",
    "#and because we want to know if they're frequent escapees or not, and not necessarily how many times\n",
    "\n",
    "from sklearn.metrics import accuracy_score\n",
    "\n",
    "\n",
    "\n",
    "\n",
    "\n",
    "#applying Support Vector Classifier \n",
    "#fitting kernel SVM to training dataset\n",
    "from sklearn.svm import SVC\n",
    "classifier_df = SVC(kernel = 'linear' , random_state = 0)\n",
    "classifier_df.fit(X_train,Y_train)\n",
    "\n",
    "#predicting test data result\n",
    "y_pred = classifier_df.predict(X_test)\n",
    "\n",
    "\n",
    "#setting up accuracy score\n",
    "\n",
    "acc = accuracy_score(Y_test,y_pred) *100\n",
    "print(\"Accuracy for our dataset in predicting test data is : {:.2f}%\".format(acc))\n"
   ]
  },
  {
   "cell_type": "code",
   "execution_count": 22,
   "metadata": {},
   "outputs": [
    {
     "name": "stdout",
     "output_type": "stream",
     "text": [
      "              precision    recall  f1-score   support\n",
      "\n",
      "         2.0       0.80      0.90      0.85      6992\n",
      "         3.0       0.55      0.54      0.54      7043\n",
      "         4.0       0.51      0.58      0.55      7018\n",
      "         5.0       0.42      0.32      0.36      6999\n",
      "\n",
      "    accuracy                           0.58     28052\n",
      "   macro avg       0.57      0.58      0.57     28052\n",
      "weighted avg       0.57      0.58      0.57     28052\n",
      "\n"
     ]
    }
   ],
   "source": [
    "from sklearn.metrics import classification_report\n",
    "print(classification_report(Y_test, y_pred))"
   ]
  },
  {
   "cell_type": "markdown",
   "metadata": {},
   "source": [
    "## Neural network"
   ]
  },
  {
   "cell_type": "code",
   "execution_count": 23,
   "metadata": {},
   "outputs": [
    {
     "name": "stdout",
     "output_type": "stream",
     "text": [
      "Accuracy for our dataset in predicting test data is : 60.47%\n"
     ]
    }
   ],
   "source": [
    "from sklearn.neural_network import MLPClassifier\n",
    "\n",
    "clf = MLPClassifier(solver='lbfgs', \n",
    "                    alpha=1e-5,\n",
    "                    hidden_layer_sizes=(14,), \n",
    "                    random_state=1, \n",
    "                    max_iter=10000)\n",
    "\n",
    "clf.fit(X_train, Y_train)\n",
    "\n",
    "Y_pred = clf.predict(X_test)\n",
    "\n",
    "acc = accuracy_score(Y_test,Y_pred) *100\n",
    "print(\"Accuracy for our dataset in predicting test data is : {:.2f}%\".format(acc))"
   ]
  },
  {
   "cell_type": "code",
   "execution_count": 24,
   "metadata": {},
   "outputs": [
    {
     "name": "stdout",
     "output_type": "stream",
     "text": [
      "              precision    recall  f1-score   support\n",
      "\n",
      "         2.0       0.80      0.90      0.85      6992\n",
      "         3.0       0.55      0.54      0.54      7043\n",
      "         4.0       0.51      0.58      0.55      7018\n",
      "         5.0       0.42      0.32      0.36      6999\n",
      "\n",
      "    accuracy                           0.58     28052\n",
      "   macro avg       0.57      0.58      0.57     28052\n",
      "weighted avg       0.57      0.58      0.57     28052\n",
      "\n"
     ]
    }
   ],
   "source": [
    "from sklearn.metrics import classification_report\n",
    "print(classification_report(Y_test, y_pred))"
   ]
  },
  {
   "cell_type": "markdown",
   "metadata": {},
   "source": [
    "## Random forest"
   ]
  },
  {
   "cell_type": "code",
   "execution_count": 25,
   "metadata": {},
   "outputs": [
    {
     "name": "stdout",
     "output_type": "stream",
     "text": [
      "Accuracy for our dataset in predicting test data is : 73.13%\n"
     ]
    }
   ],
   "source": [
    "from sklearn.ensemble import RandomForestClassifier\n",
    "from sklearn.metrics import confusion_matrix\n",
    "\n",
    "clf = RandomForestClassifier(n_estimators = 100, criterion = 'gini', random_state = 0)\n",
    "clf.fit(X_train, Y_train)\n",
    "\n",
    "from sklearn.metrics import accuracy_score\n",
    "\n",
    "y_pred = clf.predict(X_test)\n",
    "\n",
    "acc = accuracy_score(Y_test,y_pred) *100\n",
    "print(\"Accuracy for our dataset in predicting test data is : {:.2f}%\".format(acc))"
   ]
  },
  {
   "cell_type": "code",
   "execution_count": 26,
   "metadata": {},
   "outputs": [
    {
     "name": "stdout",
     "output_type": "stream",
     "text": [
      "              precision    recall  f1-score   support\n",
      "\n",
      "         2.0       0.86      0.89      0.87      6992\n",
      "         3.0       0.64      0.64      0.64      7043\n",
      "         4.0       0.69      0.69      0.69      7018\n",
      "         5.0       0.73      0.72      0.72      6999\n",
      "\n",
      "    accuracy                           0.73     28052\n",
      "   macro avg       0.73      0.73      0.73     28052\n",
      "weighted avg       0.73      0.73      0.73     28052\n",
      "\n"
     ]
    }
   ],
   "source": [
    "from sklearn.metrics import classification_report\n",
    "print(classification_report(Y_test, y_pred))"
   ]
  },
  {
   "cell_type": "code",
   "execution_count": null,
   "metadata": {},
   "outputs": [],
   "source": []
  },
  {
   "cell_type": "code",
   "execution_count": null,
   "metadata": {},
   "outputs": [],
   "source": []
  }
 ],
 "metadata": {
  "interpreter": {
   "hash": "20ee1cfdc84c60eed2c3b984f4d3a2f31ec1d88fe692b137e9191f9b5e219ca2"
  },
  "kernelspec": {
   "display_name": "Python 3",
   "language": "python",
   "name": "python3"
  },
  "language_info": {
   "codemirror_mode": {
    "name": "ipython",
    "version": 3
   },
   "file_extension": ".py",
   "mimetype": "text/x-python",
   "name": "python",
   "nbconvert_exporter": "python",
   "pygments_lexer": "ipython3",
   "version": "3.8.10"
  }
 },
 "nbformat": 4,
 "nbformat_minor": 2
}

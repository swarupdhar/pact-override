{
 "cells": [
  {
   "cell_type": "markdown",
   "metadata": {},
   "source": [
    "# Multinomial regression"
   ]
  },
  {
   "cell_type": "markdown",
   "metadata": {},
   "source": [
    "## Reclassification"
   ]
  },
  {
   "cell_type": "markdown",
   "metadata": {},
   "source": [
    "**Notebook Setup**"
   ]
  },
  {
   "cell_type": "code",
   "execution_count": 1,
   "metadata": {},
   "outputs": [],
   "source": [
    "import sys\n",
    "sys.path.append(\"../src\")\n",
    "%load_ext autoreload\n",
    "%autoreload 2"
   ]
  },
  {
   "cell_type": "code",
   "execution_count": 2,
   "metadata": {},
   "outputs": [],
   "source": [
    "import pandas as pd\n",
    "import numpy as np\n",
    "import matplotlib.pyplot as plt\n",
    "from sklearn.model_selection import train_test_split\n",
    "from sklearn.linear_model import LogisticRegression\n",
    "\n",
    "%matplotlib inline"
   ]
  },
  {
   "cell_type": "code",
   "execution_count": 3,
   "metadata": {},
   "outputs": [],
   "source": [
    "plt.style.use('ggplot')"
   ]
  },
  {
   "cell_type": "code",
   "execution_count": 4,
   "metadata": {},
   "outputs": [
    {
     "name": "stdout",
     "output_type": "stream",
     "text": [
      "Index(['re_curr_off_cd_1', 're_curr_off_cd_2', 're_curr_off_cd_3',\n",
      "       're_prev_off_cd_1', 're_prev_off_cd_2', 're_prev_off_cd_3',\n",
      "       're_escp_hist_1', 're_escp_hist_2', 're_escp_hist_3', 're_escp_hist_4',\n",
      "       're_escp_hist_5', 're_discip_reports', 're_age_for_class',\n",
      "       're_instit_violence', 'ic_prior_commits', 'race', 'sex',\n",
      "       'ethnic_identity', 'citizenship', 'religion', 'legal_zip_code',\n",
      "       'ic_employ_ind', 'date_of_birth', 're_custody_level', 'ic_custdy_level',\n",
      "       'control_number', 're_ovride_cust_lvl', 're_de_year', 'off_1_gs_max',\n",
      "       'off_1_gs_min', 'off_2_gs_max', 'off_2_gs_min', 'off_3_gs_max',\n",
      "       'off_3_gs_min', 'off_1_prs_max', 'off_1_prs_min', 'off_2_prs_max',\n",
      "       'off_2_prs_min', 'off_3_prs_max', 'off_3_prs_min', 'marital_status',\n",
      "       'ic_mrtl_stat_fr_cl', 'affilatns_ind', 'affilatn_code_1',\n",
      "       'affilatn_code_2', 'affilatn_code_3', 'affilatn_code_4',\n",
      "       'affilatn_code_5', 'affilatn_code_6', 'affilatn_code_7',\n",
      "       'affilatn_code_8', 'affilatn_code_9', 'affilatn_code_10',\n",
      "       'prob_alcohol', 'prob_drugs', 'prob_sexual', 'prob_assault',\n",
      "       'prob_escape', 'prob_suicide', 'prob_psyco', 'program_level_1',\n",
      "       'program_level_2', 'program_level_3', 'ic_prog_code_1',\n",
      "       'ic_prog_code_2', 'ic_prog_code_3', 'ic_othr_needs_cond',\n",
      "       're_wrk_performnce', 're_hous_perfrmnce', 're_othr_needs_cond',\n",
      "       'problematic_offenses', 'age', 'age_gt_45', 'age_lt_25',\n",
      "       'gender_female', 'race_A', 'race_B', 'race_H', 'race_I', 'race_O',\n",
      "       'prior_commits', 'escape_hist', 'mrt_stat_  ', 'mrt_stat_   ',\n",
      "       'mrt_stat_0', 'mrt_stat_180', 'mrt_stat_3', 'mrt_stat_31',\n",
      "       'mrt_stat_DIV', 'mrt_stat_MAR', 'mrt_stat_SEP', 'mrt_stat_WID',\n",
      "       'employed', 'high_re_discip_reports', 're_override_up', 'high_re'],\n",
      "      dtype='object')\n"
     ]
    }
   ],
   "source": [
    "%matplotlib inline\n",
    "\n",
    "from project import rf_models, preprocessing\n",
    "\n",
    "df = pd.read_csv(\"../data/re_custody_2017_gsprs.csv\", low_memory=False)\n",
    "\n",
    "\n",
    "\n",
    "# preprocessing\n",
    "data = preprocessing.preprocess_input_vars_re(df)\n",
    "data = data[data.ic_custdy_level > 1]\n",
    "data['high_re_discip_reports'] = np.where(data['re_discip_reports']>2, 1, 0)\n",
    "\n",
    "data['re_override_up'] = np.where(data['re_ovride_cust_lvl']-data['re_custody_level']>0,1,0)\n",
    "data['high_re'] = np.where(data['re_custody_level']>3, 1, 0)\n",
    "print(data.columns)\n",
    "data = data[\n",
    "    [\n",
    "        \"gender_female\",\n",
    "        \"age_gt_45\",\n",
    "        \"age_lt_25\",\n",
    "        \"race_B\",\n",
    "        \"race_A\",\n",
    "        \"race_H\",\n",
    "        \"race_I\",\n",
    "        \"race_O\",\n",
    "        \"off_1_prs_max\",\n",
    "        \"off_1_gs_max\",\n",
    "        #\"ic_custdy_level\",\n",
    "        \"prior_commits\",\n",
    "        \"re_discip_reports\",\n",
    "        \"re_escp_hist_1\",\n",
    "        #\"re_escp_hist_2\",\n",
    "        #\"re_escp_hist_3\",\n",
    "        #\"re_escp_hist_4\",\n",
    "        \"re_escp_hist_5\",\n",
    "        \"mrt_stat_DIV\",\n",
    "        \"mrt_stat_SEP\",\n",
    "        \"mrt_stat_MAR\",\n",
    "        \"mrt_stat_WID\",\n",
    "        \"employed\",\n",
    "        #\"high_re_discip_reports\",\n",
    "        #\"high_re\"\n",
    "        \"re_custody_level\"\n",
    "    ]\n",
    "]\n",
    "data = data.dropna()\n",
    "\n",
    "\n",
    "df_re_all = data\n"
   ]
  },
  {
   "cell_type": "markdown",
   "metadata": {},
   "source": [
    "#### Multinomial"
   ]
  },
  {
   "cell_type": "code",
   "execution_count": 5,
   "metadata": {},
   "outputs": [
    {
     "data": {
      "text/plain": [
       "LogisticRegression(max_iter=10000, multi_class='multinomial')"
      ]
     },
     "execution_count": 5,
     "metadata": {},
     "output_type": "execute_result"
    }
   ],
   "source": [
    "X = df_re_all.drop(\"re_custody_level\", axis=1)\n",
    "y = df_re_all[\"re_custody_level\"]\n",
    "X_train, X_test, Y_train, Y_test = train_test_split(X, y, train_size=0.2, random_state=1)\n",
    "model = LogisticRegression(multi_class=\"multinomial\", max_iter=10_000)\n",
    "model.fit(X_train, Y_train)"
   ]
  },
  {
   "cell_type": "code",
   "execution_count": 6,
   "metadata": {},
   "outputs": [
    {
     "name": "stdout",
     "output_type": "stream",
     "text": [
      "Mean Accuracy: 0.776 (0.009)\n"
     ]
    }
   ],
   "source": [
    "from sklearn.model_selection import RepeatedStratifiedKFold\n",
    "from sklearn.model_selection import cross_val_score\n",
    "\n",
    "cv = RepeatedStratifiedKFold(n_splits=10, n_repeats=3, random_state=1)\n",
    "# evaluate the model and collect the scores\n",
    "n_scores = cross_val_score(model, X_test, Y_test, scoring='accuracy', cv=cv, n_jobs=-1)\n",
    "# report the model performance\n",
    "print('Mean Accuracy: %.3f (%.3f)' % (np.mean(n_scores), np.std(n_scores)))"
   ]
  },
  {
   "cell_type": "code",
   "execution_count": 7,
   "metadata": {},
   "outputs": [
    {
     "data": {
      "text/plain": [
       "array([[ 9.17804440e-01,  6.65755349e-01, -1.87830798e-01,\n",
       "        -4.65658077e-01, -4.98887383e-01, -1.06809926e-01,\n",
       "        -4.01235233e-01, -1.14859922e+00, -1.27872830e-01,\n",
       "        -9.32573582e-02,  4.74646855e-02, -2.16143393e+00,\n",
       "         8.28841169e-02, -5.21582233e-01,  6.69550087e-01,\n",
       "         2.95560075e-01,  3.54585410e-01,  5.34471938e-02,\n",
       "         4.15974798e-01],\n",
       "       [ 4.06399582e-01,  1.44778954e-01, -1.06503077e-01,\n",
       "         5.31963549e-02,  8.12135483e-01, -6.12034993e-02,\n",
       "         5.95439143e-02,  5.49446158e-01,  1.42115474e-02,\n",
       "        -7.70948383e-03, -2.56128719e-02,  4.78275971e-02,\n",
       "         2.87270376e-02,  6.34391804e-02, -2.79312869e-01,\n",
       "         3.46922941e-01,  6.77814231e-02,  4.75397291e-02,\n",
       "        -1.86558167e-02],\n",
       "       [-3.97302824e-01, -4.17080498e-01,  3.53047094e-01,\n",
       "         2.55899388e-01, -2.06936342e-01, -1.28765500e-01,\n",
       "         5.58298411e-01,  7.14436122e-01,  1.23627877e-01,\n",
       "         1.02715204e-01, -1.51826792e-02,  1.34118339e+00,\n",
       "        -2.47835578e-01, -1.19195206e-01, -4.71991389e-01,\n",
       "        -4.47542957e-01, -4.09448686e-01, -7.23908409e-01,\n",
       "        -6.85829495e-02],\n",
       "       [-9.26901199e-01, -3.93453806e-01, -5.87132198e-02,\n",
       "         1.56562334e-01, -1.06311758e-01,  2.96778925e-01,\n",
       "        -2.16607093e-01, -1.15283065e-01, -9.96659411e-03,\n",
       "        -1.74836222e-03, -6.66913440e-03,  7.72422942e-01,\n",
       "         1.36224424e-01,  5.77338259e-01,  8.17541705e-02,\n",
       "        -1.94940059e-01, -1.29181470e-02,  6.22921486e-01,\n",
       "        -3.28736032e-01]])"
      ]
     },
     "execution_count": 7,
     "metadata": {},
     "output_type": "execute_result"
    }
   ],
   "source": [
    "model.coef_"
   ]
  },
  {
   "cell_type": "code",
   "execution_count": 8,
   "metadata": {},
   "outputs": [
    {
     "data": {
      "text/plain": [
       "array([[2.50378714, 1.94595985, 0.82875492, 0.62772188, 0.60720587,\n",
       "        0.89869648, 0.66949256, 0.31708062, 0.87996528, 0.91095903,\n",
       "        1.04860917, 0.11515987, 1.0864159 , 0.59358062, 1.95335828,\n",
       "        1.34387882, 1.4255895 , 1.05490128, 1.51584767],\n",
       "       [1.50140237, 1.15578406, 0.89897228, 1.05463671, 2.25271349,\n",
       "        0.9406318 , 1.06135237, 1.73229334, 1.01431301, 0.99232016,\n",
       "        0.97471236, 1.04898979, 1.02914364, 1.06549468, 0.75630324,\n",
       "        1.41470771, 1.07013138, 1.04868786, 0.98151713],\n",
       "       [0.67213046, 0.65896787, 1.42339818, 1.29162277, 0.81307141,\n",
       "        0.87918011, 1.74769611, 2.04303434, 1.1315947 , 1.10817576,\n",
       "        0.984932  , 3.82356559, 0.78048826, 0.88763451, 0.62375888,\n",
       "        0.63919676, 0.66401623, 0.48485354, 0.93371601],\n",
       "       [0.39577825, 0.67472249, 0.94297716, 1.16948366, 0.89914429,\n",
       "        1.34551781, 0.80524629, 0.89111386, 0.99008291, 0.99825317,\n",
       "        0.99335305, 2.16500559, 1.14593904, 1.78129078, 1.08518901,\n",
       "        0.82288398, 0.98716493, 1.86436682, 0.719833  ]])"
      ]
     },
     "execution_count": 8,
     "metadata": {},
     "output_type": "execute_result"
    }
   ],
   "source": [
    "np.exp(model.coef_)"
   ]
  },
  {
   "cell_type": "code",
   "execution_count": 9,
   "metadata": {},
   "outputs": [
    {
     "data": {
      "text/plain": [
       "[('gender_female', 2.5037871363371296),\n",
       " ('age_gt_45', 1.9459598453182136),\n",
       " ('age_lt_25', 0.828754922644935),\n",
       " ('race_B', 0.6277218799255938),\n",
       " ('race_A', 0.6072058712942865),\n",
       " ('race_H', 0.8986964757762457),\n",
       " ('race_I', 0.6694925560349174),\n",
       " ('race_O', 0.31708062018041705),\n",
       " ('off_1_prs_max', 0.8799652771251462),\n",
       " ('off_1_gs_max', 0.910959027321151),\n",
       " ('prior_commits', 1.0486091693879847),\n",
       " ('re_discip_reports', 0.1151598717843118),\n",
       " ('re_escp_hist_1', 1.0864159040085224),\n",
       " ('re_escp_hist_5', 0.5935806215268788),\n",
       " ('mrt_stat_DIV', 1.9533582822159643),\n",
       " ('mrt_stat_SEP', 1.343878820614645),\n",
       " ('mrt_stat_MAR', 1.4255894967141525),\n",
       " ('mrt_stat_WID', 1.054901284981055),\n",
       " ('employed', 1.515847665994266)]"
      ]
     },
     "execution_count": 9,
     "metadata": {},
     "output_type": "execute_result"
    }
   ],
   "source": [
    "# For CL 2\n",
    "features = list(X_train.columns.values)\n",
    "coeffs = list(np.exp(model.coef_)[0])\n",
    "list(zip(features, coeffs))"
   ]
  },
  {
   "cell_type": "code",
   "execution_count": 10,
   "metadata": {},
   "outputs": [
    {
     "data": {
      "text/plain": [
       "[('gender_female', 1.501402366252697),\n",
       " ('age_gt_45', 1.1557840607759005),\n",
       " ('age_lt_25', 0.8989722822376531),\n",
       " ('race_B', 1.0546367078587178),\n",
       " ('race_A', 2.252713485427167),\n",
       " ('race_H', 0.9406318023682558),\n",
       " ('race_I', 1.0613523684670025),\n",
       " ('race_O', 1.732293335677388),\n",
       " ('off_1_prs_max', 1.0143130115390369),\n",
       " ('off_1_gs_max', 0.9923201580207428),\n",
       " ('prior_commits', 0.9747123551012784),\n",
       " ('re_discip_reports', 1.0489897908706034),\n",
       " ('re_escp_hist_1', 1.029143638659561),\n",
       " ('re_escp_hist_5', 1.0654946808791885),\n",
       " ('mrt_stat_DIV', 0.7563032425274437),\n",
       " ('mrt_stat_SEP', 1.4147077052223924),\n",
       " ('mrt_stat_MAR', 1.0701313769113963),\n",
       " ('mrt_stat_WID', 1.0486878637633852),\n",
       " ('employed', 0.9815171258726776)]"
      ]
     },
     "execution_count": 10,
     "metadata": {},
     "output_type": "execute_result"
    }
   ],
   "source": [
    "# For CL 3\n",
    "features = list(X_train.columns.values)\n",
    "coeffs = list(np.exp(model.coef_)[1])\n",
    "list(zip(features, coeffs))"
   ]
  },
  {
   "cell_type": "code",
   "execution_count": 11,
   "metadata": {},
   "outputs": [
    {
     "data": {
      "text/plain": [
       "[('gender_female', 0.6721304578968723),\n",
       " ('age_gt_45', 0.6589678724681564),\n",
       " ('age_lt_25', 1.423398175691561),\n",
       " ('race_B', 1.291622769201147),\n",
       " ('race_A', 0.8130714068796918),\n",
       " ('race_H', 0.8791801088306046),\n",
       " ('race_I', 1.747696108260385),\n",
       " ('race_O', 2.0430343356113023),\n",
       " ('off_1_prs_max', 1.1315946999912243),\n",
       " ('off_1_gs_max', 1.1081757604158935),\n",
       " ('prior_commits', 0.98493199657566),\n",
       " ('re_discip_reports', 3.8235655874185897),\n",
       " ('re_escp_hist_1', 0.7804882619020769),\n",
       " ('re_escp_hist_5', 0.8876345125784378),\n",
       " ('mrt_stat_DIV', 0.6237588840823309),\n",
       " ('mrt_stat_SEP', 0.6391967579711528),\n",
       " ('mrt_stat_MAR', 0.6640162305423297),\n",
       " ('mrt_stat_WID', 0.4848535418876657),\n",
       " ('employed', 0.9337160056305428)]"
      ]
     },
     "execution_count": 11,
     "metadata": {},
     "output_type": "execute_result"
    }
   ],
   "source": [
    "# For CL 4\n",
    "features = list(X_train.columns.values)\n",
    "coeffs = list(np.exp(model.coef_)[2])\n",
    "list(zip(features, coeffs))"
   ]
  },
  {
   "cell_type": "code",
   "execution_count": 13,
   "metadata": {},
   "outputs": [
    {
     "data": {
      "text/plain": [
       "[('gender_female', 0.39577825019166357),\n",
       " ('age_gt_45', 0.6747224852368022),\n",
       " ('age_lt_25', 0.9429771575498141),\n",
       " ('race_B', 1.1694836582428287),\n",
       " ('race_A', 0.8991442892457416),\n",
       " ('race_H', 1.345517806793521),\n",
       " ('race_I', 0.805246294328737),\n",
       " ('race_O', 0.8911138648270196),\n",
       " ('off_1_prs_max', 0.9900829078005837),\n",
       " ('off_1_gs_max', 0.9982531652740093),\n",
       " ('prior_commits', 0.9933530549170289),\n",
       " ('re_discip_reports', 2.165005587693428),\n",
       " ('re_escp_hist_1', 1.1459390407332926),\n",
       " ('re_escp_hist_5', 1.781290779590312),\n",
       " ('mrt_stat_DIV', 1.0851890055319298),\n",
       " ('mrt_stat_SEP', 0.8228839808530729),\n",
       " ('mrt_stat_MAR', 0.9871649341614837),\n",
       " ('mrt_stat_WID', 1.8643668152186061),\n",
       " ('employed', 0.7198330047146084)]"
      ]
     },
     "execution_count": 13,
     "metadata": {},
     "output_type": "execute_result"
    }
   ],
   "source": [
    "# For CL 5\n",
    "features = list(X_train.columns.values)\n",
    "coeffs = list(np.exp(model.coef_)[3])\n",
    "list(zip(features, coeffs))"
   ]
  },
  {
   "cell_type": "markdown",
   "metadata": {},
   "source": [
    "### Feature selection"
   ]
  },
  {
   "cell_type": "code",
   "execution_count": null,
   "metadata": {},
   "outputs": [],
   "source": []
  },
  {
   "cell_type": "code",
   "execution_count": 14,
   "metadata": {},
   "outputs": [
    {
     "data": {
      "text/plain": [
       "['gender_female',\n",
       " 'age_gt_45',\n",
       " 'race_A',\n",
       " 're_discip_reports',\n",
       " 'mrt_stat_DIV',\n",
       " 'mrt_stat_SEP',\n",
       " 'mrt_stat_MAR',\n",
       " 'employed']"
      ]
     },
     "execution_count": 14,
     "metadata": {},
     "output_type": "execute_result"
    }
   ],
   "source": [
    "from sklearn.feature_selection import RFE\n",
    "\n",
    "data_final_vars=df_re_all.columns.values.tolist()\n",
    "yvars = ['re_custody_level']\n",
    "Xvars = [i for i in data_final_vars if i not in yvars]\n",
    "\n",
    "rfe = RFE(model, n_features_to_select=8, step=1)\n",
    "rfe = rfe.fit(X, y.values.ravel())\n",
    "\n",
    "zz= list(zip(Xvars,list(rfe.support_)))\n",
    "ll = [a for (a,b) in zz if b]\n",
    "ll"
   ]
  },
  {
   "cell_type": "markdown",
   "metadata": {},
   "source": [
    "#### Class imbalance"
   ]
  },
  {
   "cell_type": "code",
   "execution_count": 15,
   "metadata": {},
   "outputs": [
    {
     "name": "stdout",
     "output_type": "stream",
     "text": [
      "percentage of lev 2 is 60.156464452374415\n",
      "percentage of lev 3 is 22.36480922316772\n",
      "percentage of lev 4 is 12.242657150699973\n",
      "percentage of lev 5 is 5.236069173757891\n"
     ]
    },
    {
     "data": {
      "text/plain": [
       "1.0"
      ]
     },
     "execution_count": 15,
     "metadata": {},
     "output_type": "execute_result"
    }
   ],
   "source": [
    "count_2 = len(df_re_all[df_re_all['re_custody_level']==2])\n",
    "count_3 = len(df_re_all[df_re_all['re_custody_level']==3])\n",
    "count_4 = len(df_re_all[df_re_all['re_custody_level']==4])\n",
    "count_5 = len(df_re_all[df_re_all['re_custody_level']==5])\n",
    "\n",
    "tot = count_2 + count_3 + count_4 + count_5\n",
    "\n",
    "pct_2 = count_2/tot\n",
    "print(\"percentage of lev 2 is\", pct_2*100)\n",
    "pct_3 = count_3/tot\n",
    "print(\"percentage of lev 3 is\", pct_3*100)\n",
    "pct_4 = count_4/tot\n",
    "print(\"percentage of lev 4 is\", pct_4*100)\n",
    "pct_5 = count_5/tot\n",
    "print(\"percentage of lev 5 is\", pct_5*100)\n",
    "\n",
    "\n",
    "pct_2 +pct_3 + pct_4 +pct_5 "
   ]
  },
  {
   "cell_type": "markdown",
   "metadata": {},
   "source": [
    "#### Oversampling to fix"
   ]
  },
  {
   "cell_type": "code",
   "execution_count": 16,
   "metadata": {},
   "outputs": [],
   "source": [
    "from imblearn.over_sampling import SMOTE\n",
    "\n",
    "os = SMOTE(random_state=0)\n",
    "\n",
    "X, y = os.fit_resample(X, y)"
   ]
  },
  {
   "cell_type": "code",
   "execution_count": 17,
   "metadata": {},
   "outputs": [
    {
     "data": {
      "text/plain": [
       "LogisticRegression(max_iter=10000, multi_class='multinomial')"
      ]
     },
     "execution_count": 17,
     "metadata": {},
     "output_type": "execute_result"
    }
   ],
   "source": [
    "X_train, X_test, Y_train, Y_test = train_test_split(X, y, train_size=0.2, random_state=1)\n",
    "model = LogisticRegression(multi_class=\"multinomial\", max_iter=10_000)\n",
    "model.fit(X_train, Y_train)"
   ]
  },
  {
   "cell_type": "code",
   "execution_count": 18,
   "metadata": {},
   "outputs": [
    {
     "name": "stdout",
     "output_type": "stream",
     "text": [
      "Mean Accuracy: 0.573 (0.007)\n"
     ]
    }
   ],
   "source": [
    "cv = RepeatedStratifiedKFold(n_splits=10, n_repeats=3, random_state=1)\n",
    "# evaluate the model and collect the scores\n",
    "n_scores = cross_val_score(model, X_test, Y_test, scoring='accuracy', cv=cv, n_jobs=-1)\n",
    "# report the model performance\n",
    "print('Mean Accuracy: %.3f (%.3f)' % (np.mean(n_scores), np.std(n_scores)))"
   ]
  },
  {
   "cell_type": "code",
   "execution_count": 19,
   "metadata": {
    "scrolled": true
   },
   "outputs": [
    {
     "data": {
      "text/plain": [
       "array([[5.78411467, 4.37038786, 1.11419576, 1.39118567, 1.26689318,\n",
       "        2.30928592, 0.69388357, 1.89758085, 0.89575868, 0.90602791,\n",
       "        1.06800092, 0.12312354, 1.9579385 , 1.84297649, 3.58743955,\n",
       "        3.59140873, 3.84262969, 1.68862098, 2.8103826 ],\n",
       "       [1.81427057, 1.49665559, 0.67045756, 0.94500785, 0.80613115,\n",
       "        0.93140017, 1.9658766 , 1.04320326, 1.04023151, 1.01550026,\n",
       "        0.9989254 , 1.12237368, 1.02184092, 0.88933676, 0.86831491,\n",
       "        1.48769178, 0.9359293 , 0.6815824 , 1.30849395],\n",
       "       [0.35315728, 0.46472802, 1.56162424, 1.16407307, 0.99524094,\n",
       "        0.90609033, 0.89689664, 0.98302215, 1.06755322, 1.0817903 ,\n",
       "        0.95019302, 3.50585355, 0.696055  , 0.87882621, 0.59492718,\n",
       "        0.86932481, 0.65370415, 0.36999303, 0.63079354],\n",
       "       [0.26983165, 0.32897227, 0.85721678, 0.65343027, 0.9838436 ,\n",
       "        0.51311473, 0.81736257, 0.51388681, 1.00528553, 1.00469745,\n",
       "        0.98646909, 2.06408542, 0.71808211, 0.69424212, 0.53960298,\n",
       "        0.21529807, 0.42535073, 2.34831261, 0.43109759]])"
      ]
     },
     "execution_count": 19,
     "metadata": {},
     "output_type": "execute_result"
    }
   ],
   "source": [
    "np.exp(model.coef_)"
   ]
  },
  {
   "cell_type": "code",
   "execution_count": 26,
   "metadata": {},
   "outputs": [
    {
     "data": {
      "text/plain": [
       "[('gender_female', 5.784114673411529),\n",
       " ('age_gt_45', 4.370387858800114),\n",
       " ('age_lt_25', 1.1141957573483274),\n",
       " ('race_B', 1.3911856714008854),\n",
       " ('race_A', 1.266893179962617),\n",
       " ('race_H', 2.309285921361442),\n",
       " ('race_I', 0.6938835707509523),\n",
       " ('race_O', 1.89758085216362),\n",
       " ('off_1_prs_max', 0.8957586832016886),\n",
       " ('off_1_gs_max', 0.9060279094585155),\n",
       " ('prior_commits', 1.068000918047938),\n",
       " ('re_discip_reports', 0.1231235390031406),\n",
       " ('re_escp_hist_1', 1.9579384986882713),\n",
       " ('re_escp_hist_5', 1.8429764868516205),\n",
       " ('mrt_stat_DIV', 3.587439548528901),\n",
       " ('mrt_stat_SEP', 3.5914087315800787),\n",
       " ('mrt_stat_MAR', 3.8426296913612554),\n",
       " ('mrt_stat_WID', 1.6886209791198246),\n",
       " ('employed', 2.810382598118759)]"
      ]
     },
     "execution_count": 26,
     "metadata": {},
     "output_type": "execute_result"
    }
   ],
   "source": [
    "# For CL 2\n",
    "features = list(X_train.columns.values)\n",
    "coeffs = list(np.exp(model.coef_)[0])\n",
    "list(zip(features, coeffs))"
   ]
  },
  {
   "cell_type": "code",
   "execution_count": 27,
   "metadata": {},
   "outputs": [
    {
     "data": {
      "text/plain": [
       "[('gender_female', 1.814270568959974),\n",
       " ('age_gt_45', 1.4966555859531965),\n",
       " ('age_lt_25', 0.6704575632597396),\n",
       " ('race_B', 0.9450078502145366),\n",
       " ('race_A', 0.8061311517721217),\n",
       " ('race_H', 0.9314001666882661),\n",
       " ('race_I', 1.9658766034594075),\n",
       " ('race_O', 1.0432032576940136),\n",
       " ('off_1_prs_max', 1.0402315149253774),\n",
       " ('off_1_gs_max', 1.0155002632923493),\n",
       " ('prior_commits', 0.9989253995473749),\n",
       " ('re_discip_reports', 1.12237367918668),\n",
       " ('re_escp_hist_1', 1.0218409214736333),\n",
       " ('re_escp_hist_5', 0.8893367599122296),\n",
       " ('mrt_stat_DIV', 0.8683149102319874),\n",
       " ('mrt_stat_SEP', 1.4876917756764316),\n",
       " ('mrt_stat_MAR', 0.9359292990757966),\n",
       " ('mrt_stat_WID', 0.6815824030619526),\n",
       " ('employed', 1.3084939508902862)]"
      ]
     },
     "execution_count": 27,
     "metadata": {},
     "output_type": "execute_result"
    }
   ],
   "source": [
    "# For CL 3\n",
    "features = list(X_train.columns.values)\n",
    "coeffs = list(np.exp(model.coef_)[1])\n",
    "list(zip(features, coeffs))"
   ]
  },
  {
   "cell_type": "code",
   "execution_count": 28,
   "metadata": {},
   "outputs": [
    {
     "data": {
      "text/plain": [
       "[('gender_female', 0.3531572827629946),\n",
       " ('age_gt_45', 0.4647280213862168),\n",
       " ('age_lt_25', 1.5616242438223409),\n",
       " ('race_B', 1.164073065141239),\n",
       " ('race_A', 0.995240937359671),\n",
       " ('race_H', 0.9060903314028289),\n",
       " ('race_I', 0.8968966375476176),\n",
       " ('race_O', 0.9830221465618765),\n",
       " ('off_1_prs_max', 1.0675532155358953),\n",
       " ('off_1_gs_max', 1.0817903046011734),\n",
       " ('prior_commits', 0.95019301948615),\n",
       " ('re_discip_reports', 3.5058535500548698),\n",
       " ('re_escp_hist_1', 0.6960549957380078),\n",
       " ('re_escp_hist_5', 0.878826213604372),\n",
       " ('mrt_stat_DIV', 0.5949271827651591),\n",
       " ('mrt_stat_SEP', 0.8693248090934237),\n",
       " ('mrt_stat_MAR', 0.6537041530285963),\n",
       " ('mrt_stat_WID', 0.36999302785121396),\n",
       " ('employed', 0.6307935357653568)]"
      ]
     },
     "execution_count": 28,
     "metadata": {},
     "output_type": "execute_result"
    }
   ],
   "source": [
    "# For CL 4\n",
    "features = list(X_train.columns.values)\n",
    "coeffs = list(np.exp(model.coef_)[2])\n",
    "list(zip(features, coeffs))"
   ]
  },
  {
   "cell_type": "code",
   "execution_count": 29,
   "metadata": {},
   "outputs": [
    {
     "data": {
      "text/plain": [
       "[('gender_female', 0.2698316464463032),\n",
       " ('age_gt_45', 0.3289722676105704),\n",
       " ('age_lt_25', 0.8572167777033057),\n",
       " ('race_B', 0.6534302672355999),\n",
       " ('race_A', 0.9838436026743212),\n",
       " ('race_H', 0.5131147328948413),\n",
       " ('race_I', 0.8173625690469667),\n",
       " ('race_O', 0.5138868136584845),\n",
       " ('off_1_prs_max', 1.0052855340936062),\n",
       " ('off_1_gs_max', 1.0046974474051054),\n",
       " ('prior_commits', 0.9864690917178893),\n",
       " ('re_discip_reports', 2.0640854192854072),\n",
       " ('re_escp_hist_1', 0.718082112277222),\n",
       " ('re_escp_hist_5', 0.6942421202893079),\n",
       " ('mrt_stat_DIV', 0.5396029772151589),\n",
       " ('mrt_stat_SEP', 0.21529806660015455),\n",
       " ('mrt_stat_MAR', 0.42535072636512355),\n",
       " ('mrt_stat_WID', 2.3483126075983405),\n",
       " ('employed', 0.43109759395890834)]"
      ]
     },
     "execution_count": 29,
     "metadata": {},
     "output_type": "execute_result"
    }
   ],
   "source": [
    "# For CL 5\n",
    "features = list(X_train.columns.values)\n",
    "coeffs = list(np.exp(model.coef_)[3])\n",
    "list(zip(features, coeffs))"
   ]
  },
  {
   "cell_type": "code",
   "execution_count": 30,
   "metadata": {},
   "outputs": [
    {
     "data": {
      "text/plain": [
       "['gender_female', 'mrt_stat_DIV', 'mrt_stat_SEP', 'mrt_stat_MAR']"
      ]
     },
     "execution_count": 30,
     "metadata": {},
     "output_type": "execute_result"
    }
   ],
   "source": [
    "rfe = RFE(model, n_features_to_select=4, step=1)\n",
    "rfe = rfe.fit(X, y.values.ravel())\n",
    "\n",
    "\n",
    "zz= list(zip(Xvars,list(rfe.support_)))\n",
    "ll = [a for (a,b) in zz if b]\n",
    "ll"
   ]
  },
  {
   "cell_type": "code",
   "execution_count": null,
   "metadata": {},
   "outputs": [],
   "source": []
  }
 ],
 "metadata": {
  "interpreter": {
   "hash": "20ee1cfdc84c60eed2c3b984f4d3a2f31ec1d88fe692b137e9191f9b5e219ca2"
  },
  "kernelspec": {
   "display_name": "Python 3 (ipykernel)",
   "language": "python",
   "name": "python3"
  },
  "language_info": {
   "codemirror_mode": {
    "name": "ipython",
    "version": 3
   },
   "file_extension": ".py",
   "mimetype": "text/x-python",
   "name": "python",
   "nbconvert_exporter": "python",
   "pygments_lexer": "ipython3",
   "version": "3.9.7"
  }
 },
 "nbformat": 4,
 "nbformat_minor": 2
}

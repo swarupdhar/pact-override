{
 "cells": [
  {
   "cell_type": "code",
   "execution_count": 22,
   "metadata": {},
   "outputs": [
    {
     "name": "stdout",
     "output_type": "stream",
     "text": [
      "The autoreload extension is already loaded. To reload it, use:\n",
      "  %reload_ext autoreload\n"
     ]
    }
   ],
   "source": [
    "import sys\n",
    "sys.path.append(\"../../src\")\n",
    "%load_ext autoreload\n",
    "%autoreload 2\n",
    "\n",
    "from typing import Callable, Dict, List\n",
    "import pandas as pd\n",
    "import numpy as np\n",
    "from sklearn.preprocessing import LabelEncoder\n",
    "\n",
    "\n",
    "\n",
    "import matplotlib.pyplot as plt\n",
    "import statsmodels.api as sm\n",
    "import seaborn as sns\n",
    "from heatmap import heatmap\n",
    "import statsmodels.formula.api as smf\n",
    "import bioinfokit\n",
    "\n",
    "plt.style.use('ggplot')"
   ]
  },
  {
   "cell_type": "code",
   "execution_count": 23,
   "metadata": {},
   "outputs": [],
   "source": [
    "def preprocess_input_vars_ic_or(df:pd.DataFrame) -> pd.DataFrame:\n",
    "    df = df.copy()\n",
    "\n",
    "    ic_date = df[\"ic_date\"]//10000\n",
    "    ic_date = ic_date.replace(0, np.nan)\n",
    "\n",
    "    df[\"age\"] = ic_date - (df.date_of_birth//10000)\n",
    "    \n",
    "    df[\"age_gt_45\"] = ((ic_date - (df.date_of_birth//10000)\\\n",
    "        .astype(int)) > 45)\\\n",
    "        .apply(lambda x: 1 if x else 0)\n",
    "    \n",
    "    df[\"age_lt_25\"] = ((ic_date - (df.date_of_birth//10000)\\\n",
    "        .astype(int)) < 25)\\\n",
    "        .apply(lambda x: 1 if x else 0)\n",
    "    \n",
    "    df[\"gender_female\"] = df.sex.transform(lambda x: 1 if x == \"F\" else 0)\n",
    "\n",
    "    df = pd.concat(\n",
    "        [df, pd.get_dummies(df.race, prefix=\"race\").drop(\"race_W\", axis=1)],\n",
    "        axis=1\n",
    "    )\n",
    "    \n",
    "    df[\"prior_commits\"] = df.ic_prior_commits\n",
    "\n",
    "    df[\"escape_hist_1\"] = df.ic_escpe_hist_1.transform(\n",
    "        lambda x: 1 if str(x) == \"X\" else 0\n",
    "    )\n",
    "    df[\"escape_hist_2\"] = df.ic_escpe_hist_2.transform(\n",
    "        lambda x: 1 if str(x) == \"X\" else 0\n",
    "    )\n",
    "    df[\"escape_hist_3\"] = df.ic_escpe_hist_3.transform(\n",
    "        lambda x: 1 if str(x) == \"X\" else 0\n",
    "    )\n",
    "    df[\"escape_hist_4\"] = df.ic_escpe_hist_4.transform(\n",
    "        lambda x: 1 if str(x) == \"X\" else 0\n",
    "    )\n",
    "    df[\"escape_hist_5\"] = df.ic_escpe_hist_5.transform(\n",
    "        lambda x: 1 if str(x) == \"X\" else 0\n",
    "    )\n",
    "\n",
    "    df[\"escape_hist\"] = (\n",
    "        df[\"escape_hist_1\"] +\n",
    "        df[\"escape_hist_2\"] +\n",
    "        df[\"escape_hist_3\"] +\n",
    "        df[\"escape_hist_4\"] +\n",
    "        df[\"escape_hist_5\"]\n",
    "    )\n",
    "\n",
    "    df = pd.concat(\n",
    "        [\n",
    "            df,\n",
    "            pd.get_dummies(df.ic_mrtl_stat_fr_cl, prefix=\"mrt_stat\")\\\n",
    "                .drop([\"mrt_stat_SIN\", \"mrt_stat_UNK\"], axis=1)\n",
    "        ],\n",
    "        axis=1\n",
    "    )\n",
    "\n",
    "    df[\"maritial_status\"] = LabelEncoder().fit_transform(df[\"ic_mrtl_stat_fr_cl\"])\n",
    "\n",
    "    df[\"employed\"] = df.ic_employ_ind.fillna(0).replace(\"X\", 1)\n",
    "\n",
    "    df[\"race\"] = LabelEncoder().fit_transform(df[\"race\"])\n",
    "    \n",
    "    \n",
    "    temp_var = \"prob_alcohol\"\n",
    "    df[temp_var] = df[temp_var].replace(' ', 0)    \n",
    "    df[temp_var] = df[temp_var].replace('  ', 0)    \n",
    "    df[temp_var] = df[temp_var].replace('NV', 0)\n",
    "    df[temp_var] = df[temp_var].replace(np.nan, 0)\n",
    "    df[temp_var] = df[temp_var].replace('V ', 1)\n",
    "    \n",
    "    temp_var = \"prob_drugs\"\n",
    "    df[temp_var] = df[temp_var].replace(' ', 0)    \n",
    "    df[temp_var] = df[temp_var].replace('  ', 0)    \n",
    "    df[temp_var] = df[temp_var].replace('NV', 0)    \n",
    "    df[temp_var] = df[temp_var].replace('V ', 1)\n",
    "    \n",
    "    temp_var = \"prob_assault\"\n",
    "    df[temp_var] = df[temp_var].replace(' ', 0)    \n",
    "    df[temp_var] = df[temp_var].replace('  ', 0)    \n",
    "    df[temp_var] = df[temp_var].replace('NV', 0)    \n",
    "    df[temp_var] = df[temp_var].replace('V ', 1)\n",
    "    \n",
    "\n",
    "    temp_var = \"prob_sexual\"\n",
    "    df[temp_var] = df[temp_var].replace(' ', 0)    \n",
    "    df[temp_var] = df[temp_var].replace('  ', 0)    \n",
    "    df[temp_var] = df[temp_var].replace('NV', 0)    \n",
    "    df[temp_var] = df[temp_var].replace('V ', 1)\n",
    "    \n",
    "\n",
    "    temp_var = \"prob_psyco\"\n",
    "    df[temp_var] = df[temp_var].replace(' ', 0)    \n",
    "    df[temp_var] = df[temp_var].replace('  ', 0)    \n",
    "    df[temp_var] = df[temp_var].replace('NV', 0)    \n",
    "    df[temp_var] = df[temp_var].replace('V ', 1)\n",
    "    \n",
    "    temp_var = \"prob_suicide\"\n",
    "    df[temp_var] = df[temp_var].replace(' ', 0)    \n",
    "    df[temp_var] = df[temp_var].replace('  ', 0)    \n",
    "    df[temp_var] = df[temp_var].replace('NV', 0)    \n",
    "    df[temp_var] = df[temp_var].replace('V ', 1)\n",
    "    \n",
    "    temp_var = \"prob_escape\"\n",
    "    df[temp_var] = df[temp_var].replace(' ', 0)    \n",
    "    df[temp_var] = df[temp_var].replace('  ', 0)    \n",
    "    df[temp_var] = df[temp_var].replace('NV', 0)    \n",
    "    df[temp_var] = df[temp_var].replace('V ', 1)\n",
    "    \n",
    "\n",
    "    df[\"problematic_conditions\"] = (df[\"prob_escape\"] \n",
    "                                    + df[\"prob_alcohol\"] \n",
    "                                    + df[\"prob_assault\"]\n",
    "                                    + df[\"prob_drugs\"] \n",
    "                                    + df[\"prob_escape\"] \n",
    "                                    + df[\"prob_psyco\"]\n",
    "                                    + df[\"prob_sexual\"]\n",
    "                                    + df[\"prob_suicide\"])\n",
    "    \n",
    "    temp_var = \"problematic_offenses\"\n",
    "    df[temp_var] = df[temp_var].replace(' ', 0)    \n",
    "    df[temp_var] = df[temp_var].replace('N', 0)    \n",
    "    df[temp_var] = df[temp_var].replace('Y', 1)    \n",
    "    \n",
    "    return df\n"
   ]
  },
  {
   "cell_type": "markdown",
   "metadata": {},
   "source": [
    "## Overrides during initial classification"
   ]
  },
  {
   "cell_type": "code",
   "execution_count": null,
   "metadata": {},
   "outputs": [],
   "source": []
  },
  {
   "cell_type": "code",
   "execution_count": 24,
   "metadata": {},
   "outputs": [],
   "source": [
    "df = pd.read_csv(\"../../data/initial_custody_2017_gsprs.csv\", low_memory=False)\n",
    "\n",
    "df['high_ic_instit_adj'] = np.where(df['ic_institut_adj']>2, 1, 0)\n",
    "df['ic_override_up'] = np.where(df['ic_ovride_cust_lvl']-df['ic_custdy_level']>0,1,0)\n",
    "df['high_ic'] = np.where(df['ic_custdy_level']>3, 1, 0)\n",
    "\n",
    "data = preprocess_input_vars_ic_or(df)\n",
    "\n",
    "data_ic_or = data[\n",
    "    [\n",
    "        \"gender_female\",\n",
    "        \"age_gt_45\",\n",
    "        \"age_lt_25\",\n",
    "        \"race_B\",\n",
    "        \"race_A\",\n",
    "        \"race_H\",\n",
    "        \"race_I\",\n",
    "        \"race_O\",\n",
    "        \"off_1_prs_max\",\n",
    "        \"off_1_gs_max\",\n",
    "        \"ic_custdy_level\",\n",
    "        \"prior_commits\",\n",
    "        \"ic_institut_adj\",\n",
    "        \"escape_hist_1\",\n",
    "        \"escape_hist_2\",\n",
    "        \"escape_hist_3\",\n",
    "        \"escape_hist_4\",\n",
    "        \"escape_hist_5\",\n",
    "        \"mrt_stat_DIV\",\n",
    "        \"mrt_stat_SEP\",\n",
    "        \"mrt_stat_MAR\",\n",
    "        \"mrt_stat_WID\",\n",
    "        \"employed\",\n",
    "        \"problematic_offenses\",\n",
    "        \"problematic_conditions\",\n",
    "        \"ic_override_up\"\n",
    "    ]\n",
    "]\n",
    "\n",
    "data_ic_or = data_ic_or.dropna()"
   ]
  },
  {
   "cell_type": "code",
   "execution_count": 25,
   "metadata": {},
   "outputs": [
    {
     "data": {
      "text/plain": [
       "0    13563\n",
       "1      253\n",
       "Name: ic_override_up, dtype: int64"
      ]
     },
     "execution_count": 25,
     "metadata": {},
     "output_type": "execute_result"
    }
   ],
   "source": [
    "data_ic_or['ic_override_up'].value_counts()"
   ]
  },
  {
   "cell_type": "code",
   "execution_count": 26,
   "metadata": {},
   "outputs": [],
   "source": [
    "X = data_ic_or.loc[:, data_ic_or.columns != 'ic_override_up']\n",
    "y = data_ic_or.loc[:, data_ic_or.columns == 'ic_override_up']"
   ]
  },
  {
   "cell_type": "markdown",
   "metadata": {},
   "source": [
    "### Balance classes"
   ]
  },
  {
   "cell_type": "code",
   "execution_count": 27,
   "metadata": {},
   "outputs": [],
   "source": [
    "from imblearn.over_sampling import SMOTE\n",
    "\n",
    "os = SMOTE(random_state=0)\n",
    "\n",
    "X_os, y_os = os.fit_resample(X, y)"
   ]
  },
  {
   "cell_type": "markdown",
   "metadata": {},
   "source": [
    "### Recursive feature elimination"
   ]
  },
  {
   "cell_type": "code",
   "execution_count": 28,
   "metadata": {},
   "outputs": [
    {
     "name": "stderr",
     "output_type": "stream",
     "text": [
      "/home/ncr006/anaconda2/envs/psapm/lib/python3.8/site-packages/sklearn/linear_model/_logistic.py:763: ConvergenceWarning: lbfgs failed to converge (status=1):\n",
      "STOP: TOTAL NO. of ITERATIONS REACHED LIMIT.\n",
      "\n",
      "Increase the number of iterations (max_iter) or scale the data as shown in:\n",
      "    https://scikit-learn.org/stable/modules/preprocessing.html\n",
      "Please also refer to the documentation for alternative solver options:\n",
      "    https://scikit-learn.org/stable/modules/linear_model.html#logistic-regression\n",
      "  n_iter_i = _check_optimize_result(\n"
     ]
    },
    {
     "data": {
      "text/plain": [
       "['race_A',\n",
       " 'race_O',\n",
       " 'escape_hist_1',\n",
       " 'escape_hist_2',\n",
       " 'escape_hist_3',\n",
       " 'escape_hist_4',\n",
       " 'escape_hist_5',\n",
       " 'mrt_stat_SEP']"
      ]
     },
     "execution_count": 28,
     "metadata": {},
     "output_type": "execute_result"
    }
   ],
   "source": [
    "from sklearn.feature_selection import RFE\n",
    "from sklearn.linear_model import LogisticRegression\n",
    "\n",
    "\n",
    "logreg = LogisticRegression(max_iter=500) # increase the number of iterations to get convergence\n",
    "\n",
    "rfe = RFE(logreg, n_features_to_select=8, step=1)\n",
    "rfe = rfe.fit(X_os, y_os.values.ravel())\n",
    "\n",
    "zz= list(zip(X_os.columns,list(rfe.support_)))\n",
    "\n",
    "ll = [a for (a,b) in zz if b]\n",
    "\n",
    "ll\n"
   ]
  },
  {
   "cell_type": "code",
   "execution_count": 29,
   "metadata": {
    "scrolled": true
   },
   "outputs": [
    {
     "name": "stdout",
     "output_type": "stream",
     "text": [
      "Optimization terminated successfully.\n",
      "         Current function value: 0.091245\n",
      "         Iterations 9\n",
      "                            Results: Logit\n",
      "=======================================================================\n",
      "Model:                 Logit              Pseudo R-squared:   0.002    \n",
      "Dependent Variable:    ic_override_up     AIC:                2551.2898\n",
      "Date:                  2021-10-02 01:37   BIC:                2664.2935\n",
      "No. Observations:      13816              Log-Likelihood:     -1260.6  \n",
      "Df Model:              14                 LL-Null:            -1262.7  \n",
      "Df Residuals:          13801              LLR p-value:        0.99452  \n",
      "Converged:             1.0000             Scale:              1.0000   \n",
      "No. Iterations:        9.0000                                          \n",
      "-----------------------------------------------------------------------\n",
      "                        Coef.  Std.Err.    z     P>|z|   [0.025  0.975]\n",
      "-----------------------------------------------------------------------\n",
      "race_A                  0.1020   1.0339   0.0987 0.9214 -1.9245  2.1285\n",
      "race_O                  0.5554   0.7406   0.7500 0.4533 -0.8961  2.0070\n",
      "escape_hist_1          -3.3390   0.2121 -15.7401 0.0000 -3.7548 -2.9233\n",
      "escape_hist_2          -3.0721   0.2361 -13.0102 0.0000 -3.5349 -2.6093\n",
      "escape_hist_3          -2.7636   0.2397 -11.5296 0.0000 -3.2333 -2.2938\n",
      "escape_hist_4          -1.7727   0.3142  -5.6419 0.0000 -2.3885 -1.1569\n",
      "escape_hist_5          -1.1329   0.3462  -3.2728 0.0011 -1.8114 -0.4545\n",
      "mrt_stat_SEP            0.0363   0.2927   0.1239 0.9014 -0.5374  0.6099\n",
      "race_B                 -0.3624   0.1282  -2.8279 0.0047 -0.6136 -0.1112\n",
      "gender_female          -0.1719   0.3895  -0.4414 0.6589 -0.9353  0.5915\n",
      "problematic_conditions -0.1314   0.0451  -2.9168 0.0035 -0.2197 -0.0431\n",
      "problematic_offenses    0.8752   0.1371   6.3831 0.0000  0.6065  1.1439\n",
      "age_lt_25              -0.3560   0.1613  -2.2068 0.0273 -0.6723 -0.0398\n",
      "age_gt_45              -0.5604   0.1957  -2.8640 0.0042 -0.9439 -0.1769\n",
      "ic_institut_adj        -0.1836   0.0501  -3.6672 0.0002 -0.2817 -0.0855\n",
      "=======================================================================\n",
      "\n",
      "                              OR       z-value      2.5%     97.5%\n",
      "race_A                  1.107419  9.213899e-01  0.145956  8.402376\n",
      "race_O                  1.742686  4.532764e-01  0.408145  7.440881\n",
      "escape_hist_1           0.035471  8.034651e-56  0.023405  0.053759\n",
      "escape_hist_2           0.046325  1.070501e-38  0.029163  0.073589\n",
      "escape_hist_3           0.063067  9.358648e-31  0.039425  0.100886\n",
      "escape_hist_4           0.169878  1.681680e-08  0.091768  0.314473\n",
      "escape_hist_5           0.322092  1.064862e-03  0.163428  0.634794\n",
      "mrt_stat_SEP            1.036917  9.014180e-01  0.584292  1.840172\n",
      "race_B                  0.695998  4.685977e-03  0.541404  0.894736\n",
      "gender_female           0.842047  6.589454e-01  0.392449  1.806716\n",
      "problematic_conditions  0.876852  3.536108e-03  0.802741  0.957805\n",
      "problematic_offenses    2.399343  1.734854e-10  1.833935  3.139068\n",
      "age_lt_25               0.700448  2.733072e-02  0.510557  0.960964\n",
      "age_gt_45               0.570977  4.183906e-03  0.389098  0.837873\n",
      "ic_institut_adj         0.832266  2.452583e-04  0.754475  0.918077\n"
     ]
    }
   ],
   "source": [
    "ll.append('race_B')\n",
    "ll.append('gender_female')\n",
    "ll.append('problematic_conditions')\n",
    "ll.append('problematic_offenses')\n",
    "ll.append('age_lt_25')\n",
    "ll.append('age_gt_45')\n",
    "ll.append('ic_institut_adj')\n",
    "\n",
    "X = X[ll]\n",
    "\n",
    "logit_model=sm.Logit(y,X.astype(float))\n",
    "result=logit_model.fit()\n",
    "print(result.summary2())\n",
    "\n",
    "model_odds = pd.DataFrame(np.exp(result.params), columns= ['OR'])\n",
    "model_odds['z-value']= result.pvalues\n",
    "model_odds[['2.5%', '97.5%']] = np.exp(result.conf_int())\n",
    "print(model_odds)"
   ]
  },
  {
   "cell_type": "code",
   "execution_count": 30,
   "metadata": {},
   "outputs": [
    {
     "name": "stderr",
     "output_type": "stream",
     "text": [
      "/home/ncr006/anaconda2/envs/psapm/lib/python3.8/site-packages/sklearn/linear_model/_logistic.py:763: ConvergenceWarning: lbfgs failed to converge (status=1):\n",
      "STOP: TOTAL NO. of ITERATIONS REACHED LIMIT.\n",
      "\n",
      "Increase the number of iterations (max_iter) or scale the data as shown in:\n",
      "    https://scikit-learn.org/stable/modules/preprocessing.html\n",
      "Please also refer to the documentation for alternative solver options:\n",
      "    https://scikit-learn.org/stable/modules/linear_model.html#logistic-regression\n",
      "  n_iter_i = _check_optimize_result(\n"
     ]
    },
    {
     "name": "stdout",
     "output_type": "stream",
     "text": [
      "Accuracy of logistic regression classifier on test set: 0.72\n",
      "[[2936 1134]\n",
      " [  32   43]]\n",
      "              precision    recall  f1-score   support\n",
      "\n",
      "           0       0.99      0.72      0.83      4070\n",
      "           1       0.04      0.57      0.07        75\n",
      "\n",
      "    accuracy                           0.72      4145\n",
      "   macro avg       0.51      0.65      0.45      4145\n",
      "weighted avg       0.97      0.72      0.82      4145\n",
      "\n"
     ]
    },
    {
     "data": {
      "image/png": "[encoded data removed]",
      "text/plain": [
       "<Figure size 432x288 with 1 Axes>"
      ]
     },
     "metadata": {},
     "output_type": "display_data"
    }
   ],
   "source": [
    "from sklearn.linear_model import LogisticRegression\n",
    "from sklearn.model_selection import train_test_split\n",
    "from sklearn import metrics\n",
    "import matplotlib.pyplot as plt\n",
    "\n",
    "X_train, X_test, y_train, y_test = train_test_split(X, y, test_size=0.3, random_state=42)\n",
    "\n",
    "X_train_os, y_train_os = os.fit_resample(X_train, y_train)\n",
    "\n",
    "logreg = LogisticRegression()\n",
    "logreg.fit(X_train_os, y_train_os.values.ravel())\n",
    "\n",
    "y_pred = logreg.predict(X_test)\n",
    "print('Accuracy of logistic regression classifier on test set: {:.2f}'.format(logreg.score(X_test, y_test)))\n",
    "\n",
    "from sklearn.metrics import confusion_matrix\n",
    "confusion_matrix = confusion_matrix(y_test, y_pred)\n",
    "print(confusion_matrix)\n",
    "\n",
    "from sklearn.metrics import classification_report\n",
    "print(classification_report(y_test, y_pred))\n",
    "\n",
    "from sklearn.metrics import roc_auc_score\n",
    "from sklearn.metrics import roc_curve\n",
    "logit_roc_auc = roc_auc_score(y_test, logreg.predict(X_test))\n",
    "fpr, tpr, thresholds = roc_curve(y_test, logreg.predict_proba(X_test)[:,1])\n",
    "plt.figure()\n",
    "plt.plot(fpr, tpr, label='Logistic Regression (area = %0.2f)' % logit_roc_auc)\n",
    "plt.plot([0, 1], [0, 1],'r--')\n",
    "plt.xlim([0.0, 1.0])\n",
    "plt.ylim([0.0, 1.05])\n",
    "plt.xlabel('False Positive Rate')\n",
    "plt.ylabel('True Positive Rate')\n",
    "plt.title('Receiver operating characteristic')\n",
    "plt.legend(loc=\"lower right\")\n",
    "plt.show()"
   ]
  },
  {
   "cell_type": "markdown",
   "metadata": {},
   "source": [
    "## Overrides during reclassification"
   ]
  },
  {
   "cell_type": "code",
   "execution_count": 31,
   "metadata": {},
   "outputs": [],
   "source": [
    "def preprocess_input_vars_re_or(df:pd.DataFrame) -> pd.DataFrame:\n",
    "    df = df.copy()\n",
    "\n",
    "    re_date = df[\"re_de_year\"]\n",
    "    re_date = re_date.replace(0, np.nan)\n",
    "    \n",
    "    df[\"re_ovride_cust_lvl\"] = df[\"re_ovride_cust_lvl\"].replace(\" \", np.nan)\n",
    "    df[\"re_ovride_cust_lvl\"] = df[\"re_ovride_cust_lvl\"].replace(\"\", np.nan)\n",
    "    \n",
    "    df[\"re_ovride_cust_lvl\"] = df[\"re_ovride_cust_lvl\"].astype(float)\n",
    "    \n",
    "    \n",
    "    df[\"age\"] = re_date - (df.date_of_birth//10000)\n",
    "\n",
    "    df[\"age_gt_45\"] = ((re_date - (df.date_of_birth//10000)\\\n",
    "        .astype(int)) > 45)\\\n",
    "        .apply(lambda x: 1 if x else 0)\n",
    "    \n",
    "    df[\"age_lt_25\"] = ((re_date - (df.date_of_birth//10000)\\\n",
    "        .astype(int)) < 25)\\\n",
    "        .apply(lambda x: 1 if x else 0)\n",
    "    \n",
    "    df[\"gender_female\"] = df.sex.transform(lambda x: 1 if x == \"F\" else 0)\n",
    "\n",
    "    df = pd.concat(\n",
    "        [df, pd.get_dummies(df.race, prefix=\"race\").drop(\"race_W\", axis=1)],\n",
    "        axis=1\n",
    "    )\n",
    "    \n",
    "    df[\"prior_commits\"] = df.ic_prior_commits\n",
    "\n",
    "    df[\"re_escp_hist_1\"] = df.re_escp_hist_1.transform(\n",
    "        lambda x: 1 if str(x) == \"X\" else 0\n",
    "    )\n",
    "    df[\"re_escp_hist_2\"] = df.re_escp_hist_2.transform(\n",
    "        lambda x: 1 if str(x) == \"X\" else 0\n",
    "    )\n",
    "    df[\"re_escp_hist_3\"] = df.re_escp_hist_3.transform(\n",
    "        lambda x: 1 if str(x) == \"X\" else 0\n",
    "    )\n",
    "    df[\"re_escp_hist_4\"] = df.re_escp_hist_4.transform(\n",
    "        lambda x: 1 if str(x) == \"X\" else 0\n",
    "    )\n",
    "    df[\"re_escp_hist_5\"] = df.re_escp_hist_5.transform(\n",
    "        lambda x: 1 if str(x) == \"X\" else 0\n",
    "    )\n",
    "\n",
    "    df[\"escape_hist\"] = (\n",
    "        df[\"re_escp_hist_1\"] +\n",
    "        df[\"re_escp_hist_2\"] +\n",
    "        df[\"re_escp_hist_3\"] +\n",
    "        df[\"re_escp_hist_4\"] +\n",
    "        df[\"re_escp_hist_5\"]\n",
    "    )\n",
    "    \n",
    "    \n",
    "    df = pd.concat(\n",
    "        [\n",
    "            df,\n",
    "            pd.get_dummies(df.ic_mrtl_stat_fr_cl, prefix=\"mrt_stat\")\\\n",
    "                .drop([\"mrt_stat_SIN\", \"mrt_stat_UNK\"], axis=1)\n",
    "        ],\n",
    "        axis=1\n",
    "    )\n",
    "\n",
    "    df[\"marital_status\"] = LabelEncoder().fit_transform(df[\"ic_mrtl_stat_fr_cl\"])\n",
    "\n",
    "    df[\"race\"] = LabelEncoder().fit_transform(df[\"race\"])\n",
    "    \n",
    "\n",
    "    df[\"employed\"] = df.ic_employ_ind.fillna(0).replace(\"X\", 1)\n",
    "    \n",
    "    \n",
    "    temp_var = \"prob_alcohol\"\n",
    "    df[temp_var] = df[temp_var].replace(' ', 0)    \n",
    "    df[temp_var] = df[temp_var].replace('  ', 0)    \n",
    "    df[temp_var] = df[temp_var].replace('NV', 0)\n",
    "    df[temp_var] = df[temp_var].replace(np.nan, 0)\n",
    "    df[temp_var] = df[temp_var].replace('V ', 1)\n",
    "    \n",
    "    temp_var = \"prob_drugs\"\n",
    "    df[temp_var] = df[temp_var].replace(' ', 0)    \n",
    "    df[temp_var] = df[temp_var].replace('  ', 0)    \n",
    "    df[temp_var] = df[temp_var].replace('NV', 0)    \n",
    "    df[temp_var] = df[temp_var].replace('V ', 1)\n",
    "    \n",
    "    temp_var = \"prob_assault\"\n",
    "    df[temp_var] = df[temp_var].replace(' ', 0)    \n",
    "    df[temp_var] = df[temp_var].replace('  ', 0)    \n",
    "    df[temp_var] = df[temp_var].replace('NV', 0)    \n",
    "    df[temp_var] = df[temp_var].replace('V ', 1)\n",
    "    \n",
    "\n",
    "    temp_var = \"prob_sexual\"\n",
    "    df[temp_var] = df[temp_var].replace(' ', 0)    \n",
    "    df[temp_var] = df[temp_var].replace('  ', 0)    \n",
    "    df[temp_var] = df[temp_var].replace('NV', 0)    \n",
    "    df[temp_var] = df[temp_var].replace('V ', 1)\n",
    "    \n",
    "\n",
    "    temp_var = \"prob_psyco\"\n",
    "    df[temp_var] = df[temp_var].replace(' ', 0)    \n",
    "    df[temp_var] = df[temp_var].replace('  ', 0)    \n",
    "    df[temp_var] = df[temp_var].replace('NV', 0)    \n",
    "    df[temp_var] = df[temp_var].replace('V ', 1)\n",
    "    \n",
    "    temp_var = \"prob_suicide\"\n",
    "    df[temp_var] = df[temp_var].replace(' ', 0)    \n",
    "    df[temp_var] = df[temp_var].replace('  ', 0)    \n",
    "    df[temp_var] = df[temp_var].replace('NV', 0)    \n",
    "    df[temp_var] = df[temp_var].replace('V ', 1)\n",
    "    \n",
    "    temp_var = \"prob_escape\"\n",
    "    df[temp_var] = df[temp_var].replace(' ', 0)    \n",
    "    df[temp_var] = df[temp_var].replace('  ', 0)    \n",
    "    df[temp_var] = df[temp_var].replace('NV', 0)    \n",
    "    df[temp_var] = df[temp_var].replace('V ', 1)\n",
    "    \n",
    "\n",
    "    df[\"problematic_conditions\"] = (df[\"prob_escape\"] \n",
    "                                    + df[\"prob_alcohol\"] \n",
    "                                    + df[\"prob_assault\"]\n",
    "                                    + df[\"prob_drugs\"] \n",
    "                                    + df[\"prob_escape\"] \n",
    "                                    + df[\"prob_psyco\"]\n",
    "                                    + df[\"prob_sexual\"]\n",
    "                                    + df[\"prob_suicide\"])\n",
    "    \n",
    "    temp_var = \"problematic_offenses\"\n",
    "    df[temp_var] = df[temp_var].replace(' ', 0)    \n",
    "    df[temp_var] = df[temp_var].replace('N', 0)    \n",
    "    df[temp_var] = df[temp_var].replace('Y', 1)    \n",
    "    \n",
    "    #df['re_ovride_cust_lvl'] = df['re_ovride_cust_lvl'].replace(np.nan, np.n)\n",
    "    #df['re_custody_level'] = df['re_ovride_cust_lvl'].replace(np.nan, 0)\n",
    "    return df\n"
   ]
  },
  {
   "cell_type": "code",
   "execution_count": null,
   "metadata": {},
   "outputs": [],
   "source": []
  },
  {
   "cell_type": "code",
   "execution_count": 32,
   "metadata": {},
   "outputs": [],
   "source": [
    "df = pd.read_csv(\"../../data/re_custody_2017_gsprs.csv\", low_memory=False)\n",
    "\n",
    "df['re_ovride_cust_lvl'] = df['re_ovride_cust_lvl'].replace(' ', np.nan)\n",
    "\n"
   ]
  },
  {
   "cell_type": "code",
   "execution_count": null,
   "metadata": {},
   "outputs": [],
   "source": []
  },
  {
   "cell_type": "code",
   "execution_count": 33,
   "metadata": {},
   "outputs": [],
   "source": [
    "df['re_override_up'] = np.where(df['re_ovride_cust_lvl'].astype(float)-df['re_custody_level']>0,1,0)\n",
    "df['high_re'] = np.where(df['re_custody_level']>3, 1, 0)\n",
    "\n"
   ]
  },
  {
   "cell_type": "code",
   "execution_count": 34,
   "metadata": {},
   "outputs": [],
   "source": [
    "data = preprocess_input_vars_re_or(df)\n",
    "\n"
   ]
  },
  {
   "cell_type": "code",
   "execution_count": 35,
   "metadata": {},
   "outputs": [],
   "source": [
    "data_re_or = data[\n",
    "    [\n",
    "        \"gender_female\",\n",
    "        \"age_gt_45\",\n",
    "        \"age_lt_25\",\n",
    "        \"race_B\",\n",
    "        \"race_A\",\n",
    "        \"race_H\",\n",
    "        \"race_I\",\n",
    "        \"race_O\",\n",
    "        \"off_1_prs_max\",\n",
    "        \"off_1_gs_max\",\n",
    "        \"prior_commits\",\n",
    "        \"re_discip_reports\",\n",
    "        \"re_escp_hist_1\",\n",
    "        \"re_escp_hist_2\",\n",
    "        \"re_escp_hist_3\",\n",
    "        \"re_escp_hist_4\",\n",
    "        \"re_escp_hist_5\",\n",
    "        \"mrt_stat_DIV\",\n",
    "        \"mrt_stat_SEP\",\n",
    "        \"mrt_stat_MAR\",\n",
    "        \"mrt_stat_WID\",\n",
    "        \"employed\",\n",
    "        \"problematic_offenses\",\n",
    "        \"problematic_conditions\",\n",
    "        \"re_override_up\",\n",
    "        \"re_custody_level\"\n",
    "    ]\n",
    "]\n",
    "\n",
    "data_re_or = data_re_or.dropna()"
   ]
  },
  {
   "cell_type": "code",
   "execution_count": 36,
   "metadata": {},
   "outputs": [
    {
     "data": {
      "text/plain": [
       "3    4524\n",
       "2    3886\n",
       "4    3048\n",
       "5    1922\n",
       "1    1920\n",
       "6     818\n",
       "7     234\n",
       "0     121\n",
       "8      70\n",
       "Name: problematic_conditions, dtype: int64"
      ]
     },
     "execution_count": 36,
     "metadata": {},
     "output_type": "execute_result"
    }
   ],
   "source": [
    "data_re_or['problematic_conditions'].value_counts()"
   ]
  },
  {
   "cell_type": "code",
   "execution_count": 37,
   "metadata": {},
   "outputs": [],
   "source": [
    "X = data_re_or.loc[:, data_re_or.columns != 're_override_up']\n",
    "y = data_re_or.loc[:, data_re_or.columns == 're_override_up']"
   ]
  },
  {
   "cell_type": "markdown",
   "metadata": {},
   "source": [
    "### Balance classes"
   ]
  },
  {
   "cell_type": "code",
   "execution_count": 38,
   "metadata": {},
   "outputs": [],
   "source": [
    "os = SMOTE(random_state=0)\n",
    "\n",
    "X_os, y_os = os.fit_resample(X,y)"
   ]
  },
  {
   "cell_type": "code",
   "execution_count": 39,
   "metadata": {},
   "outputs": [
    {
     "data": {
      "text/plain": [
       "Index(['gender_female', 'age_gt_45', 'age_lt_25', 'race_B', 'race_A', 'race_H',\n",
       "       'race_I', 'race_O', 'off_1_prs_max', 'off_1_gs_max', 'prior_commits',\n",
       "       're_discip_reports', 're_escp_hist_1', 're_escp_hist_2',\n",
       "       're_escp_hist_3', 're_escp_hist_4', 're_escp_hist_5', 'mrt_stat_DIV',\n",
       "       'mrt_stat_SEP', 'mrt_stat_MAR', 'mrt_stat_WID', 'employed',\n",
       "       'problematic_offenses', 'problematic_conditions', 're_custody_level'],\n",
       "      dtype='object')"
      ]
     },
     "execution_count": 39,
     "metadata": {},
     "output_type": "execute_result"
    }
   ],
   "source": [
    "X.columns"
   ]
  },
  {
   "cell_type": "markdown",
   "metadata": {},
   "source": [
    "### RFE"
   ]
  },
  {
   "cell_type": "code",
   "execution_count": 40,
   "metadata": {},
   "outputs": [
    {
     "data": {
      "text/plain": [
       "['gender_female',\n",
       " 'age_lt_25',\n",
       " 're_escp_hist_1',\n",
       " 're_escp_hist_2',\n",
       " 're_escp_hist_4',\n",
       " 'mrt_stat_DIV',\n",
       " 'mrt_stat_SEP',\n",
       " 'problematic_offenses']"
      ]
     },
     "execution_count": 40,
     "metadata": {},
     "output_type": "execute_result"
    }
   ],
   "source": [
    "logreg = LogisticRegression(max_iter=500) # increase the number of iterations to get convergence\n",
    "\n",
    "rfe = RFE(logreg, n_features_to_select=8, step=1)\n",
    "rfe = rfe.fit(X_os, y_os.values.ravel())\n",
    "\n",
    "zz= list(zip(X_os.columns,list(rfe.support_)))\n",
    "\n",
    "ll = [a for (a,b) in zz if b]\n",
    "\n",
    "ll"
   ]
  },
  {
   "cell_type": "code",
   "execution_count": 41,
   "metadata": {},
   "outputs": [
    {
     "name": "stdout",
     "output_type": "stream",
     "text": [
      "Optimization terminated successfully.\n",
      "         Current function value: 0.335093\n",
      "         Iterations 8\n",
      "                            Results: Logit\n",
      "=======================================================================\n",
      "Model:                Logit              Pseudo R-squared:   0.263     \n",
      "Dependent Variable:   re_override_up     AIC:                11110.8830\n",
      "Date:                 2021-10-02 01:38   BIC:                11203.4477\n",
      "No. Observations:     16543              Log-Likelihood:     -5543.4   \n",
      "Df Model:             11                 LL-Null:            -7517.4   \n",
      "Df Residuals:         16531              LLR p-value:        0.0000    \n",
      "Converged:            1.0000             Scale:              1.0000    \n",
      "No. Iterations:       8.0000                                           \n",
      "-----------------------------------------------------------------------\n",
      "                        Coef.  Std.Err.    z     P>|z|   [0.025  0.975]\n",
      "-----------------------------------------------------------------------\n",
      "gender_female          -0.4956   0.1844  -2.6879 0.0072 -0.8569 -0.1342\n",
      "age_lt_25              -1.2530   0.2581  -4.8549 0.0000 -1.7588 -0.7471\n",
      "re_escp_hist_1         -1.2701   0.0654 -19.4111 0.0000 -1.3983 -1.1418\n",
      "re_escp_hist_2         -2.5665   0.1850 -13.8706 0.0000 -2.9292 -2.2038\n",
      "re_escp_hist_4         -1.3847   0.0725 -19.0982 0.0000 -1.5268 -1.2426\n",
      "mrt_stat_DIV           -0.9600   0.1048  -9.1595 0.0000 -1.1654 -0.7546\n",
      "mrt_stat_SEP           -1.2566   0.1661  -7.5632 0.0000 -1.5822 -0.9310\n",
      "problematic_offenses    1.6386   0.0603  27.1720 0.0000  1.5204  1.7568\n",
      "race_B                  0.5228   0.0488  10.7078 0.0000  0.4271  0.6185\n",
      "problematic_conditions -0.1655   0.0151 -10.9697 0.0000 -0.1950 -0.1359\n",
      "age_gt_45               0.5710   0.0494  11.5533 0.0000  0.4742  0.6679\n",
      "re_discip_reports      -0.8266   0.0290 -28.5485 0.0000 -0.8833 -0.7698\n",
      "=======================================================================\n",
      "\n",
      "                              OR        z-value      2.5%     97.5%\n",
      "gender_female           0.609229   7.189329e-03  0.424473  0.874403\n",
      "age_lt_25               0.285654   1.204498e-06  0.172249  0.473720\n",
      "re_escp_hist_1          0.280807   6.221951e-84  0.247009  0.319229\n",
      "re_escp_hist_2          0.076804   9.545334e-44  0.053442  0.110378\n",
      "re_escp_hist_4          0.250404   2.613479e-81  0.217233  0.288639\n",
      "mrt_stat_DIV            0.382894   5.215797e-20  0.311792  0.470211\n",
      "mrt_stat_SEP            0.284623   3.932900e-14  0.205516  0.394179\n",
      "problematic_offenses    5.148020  1.392549e-162  4.574128  5.793915\n",
      "race_B                  1.686690   9.351311e-27  1.532776  1.856059\n",
      "problematic_conditions  0.847496   5.345131e-28  0.822807  0.872926\n",
      "age_gt_45               1.770080   7.107344e-31  1.606652  1.950131\n",
      "re_discip_reports       0.437552  2.930448e-179  0.413414  0.463100\n"
     ]
    }
   ],
   "source": [
    "ll.append('race_B')\n",
    "ll.append('problematic_conditions')\n",
    "ll.append('age_gt_45')\n",
    "ll.append('re_discip_reports')\n",
    "\n",
    "X = X[ll]\n",
    "\n",
    "logit_model=sm.Logit(y,X.astype(float))\n",
    "result=logit_model.fit()\n",
    "print(result.summary2())\n",
    "\n",
    "model_odds = pd.DataFrame(np.exp(result.params), columns= ['OR'])\n",
    "model_odds['z-value']= result.pvalues\n",
    "model_odds[['2.5%', '97.5%']] = np.exp(result.conf_int())\n",
    "print(model_odds)"
   ]
  },
  {
   "cell_type": "code",
   "execution_count": null,
   "metadata": {},
   "outputs": [],
   "source": []
  },
  {
   "cell_type": "code",
   "execution_count": 42,
   "metadata": {
    "scrolled": false
   },
   "outputs": [
    {
     "name": "stdout",
     "output_type": "stream",
     "text": [
      "Accuracy of logistic regression classifier on test set: 0.76\n",
      "[[3090  997]\n",
      " [ 193  683]]\n",
      "              precision    recall  f1-score   support\n",
      "\n",
      "           0       0.94      0.76      0.84      4087\n",
      "           1       0.41      0.78      0.53       876\n",
      "\n",
      "    accuracy                           0.76      4963\n",
      "   macro avg       0.67      0.77      0.69      4963\n",
      "weighted avg       0.85      0.76      0.78      4963\n",
      "\n"
     ]
    },
    {
     "data": {
      "image/png": "[encoded data removed]",
      "text/plain": [
       "<Figure size 432x288 with 1 Axes>"
      ]
     },
     "metadata": {},
     "output_type": "display_data"
    }
   ],
   "source": [
    "X_train, X_test, y_train, y_test = train_test_split(X, y, test_size=0.3, random_state=2)\n",
    "\n",
    "\n",
    "\n",
    "X_train_os, y_train_os = os.fit_resample(X_train, y_train)\n",
    "\n",
    "logreg = LogisticRegression()\n",
    "logreg.fit(X_train_os, y_train_os.values.ravel())\n",
    "\n",
    "y_pred = logreg.predict(X_test)\n",
    "print('Accuracy of logistic regression classifier on test set: {:.2f}'.format(logreg.score(X_test, y_test)))\n",
    "\n",
    "from sklearn.metrics import confusion_matrix\n",
    "confusion_matrix = confusion_matrix(y_test, y_pred)\n",
    "print(confusion_matrix)\n",
    "\n",
    "from sklearn.metrics import classification_report\n",
    "print(classification_report(y_test, y_pred))\n",
    "\n",
    "from sklearn.metrics import roc_auc_score\n",
    "from sklearn.metrics import roc_curve\n",
    "logit_roc_auc = roc_auc_score(y_test, logreg.predict(X_test))\n",
    "fpr, tpr, thresholds = roc_curve(y_test, logreg.predict_proba(X_test)[:,1])\n",
    "plt.figure()\n",
    "plt.plot(fpr, tpr, label='Logistic Regression (area = %0.2f)' % logit_roc_auc)\n",
    "plt.plot([0, 1], [0, 1],'r--')\n",
    "plt.xlim([0.0, 1.0])\n",
    "plt.ylim([0.0, 1.05])\n",
    "plt.xlabel('False Positive Rate')\n",
    "plt.ylabel('True Positive Rate')\n",
    "plt.title('Receiver operating characteristic')\n",
    "plt.legend(loc=\"lower right\")\n",
    "plt.show()"
   ]
  },
  {
   "cell_type": "code",
   "execution_count": 43,
   "metadata": {},
   "outputs": [
    {
     "data": {
      "text/plain": [
       "Index(['gender_female', 'age_lt_25', 're_escp_hist_1', 're_escp_hist_2',\n",
       "       're_escp_hist_4', 'mrt_stat_DIV', 'mrt_stat_SEP',\n",
       "       'problematic_offenses', 'race_B', 'problematic_conditions', 'age_gt_45',\n",
       "       're_discip_reports'],\n",
       "      dtype='object')"
      ]
     },
     "execution_count": 43,
     "metadata": {},
     "output_type": "execute_result"
    }
   ],
   "source": [
    "X_test.columns"
   ]
  },
  {
   "cell_type": "code",
   "execution_count": null,
   "metadata": {},
   "outputs": [],
   "source": []
  },
  {
   "cell_type": "code",
   "execution_count": null,
   "metadata": {},
   "outputs": [],
   "source": []
  },
  {
   "cell_type": "code",
   "execution_count": null,
   "metadata": {},
   "outputs": [],
   "source": []
  },
  {
   "cell_type": "code",
   "execution_count": null,
   "metadata": {},
   "outputs": [],
   "source": []
  },
  {
   "cell_type": "code",
   "execution_count": null,
   "metadata": {},
   "outputs": [],
   "source": []
  },
  {
   "cell_type": "code",
   "execution_count": null,
   "metadata": {},
   "outputs": [],
   "source": []
  },
  {
   "cell_type": "code",
   "execution_count": null,
   "metadata": {},
   "outputs": [],
   "source": []
  },
  {
   "cell_type": "code",
   "execution_count": null,
   "metadata": {},
   "outputs": [],
   "source": []
  },
  {
   "cell_type": "code",
   "execution_count": null,
   "metadata": {},
   "outputs": [],
   "source": []
  }
 ],
 "metadata": {
  "kernelspec": {
   "display_name": "Python [conda env:psapm]",
   "language": "python",
   "name": "conda-env-psapm-py"
  },
  "language_info": {
   "codemirror_mode": {
    "name": "ipython",
    "version": 3
   },
   "file_extension": ".py",
   "mimetype": "text/x-python",
   "name": "python",
   "nbconvert_exporter": "python",
   "pygments_lexer": "ipython3",
   "version": "3.8.10"
  }
 },
 "nbformat": 4,
 "nbformat_minor": 2
}

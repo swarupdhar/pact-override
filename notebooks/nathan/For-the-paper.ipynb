{
 "cells": [
  {
   "cell_type": "code",
   "execution_count": 27,
   "metadata": {},
   "outputs": [
    {
     "name": "stdout",
     "output_type": "stream",
     "text": [
      "The autoreload extension is already loaded. To reload it, use:\n",
      "  %reload_ext autoreload\n"
     ]
    }
   ],
   "source": [
    "import sys\n",
    "sys.path.append(\"../../src\")\n",
    "%load_ext autoreload\n",
    "%autoreload 2\n",
    "\n",
    "import pandas as pd\n",
    "import numpy as np\n",
    "import matplotlib.pyplot as plt\n",
    "import statsmodels.api as sm\n",
    "import seaborn as sns\n",
    "from heatmap import heatmap\n",
    "import statsmodels.formula.api as smf\n",
    "import bioinfokit\n",
    "\n",
    "\n",
    "plt.style.use('ggplot')\n",
    "\n",
    "%matplotlib inline\n",
    "\n",
    "from project import rf_models, preprocessing\n",
    "\n",
    "df = pd.read_csv(\"../../data/initial_custody_2017_gsprs.csv\", low_memory=False)\n",
    "\n",
    "# preprocessing\n",
    "data = preprocessing.preprocess_input_vars(df)\n",
    "data_ic = data[\n",
    "    [\n",
    "        \"gender_female\",\n",
    "        \"age_gt_45\",\n",
    "        \"age_lt_25\",\n",
    "        \"race_B\",\n",
    "        \"race_A\",\n",
    "        \"race_H\",\n",
    "        \"race_I\",\n",
    "        \"race_O\",\n",
    "        \"off_1_prs_max\",\n",
    "        \"off_1_gs_max\",\n",
    "        \"prior_commits\",\n",
    "        \"ic_institut_adj\",\n",
    "        \"escape_hist_1\",\n",
    "        \"escape_hist_2\",\n",
    "        \"escape_hist_3\",\n",
    "        \"escape_hist_4\",\n",
    "        \"escape_hist_5\",\n",
    "        \"mrt_stat_DIV\",\n",
    "        \"mrt_stat_SEP\",\n",
    "        \"mrt_stat_MAR\",\n",
    "        \"mrt_stat_WID\",\n",
    "        \"employed\",\n",
    "        \"ic_custdy_level\",\n",
    "        #\"ic_ovride_cust_lvl\"\n",
    "    ]\n",
    "]\n",
    "data_ic = data_ic.dropna()\n",
    "\n",
    "tbl = data_ic\n",
    "\n",
    "#\n",
    "\n",
    "tbl = data_ic.describe().transpose()\n",
    "\n",
    "tbl.drop(\"count\", axis=1, inplace=True)\n",
    "\n",
    "tbl.to_latex(\"../../paper/ic-summary.tex\")"
   ]
  },
  {
   "cell_type": "code",
   "execution_count": 28,
   "metadata": {},
   "outputs": [
    {
     "data": {
      "text/plain": [
       "(13816, 23)"
      ]
     },
     "execution_count": 28,
     "metadata": {},
     "output_type": "execute_result"
    }
   ],
   "source": [
    "data_ic.shape"
   ]
  },
  {
   "cell_type": "code",
   "execution_count": 30,
   "metadata": {},
   "outputs": [
    {
     "name": "stdout",
     "output_type": "stream",
     "text": [
      "The autoreload extension is already loaded. To reload it, use:\n",
      "  %reload_ext autoreload\n"
     ]
    }
   ],
   "source": [
    "import sys\n",
    "sys.path.append(\"../../src\")\n",
    "%load_ext autoreload\n",
    "%autoreload 2\n",
    "\n",
    "import pandas as pd\n",
    "import numpy as np\n",
    "import matplotlib.pyplot as plt\n",
    "import statsmodels.api as sm\n",
    "import seaborn as sns\n",
    "from heatmap import heatmap\n",
    "import statsmodels.formula.api as smf\n",
    "import bioinfokit\n",
    "\n",
    "\n",
    "plt.style.use('ggplot')\n",
    "\n",
    "%matplotlib inline\n",
    "\n",
    "from project import rf_models, preprocessing\n",
    "\n",
    "df = pd.read_csv(\"../../data/initial_custody_2017_gsprs.csv\", low_memory=False)\n",
    "\n",
    "# preprocessing\n",
    "data = preprocessing.preprocess_input_vars(df)\n",
    "data_or = data[\n",
    "    [\n",
    "        \"gender_female\",\n",
    "        \"age_gt_45\",\n",
    "        \"age_lt_25\",\n",
    "        \"race_B\",\n",
    "        \"race_A\",\n",
    "        \"race_H\",\n",
    "        \"race_I\",\n",
    "        \"race_O\",\n",
    "        \"off_1_prs_max\",\n",
    "        \"off_1_gs_max\",\n",
    "        \"prior_commits\",\n",
    "        \"ic_institut_adj\",\n",
    "        \"escape_hist_1\",\n",
    "        \"escape_hist_2\",\n",
    "        \"escape_hist_3\",\n",
    "        \"escape_hist_4\",\n",
    "        \"escape_hist_5\",\n",
    "        \"mrt_stat_DIV\",\n",
    "        \"mrt_stat_SEP\",\n",
    "        \"mrt_stat_MAR\",\n",
    "        \"mrt_stat_WID\",\n",
    "        \"employed\",\n",
    "        #\"ic_custdy_level\",\n",
    "        \"ic_ovride_cust_lvl\"\n",
    "    ]\n",
    "]\n",
    "data_or = data_or.dropna()\n",
    "\n",
    "tbl = data_or\n",
    "\n",
    "#\n",
    "\n",
    "tbl = data_or.describe().transpose()\n",
    "\n",
    "tbl.drop(\"count\", axis=1, inplace=True)\n",
    "\n",
    "tbl.to_latex(\"../../paper/ic-or-summary.tex\")"
   ]
  },
  {
   "cell_type": "code",
   "execution_count": 31,
   "metadata": {},
   "outputs": [
    {
     "data": {
      "text/plain": [
       "(704, 23)"
      ]
     },
     "execution_count": 31,
     "metadata": {},
     "output_type": "execute_result"
    }
   ],
   "source": [
    "data_or.shape"
   ]
  },
  {
   "cell_type": "code",
   "execution_count": 32,
   "metadata": {},
   "outputs": [],
   "source": [
    "df = pd.read_csv(\"../../data/re_custody_2017_gsprs.csv\", low_memory=False)\n",
    "\n",
    "\n",
    "data = preprocessing.preprocess_input_vars_re(df)\n",
    "\n",
    "data_re = data[\n",
    "    [\n",
    "        \"gender_female\",\n",
    "        \"age_gt_45\",\n",
    "        \"age_lt_25\",\n",
    "        \"race_B\",\n",
    "        \"race_A\",\n",
    "        \"race_H\",\n",
    "        \"race_I\",\n",
    "        \"race_O\",\n",
    "        \"off_1_prs_max\",\n",
    "        \"off_1_gs_max\",\n",
    "        \"prior_commits\",\n",
    "        \"re_discip_reports\",\n",
    "        \"re_escp_hist_1\",\n",
    "        \"re_escp_hist_2\",\n",
    "        \"re_escp_hist_3\",\n",
    "        \"re_escp_hist_4\",\n",
    "        \"re_escp_hist_5\",\n",
    "        \"employed\",\n",
    "        \"re_custody_level\"\n",
    "    ]\n",
    "]\n",
    "data_re = data_re.dropna()\n",
    "\n",
    "tbl = data_re\n",
    "\n",
    "#\n",
    "\n",
    "tbl = data_re.describe().transpose()\n",
    "\n",
    "tbl.drop(\"count\", axis=1, inplace=True)\n",
    "\n",
    "tbl.to_latex(\"../../paper/re-summary.tex\")"
   ]
  },
  {
   "cell_type": "code",
   "execution_count": 33,
   "metadata": {},
   "outputs": [
    {
     "data": {
      "text/plain": [
       "(16543, 19)"
      ]
     },
     "execution_count": 33,
     "metadata": {},
     "output_type": "execute_result"
    }
   ],
   "source": [
    "data_re.shape"
   ]
  },
  {
   "cell_type": "code",
   "execution_count": 34,
   "metadata": {},
   "outputs": [],
   "source": [
    "df = pd.read_csv(\"../../data/re_custody_2017_gsprs.csv\", low_memory=False)\n",
    "\n",
    "\n",
    "data = preprocessing.preprocess_input_vars_re(df)\n",
    "\n",
    "data_re = data[\n",
    "    [\n",
    "        \"gender_female\",\n",
    "        \"age_gt_45\",\n",
    "        \"age_lt_25\",\n",
    "        \"race_B\",\n",
    "        \"race_A\",\n",
    "        \"race_H\",\n",
    "        \"race_I\",\n",
    "        \"race_O\",\n",
    "        \"off_1_prs_max\",\n",
    "        \"off_1_gs_max\",\n",
    "        \"prior_commits\",\n",
    "        \"re_discip_reports\",\n",
    "        \"re_escp_hist_1\",\n",
    "        \"re_escp_hist_2\",\n",
    "        \"re_escp_hist_3\",\n",
    "        \"re_escp_hist_4\",\n",
    "        \"re_escp_hist_5\",\n",
    "        \"employed\",\n",
    "        \"re_ovride_cust_lvl\"\n",
    "    ]\n",
    "]\n",
    "data_re_or = data_re.dropna()\n",
    "\n",
    "tbl = data_re_or\n",
    "\n",
    "#\n",
    "\n",
    "tbl = data_re_or.describe().transpose()\n",
    "\n",
    "tbl.drop(\"count\", axis=1, inplace=True)\n",
    "\n",
    "tbl.to_latex(\"../../paper/re-or-summary.tex\")"
   ]
  },
  {
   "cell_type": "code",
   "execution_count": 35,
   "metadata": {},
   "outputs": [
    {
     "data": {
      "text/plain": [
       "(3001, 19)"
      ]
     },
     "execution_count": 35,
     "metadata": {},
     "output_type": "execute_result"
    }
   ],
   "source": [
    "data_re_or.shape"
   ]
  },
  {
   "cell_type": "code",
   "execution_count": null,
   "metadata": {},
   "outputs": [],
   "source": []
  }
 ],
 "metadata": {
  "kernelspec": {
   "display_name": "Python [conda env:psapm]",
   "language": "python",
   "name": "conda-env-psapm-py"
  },
  "language_info": {
   "codemirror_mode": {
    "name": "ipython",
    "version": 3
   },
   "file_extension": ".py",
   "mimetype": "text/x-python",
   "name": "python",
   "nbconvert_exporter": "python",
   "pygments_lexer": "ipython3",
   "version": "3.8.10"
  }
 },
 "nbformat": 4,
 "nbformat_minor": 2
}

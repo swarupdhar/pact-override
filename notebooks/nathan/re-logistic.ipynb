{
 "cells": [
  {
   "cell_type": "markdown",
   "metadata": {},
   "source": [
    "First I followed <a href=\"https://towardsdatascience.com/building-a-logistic-regression-in-python-step-by-step-becd4d56c9c8\">this</a> to build a model.  This ended up (after automatic feature selection--recursive feature elimination) to not use almost any demographic data to predict high custody level.  \n",
    "\n",
    "Next, I followed <a href=\"https://pythonfordatascienceorg.wordpress.com/logistic-regression-python/\">this</a> to see if this feature selected model satistifed conditions.\n",
    "\n",
    "Things I want to do:\n",
    "1. do the same thing but with manual feature selection (done)\n",
    "1. do the same thing but with a different number of features to be selected\n",
    "1. figure out why the data set shrunk so much based on the confusion matrix being much smaller than the original one (done--confusion matrix just based on training data)\n",
    "1. do the same but with overrides.  Override yes/no and override up yes/no.\n",
    "1. do the same but with only 2017 data"
   ]
  },
  {
   "cell_type": "markdown",
   "metadata": {},
   "source": [
    "## Setting up the notebook"
   ]
  },
  {
   "cell_type": "code",
   "execution_count": 1,
   "metadata": {},
   "outputs": [],
   "source": [
    "import sys\n",
    "sys.path.append(\"../../src\")\n",
    "%load_ext autoreload\n",
    "%autoreload 2"
   ]
  },
  {
   "cell_type": "code",
   "execution_count": 2,
   "metadata": {},
   "outputs": [],
   "source": [
    "import pandas as pd\n",
    "import numpy as np\n",
    "import matplotlib.pyplot as plt\n",
    "import statsmodels.api as sm\n",
    "import seaborn as sns\n",
    "from heatmap import heatmap\n",
    "import statsmodels.formula.api as smf\n",
    "import bioinfokit"
   ]
  },
  {
   "cell_type": "code",
   "execution_count": 3,
   "metadata": {},
   "outputs": [],
   "source": [
    "plt.style.use('ggplot')"
   ]
  },
  {
   "cell_type": "code",
   "execution_count": 4,
   "metadata": {},
   "outputs": [],
   "source": [
    "from math391.models.logit_models import LogitModelRunner\n",
    "from math391.preprocessing import preprocess_for_logit\n",
    "from math391.plotting import roc_plot"
   ]
  },
  {
   "cell_type": "code",
   "execution_count": 5,
   "metadata": {},
   "outputs": [
    {
     "name": "stdout",
     "output_type": "stream",
     "text": [
      "Index(['re_curr_off_cd_1', 're_curr_off_cd_2', 're_curr_off_cd_3',\n",
      "       're_prev_off_cd_1', 're_prev_off_cd_2', 're_prev_off_cd_3',\n",
      "       're_escp_hist_1', 're_escp_hist_2', 're_escp_hist_3', 're_escp_hist_4',\n",
      "       're_escp_hist_5', 're_discip_reports', 're_age_for_class',\n",
      "       're_instit_violence', 'ic_prior_commits', 'race', 'sex',\n",
      "       'ethnic_identity', 'citizenship', 'religion', 'legal_zip_code',\n",
      "       'ic_employ_ind', 'date_of_birth', 're_custody_level', 'ic_custdy_level',\n",
      "       'control_number', 're_ovride_cust_lvl', 're_de_year', 'off_1_gs_max',\n",
      "       'off_1_gs_min', 'off_2_gs_max', 'off_2_gs_min', 'off_3_gs_max',\n",
      "       'off_3_gs_min', 'off_1_prs_max', 'off_1_prs_min', 'off_2_prs_max',\n",
      "       'off_2_prs_min', 'off_3_prs_max', 'off_3_prs_min', 'marital_status',\n",
      "       'ic_mrtl_stat_fr_cl', 'age', 'age_gt_45', 'age_lt_25', 'gender_female',\n",
      "       'race_A', 'race_B', 'race_H', 'race_I', 'race_O', 'prior_commits',\n",
      "       'escape_hist', 'mrt_stat_  ', 'mrt_stat_   ', 'mrt_stat_0',\n",
      "       'mrt_stat_180', 'mrt_stat_3', 'mrt_stat_31', 'mrt_stat_DIV',\n",
      "       'mrt_stat_MAR', 'mrt_stat_SEP', 'mrt_stat_WID', 'employed',\n",
      "       'high_re_discip_reports', 're_override_up', 'high_re'],\n",
      "      dtype='object')\n"
     ]
    }
   ],
   "source": [
    "%matplotlib inline\n",
    "\n",
    "from project import rf_models, preprocessing\n",
    "\n",
    "df = pd.read_csv(\"../../data/re_custody_2017_gsprs.csv\", low_memory=False)\n",
    "\n",
    "\n",
    "\n",
    "# preprocessing\n",
    "data = preprocessing.preprocess_input_vars_re(df)\n",
    "\n",
    "data['high_re_discip_reports'] = np.where(data['re_discip_reports']>2, 1, 0)\n",
    "\n",
    "data['re_override_up'] = np.where(data['re_ovride_cust_lvl']-data['re_custody_level']>0,1,0)\n",
    "data['high_re'] = np.where(data['re_custody_level']>3, 1, 0)\n",
    "print(data.columns)\n",
    "data = data[\n",
    "    [\n",
    "        \"gender_female\",\n",
    "        \"age_gt_45\",\n",
    "        \"age_lt_25\",\n",
    "        \"race_B\",\n",
    "        \"race_A\",\n",
    "        \"race_H\",\n",
    "        \"race_I\",\n",
    "        \"race_O\",\n",
    "        \"off_1_prs_max\",\n",
    "        \"off_1_gs_max\",\n",
    "        #\"ic_custdy_level\",\n",
    "        \"prior_commits\",\n",
    "        \"re_discip_reports\",\n",
    "        \"re_escp_hist_1\",\n",
    "        \"re_escp_hist_2\",\n",
    "        \"re_escp_hist_3\",\n",
    "        \"re_escp_hist_4\",\n",
    "        \"re_escp_hist_5\",\n",
    "        \"mrt_stat_DIV\",\n",
    "        \"mrt_stat_SEP\",\n",
    "        \"mrt_stat_MAR\",\n",
    "        \"mrt_stat_WID\",\n",
    "        \"employed\",\n",
    "        \"high_re_discip_reports\",\n",
    "        \"high_re\"\n",
    "    ]\n",
    "]\n",
    "data = data.dropna()\n",
    "\n",
    "df_re_all = data"
   ]
  },
  {
   "cell_type": "markdown",
   "metadata": {},
   "source": [
    "---\n",
    "\n",
    "## Data exploration"
   ]
  },
  {
   "cell_type": "code",
   "execution_count": 6,
   "metadata": {},
   "outputs": [
    {
     "data": {
      "text/plain": [
       "0    13811\n",
       "1     2732\n",
       "Name: high_re, dtype: int64"
      ]
     },
     "execution_count": 6,
     "metadata": {},
     "output_type": "execute_result"
    }
   ],
   "source": [
    "df_re_all['high_re'].value_counts()"
   ]
  },
  {
   "cell_type": "code",
   "execution_count": 7,
   "metadata": {},
   "outputs": [
    {
     "data": {
      "image/png": "[encoded data removed]",
      "text/plain": [
       "<Figure size 432x288 with 1 Axes>"
      ]
     },
     "metadata": {
      "needs_background": "light"
     },
     "output_type": "display_data"
    }
   ],
   "source": [
    "sns.countplot(x='high_re', data=df_re_all, palette='hls')\n",
    "plt.show()"
   ]
  },
  {
   "cell_type": "code",
   "execution_count": 8,
   "metadata": {},
   "outputs": [
    {
     "name": "stdout",
     "output_type": "stream",
     "text": [
      "percentage of high lev is 83.48546212899716\n",
      "percentage of low lev is 16.51453787100284\n"
     ]
    }
   ],
   "source": [
    "count_hi = len(df_re_all[df_re_all['high_re']==0])\n",
    "count_lo = len(df_re_all[df_re_all['high_re']==1])\n",
    "pct_hi = count_hi/(count_hi+count_lo)\n",
    "print(\"percentage of high lev is\", pct_hi*100)\n",
    "pct_lo = count_lo/(count_hi+count_lo)\n",
    "print(\"percentage of low lev is\", pct_lo*100)"
   ]
  },
  {
   "cell_type": "code",
   "execution_count": 9,
   "metadata": {
    "scrolled": true
   },
   "outputs": [
    {
     "data": {
      "image/png": "[encoded data removed]",
      "text/plain": [
       "<Figure size 432x288 with 1 Axes>"
      ]
     },
     "metadata": {
      "needs_background": "light"
     },
     "output_type": "display_data"
    }
   ],
   "source": [
    "sns.countplot(x='gender_female', data=df_re_all, palette='hls')\n",
    "plt.show()"
   ]
  },
  {
   "cell_type": "code",
   "execution_count": 10,
   "metadata": {},
   "outputs": [
    {
     "data": {
      "image/png": "[encoded data removed]",
      "text/plain": [
       "<Figure size 432x288 with 1 Axes>"
      ]
     },
     "metadata": {
      "needs_background": "light"
     },
     "output_type": "display_data"
    }
   ],
   "source": [
    "sns.countplot(x='race_B', data=df_re_all, palette='hls')\n",
    "plt.show()"
   ]
  },
  {
   "cell_type": "markdown",
   "metadata": {},
   "source": [
    "###  See how quantitative variables vary with custody level"
   ]
  },
  {
   "cell_type": "code",
   "execution_count": 11,
   "metadata": {},
   "outputs": [
    {
     "data": {
      "text/plain": [
       "high_re\n",
       "0    2.817537\n",
       "1    3.081991\n",
       "Name: prior_commits, dtype: float64"
      ]
     },
     "execution_count": 11,
     "metadata": {},
     "output_type": "execute_result"
    }
   ],
   "source": [
    "df_re_all.groupby('high_re').mean()['prior_commits']"
   ]
  },
  {
   "cell_type": "code",
   "execution_count": 12,
   "metadata": {},
   "outputs": [
    {
     "data": {
      "text/plain": [
       "high_re\n",
       "0    12.101079\n",
       "1    11.765373\n",
       "Name: off_1_gs_max, dtype: float64"
      ]
     },
     "execution_count": 12,
     "metadata": {},
     "output_type": "execute_result"
    }
   ],
   "source": [
    "df_re_all.groupby('high_re').mean()['off_1_gs_max']"
   ]
  },
  {
   "cell_type": "code",
   "execution_count": 13,
   "metadata": {},
   "outputs": [
    {
     "data": {
      "text/plain": [
       "high_re\n",
       "0    2.610021\n",
       "1    2.597182\n",
       "Name: off_1_prs_max, dtype: float64"
      ]
     },
     "execution_count": 13,
     "metadata": {},
     "output_type": "execute_result"
    }
   ],
   "source": [
    "df_re_all.groupby('high_re').mean()['off_1_prs_max']"
   ]
  },
  {
   "cell_type": "code",
   "execution_count": 14,
   "metadata": {},
   "outputs": [
    {
     "data": {
      "text/plain": [
       "high_re\n",
       "0    1.704873\n",
       "1    4.056735\n",
       "Name: re_discip_reports, dtype: float64"
      ]
     },
     "execution_count": 14,
     "metadata": {},
     "output_type": "execute_result"
    }
   ],
   "source": [
    "df_re_all.groupby('high_re').mean()['re_discip_reports']"
   ]
  },
  {
   "cell_type": "markdown",
   "metadata": {},
   "source": [
    "###  See how quantitative variables vary with race_B"
   ]
  },
  {
   "cell_type": "code",
   "execution_count": 15,
   "metadata": {},
   "outputs": [
    {
     "data": {
      "text/plain": [
       "race_B\n",
       "0    2.021711\n",
       "1    2.154771\n",
       "Name: re_discip_reports, dtype: float64"
      ]
     },
     "execution_count": 15,
     "metadata": {},
     "output_type": "execute_result"
    }
   ],
   "source": [
    "df_re_all.groupby('race_B').mean()['re_discip_reports']"
   ]
  },
  {
   "cell_type": "code",
   "execution_count": 16,
   "metadata": {},
   "outputs": [
    {
     "data": {
      "text/plain": [
       "race_B\n",
       "0    2.461549\n",
       "1    2.733674\n",
       "Name: off_1_prs_max, dtype: float64"
      ]
     },
     "execution_count": 16,
     "metadata": {},
     "output_type": "execute_result"
    }
   ],
   "source": [
    "df_re_all.groupby('race_B').mean()['off_1_prs_max']"
   ]
  },
  {
   "cell_type": "code",
   "execution_count": 17,
   "metadata": {},
   "outputs": [
    {
     "data": {
      "text/plain": [
       "race_B\n",
       "0    11.331284\n",
       "1    12.659548\n",
       "Name: off_1_gs_max, dtype: float64"
      ]
     },
     "execution_count": 17,
     "metadata": {},
     "output_type": "execute_result"
    }
   ],
   "source": [
    "df_re_all.groupby('race_B').mean()['off_1_gs_max']"
   ]
  },
  {
   "cell_type": "code",
   "execution_count": 18,
   "metadata": {},
   "outputs": [
    {
     "data": {
      "text/plain": [
       "race_B\n",
       "0    2.974235\n",
       "1    2.764078\n",
       "Name: prior_commits, dtype: float64"
      ]
     },
     "execution_count": 18,
     "metadata": {},
     "output_type": "execute_result"
    }
   ],
   "source": [
    "df_re_all.groupby('race_B').mean()['prior_commits']"
   ]
  },
  {
   "cell_type": "markdown",
   "metadata": {},
   "source": [
    "###  Visualizations"
   ]
  },
  {
   "cell_type": "code",
   "execution_count": 19,
   "metadata": {},
   "outputs": [
    {
     "data": {
      "text/plain": [
       "Text(0, 0.5, 'Count of people')"
      ]
     },
     "execution_count": 19,
     "metadata": {},
     "output_type": "execute_result"
    },
    {
     "data": {
      "image/png": "[encoded data removed]",
      "text/plain": [
       "<Figure size 432x288 with 1 Axes>"
      ]
     },
     "metadata": {
      "needs_background": "light"
     },
     "output_type": "display_data"
    }
   ],
   "source": [
    "%matplotlib inline\n",
    "pd.crosstab(df_re_all.race_B,df_re_all.high_re).plot(kind='bar')\n",
    "plt.title('Reclassfied custody level by Black or not')\n",
    "plt.xlabel('Black')\n",
    "plt.ylabel('Count of people')\n"
   ]
  },
  {
   "cell_type": "code",
   "execution_count": 20,
   "metadata": {},
   "outputs": [
    {
     "data": {
      "text/plain": [
       "Text(0, 0.5, 'Proportion of people')"
      ]
     },
     "execution_count": 20,
     "metadata": {},
     "output_type": "execute_result"
    },
    {
     "data": {
      "image/png": "[encoded data removed]",
      "text/plain": [
       "<Figure size 432x288 with 1 Axes>"
      ]
     },
     "metadata": {
      "needs_background": "light"
     },
     "output_type": "display_data"
    }
   ],
   "source": [
    "table=pd.crosstab(df_re_all.re_discip_reports,df_re_all.high_re)\n",
    "table.div(table.sum(1).astype(float), axis=0).plot(kind='bar', stacked=True)\n",
    "plt.title('Stacked Bar Chart of Reclassified Custody level vs Disciplinary Reports')\n",
    "plt.xlabel('Disciplinary Reports')\n",
    "plt.ylabel('Proportion of people')\n"
   ]
  },
  {
   "cell_type": "code",
   "execution_count": 21,
   "metadata": {},
   "outputs": [
    {
     "data": {
      "text/plain": [
       "Text(0, 0.5, 'Proportion of people')"
      ]
     },
     "execution_count": 21,
     "metadata": {},
     "output_type": "execute_result"
    },
    {
     "data": {
      "image/png": "[encoded data removed]",
      "text/plain": [
       "<Figure size 432x288 with 1 Axes>"
      ]
     },
     "metadata": {
      "needs_background": "light"
     },
     "output_type": "display_data"
    }
   ],
   "source": [
    "table=pd.crosstab(df_re_all.employed,df_re_all.high_re)\n",
    "table.div(table.sum(1).astype(float), axis=0).plot(kind='bar', stacked=True)\n",
    "plt.title('Stacked Bar Chart of Reclassfied Custody level vs Employment status')\n",
    "plt.xlabel('Employment status')\n",
    "plt.ylabel('Proportion of people')"
   ]
  },
  {
   "cell_type": "code",
   "execution_count": 22,
   "metadata": {},
   "outputs": [
    {
     "data": {
      "text/plain": [
       "Text(0, 0.5, 'Proportion of people')"
      ]
     },
     "execution_count": 22,
     "metadata": {},
     "output_type": "execute_result"
    },
    {
     "data": {
      "image/png": "[encoded data removed]",
      "text/plain": [
       "<Figure size 432x288 with 1 Axes>"
      ]
     },
     "metadata": {
      "needs_background": "light"
     },
     "output_type": "display_data"
    }
   ],
   "source": [
    "table=pd.crosstab(df_re_all.gender_female,df_re_all.high_re)\n",
    "table.div(table.sum(1).astype(float), axis=0).plot(kind='bar', stacked=True)\n",
    "plt.title('Stacked Bar Chart of Reclassified Custody level vs Female or not')\n",
    "plt.xlabel('Female')\n",
    "plt.ylabel('Proportion of people')"
   ]
  },
  {
   "cell_type": "markdown",
   "metadata": {},
   "source": [
    "---\n",
    "\n",
    "## Recursive feature elimination"
   ]
  },
  {
   "cell_type": "code",
   "execution_count": 23,
   "metadata": {},
   "outputs": [],
   "source": [
    "data_final = df_re_all # make a copy"
   ]
  },
  {
   "cell_type": "code",
   "execution_count": 24,
   "metadata": {},
   "outputs": [],
   "source": [
    "data_final_vars=data_final.columns.values.tolist()"
   ]
  },
  {
   "cell_type": "code",
   "execution_count": 25,
   "metadata": {},
   "outputs": [],
   "source": [
    "yvars = ['high_re']"
   ]
  },
  {
   "cell_type": "code",
   "execution_count": 26,
   "metadata": {},
   "outputs": [],
   "source": [
    "Xvars = [i for i in data_final_vars if i not in yvars]"
   ]
  },
  {
   "cell_type": "code",
   "execution_count": 27,
   "metadata": {},
   "outputs": [],
   "source": [
    "X = data_final.loc[:, data_final.columns != 'high_re']\n",
    "y = data_final.loc[:, data_final.columns == 'high_re']"
   ]
  },
  {
   "cell_type": "code",
   "execution_count": 28,
   "metadata": {},
   "outputs": [],
   "source": [
    "from sklearn.feature_selection import RFE\n",
    "from sklearn.linear_model import LogisticRegression\n",
    "logreg = LogisticRegression(max_iter=300) # increase the number of iterations to get convergence\n"
   ]
  },
  {
   "cell_type": "code",
   "execution_count": 29,
   "metadata": {},
   "outputs": [],
   "source": [
    "rfe = RFE(logreg, n_features_to_select=8, step=1)\n",
    "rfe = rfe.fit(X, y.values.ravel())"
   ]
  },
  {
   "cell_type": "code",
   "execution_count": 30,
   "metadata": {},
   "outputs": [
    {
     "name": "stdout",
     "output_type": "stream",
     "text": [
      "[ True  True  True False  True False False  True False False False  True\n",
      " False False  True False False False False False False  True False]\n"
     ]
    }
   ],
   "source": [
    "print(rfe.support_)"
   ]
  },
  {
   "cell_type": "code",
   "execution_count": 31,
   "metadata": {},
   "outputs": [],
   "source": [
    "zz= list(zip(Xvars,list(rfe.support_)))"
   ]
  },
  {
   "cell_type": "code",
   "execution_count": 32,
   "metadata": {},
   "outputs": [],
   "source": [
    "ll = [a for (a,b) in zz if b]"
   ]
  },
  {
   "cell_type": "code",
   "execution_count": 33,
   "metadata": {},
   "outputs": [
    {
     "data": {
      "text/plain": [
       "['gender_female',\n",
       " 'age_gt_45',\n",
       " 'age_lt_25',\n",
       " 'race_A',\n",
       " 'race_O',\n",
       " 're_discip_reports',\n",
       " 're_escp_hist_3',\n",
       " 'employed']"
      ]
     },
     "execution_count": 33,
     "metadata": {},
     "output_type": "execute_result"
    }
   ],
   "source": [
    "ll"
   ]
  },
  {
   "cell_type": "code",
   "execution_count": 37,
   "metadata": {},
   "outputs": [],
   "source": [
    "# By comparison, when we did it for IC, we got these variables as most important:  ['age_gt_45',\n",
    "# 'ic_institut_adj',\n",
    "# 'escape_hist_4',\n",
    "# 'escape_hist_5',\n",
    "# 'mrt_stat_DIV',\n",
    "# 'mrt_stat_SEP',\n",
    "# 'mrt_stat_MAR',\n",
    "# 'mrt_stat_WID']"
   ]
  },
  {
   "cell_type": "code",
   "execution_count": 34,
   "metadata": {},
   "outputs": [],
   "source": [
    "X = X[ll]\n"
   ]
  },
  {
   "cell_type": "markdown",
   "metadata": {},
   "source": [
    "---\n",
    "\n",
    "## Implementing the model"
   ]
  },
  {
   "cell_type": "code",
   "execution_count": 35,
   "metadata": {},
   "outputs": [
    {
     "name": "stdout",
     "output_type": "stream",
     "text": [
      "Optimization terminated successfully.\n",
      "         Current function value: 0.483686\n",
      "         Iterations 7\n",
      "                          Results: Logit\n",
      "==================================================================\n",
      "Model:               Logit            Pseudo R-squared: -0.079    \n",
      "Dependent Variable:  high_re          AIC:              16019.2400\n",
      "Date:                2021-09-30 12:24 BIC:              16080.9497\n",
      "No. Observations:    16543            Log-Likelihood:   -8001.6   \n",
      "Df Model:            7                LL-Null:          -7413.0   \n",
      "Df Residuals:        16535            LLR p-value:      1.0000    \n",
      "Converged:           1.0000           Scale:            1.0000    \n",
      "No. Iterations:      7.0000                                       \n",
      "------------------------------------------------------------------\n",
      "                   Coef.  Std.Err.    z     P>|z|   [0.025  0.975]\n",
      "------------------------------------------------------------------\n",
      "gender_female     -1.4467   0.1576  -9.1787 0.0000 -1.7556 -1.1377\n",
      "age_gt_45         -2.4935   0.0555 -44.9040 0.0000 -2.6023 -2.3847\n",
      "age_lt_25         -0.0349   0.0782  -0.4456 0.6559 -0.1882  0.1185\n",
      "race_A            -1.2623   0.5585  -2.2600 0.0238 -2.3570 -0.1676\n",
      "race_O            -0.5666   0.3491  -1.6231 0.1046 -1.2509  0.1176\n",
      "re_discip_reports -0.0182   0.0080  -2.2791 0.0227 -0.0338 -0.0025\n",
      "re_escp_hist_3    -0.0031   0.1396  -0.0222 0.9823 -0.2768  0.2706\n",
      "employed          -1.6310   0.0643 -25.3462 0.0000 -1.7571 -1.5049\n",
      "==================================================================\n",
      "\n"
     ]
    }
   ],
   "source": [
    "import statsmodels.api as sm\n",
    "logit_model=sm.Logit(y,X)\n",
    "result=logit_model.fit()\n",
    "print(result.summary2())"
   ]
  },
  {
   "cell_type": "code",
   "execution_count": 36,
   "metadata": {},
   "outputs": [
    {
     "data": {
      "text/html": [
       "<div>\n",
       "<style scoped>\n",
       "    .dataframe tbody tr th:only-of-type {\n",
       "        vertical-align: middle;\n",
       "    }\n",
       "\n",
       "    .dataframe tbody tr th {\n",
       "        vertical-align: top;\n",
       "    }\n",
       "\n",
       "    .dataframe thead th {\n",
       "        text-align: right;\n",
       "    }\n",
       "</style>\n",
       "<table border=\"1\" class=\"dataframe\">\n",
       "  <thead>\n",
       "    <tr style=\"text-align: right;\">\n",
       "      <th></th>\n",
       "      <th>OR</th>\n",
       "      <th>z-value</th>\n",
       "      <th>2.5%</th>\n",
       "      <th>97.5%</th>\n",
       "    </tr>\n",
       "  </thead>\n",
       "  <tbody>\n",
       "    <tr>\n",
       "      <th>gender_female</th>\n",
       "      <td>0.235355</td>\n",
       "      <td>4.361689e-20</td>\n",
       "      <td>0.172809</td>\n",
       "      <td>0.320540</td>\n",
       "    </tr>\n",
       "    <tr>\n",
       "      <th>age_gt_45</th>\n",
       "      <td>0.082620</td>\n",
       "      <td>0.000000e+00</td>\n",
       "      <td>0.074100</td>\n",
       "      <td>0.092120</td>\n",
       "    </tr>\n",
       "    <tr>\n",
       "      <th>age_lt_25</th>\n",
       "      <td>0.965737</td>\n",
       "      <td>6.558612e-01</td>\n",
       "      <td>0.828447</td>\n",
       "      <td>1.125777</td>\n",
       "    </tr>\n",
       "    <tr>\n",
       "      <th>race_A</th>\n",
       "      <td>0.283001</td>\n",
       "      <td>2.382100e-02</td>\n",
       "      <td>0.094702</td>\n",
       "      <td>0.845705</td>\n",
       "    </tr>\n",
       "    <tr>\n",
       "      <th>race_O</th>\n",
       "      <td>0.567432</td>\n",
       "      <td>1.045722e-01</td>\n",
       "      <td>0.286253</td>\n",
       "      <td>1.124805</td>\n",
       "    </tr>\n",
       "    <tr>\n",
       "      <th>re_discip_reports</th>\n",
       "      <td>0.982008</td>\n",
       "      <td>2.265892e-02</td>\n",
       "      <td>0.966795</td>\n",
       "      <td>0.997461</td>\n",
       "    </tr>\n",
       "    <tr>\n",
       "      <th>re_escp_hist_3</th>\n",
       "      <td>0.996902</td>\n",
       "      <td>9.822685e-01</td>\n",
       "      <td>0.758237</td>\n",
       "      <td>1.310689</td>\n",
       "    </tr>\n",
       "    <tr>\n",
       "      <th>employed</th>\n",
       "      <td>0.195734</td>\n",
       "      <td>9.902538e-142</td>\n",
       "      <td>0.172541</td>\n",
       "      <td>0.222045</td>\n",
       "    </tr>\n",
       "  </tbody>\n",
       "</table>\n",
       "</div>"
      ],
      "text/plain": [
       "                         OR        z-value      2.5%     97.5%\n",
       "gender_female      0.235355   4.361689e-20  0.172809  0.320540\n",
       "age_gt_45          0.082620   0.000000e+00  0.074100  0.092120\n",
       "age_lt_25          0.965737   6.558612e-01  0.828447  1.125777\n",
       "race_A             0.283001   2.382100e-02  0.094702  0.845705\n",
       "race_O             0.567432   1.045722e-01  0.286253  1.124805\n",
       "re_discip_reports  0.982008   2.265892e-02  0.966795  0.997461\n",
       "re_escp_hist_3     0.996902   9.822685e-01  0.758237  1.310689\n",
       "employed           0.195734  9.902538e-142  0.172541  0.222045"
      ]
     },
     "execution_count": 36,
     "metadata": {},
     "output_type": "execute_result"
    }
   ],
   "source": [
    "model_odds = pd.DataFrame(np.exp(result.params), columns= ['OR'])\n",
    "model_odds['z-value']= result.pvalues\n",
    "model_odds[['2.5%', '97.5%']] = np.exp(result.conf_int())\n",
    "model_odds"
   ]
  },
  {
   "cell_type": "markdown",
   "metadata": {},
   "source": [
    "## Model fitting"
   ]
  },
  {
   "cell_type": "code",
   "execution_count": 37,
   "metadata": {},
   "outputs": [],
   "source": [
    "from sklearn.linear_model import LogisticRegression\n",
    "from sklearn.model_selection import train_test_split\n",
    "from sklearn import metrics"
   ]
  },
  {
   "cell_type": "code",
   "execution_count": 38,
   "metadata": {},
   "outputs": [
    {
     "data": {
      "text/plain": [
       "LogisticRegression()"
      ]
     },
     "execution_count": 38,
     "metadata": {},
     "output_type": "execute_result"
    }
   ],
   "source": [
    "X_train, X_test, y_train, y_test = train_test_split(X, y, test_size=0.3, random_state=0)\n",
    "logreg = LogisticRegression()\n",
    "logreg.fit(X_train, y_train.values.ravel())"
   ]
  },
  {
   "cell_type": "code",
   "execution_count": 39,
   "metadata": {},
   "outputs": [
    {
     "name": "stdout",
     "output_type": "stream",
     "text": [
      "Accuracy of logistic regression classifier on test set: 0.90\n"
     ]
    }
   ],
   "source": [
    "y_pred = logreg.predict(X_test)\n",
    "print('Accuracy of logistic regression classifier on test set: {:.2f}'.format(logreg.score(X_test, y_test)))"
   ]
  },
  {
   "cell_type": "code",
   "execution_count": 40,
   "metadata": {},
   "outputs": [
    {
     "name": "stdout",
     "output_type": "stream",
     "text": [
      "[[3878  267]\n",
      " [ 254  564]]\n"
     ]
    }
   ],
   "source": [
    "from sklearn.metrics import confusion_matrix\n",
    "confusion_matrix = confusion_matrix(y_test, y_pred)\n",
    "print(confusion_matrix)"
   ]
  },
  {
   "cell_type": "code",
   "execution_count": 41,
   "metadata": {},
   "outputs": [
    {
     "name": "stdout",
     "output_type": "stream",
     "text": [
      "              precision    recall  f1-score   support\n",
      "\n",
      "           0       0.94      0.94      0.94      4145\n",
      "           1       0.68      0.69      0.68       818\n",
      "\n",
      "    accuracy                           0.90      4963\n",
      "   macro avg       0.81      0.81      0.81      4963\n",
      "weighted avg       0.90      0.90      0.90      4963\n",
      "\n"
     ]
    }
   ],
   "source": [
    "from sklearn.metrics import classification_report\n",
    "print(classification_report(y_test, y_pred))"
   ]
  },
  {
   "cell_type": "code",
   "execution_count": 42,
   "metadata": {},
   "outputs": [
    {
     "data": {
      "image/png": "[encoded data removed]",
      "text/plain": [
       "<Figure size 432x288 with 1 Axes>"
      ]
     },
     "metadata": {
      "needs_background": "light"
     },
     "output_type": "display_data"
    }
   ],
   "source": [
    "from sklearn.metrics import roc_auc_score\n",
    "from sklearn.metrics import roc_curve\n",
    "logit_roc_auc = roc_auc_score(y_test, logreg.predict(X_test))\n",
    "fpr, tpr, thresholds = roc_curve(y_test, logreg.predict_proba(X_test)[:,1])\n",
    "plt.figure()\n",
    "plt.plot(fpr, tpr, label='Logistic Regression (area = %0.2f)' % logit_roc_auc)\n",
    "plt.plot([0, 1], [0, 1],'r--')\n",
    "plt.xlim([0.0, 1.0])\n",
    "plt.ylim([0.0, 1.05])\n",
    "plt.xlabel('False Positive Rate')\n",
    "plt.ylabel('True Positive Rate')\n",
    "plt.title('Receiver operating characteristic')\n",
    "plt.legend(loc=\"lower right\")\n",
    "plt.show()"
   ]
  },
  {
   "cell_type": "markdown",
   "metadata": {},
   "source": [
    "---\n",
    "\n",
    "## Checking conditions"
   ]
  },
  {
   "cell_type": "markdown",
   "metadata": {},
   "source": [
    "### Balancing features"
   ]
  },
  {
   "cell_type": "code",
   "execution_count": 46,
   "metadata": {},
   "outputs": [
    {
     "name": "stdout",
     "output_type": "stream",
     "text": [
      "Counter({0: 13811, 1: 2732})\n",
      "Counter({0: 13811, 1: 13811})\n",
      "Optimization terminated successfully.\n",
      "         Current function value: 0.505178\n",
      "         Iterations 6\n",
      "                          Results: Logit\n",
      "==================================================================\n",
      "Model:               Logit            Pseudo R-squared: 0.271     \n",
      "Dependent Variable:  high_re          AIC:              27924.0773\n",
      "Date:                2021-09-30 12:46 BIC:              27989.8882\n",
      "No. Observations:    27622            Log-Likelihood:   -13954.   \n",
      "Df Model:            7                LL-Null:          -19146.   \n",
      "Df Residuals:        27614            LLR p-value:      0.0000    \n",
      "Converged:           1.0000           Scale:            1.0000    \n",
      "No. Iterations:      6.0000                                       \n",
      "------------------------------------------------------------------\n",
      "                   Coef.  Std.Err.    z     P>|z|   [0.025  0.975]\n",
      "------------------------------------------------------------------\n",
      "gender_female     -1.4879   0.0993 -14.9877 0.0000 -1.6824 -1.2933\n",
      "age_gt_45         -1.9292   0.0317 -60.8442 0.0000 -1.9914 -1.8671\n",
      "age_lt_25         -0.0708   0.0601  -1.1793 0.2383 -0.1885  0.0469\n",
      "race_A            -2.0437   0.5289  -3.8643 0.0001 -3.0802 -1.0071\n",
      "race_O            -1.6202   0.3451  -4.6951 0.0000 -2.2965 -0.9438\n",
      "re_discip_reports  0.4394   0.0061  72.3766 0.0000  0.4275  0.4513\n",
      "re_escp_hist_3    -0.1712   0.1045  -1.6383 0.1014 -0.3761  0.0336\n",
      "employed          -1.2597   0.0389 -32.3910 0.0000 -1.3360 -1.1835\n",
      "==================================================================\n",
      "\n",
      "                         OR        z-value      2.5%     97.5%\n",
      "gender_female      0.225853   8.831412e-51  0.185920  0.274364\n",
      "age_gt_45          0.145258   0.000000e+00  0.136506  0.154572\n",
      "age_lt_25          0.931632   2.382949e-01  0.828187  1.047999\n",
      "race_A             0.129553   1.114257e-04  0.045949  0.365272\n",
      "race_O             0.197863   2.664710e-06  0.100608  0.389132\n",
      "re_discip_reports  1.551717   0.000000e+00  1.533364  1.570290\n",
      "re_escp_hist_3     0.842626   1.013551e-01  0.686546  1.034189\n",
      "employed           0.283727  3.673580e-230  0.262904  0.306201\n"
     ]
    }
   ],
   "source": [
    "X = data_final.loc[:, data_final.columns != 'high_re']\n",
    "y = data_final.loc[:, data_final.columns == 'high_re']\n",
    "X = X[ll]\n",
    "\n",
    "from imblearn.over_sampling import SMOTE\n",
    "\n",
    "os = SMOTE(random_state=0)\n",
    "\n",
    "os\n",
    "\n",
    "from collections import Counter\n",
    "\n",
    "\n",
    "\n",
    "ctr = Counter(y['high_re'])\n",
    "\n",
    "print(ctr)\n",
    "\n",
    "\n",
    "X_os, y_os = os.fit_resample(X, y)\n",
    "\n",
    "ctr = Counter(y_os['high_re'])\n",
    "\n",
    "print(ctr)\n",
    "\n",
    "logit_model=sm.Logit(y_os,X_os)\n",
    "result=logit_model.fit()\n",
    "print(result.summary2())\n",
    "\n",
    "model_odds = pd.DataFrame(np.exp(result.params), columns= ['OR'])\n",
    "model_odds['z-value']= result.pvalues\n",
    "model_odds[['2.5%', '97.5%']] = np.exp(result.conf_int())\n",
    "print(model_odds)\n"
   ]
  },
  {
   "cell_type": "code",
   "execution_count": 47,
   "metadata": {},
   "outputs": [
    {
     "data": {
      "text/plain": [
       "LogisticRegression()"
      ]
     },
     "execution_count": 47,
     "metadata": {},
     "output_type": "execute_result"
    }
   ],
   "source": [
    "X_train, X_test, y_train, y_test = train_test_split(X, y, test_size=0.3, random_state=0)\n",
    "\n",
    "os = SMOTE(random_state=0)\n",
    "\n",
    "\n",
    "X_train_os, y_train_os = os.fit_resample(X_train, y_train)\n",
    "\n",
    "\n",
    "logreg = LogisticRegression()\n",
    "logreg.fit(X_train_os, y_train_os.values.ravel())"
   ]
  },
  {
   "cell_type": "code",
   "execution_count": 48,
   "metadata": {},
   "outputs": [
    {
     "name": "stdout",
     "output_type": "stream",
     "text": [
      "Accuracy of logistic regression classifier on test set: 0.84\n"
     ]
    }
   ],
   "source": [
    "y_pred = logreg.predict(X_test)\n",
    "print('Accuracy of logistic regression classifier on test set: {:.2f}'.format(logreg.score(X_test, y_test)))"
   ]
  },
  {
   "cell_type": "code",
   "execution_count": 49,
   "metadata": {},
   "outputs": [
    {
     "name": "stdout",
     "output_type": "stream",
     "text": [
      "[[3422  723]\n",
      " [  82  736]]\n"
     ]
    }
   ],
   "source": [
    "from sklearn.metrics import confusion_matrix\n",
    "confusion_matrix = confusion_matrix(y_test, y_pred)\n",
    "print(confusion_matrix)"
   ]
  },
  {
   "cell_type": "code",
   "execution_count": 50,
   "metadata": {},
   "outputs": [
    {
     "name": "stdout",
     "output_type": "stream",
     "text": [
      "              precision    recall  f1-score   support\n",
      "\n",
      "           0       0.98      0.83      0.89      4145\n",
      "           1       0.50      0.90      0.65       818\n",
      "\n",
      "    accuracy                           0.84      4963\n",
      "   macro avg       0.74      0.86      0.77      4963\n",
      "weighted avg       0.90      0.84      0.85      4963\n",
      "\n"
     ]
    }
   ],
   "source": [
    "from sklearn.metrics import classification_report\n",
    "print(classification_report(y_test, y_pred))"
   ]
  },
  {
   "cell_type": "code",
   "execution_count": 51,
   "metadata": {},
   "outputs": [
    {
     "data": {
      "image/png": "[encoded data removed]",
      "text/plain": [
       "<Figure size 432x288 with 1 Axes>"
      ]
     },
     "metadata": {
      "needs_background": "light"
     },
     "output_type": "display_data"
    }
   ],
   "source": [
    "from sklearn.metrics import roc_auc_score\n",
    "from sklearn.metrics import roc_curve\n",
    "logit_roc_auc = roc_auc_score(y_test, logreg.predict(X_test))\n",
    "fpr, tpr, thresholds = roc_curve(y_test, logreg.predict_proba(X_test)[:,1])\n",
    "plt.figure()\n",
    "plt.plot(fpr, tpr, label='Logistic Regression (area = %0.2f)' % logit_roc_auc)\n",
    "plt.plot([0, 1], [0, 1],'r--')\n",
    "plt.xlim([0.0, 1.0])\n",
    "plt.ylim([0.0, 1.05])\n",
    "plt.xlabel('False Positive Rate')\n",
    "plt.ylabel('True Positive Rate')\n",
    "plt.title('Receiver operating characteristic')\n",
    "plt.legend(loc=\"lower right\")\n",
    "plt.show()"
   ]
  },
  {
   "cell_type": "code",
   "execution_count": null,
   "metadata": {},
   "outputs": [],
   "source": []
  },
  {
   "cell_type": "code",
   "execution_count": null,
   "metadata": {},
   "outputs": [],
   "source": []
  },
  {
   "cell_type": "markdown",
   "metadata": {},
   "source": [
    "### Continuous IVs linearly related to log odds"
   ]
  },
  {
   "cell_type": "code",
   "execution_count": 52,
   "metadata": {},
   "outputs": [
    {
     "data": {
      "image/png": "[encoded data removed]",
      "text/plain": [
       "<Figure size 432x288 with 1 Axes>"
      ]
     },
     "metadata": {
      "needs_background": "light"
     },
     "output_type": "display_data"
    }
   ],
   "source": [
    "discip = sns.regplot(x= 're_discip_reports', y= 'high_re', data= df_re_all, logistic= True).set_title(\"Disciplinary Reports Log Odds Linear Plot\")\n",
    "#Looks S-shaped"
   ]
  },
  {
   "cell_type": "markdown",
   "metadata": {},
   "source": [
    "### Assumption of Absence of Multicollinearity"
   ]
  },
  {
   "cell_type": "code",
   "execution_count": 53,
   "metadata": {},
   "outputs": [
    {
     "data": {
      "text/html": [
       "<div>\n",
       "<style scoped>\n",
       "    .dataframe tbody tr th:only-of-type {\n",
       "        vertical-align: middle;\n",
       "    }\n",
       "\n",
       "    .dataframe tbody tr th {\n",
       "        vertical-align: top;\n",
       "    }\n",
       "\n",
       "    .dataframe thead th {\n",
       "        text-align: right;\n",
       "    }\n",
       "</style>\n",
       "<table border=\"1\" class=\"dataframe\">\n",
       "  <thead>\n",
       "    <tr style=\"text-align: right;\">\n",
       "      <th></th>\n",
       "      <th>gender_female</th>\n",
       "      <th>age_gt_45</th>\n",
       "      <th>age_lt_25</th>\n",
       "      <th>race_A</th>\n",
       "      <th>race_O</th>\n",
       "      <th>re_discip_reports</th>\n",
       "      <th>re_escp_hist_3</th>\n",
       "      <th>employed</th>\n",
       "    </tr>\n",
       "  </thead>\n",
       "  <tbody>\n",
       "    <tr>\n",
       "      <th>gender_female</th>\n",
       "      <td>1.000000</td>\n",
       "      <td>-0.016741</td>\n",
       "      <td>-0.012239</td>\n",
       "      <td>0.000370</td>\n",
       "      <td>0.016783</td>\n",
       "      <td>0.016661</td>\n",
       "      <td>0.002895</td>\n",
       "      <td>0.009524</td>\n",
       "    </tr>\n",
       "    <tr>\n",
       "      <th>age_gt_45</th>\n",
       "      <td>-0.016741</td>\n",
       "      <td>1.000000</td>\n",
       "      <td>-0.169842</td>\n",
       "      <td>0.008105</td>\n",
       "      <td>-0.025935</td>\n",
       "      <td>-0.272817</td>\n",
       "      <td>-0.059542</td>\n",
       "      <td>0.066386</td>\n",
       "    </tr>\n",
       "    <tr>\n",
       "      <th>age_lt_25</th>\n",
       "      <td>-0.012239</td>\n",
       "      <td>-0.169842</td>\n",
       "      <td>1.000000</td>\n",
       "      <td>-0.003907</td>\n",
       "      <td>-0.007425</td>\n",
       "      <td>0.166646</td>\n",
       "      <td>0.046426</td>\n",
       "      <td>-0.054105</td>\n",
       "    </tr>\n",
       "    <tr>\n",
       "      <th>race_A</th>\n",
       "      <td>0.000370</td>\n",
       "      <td>0.008105</td>\n",
       "      <td>-0.003907</td>\n",
       "      <td>1.000000</td>\n",
       "      <td>-0.002610</td>\n",
       "      <td>-0.018367</td>\n",
       "      <td>0.004822</td>\n",
       "      <td>0.000609</td>\n",
       "    </tr>\n",
       "    <tr>\n",
       "      <th>race_O</th>\n",
       "      <td>0.016783</td>\n",
       "      <td>-0.025935</td>\n",
       "      <td>-0.007425</td>\n",
       "      <td>-0.002610</td>\n",
       "      <td>1.000000</td>\n",
       "      <td>0.002370</td>\n",
       "      <td>-0.007136</td>\n",
       "      <td>0.018036</td>\n",
       "    </tr>\n",
       "    <tr>\n",
       "      <th>re_discip_reports</th>\n",
       "      <td>0.016661</td>\n",
       "      <td>-0.272817</td>\n",
       "      <td>0.166646</td>\n",
       "      <td>-0.018367</td>\n",
       "      <td>0.002370</td>\n",
       "      <td>1.000000</td>\n",
       "      <td>0.068215</td>\n",
       "      <td>-0.081254</td>\n",
       "    </tr>\n",
       "    <tr>\n",
       "      <th>re_escp_hist_3</th>\n",
       "      <td>0.002895</td>\n",
       "      <td>-0.059542</td>\n",
       "      <td>0.046426</td>\n",
       "      <td>0.004822</td>\n",
       "      <td>-0.007136</td>\n",
       "      <td>0.068215</td>\n",
       "      <td>1.000000</td>\n",
       "      <td>-0.012626</td>\n",
       "    </tr>\n",
       "    <tr>\n",
       "      <th>employed</th>\n",
       "      <td>0.009524</td>\n",
       "      <td>0.066386</td>\n",
       "      <td>-0.054105</td>\n",
       "      <td>0.000609</td>\n",
       "      <td>0.018036</td>\n",
       "      <td>-0.081254</td>\n",
       "      <td>-0.012626</td>\n",
       "      <td>1.000000</td>\n",
       "    </tr>\n",
       "  </tbody>\n",
       "</table>\n",
       "</div>"
      ],
      "text/plain": [
       "                   gender_female  age_gt_45  age_lt_25    race_A    race_O  \\\n",
       "gender_female           1.000000  -0.016741  -0.012239  0.000370  0.016783   \n",
       "age_gt_45              -0.016741   1.000000  -0.169842  0.008105 -0.025935   \n",
       "age_lt_25              -0.012239  -0.169842   1.000000 -0.003907 -0.007425   \n",
       "race_A                  0.000370   0.008105  -0.003907  1.000000 -0.002610   \n",
       "race_O                  0.016783  -0.025935  -0.007425 -0.002610  1.000000   \n",
       "re_discip_reports       0.016661  -0.272817   0.166646 -0.018367  0.002370   \n",
       "re_escp_hist_3          0.002895  -0.059542   0.046426  0.004822 -0.007136   \n",
       "employed                0.009524   0.066386  -0.054105  0.000609  0.018036   \n",
       "\n",
       "                   re_discip_reports  re_escp_hist_3  employed  \n",
       "gender_female               0.016661        0.002895  0.009524  \n",
       "age_gt_45                  -0.272817       -0.059542  0.066386  \n",
       "age_lt_25                   0.166646        0.046426 -0.054105  \n",
       "race_A                     -0.018367        0.004822  0.000609  \n",
       "race_O                      0.002370       -0.007136  0.018036  \n",
       "re_discip_reports           1.000000        0.068215 -0.081254  \n",
       "re_escp_hist_3              0.068215        1.000000 -0.012626  \n",
       "employed                   -0.081254       -0.012626  1.000000  "
      ]
     },
     "execution_count": 53,
     "metadata": {},
     "output_type": "execute_result"
    }
   ],
   "source": [
    "X.corr()"
   ]
  },
  {
   "cell_type": "code",
   "execution_count": 54,
   "metadata": {},
   "outputs": [],
   "source": [
    "# Condition is satisfied because that's what RFE does (I think)\n",
    "# All in [-.3,.3]"
   ]
  },
  {
   "cell_type": "markdown",
   "metadata": {},
   "source": [
    "### Assumption of Lack of Outliers"
   ]
  },
  {
   "cell_type": "code",
   "execution_count": 56,
   "metadata": {},
   "outputs": [
    {
     "data": {
      "image/png": "[encoded data removed]",
      "text/plain": [
       "<Figure size 432x288 with 1 Axes>"
      ]
     },
     "metadata": {
      "needs_background": "light"
     },
     "output_type": "display_data"
    }
   ],
   "source": [
    "discip_rank_box = sns.boxplot(data= df[['re_discip_reports']]).set_title(\"Disciplinary Reports Box Plot\")\n",
    "#No outliers"
   ]
  },
  {
   "cell_type": "markdown",
   "metadata": {},
   "source": [
    "###  Residuals\n",
    "\n",
    "Based on <a href=\"https://www.pythonfordatascience.org/logistic-regression-python/#test_with_python\">this</a>"
   ]
  },
  {
   "cell_type": "code",
   "execution_count": 57,
   "metadata": {
    "scrolled": true
   },
   "outputs": [
    {
     "name": "stderr",
     "output_type": "stream",
     "text": [
      "/home/ncr006/anaconda2/envs/psapm/lib/python3.8/site-packages/seaborn/_decorators.py:36: FutureWarning: Pass the following variables as keyword args: x, y. From version 0.12, the only valid positional argument will be `data`, and passing other arguments without an explicit keyword will result in an error or misinterpretation.\n",
      "  warnings.warn(\n",
      "/home/ncr006/anaconda2/envs/psapm/lib/python3.8/site-packages/seaborn/_decorators.py:36: FutureWarning: Pass the following variables as keyword args: x, y. From version 0.12, the only valid positional argument will be `data`, and passing other arguments without an explicit keyword will result in an error or misinterpretation.\n",
      "  warnings.warn(\n"
     ]
    },
    {
     "data": {
      "image/png": "[encoded data removed]",
      "text/plain": [
       "<Figure size 1080x1080 with 2 Axes>"
      ]
     },
     "metadata": {
      "needs_background": "light"
     },
     "output_type": "display_data"
    }
   ],
   "source": [
    "## Plotting multiple plots same figure\n",
    "fig, (axL, axR) = plt.subplots(2, figsize=(15, 15))\n",
    "plt.suptitle(\"Logistic Regression Residual Plots \\n using Seaborn Lowess line (N = 400)\")\n",
    "\n",
    "\n",
    "# Deviance Residuals\n",
    "sns.regplot(result.fittedvalues, result.resid_dev, ax= axL,\n",
    "            color=\"black\", scatter_kws={\"s\": 5},\n",
    "            line_kws={\"color\":\"b\", \"alpha\":1, \"lw\":2}, lowess=True)\n",
    "\n",
    "axL.set_title(\"Deviance Residuals \\n against Fitted Values\")\n",
    "axL.set_xlabel(\"Linear Predictor Values\")\n",
    "axL.set_ylabel(\"Deviance Residuals\")\n",
    "\n",
    "# Studentized Pearson Residuals\n",
    "sns.regplot(result.fittedvalues, result.resid_pearson, ax= axR,\n",
    "            color=\"black\", scatter_kws={\"s\": 5},\n",
    "            line_kws={\"color\":\"g\", \"alpha\":1, \"lw\":2}, lowess=True)\n",
    "\n",
    "axR.set_title(\"Studentized Pearson Residuals \\n against Fitted Values\")\n",
    "axR.set_xlabel(\"Linear Predictor Values\")\n",
    "axR.set_ylabel(\"Studentized Pearson Residuals\")\n",
    "\n",
    "plt.show()"
   ]
  },
  {
   "cell_type": "code",
   "execution_count": 49,
   "metadata": {},
   "outputs": [],
   "source": [
    "# We see that the first line is pretty straight and has y-intercept close to 0"
   ]
  },
  {
   "cell_type": "markdown",
   "metadata": {},
   "source": [
    "---\n",
    "\n",
    "## Adding in other variables to control\n",
    "\n"
   ]
  },
  {
   "cell_type": "code",
   "execution_count": 58,
   "metadata": {},
   "outputs": [
    {
     "data": {
      "text/plain": [
       "['gender_female',\n",
       " 'age_gt_45',\n",
       " 'age_lt_25',\n",
       " 'race_A',\n",
       " 'race_O',\n",
       " 're_discip_reports',\n",
       " 're_escp_hist_3',\n",
       " 'employed']"
      ]
     },
     "execution_count": 58,
     "metadata": {},
     "output_type": "execute_result"
    }
   ],
   "source": [
    "ll"
   ]
  },
  {
   "cell_type": "code",
   "execution_count": 59,
   "metadata": {},
   "outputs": [],
   "source": [
    "data_control = data_final"
   ]
  },
  {
   "cell_type": "code",
   "execution_count": 61,
   "metadata": {
    "scrolled": true
   },
   "outputs": [
    {
     "name": "stdout",
     "output_type": "stream",
     "text": [
      "Optimization terminated successfully.\n",
      "         Current function value: 0.297917\n",
      "         Iterations 7\n",
      "                          Results: Logit\n",
      "==================================================================\n",
      "Model:                Logit            Pseudo R-squared: 0.335    \n",
      "Dependent Variable:   high_re          AIC:              9880.8672\n",
      "Date:                 2021-09-30 12:56 BIC:              9973.4318\n",
      "No. Observations:     16543            Log-Likelihood:   -4928.4  \n",
      "Df Model:             11               LL-Null:          -7413.0  \n",
      "Df Residuals:         16531            LLR p-value:      0.0000   \n",
      "Converged:            1.0000           Scale:            1.0000   \n",
      "No. Iterations:       7.0000                                      \n",
      "------------------------------------------------------------------\n",
      "                   Coef.  Std.Err.    z     P>|z|   [0.025  0.975]\n",
      "------------------------------------------------------------------\n",
      "gender_female     -1.3426   0.1832  -7.3275 0.0000 -1.7017 -0.9835\n",
      "age_gt_45         -0.9611   0.0685 -14.0287 0.0000 -1.0954 -0.8268\n",
      "age_lt_25         -0.0049   0.0948  -0.0512 0.9591 -0.1906  0.1809\n",
      "race_A             0.1193   0.7311   0.1631 0.8704 -1.3136  1.5522\n",
      "race_O             0.3456   0.4163   0.8302 0.4064 -0.4703  1.1614\n",
      "re_discip_reports  1.0094   0.0196  51.3887 0.0000  0.9709  1.0479\n",
      "re_escp_hist_3    -0.0283   0.1706  -0.1661 0.8681 -0.3626  0.3060\n",
      "employed          -1.0241   0.0771 -13.2842 0.0000 -1.1752 -0.8730\n",
      "race_B             0.2333   0.0547   4.2633 0.0000  0.1261  0.3406\n",
      "off_1_gs_max      -0.2445   0.0061 -40.0403 0.0000 -0.2565 -0.2325\n",
      "off_1_prs_max     -0.3136   0.0211 -14.8974 0.0000 -0.3549 -0.2724\n",
      "prior_commits     -0.1043   0.0088 -11.8864 0.0000 -0.1215 -0.0871\n",
      "==================================================================\n",
      "\n",
      "                         OR       z-value      2.5%     97.5%\n",
      "gender_female      0.261171  2.344562e-13  0.182375  0.374013\n",
      "age_gt_45          0.382470  1.040063e-44  0.334412  0.437435\n",
      "age_lt_25          0.995157  9.591373e-01  0.826484  1.198253\n",
      "race_A             1.126666  8.704160e-01  0.268838  4.721703\n",
      "race_O             1.412805  4.064271e-01  0.624830  3.194495\n",
      "re_discip_reports  2.743904  0.000000e+00  2.640278  2.851598\n",
      "re_escp_hist_3     0.972071  8.681017e-01  0.695842  1.357955\n",
      "employed           0.359132  2.859964e-40  0.308771  0.417708\n",
      "race_B             1.262790  2.013977e-05  1.134349  1.405774\n",
      "off_1_gs_max       0.783090  0.000000e+00  0.773774  0.792519\n",
      "off_1_prs_max      0.730790  3.426144e-50  0.701250  0.761575\n",
      "prior_commits      0.900924  1.392281e-32  0.885557  0.916557\n",
      "Accuracy of logistic regression classifier on test set: 0.84\n",
      "[[3465  680]\n",
      " [  99  719]]\n",
      "              precision    recall  f1-score   support\n",
      "\n",
      "           0       0.97      0.84      0.90      4145\n",
      "           1       0.51      0.88      0.65       818\n",
      "\n",
      "    accuracy                           0.84      4963\n",
      "   macro avg       0.74      0.86      0.77      4963\n",
      "weighted avg       0.90      0.84      0.86      4963\n",
      "\n"
     ]
    },
    {
     "name": "stderr",
     "output_type": "stream",
     "text": [
      "/home/ncr006/anaconda2/envs/psapm/lib/python3.8/site-packages/sklearn/linear_model/_logistic.py:763: ConvergenceWarning: lbfgs failed to converge (status=1):\n",
      "STOP: TOTAL NO. of ITERATIONS REACHED LIMIT.\n",
      "\n",
      "Increase the number of iterations (max_iter) or scale the data as shown in:\n",
      "    https://scikit-learn.org/stable/modules/preprocessing.html\n",
      "Please also refer to the documentation for alternative solver options:\n",
      "    https://scikit-learn.org/stable/modules/linear_model.html#logistic-regression\n",
      "  n_iter_i = _check_optimize_result(\n"
     ]
    },
    {
     "data": {
      "image/png": "[encoded data removed]",
      "text/plain": [
       "<Figure size 432x288 with 1 Axes>"
      ]
     },
     "metadata": {
      "needs_background": "light"
     },
     "output_type": "display_data"
    }
   ],
   "source": [
    "data_control_vars=data_final.columns.values.tolist()\n",
    "yvars = ['high_re']\n",
    "Xvars = [i for i in data_final_vars if i not in y]\n",
    "X = data_control.loc[:, data_control.columns != 'high_re']\n",
    "y = data_control.loc[:, data_control.columns == 'high_re']\n",
    "ll = ['gender_female',\n",
    " 'age_gt_45',\n",
    " 'age_lt_25',\n",
    " 'race_A',\n",
    " 'race_O',\n",
    " 're_discip_reports',\n",
    " 're_escp_hist_3',\n",
    " 'employed']\n",
    "ll.append('race_B')\n",
    "ll.append('off_1_gs_max')\n",
    "ll.append('off_1_prs_max')\n",
    "ll.append('prior_commits')\n",
    "X = X[ll]\n",
    "logit_model=sm.Logit(y,X)\n",
    "result=logit_model.fit()\n",
    "print(result.summary2())\n",
    "\n",
    "model_odds = pd.DataFrame(np.exp(result.params), columns= ['OR'])\n",
    "model_odds['z-value']= result.pvalues\n",
    "model_odds[['2.5%', '97.5%']] = np.exp(result.conf_int())\n",
    "print(model_odds)\n",
    "\n",
    "\n",
    "X_train, X_test, y_train, y_test = train_test_split(X, y, test_size=0.3, random_state=0)\n",
    "\n",
    "os = SMOTE(random_state=0)\n",
    "\n",
    "\n",
    "X_train_os, y_train_os = os.fit_resample(X_train, y_train)\n",
    "\n",
    "\n",
    "logreg = LogisticRegression()\n",
    "logreg.fit(X_train_os, y_train_os.values.ravel())\n",
    "\n",
    "y_pred = logreg.predict(X_test)\n",
    "print('Accuracy of logistic regression classifier on test set: {:.2f}'.format(logreg.score(X_test, y_test)))\n",
    "\n",
    "from sklearn.metrics import confusion_matrix\n",
    "cm = confusion_matrix(y_test, y_pred)\n",
    "print(cm)\n",
    "\n",
    "print(classification_report(y_test, y_pred))\n",
    "\n",
    "logit_roc_auc = roc_auc_score(y_test, logreg.predict(X_test))\n",
    "fpr, tpr, thresholds = roc_curve(y_test, logreg.predict_proba(X_test)[:,1])\n",
    "plt.figure()\n",
    "plt.plot(fpr, tpr, label='Logistic Regression (area = %0.2f)' % logit_roc_auc)\n",
    "plt.plot([0, 1], [0, 1],'r--')\n",
    "plt.xlim([0.0, 1.0])\n",
    "plt.ylim([0.0, 1.05])\n",
    "plt.xlabel('False Positive Rate')\n",
    "plt.ylabel('True Positive Rate')\n",
    "plt.title('Receiver operating characteristic')\n",
    "plt.legend(loc=\"lower right\")\n",
    "plt.show()\n"
   ]
  },
  {
   "cell_type": "code",
   "execution_count": 62,
   "metadata": {},
   "outputs": [
    {
     "data": {
      "image/png": "[encoded data removed]",
      "text/plain": [
       "<Figure size 432x288 with 1 Axes>"
      ]
     },
     "metadata": {
      "needs_background": "light"
     },
     "output_type": "display_data"
    }
   ],
   "source": [
    "gs = sns.regplot(x= 'off_1_gs_max', y= 'high_re', data= data_control, logistic= True).set_title(\"GS Log Odds Linear Plot\")\n",
    "\n",
    "plt.show()\n",
    "\n"
   ]
  },
  {
   "cell_type": "code",
   "execution_count": 63,
   "metadata": {},
   "outputs": [
    {
     "data": {
      "image/png": "[encoded data removed]",
      "text/plain": [
       "<Figure size 432x288 with 1 Axes>"
      ]
     },
     "metadata": {
      "needs_background": "light"
     },
     "output_type": "display_data"
    }
   ],
   "source": [
    "prs = sns.regplot(x= 'off_1_prs_max', y= 'high_re', data= data_control, logistic= True).set_title(\"PRS Log Odds Linear Plot\")\n",
    "\n",
    "plt.show()"
   ]
  },
  {
   "cell_type": "code",
   "execution_count": 64,
   "metadata": {},
   "outputs": [
    {
     "data": {
      "image/png": "[encoded data removed]",
      "text/plain": [
       "<Figure size 432x288 with 1 Axes>"
      ]
     },
     "metadata": {
      "needs_background": "light"
     },
     "output_type": "display_data"
    }
   ],
   "source": [
    "pc = sns.regplot(x= 'prior_commits', y= 'high_re', data= data_control, logistic= True).set_title(\"Prior Commits Log Odds Linear Plot\")\n",
    "\n",
    "plt.show()"
   ]
  },
  {
   "cell_type": "code",
   "execution_count": 55,
   "metadata": {},
   "outputs": [],
   "source": [
    "# should be looking for something consistent with an S-shaped curve\n",
    "# these all seem to have it"
   ]
  },
  {
   "cell_type": "code",
   "execution_count": 65,
   "metadata": {},
   "outputs": [
    {
     "data": {
      "text/html": [
       "<div>\n",
       "<style scoped>\n",
       "    .dataframe tbody tr th:only-of-type {\n",
       "        vertical-align: middle;\n",
       "    }\n",
       "\n",
       "    .dataframe tbody tr th {\n",
       "        vertical-align: top;\n",
       "    }\n",
       "\n",
       "    .dataframe thead th {\n",
       "        text-align: right;\n",
       "    }\n",
       "</style>\n",
       "<table border=\"1\" class=\"dataframe\">\n",
       "  <thead>\n",
       "    <tr style=\"text-align: right;\">\n",
       "      <th></th>\n",
       "      <th>gender_female</th>\n",
       "      <th>age_gt_45</th>\n",
       "      <th>age_lt_25</th>\n",
       "      <th>race_A</th>\n",
       "      <th>race_O</th>\n",
       "      <th>re_discip_reports</th>\n",
       "      <th>re_escp_hist_3</th>\n",
       "      <th>employed</th>\n",
       "      <th>race_B</th>\n",
       "      <th>off_1_gs_max</th>\n",
       "      <th>off_1_prs_max</th>\n",
       "      <th>prior_commits</th>\n",
       "    </tr>\n",
       "  </thead>\n",
       "  <tbody>\n",
       "    <tr>\n",
       "      <th>gender_female</th>\n",
       "      <td>1.000000</td>\n",
       "      <td>-0.016741</td>\n",
       "      <td>-0.012239</td>\n",
       "      <td>0.000370</td>\n",
       "      <td>0.016783</td>\n",
       "      <td>0.016661</td>\n",
       "      <td>0.002895</td>\n",
       "      <td>0.009524</td>\n",
       "      <td>-0.044339</td>\n",
       "      <td>-0.029290</td>\n",
       "      <td>-0.054906</td>\n",
       "      <td>-0.013747</td>\n",
       "    </tr>\n",
       "    <tr>\n",
       "      <th>age_gt_45</th>\n",
       "      <td>-0.016741</td>\n",
       "      <td>1.000000</td>\n",
       "      <td>-0.169842</td>\n",
       "      <td>0.008105</td>\n",
       "      <td>-0.025935</td>\n",
       "      <td>-0.272817</td>\n",
       "      <td>-0.059542</td>\n",
       "      <td>0.066386</td>\n",
       "      <td>-0.062264</td>\n",
       "      <td>0.124941</td>\n",
       "      <td>0.138055</td>\n",
       "      <td>0.035364</td>\n",
       "    </tr>\n",
       "    <tr>\n",
       "      <th>age_lt_25</th>\n",
       "      <td>-0.012239</td>\n",
       "      <td>-0.169842</td>\n",
       "      <td>1.000000</td>\n",
       "      <td>-0.003907</td>\n",
       "      <td>-0.007425</td>\n",
       "      <td>0.166646</td>\n",
       "      <td>0.046426</td>\n",
       "      <td>-0.054105</td>\n",
       "      <td>0.040315</td>\n",
       "      <td>-0.067566</td>\n",
       "      <td>-0.071796</td>\n",
       "      <td>-0.084359</td>\n",
       "    </tr>\n",
       "    <tr>\n",
       "      <th>race_A</th>\n",
       "      <td>0.000370</td>\n",
       "      <td>0.008105</td>\n",
       "      <td>-0.003907</td>\n",
       "      <td>1.000000</td>\n",
       "      <td>-0.002610</td>\n",
       "      <td>-0.018367</td>\n",
       "      <td>0.004822</td>\n",
       "      <td>0.000609</td>\n",
       "      <td>-0.049670</td>\n",
       "      <td>0.017433</td>\n",
       "      <td>-0.005964</td>\n",
       "      <td>-0.011111</td>\n",
       "    </tr>\n",
       "    <tr>\n",
       "      <th>race_O</th>\n",
       "      <td>0.016783</td>\n",
       "      <td>-0.025935</td>\n",
       "      <td>-0.007425</td>\n",
       "      <td>-0.002610</td>\n",
       "      <td>1.000000</td>\n",
       "      <td>0.002370</td>\n",
       "      <td>-0.007136</td>\n",
       "      <td>0.018036</td>\n",
       "      <td>-0.061155</td>\n",
       "      <td>-0.007865</td>\n",
       "      <td>-0.002958</td>\n",
       "      <td>-0.010479</td>\n",
       "    </tr>\n",
       "    <tr>\n",
       "      <th>re_discip_reports</th>\n",
       "      <td>0.016661</td>\n",
       "      <td>-0.272817</td>\n",
       "      <td>0.166646</td>\n",
       "      <td>-0.018367</td>\n",
       "      <td>0.002370</td>\n",
       "      <td>1.000000</td>\n",
       "      <td>0.068215</td>\n",
       "      <td>-0.081254</td>\n",
       "      <td>0.048078</td>\n",
       "      <td>-0.142423</td>\n",
       "      <td>-0.025067</td>\n",
       "      <td>0.094556</td>\n",
       "    </tr>\n",
       "    <tr>\n",
       "      <th>re_escp_hist_3</th>\n",
       "      <td>0.002895</td>\n",
       "      <td>-0.059542</td>\n",
       "      <td>0.046426</td>\n",
       "      <td>0.004822</td>\n",
       "      <td>-0.007136</td>\n",
       "      <td>0.068215</td>\n",
       "      <td>1.000000</td>\n",
       "      <td>-0.012626</td>\n",
       "      <td>-0.032052</td>\n",
       "      <td>-0.103168</td>\n",
       "      <td>-0.024033</td>\n",
       "      <td>0.048141</td>\n",
       "    </tr>\n",
       "    <tr>\n",
       "      <th>employed</th>\n",
       "      <td>0.009524</td>\n",
       "      <td>0.066386</td>\n",
       "      <td>-0.054105</td>\n",
       "      <td>0.000609</td>\n",
       "      <td>0.018036</td>\n",
       "      <td>-0.081254</td>\n",
       "      <td>-0.012626</td>\n",
       "      <td>1.000000</td>\n",
       "      <td>-0.120572</td>\n",
       "      <td>-0.055822</td>\n",
       "      <td>-0.062837</td>\n",
       "      <td>0.004727</td>\n",
       "    </tr>\n",
       "    <tr>\n",
       "      <th>race_B</th>\n",
       "      <td>-0.044339</td>\n",
       "      <td>-0.062264</td>\n",
       "      <td>0.040315</td>\n",
       "      <td>-0.049670</td>\n",
       "      <td>-0.061155</td>\n",
       "      <td>0.048078</td>\n",
       "      <td>-0.032052</td>\n",
       "      <td>-0.120572</td>\n",
       "      <td>1.000000</td>\n",
       "      <td>0.217196</td>\n",
       "      <td>0.116565</td>\n",
       "      <td>-0.031444</td>\n",
       "    </tr>\n",
       "    <tr>\n",
       "      <th>off_1_gs_max</th>\n",
       "      <td>-0.029290</td>\n",
       "      <td>0.124941</td>\n",
       "      <td>-0.067566</td>\n",
       "      <td>0.017433</td>\n",
       "      <td>-0.007865</td>\n",
       "      <td>-0.142423</td>\n",
       "      <td>-0.103168</td>\n",
       "      <td>-0.055822</td>\n",
       "      <td>0.217196</td>\n",
       "      <td>1.000000</td>\n",
       "      <td>0.029128</td>\n",
       "      <td>-0.271080</td>\n",
       "    </tr>\n",
       "    <tr>\n",
       "      <th>off_1_prs_max</th>\n",
       "      <td>-0.054906</td>\n",
       "      <td>0.138055</td>\n",
       "      <td>-0.071796</td>\n",
       "      <td>-0.005964</td>\n",
       "      <td>-0.002958</td>\n",
       "      <td>-0.025067</td>\n",
       "      <td>-0.024033</td>\n",
       "      <td>-0.062837</td>\n",
       "      <td>0.116565</td>\n",
       "      <td>0.029128</td>\n",
       "      <td>1.000000</td>\n",
       "      <td>0.156588</td>\n",
       "    </tr>\n",
       "    <tr>\n",
       "      <th>prior_commits</th>\n",
       "      <td>-0.013747</td>\n",
       "      <td>0.035364</td>\n",
       "      <td>-0.084359</td>\n",
       "      <td>-0.011111</td>\n",
       "      <td>-0.010479</td>\n",
       "      <td>0.094556</td>\n",
       "      <td>0.048141</td>\n",
       "      <td>0.004727</td>\n",
       "      <td>-0.031444</td>\n",
       "      <td>-0.271080</td>\n",
       "      <td>0.156588</td>\n",
       "      <td>1.000000</td>\n",
       "    </tr>\n",
       "  </tbody>\n",
       "</table>\n",
       "</div>"
      ],
      "text/plain": [
       "                   gender_female  age_gt_45  age_lt_25    race_A    race_O  \\\n",
       "gender_female           1.000000  -0.016741  -0.012239  0.000370  0.016783   \n",
       "age_gt_45              -0.016741   1.000000  -0.169842  0.008105 -0.025935   \n",
       "age_lt_25              -0.012239  -0.169842   1.000000 -0.003907 -0.007425   \n",
       "race_A                  0.000370   0.008105  -0.003907  1.000000 -0.002610   \n",
       "race_O                  0.016783  -0.025935  -0.007425 -0.002610  1.000000   \n",
       "re_discip_reports       0.016661  -0.272817   0.166646 -0.018367  0.002370   \n",
       "re_escp_hist_3          0.002895  -0.059542   0.046426  0.004822 -0.007136   \n",
       "employed                0.009524   0.066386  -0.054105  0.000609  0.018036   \n",
       "race_B                 -0.044339  -0.062264   0.040315 -0.049670 -0.061155   \n",
       "off_1_gs_max           -0.029290   0.124941  -0.067566  0.017433 -0.007865   \n",
       "off_1_prs_max          -0.054906   0.138055  -0.071796 -0.005964 -0.002958   \n",
       "prior_commits          -0.013747   0.035364  -0.084359 -0.011111 -0.010479   \n",
       "\n",
       "                   re_discip_reports  re_escp_hist_3  employed    race_B  \\\n",
       "gender_female               0.016661        0.002895  0.009524 -0.044339   \n",
       "age_gt_45                  -0.272817       -0.059542  0.066386 -0.062264   \n",
       "age_lt_25                   0.166646        0.046426 -0.054105  0.040315   \n",
       "race_A                     -0.018367        0.004822  0.000609 -0.049670   \n",
       "race_O                      0.002370       -0.007136  0.018036 -0.061155   \n",
       "re_discip_reports           1.000000        0.068215 -0.081254  0.048078   \n",
       "re_escp_hist_3              0.068215        1.000000 -0.012626 -0.032052   \n",
       "employed                   -0.081254       -0.012626  1.000000 -0.120572   \n",
       "race_B                      0.048078       -0.032052 -0.120572  1.000000   \n",
       "off_1_gs_max               -0.142423       -0.103168 -0.055822  0.217196   \n",
       "off_1_prs_max              -0.025067       -0.024033 -0.062837  0.116565   \n",
       "prior_commits               0.094556        0.048141  0.004727 -0.031444   \n",
       "\n",
       "                   off_1_gs_max  off_1_prs_max  prior_commits  \n",
       "gender_female         -0.029290      -0.054906      -0.013747  \n",
       "age_gt_45              0.124941       0.138055       0.035364  \n",
       "age_lt_25             -0.067566      -0.071796      -0.084359  \n",
       "race_A                 0.017433      -0.005964      -0.011111  \n",
       "race_O                -0.007865      -0.002958      -0.010479  \n",
       "re_discip_reports     -0.142423      -0.025067       0.094556  \n",
       "re_escp_hist_3        -0.103168      -0.024033       0.048141  \n",
       "employed              -0.055822      -0.062837       0.004727  \n",
       "race_B                 0.217196       0.116565      -0.031444  \n",
       "off_1_gs_max           1.000000       0.029128      -0.271080  \n",
       "off_1_prs_max          0.029128       1.000000       0.156588  \n",
       "prior_commits         -0.271080       0.156588       1.000000  "
      ]
     },
     "execution_count": 65,
     "metadata": {},
     "output_type": "execute_result"
    }
   ],
   "source": [
    "data_control[ll].corr()"
   ]
  },
  {
   "cell_type": "code",
   "execution_count": 57,
   "metadata": {},
   "outputs": [],
   "source": [
    "# all are in [-.3, .3]"
   ]
  },
  {
   "cell_type": "code",
   "execution_count": 66,
   "metadata": {},
   "outputs": [
    {
     "data": {
      "image/png": "[encoded data removed]",
      "text/plain": [
       "<Figure size 432x288 with 1 Axes>"
      ]
     },
     "metadata": {
      "needs_background": "light"
     },
     "output_type": "display_data"
    }
   ],
   "source": [
    "gs_rank_box = sns.boxplot(data= data_control[ll][['off_1_gs_max', 'off_1_prs_max','prior_commits']]).set_title(\"Box Plot\")\n",
    "\n",
    "plt.show()"
   ]
  },
  {
   "cell_type": "code",
   "execution_count": 67,
   "metadata": {},
   "outputs": [
    {
     "data": {
      "text/plain": [
       "count    16543.000000\n",
       "mean         2.861210\n",
       "std          3.332257\n",
       "min          0.000000\n",
       "25%          0.000000\n",
       "50%          2.000000\n",
       "75%          4.000000\n",
       "max         36.000000\n",
       "Name: prior_commits, dtype: float64"
      ]
     },
     "execution_count": 67,
     "metadata": {},
     "output_type": "execute_result"
    }
   ],
   "source": [
    "data_control['prior_commits'].describe()"
   ]
  },
  {
   "cell_type": "code",
   "execution_count": 69,
   "metadata": {},
   "outputs": [],
   "source": [
    "outlier = data_control[data_control['prior_commits']>10]"
   ]
  },
  {
   "cell_type": "code",
   "execution_count": 70,
   "metadata": {},
   "outputs": [
    {
     "data": {
      "text/html": [
       "<div>\n",
       "<style scoped>\n",
       "    .dataframe tbody tr th:only-of-type {\n",
       "        vertical-align: middle;\n",
       "    }\n",
       "\n",
       "    .dataframe tbody tr th {\n",
       "        vertical-align: top;\n",
       "    }\n",
       "\n",
       "    .dataframe thead th {\n",
       "        text-align: right;\n",
       "    }\n",
       "</style>\n",
       "<table border=\"1\" class=\"dataframe\">\n",
       "  <thead>\n",
       "    <tr style=\"text-align: right;\">\n",
       "      <th></th>\n",
       "      <th>gender_female</th>\n",
       "      <th>age_gt_45</th>\n",
       "      <th>age_lt_25</th>\n",
       "      <th>race_B</th>\n",
       "      <th>race_A</th>\n",
       "      <th>race_H</th>\n",
       "      <th>race_I</th>\n",
       "      <th>race_O</th>\n",
       "      <th>off_1_prs_max</th>\n",
       "      <th>off_1_gs_max</th>\n",
       "      <th>...</th>\n",
       "      <th>re_escp_hist_3</th>\n",
       "      <th>re_escp_hist_4</th>\n",
       "      <th>re_escp_hist_5</th>\n",
       "      <th>mrt_stat_DIV</th>\n",
       "      <th>mrt_stat_SEP</th>\n",
       "      <th>mrt_stat_MAR</th>\n",
       "      <th>mrt_stat_WID</th>\n",
       "      <th>employed</th>\n",
       "      <th>high_re_discip_reports</th>\n",
       "      <th>high_re</th>\n",
       "    </tr>\n",
       "  </thead>\n",
       "  <tbody>\n",
       "    <tr>\n",
       "      <th>count</th>\n",
       "      <td>616.000000</td>\n",
       "      <td>616.000000</td>\n",
       "      <td>616.000000</td>\n",
       "      <td>616.000000</td>\n",
       "      <td>616.0</td>\n",
       "      <td>616.000000</td>\n",
       "      <td>616.0</td>\n",
       "      <td>616.0</td>\n",
       "      <td>616.000000</td>\n",
       "      <td>616.000000</td>\n",
       "      <td>...</td>\n",
       "      <td>616.000000</td>\n",
       "      <td>616.000000</td>\n",
       "      <td>616.000000</td>\n",
       "      <td>616.000000</td>\n",
       "      <td>616.000000</td>\n",
       "      <td>616.000000</td>\n",
       "      <td>616.000000</td>\n",
       "      <td>616.000000</td>\n",
       "      <td>616.000000</td>\n",
       "      <td>616.000000</td>\n",
       "    </tr>\n",
       "    <tr>\n",
       "      <th>mean</th>\n",
       "      <td>0.035714</td>\n",
       "      <td>0.592532</td>\n",
       "      <td>0.001623</td>\n",
       "      <td>0.457792</td>\n",
       "      <td>0.0</td>\n",
       "      <td>0.084416</td>\n",
       "      <td>0.0</td>\n",
       "      <td>0.0</td>\n",
       "      <td>2.970779</td>\n",
       "      <td>9.720779</td>\n",
       "      <td>...</td>\n",
       "      <td>0.032468</td>\n",
       "      <td>0.715909</td>\n",
       "      <td>0.243506</td>\n",
       "      <td>0.131494</td>\n",
       "      <td>0.058442</td>\n",
       "      <td>0.121753</td>\n",
       "      <td>0.022727</td>\n",
       "      <td>0.189935</td>\n",
       "      <td>0.386364</td>\n",
       "      <td>0.131494</td>\n",
       "    </tr>\n",
       "    <tr>\n",
       "      <th>std</th>\n",
       "      <td>0.185728</td>\n",
       "      <td>0.491762</td>\n",
       "      <td>0.040291</td>\n",
       "      <td>0.498620</td>\n",
       "      <td>0.0</td>\n",
       "      <td>0.278236</td>\n",
       "      <td>0.0</td>\n",
       "      <td>0.0</td>\n",
       "      <td>0.912402</td>\n",
       "      <td>3.245002</td>\n",
       "      <td>...</td>\n",
       "      <td>0.177382</td>\n",
       "      <td>0.451347</td>\n",
       "      <td>0.429547</td>\n",
       "      <td>0.338214</td>\n",
       "      <td>0.234767</td>\n",
       "      <td>0.327266</td>\n",
       "      <td>0.149154</td>\n",
       "      <td>0.392568</td>\n",
       "      <td>0.487311</td>\n",
       "      <td>0.338214</td>\n",
       "    </tr>\n",
       "    <tr>\n",
       "      <th>min</th>\n",
       "      <td>0.000000</td>\n",
       "      <td>0.000000</td>\n",
       "      <td>0.000000</td>\n",
       "      <td>0.000000</td>\n",
       "      <td>0.0</td>\n",
       "      <td>0.000000</td>\n",
       "      <td>0.0</td>\n",
       "      <td>0.0</td>\n",
       "      <td>0.500000</td>\n",
       "      <td>2.000000</td>\n",
       "      <td>...</td>\n",
       "      <td>0.000000</td>\n",
       "      <td>0.000000</td>\n",
       "      <td>0.000000</td>\n",
       "      <td>0.000000</td>\n",
       "      <td>0.000000</td>\n",
       "      <td>0.000000</td>\n",
       "      <td>0.000000</td>\n",
       "      <td>0.000000</td>\n",
       "      <td>0.000000</td>\n",
       "      <td>0.000000</td>\n",
       "    </tr>\n",
       "    <tr>\n",
       "      <th>25%</th>\n",
       "      <td>0.000000</td>\n",
       "      <td>0.000000</td>\n",
       "      <td>0.000000</td>\n",
       "      <td>0.000000</td>\n",
       "      <td>0.0</td>\n",
       "      <td>0.000000</td>\n",
       "      <td>0.0</td>\n",
       "      <td>0.0</td>\n",
       "      <td>3.000000</td>\n",
       "      <td>7.000000</td>\n",
       "      <td>...</td>\n",
       "      <td>0.000000</td>\n",
       "      <td>0.000000</td>\n",
       "      <td>0.000000</td>\n",
       "      <td>0.000000</td>\n",
       "      <td>0.000000</td>\n",
       "      <td>0.000000</td>\n",
       "      <td>0.000000</td>\n",
       "      <td>0.000000</td>\n",
       "      <td>0.000000</td>\n",
       "      <td>0.000000</td>\n",
       "    </tr>\n",
       "    <tr>\n",
       "      <th>50%</th>\n",
       "      <td>0.000000</td>\n",
       "      <td>1.000000</td>\n",
       "      <td>0.000000</td>\n",
       "      <td>0.000000</td>\n",
       "      <td>0.0</td>\n",
       "      <td>0.000000</td>\n",
       "      <td>0.0</td>\n",
       "      <td>0.0</td>\n",
       "      <td>3.000000</td>\n",
       "      <td>9.000000</td>\n",
       "      <td>...</td>\n",
       "      <td>0.000000</td>\n",
       "      <td>1.000000</td>\n",
       "      <td>0.000000</td>\n",
       "      <td>0.000000</td>\n",
       "      <td>0.000000</td>\n",
       "      <td>0.000000</td>\n",
       "      <td>0.000000</td>\n",
       "      <td>0.000000</td>\n",
       "      <td>0.000000</td>\n",
       "      <td>0.000000</td>\n",
       "    </tr>\n",
       "    <tr>\n",
       "      <th>75%</th>\n",
       "      <td>0.000000</td>\n",
       "      <td>1.000000</td>\n",
       "      <td>0.000000</td>\n",
       "      <td>1.000000</td>\n",
       "      <td>0.0</td>\n",
       "      <td>0.000000</td>\n",
       "      <td>0.0</td>\n",
       "      <td>0.0</td>\n",
       "      <td>4.000000</td>\n",
       "      <td>13.000000</td>\n",
       "      <td>...</td>\n",
       "      <td>0.000000</td>\n",
       "      <td>1.000000</td>\n",
       "      <td>0.000000</td>\n",
       "      <td>0.000000</td>\n",
       "      <td>0.000000</td>\n",
       "      <td>0.000000</td>\n",
       "      <td>0.000000</td>\n",
       "      <td>0.000000</td>\n",
       "      <td>1.000000</td>\n",
       "      <td>0.000000</td>\n",
       "    </tr>\n",
       "    <tr>\n",
       "      <th>max</th>\n",
       "      <td>1.000000</td>\n",
       "      <td>1.000000</td>\n",
       "      <td>1.000000</td>\n",
       "      <td>1.000000</td>\n",
       "      <td>0.0</td>\n",
       "      <td>1.000000</td>\n",
       "      <td>0.0</td>\n",
       "      <td>0.0</td>\n",
       "      <td>4.000000</td>\n",
       "      <td>15.000000</td>\n",
       "      <td>...</td>\n",
       "      <td>1.000000</td>\n",
       "      <td>1.000000</td>\n",
       "      <td>1.000000</td>\n",
       "      <td>1.000000</td>\n",
       "      <td>1.000000</td>\n",
       "      <td>1.000000</td>\n",
       "      <td>1.000000</td>\n",
       "      <td>1.000000</td>\n",
       "      <td>1.000000</td>\n",
       "      <td>1.000000</td>\n",
       "    </tr>\n",
       "  </tbody>\n",
       "</table>\n",
       "<p>8 rows × 24 columns</p>\n",
       "</div>"
      ],
      "text/plain": [
       "       gender_female   age_gt_45   age_lt_25      race_B  race_A      race_H  \\\n",
       "count     616.000000  616.000000  616.000000  616.000000   616.0  616.000000   \n",
       "mean        0.035714    0.592532    0.001623    0.457792     0.0    0.084416   \n",
       "std         0.185728    0.491762    0.040291    0.498620     0.0    0.278236   \n",
       "min         0.000000    0.000000    0.000000    0.000000     0.0    0.000000   \n",
       "25%         0.000000    0.000000    0.000000    0.000000     0.0    0.000000   \n",
       "50%         0.000000    1.000000    0.000000    0.000000     0.0    0.000000   \n",
       "75%         0.000000    1.000000    0.000000    1.000000     0.0    0.000000   \n",
       "max         1.000000    1.000000    1.000000    1.000000     0.0    1.000000   \n",
       "\n",
       "       race_I  race_O  off_1_prs_max  off_1_gs_max  ...  re_escp_hist_3  \\\n",
       "count   616.0   616.0     616.000000    616.000000  ...      616.000000   \n",
       "mean      0.0     0.0       2.970779      9.720779  ...        0.032468   \n",
       "std       0.0     0.0       0.912402      3.245002  ...        0.177382   \n",
       "min       0.0     0.0       0.500000      2.000000  ...        0.000000   \n",
       "25%       0.0     0.0       3.000000      7.000000  ...        0.000000   \n",
       "50%       0.0     0.0       3.000000      9.000000  ...        0.000000   \n",
       "75%       0.0     0.0       4.000000     13.000000  ...        0.000000   \n",
       "max       0.0     0.0       4.000000     15.000000  ...        1.000000   \n",
       "\n",
       "       re_escp_hist_4  re_escp_hist_5  mrt_stat_DIV  mrt_stat_SEP  \\\n",
       "count      616.000000      616.000000    616.000000    616.000000   \n",
       "mean         0.715909        0.243506      0.131494      0.058442   \n",
       "std          0.451347        0.429547      0.338214      0.234767   \n",
       "min          0.000000        0.000000      0.000000      0.000000   \n",
       "25%          0.000000        0.000000      0.000000      0.000000   \n",
       "50%          1.000000        0.000000      0.000000      0.000000   \n",
       "75%          1.000000        0.000000      0.000000      0.000000   \n",
       "max          1.000000        1.000000      1.000000      1.000000   \n",
       "\n",
       "       mrt_stat_MAR  mrt_stat_WID    employed  high_re_discip_reports  \\\n",
       "count    616.000000    616.000000  616.000000              616.000000   \n",
       "mean       0.121753      0.022727    0.189935                0.386364   \n",
       "std        0.327266      0.149154    0.392568                0.487311   \n",
       "min        0.000000      0.000000    0.000000                0.000000   \n",
       "25%        0.000000      0.000000    0.000000                0.000000   \n",
       "50%        0.000000      0.000000    0.000000                0.000000   \n",
       "75%        0.000000      0.000000    0.000000                1.000000   \n",
       "max        1.000000      1.000000    1.000000                1.000000   \n",
       "\n",
       "          high_re  \n",
       "count  616.000000  \n",
       "mean     0.131494  \n",
       "std      0.338214  \n",
       "min      0.000000  \n",
       "25%      0.000000  \n",
       "50%      0.000000  \n",
       "75%      0.000000  \n",
       "max      1.000000  \n",
       "\n",
       "[8 rows x 24 columns]"
      ]
     },
     "execution_count": 70,
     "metadata": {},
     "output_type": "execute_result"
    }
   ],
   "source": [
    "outlier.describe()"
   ]
  },
  {
   "cell_type": "code",
   "execution_count": 71,
   "metadata": {},
   "outputs": [
    {
     "data": {
      "text/html": [
       "<div>\n",
       "<style scoped>\n",
       "    .dataframe tbody tr th:only-of-type {\n",
       "        vertical-align: middle;\n",
       "    }\n",
       "\n",
       "    .dataframe tbody tr th {\n",
       "        vertical-align: top;\n",
       "    }\n",
       "\n",
       "    .dataframe thead th {\n",
       "        text-align: right;\n",
       "    }\n",
       "</style>\n",
       "<table border=\"1\" class=\"dataframe\">\n",
       "  <thead>\n",
       "    <tr style=\"text-align: right;\">\n",
       "      <th></th>\n",
       "      <th>gender_female</th>\n",
       "      <th>age_gt_45</th>\n",
       "      <th>age_lt_25</th>\n",
       "      <th>race_B</th>\n",
       "      <th>race_A</th>\n",
       "      <th>race_H</th>\n",
       "      <th>race_I</th>\n",
       "      <th>race_O</th>\n",
       "      <th>off_1_prs_max</th>\n",
       "      <th>off_1_gs_max</th>\n",
       "      <th>...</th>\n",
       "      <th>re_escp_hist_3</th>\n",
       "      <th>re_escp_hist_4</th>\n",
       "      <th>re_escp_hist_5</th>\n",
       "      <th>mrt_stat_DIV</th>\n",
       "      <th>mrt_stat_SEP</th>\n",
       "      <th>mrt_stat_MAR</th>\n",
       "      <th>mrt_stat_WID</th>\n",
       "      <th>employed</th>\n",
       "      <th>high_re_discip_reports</th>\n",
       "      <th>high_re</th>\n",
       "    </tr>\n",
       "  </thead>\n",
       "  <tbody>\n",
       "    <tr>\n",
       "      <th>count</th>\n",
       "      <td>16543.000000</td>\n",
       "      <td>16543.000000</td>\n",
       "      <td>16543.000000</td>\n",
       "      <td>16543.000000</td>\n",
       "      <td>16543.000000</td>\n",
       "      <td>16543.000000</td>\n",
       "      <td>16543.000000</td>\n",
       "      <td>16543.000000</td>\n",
       "      <td>16543.000000</td>\n",
       "      <td>16543.000000</td>\n",
       "      <td>...</td>\n",
       "      <td>16543.000000</td>\n",
       "      <td>16543.000000</td>\n",
       "      <td>16543.000000</td>\n",
       "      <td>16543.000000</td>\n",
       "      <td>16543.000000</td>\n",
       "      <td>16543.000000</td>\n",
       "      <td>16543.000000</td>\n",
       "      <td>16543.000000</td>\n",
       "      <td>16543.000000</td>\n",
       "      <td>16543.000000</td>\n",
       "    </tr>\n",
       "    <tr>\n",
       "      <th>mean</th>\n",
       "      <td>0.027262</td>\n",
       "      <td>0.372061</td>\n",
       "      <td>0.046424</td>\n",
       "      <td>0.537811</td>\n",
       "      <td>0.002116</td>\n",
       "      <td>0.100828</td>\n",
       "      <td>0.001088</td>\n",
       "      <td>0.003204</td>\n",
       "      <td>2.607901</td>\n",
       "      <td>12.045639</td>\n",
       "      <td>...</td>\n",
       "      <td>0.015596</td>\n",
       "      <td>0.380161</td>\n",
       "      <td>0.100526</td>\n",
       "      <td>0.075258</td>\n",
       "      <td>0.039473</td>\n",
       "      <td>0.090854</td>\n",
       "      <td>0.010699</td>\n",
       "      <td>0.194765</td>\n",
       "      <td>0.338028</td>\n",
       "      <td>0.165145</td>\n",
       "    </tr>\n",
       "    <tr>\n",
       "      <th>std</th>\n",
       "      <td>0.162852</td>\n",
       "      <td>0.483369</td>\n",
       "      <td>0.210409</td>\n",
       "      <td>0.498583</td>\n",
       "      <td>0.045949</td>\n",
       "      <td>0.301110</td>\n",
       "      <td>0.032969</td>\n",
       "      <td>0.056513</td>\n",
       "      <td>1.163966</td>\n",
       "      <td>3.049094</td>\n",
       "      <td>...</td>\n",
       "      <td>0.123909</td>\n",
       "      <td>0.485441</td>\n",
       "      <td>0.300709</td>\n",
       "      <td>0.263816</td>\n",
       "      <td>0.194723</td>\n",
       "      <td>0.287410</td>\n",
       "      <td>0.102886</td>\n",
       "      <td>0.396032</td>\n",
       "      <td>0.473052</td>\n",
       "      <td>0.371323</td>\n",
       "    </tr>\n",
       "    <tr>\n",
       "      <th>min</th>\n",
       "      <td>0.000000</td>\n",
       "      <td>0.000000</td>\n",
       "      <td>0.000000</td>\n",
       "      <td>0.000000</td>\n",
       "      <td>0.000000</td>\n",
       "      <td>0.000000</td>\n",
       "      <td>0.000000</td>\n",
       "      <td>0.000000</td>\n",
       "      <td>0.500000</td>\n",
       "      <td>1.000000</td>\n",
       "      <td>...</td>\n",
       "      <td>0.000000</td>\n",
       "      <td>0.000000</td>\n",
       "      <td>0.000000</td>\n",
       "      <td>0.000000</td>\n",
       "      <td>0.000000</td>\n",
       "      <td>0.000000</td>\n",
       "      <td>0.000000</td>\n",
       "      <td>0.000000</td>\n",
       "      <td>0.000000</td>\n",
       "      <td>0.000000</td>\n",
       "    </tr>\n",
       "    <tr>\n",
       "      <th>25%</th>\n",
       "      <td>0.000000</td>\n",
       "      <td>0.000000</td>\n",
       "      <td>0.000000</td>\n",
       "      <td>0.000000</td>\n",
       "      <td>0.000000</td>\n",
       "      <td>0.000000</td>\n",
       "      <td>0.000000</td>\n",
       "      <td>0.000000</td>\n",
       "      <td>2.000000</td>\n",
       "      <td>11.000000</td>\n",
       "      <td>...</td>\n",
       "      <td>0.000000</td>\n",
       "      <td>0.000000</td>\n",
       "      <td>0.000000</td>\n",
       "      <td>0.000000</td>\n",
       "      <td>0.000000</td>\n",
       "      <td>0.000000</td>\n",
       "      <td>0.000000</td>\n",
       "      <td>0.000000</td>\n",
       "      <td>0.000000</td>\n",
       "      <td>0.000000</td>\n",
       "    </tr>\n",
       "    <tr>\n",
       "      <th>50%</th>\n",
       "      <td>0.000000</td>\n",
       "      <td>0.000000</td>\n",
       "      <td>0.000000</td>\n",
       "      <td>1.000000</td>\n",
       "      <td>0.000000</td>\n",
       "      <td>0.000000</td>\n",
       "      <td>0.000000</td>\n",
       "      <td>0.000000</td>\n",
       "      <td>3.000000</td>\n",
       "      <td>14.000000</td>\n",
       "      <td>...</td>\n",
       "      <td>0.000000</td>\n",
       "      <td>0.000000</td>\n",
       "      <td>0.000000</td>\n",
       "      <td>0.000000</td>\n",
       "      <td>0.000000</td>\n",
       "      <td>0.000000</td>\n",
       "      <td>0.000000</td>\n",
       "      <td>0.000000</td>\n",
       "      <td>0.000000</td>\n",
       "      <td>0.000000</td>\n",
       "    </tr>\n",
       "    <tr>\n",
       "      <th>75%</th>\n",
       "      <td>0.000000</td>\n",
       "      <td>1.000000</td>\n",
       "      <td>0.000000</td>\n",
       "      <td>1.000000</td>\n",
       "      <td>0.000000</td>\n",
       "      <td>0.000000</td>\n",
       "      <td>0.000000</td>\n",
       "      <td>0.000000</td>\n",
       "      <td>3.000000</td>\n",
       "      <td>14.000000</td>\n",
       "      <td>...</td>\n",
       "      <td>0.000000</td>\n",
       "      <td>1.000000</td>\n",
       "      <td>0.000000</td>\n",
       "      <td>0.000000</td>\n",
       "      <td>0.000000</td>\n",
       "      <td>0.000000</td>\n",
       "      <td>0.000000</td>\n",
       "      <td>0.000000</td>\n",
       "      <td>1.000000</td>\n",
       "      <td>0.000000</td>\n",
       "    </tr>\n",
       "    <tr>\n",
       "      <th>max</th>\n",
       "      <td>1.000000</td>\n",
       "      <td>1.000000</td>\n",
       "      <td>1.000000</td>\n",
       "      <td>1.000000</td>\n",
       "      <td>1.000000</td>\n",
       "      <td>1.000000</td>\n",
       "      <td>1.000000</td>\n",
       "      <td>1.000000</td>\n",
       "      <td>4.000000</td>\n",
       "      <td>15.000000</td>\n",
       "      <td>...</td>\n",
       "      <td>1.000000</td>\n",
       "      <td>1.000000</td>\n",
       "      <td>1.000000</td>\n",
       "      <td>1.000000</td>\n",
       "      <td>1.000000</td>\n",
       "      <td>1.000000</td>\n",
       "      <td>1.000000</td>\n",
       "      <td>1.000000</td>\n",
       "      <td>1.000000</td>\n",
       "      <td>1.000000</td>\n",
       "    </tr>\n",
       "  </tbody>\n",
       "</table>\n",
       "<p>8 rows × 24 columns</p>\n",
       "</div>"
      ],
      "text/plain": [
       "       gender_female     age_gt_45     age_lt_25        race_B        race_A  \\\n",
       "count   16543.000000  16543.000000  16543.000000  16543.000000  16543.000000   \n",
       "mean        0.027262      0.372061      0.046424      0.537811      0.002116   \n",
       "std         0.162852      0.483369      0.210409      0.498583      0.045949   \n",
       "min         0.000000      0.000000      0.000000      0.000000      0.000000   \n",
       "25%         0.000000      0.000000      0.000000      0.000000      0.000000   \n",
       "50%         0.000000      0.000000      0.000000      1.000000      0.000000   \n",
       "75%         0.000000      1.000000      0.000000      1.000000      0.000000   \n",
       "max         1.000000      1.000000      1.000000      1.000000      1.000000   \n",
       "\n",
       "             race_H        race_I        race_O  off_1_prs_max  off_1_gs_max  \\\n",
       "count  16543.000000  16543.000000  16543.000000   16543.000000  16543.000000   \n",
       "mean       0.100828      0.001088      0.003204       2.607901     12.045639   \n",
       "std        0.301110      0.032969      0.056513       1.163966      3.049094   \n",
       "min        0.000000      0.000000      0.000000       0.500000      1.000000   \n",
       "25%        0.000000      0.000000      0.000000       2.000000     11.000000   \n",
       "50%        0.000000      0.000000      0.000000       3.000000     14.000000   \n",
       "75%        0.000000      0.000000      0.000000       3.000000     14.000000   \n",
       "max        1.000000      1.000000      1.000000       4.000000     15.000000   \n",
       "\n",
       "       ...  re_escp_hist_3  re_escp_hist_4  re_escp_hist_5  mrt_stat_DIV  \\\n",
       "count  ...    16543.000000    16543.000000    16543.000000  16543.000000   \n",
       "mean   ...        0.015596        0.380161        0.100526      0.075258   \n",
       "std    ...        0.123909        0.485441        0.300709      0.263816   \n",
       "min    ...        0.000000        0.000000        0.000000      0.000000   \n",
       "25%    ...        0.000000        0.000000        0.000000      0.000000   \n",
       "50%    ...        0.000000        0.000000        0.000000      0.000000   \n",
       "75%    ...        0.000000        1.000000        0.000000      0.000000   \n",
       "max    ...        1.000000        1.000000        1.000000      1.000000   \n",
       "\n",
       "       mrt_stat_SEP  mrt_stat_MAR  mrt_stat_WID      employed  \\\n",
       "count  16543.000000  16543.000000  16543.000000  16543.000000   \n",
       "mean       0.039473      0.090854      0.010699      0.194765   \n",
       "std        0.194723      0.287410      0.102886      0.396032   \n",
       "min        0.000000      0.000000      0.000000      0.000000   \n",
       "25%        0.000000      0.000000      0.000000      0.000000   \n",
       "50%        0.000000      0.000000      0.000000      0.000000   \n",
       "75%        0.000000      0.000000      0.000000      0.000000   \n",
       "max        1.000000      1.000000      1.000000      1.000000   \n",
       "\n",
       "       high_re_discip_reports       high_re  \n",
       "count            16543.000000  16543.000000  \n",
       "mean                 0.338028      0.165145  \n",
       "std                  0.473052      0.371323  \n",
       "min                  0.000000      0.000000  \n",
       "25%                  0.000000      0.000000  \n",
       "50%                  0.000000      0.000000  \n",
       "75%                  1.000000      0.000000  \n",
       "max                  1.000000      1.000000  \n",
       "\n",
       "[8 rows x 24 columns]"
      ]
     },
     "execution_count": 71,
     "metadata": {},
     "output_type": "execute_result"
    }
   ],
   "source": [
    "data_control.describe()"
   ]
  },
  {
   "cell_type": "code",
   "execution_count": 72,
   "metadata": {},
   "outputs": [
    {
     "data": {
      "text/plain": [
       "0.03723629329625824"
      ]
     },
     "execution_count": 72,
     "metadata": {},
     "output_type": "execute_result"
    }
   ],
   "source": [
    "  616/16543\n",
    "# this percent of outliers for prior_commits"
   ]
  },
  {
   "cell_type": "code",
   "execution_count": 73,
   "metadata": {
    "scrolled": true
   },
   "outputs": [
    {
     "name": "stderr",
     "output_type": "stream",
     "text": [
      "/home/ncr006/anaconda2/envs/psapm/lib/python3.8/site-packages/seaborn/_decorators.py:36: FutureWarning: Pass the following variables as keyword args: x, y. From version 0.12, the only valid positional argument will be `data`, and passing other arguments without an explicit keyword will result in an error or misinterpretation.\n",
      "  warnings.warn(\n",
      "/home/ncr006/anaconda2/envs/psapm/lib/python3.8/site-packages/seaborn/_decorators.py:36: FutureWarning: Pass the following variables as keyword args: x, y. From version 0.12, the only valid positional argument will be `data`, and passing other arguments without an explicit keyword will result in an error or misinterpretation.\n",
      "  warnings.warn(\n"
     ]
    },
    {
     "data": {
      "image/png": "[encoded data removed]",
      "text/plain": [
       "<Figure size 1080x1080 with 2 Axes>"
      ]
     },
     "metadata": {
      "needs_background": "light"
     },
     "output_type": "display_data"
    }
   ],
   "source": [
    "## Plotting multiple plots same figure\n",
    "fig, (axL, axR) = plt.subplots(2, figsize=(15, 15))\n",
    "plt.suptitle(\"Logistic Regression Residual Plots \\n using Seaborn Lowess line (N = 400)\")\n",
    "\n",
    "\n",
    "# Deviance Residuals\n",
    "sns.regplot(result.fittedvalues, result.resid_dev, ax= axL,\n",
    "            color=\"black\", scatter_kws={\"s\": 5},\n",
    "            line_kws={\"color\":\"b\", \"alpha\":1, \"lw\":2}, lowess=True)\n",
    "\n",
    "axL.set_title(\"Deviance Residuals \\n against Fitted Values\")\n",
    "axL.set_xlabel(\"Linear Predictor Values\")\n",
    "axL.set_ylabel(\"Deviance Residuals\")\n",
    "\n",
    "# Studentized Pearson Residuals\n",
    "sns.regplot(result.fittedvalues, result.resid_pearson, ax= axR,\n",
    "            color=\"black\", scatter_kws={\"s\": 5},\n",
    "            line_kws={\"color\":\"g\", \"alpha\":1, \"lw\":2}, lowess=True)\n",
    "\n",
    "axR.set_title(\"Studentized Pearson Residuals \\n against Fitted Values\")\n",
    "axR.set_xlabel(\"Linear Predictor Values\")\n",
    "axR.set_ylabel(\"Studentized Pearson Residuals\")\n",
    "\n",
    "plt.show()"
   ]
  },
  {
   "cell_type": "code",
   "execution_count": 74,
   "metadata": {},
   "outputs": [],
   "source": [
    "# The second graph looks flat and to have a y-intercept of close to 0 and so this condition is met"
   ]
  },
  {
   "cell_type": "code",
   "execution_count": 75,
   "metadata": {},
   "outputs": [
    {
     "data": {
      "text/plain": [
       "['gender_female',\n",
       " 'age_gt_45',\n",
       " 'age_lt_25',\n",
       " 'race_A',\n",
       " 'race_O',\n",
       " 're_discip_reports',\n",
       " 're_escp_hist_3',\n",
       " 'employed',\n",
       " 'race_B',\n",
       " 'off_1_gs_max',\n",
       " 'off_1_prs_max',\n",
       " 'prior_commits']"
      ]
     },
     "execution_count": 75,
     "metadata": {},
     "output_type": "execute_result"
    }
   ],
   "source": [
    "ll"
   ]
  },
  {
   "cell_type": "code",
   "execution_count": null,
   "metadata": {},
   "outputs": [],
   "source": []
  },
  {
   "cell_type": "markdown",
   "metadata": {},
   "source": [
    "---\n",
    "\n",
    "## Repeated but for overrides\n",
    "\n"
   ]
  },
  {
   "cell_type": "code",
   "execution_count": 85,
   "metadata": {},
   "outputs": [
    {
     "data": {
      "text/plain": [
       "['gender_female',\n",
       " 'age_gt_45',\n",
       " 'age_lt_25',\n",
       " 'race_A',\n",
       " 'race_O',\n",
       " 're_discip_reports',\n",
       " 're_escp_hist_3',\n",
       " 'employed',\n",
       " 'race_B',\n",
       " 'off_1_gs_max',\n",
       " 'off_1_prs_max',\n",
       " 'prior_commits',\n",
       " 're_override_up']"
      ]
     },
     "execution_count": 85,
     "metadata": {},
     "output_type": "execute_result"
    }
   ],
   "source": [
    "ll.append('re_override_up')\n",
    "ll"
   ]
  },
  {
   "cell_type": "code",
   "execution_count": 87,
   "metadata": {},
   "outputs": [],
   "source": [
    "df = pd.read_csv(\"../../data/re_custody_2017_gsprs.csv\", low_memory=False)\n",
    "\n",
    "\n",
    "\n",
    "# preprocessing\n",
    "data = preprocessing.preprocess_input_vars_re(df)\n",
    "\n",
    "data['high_re_discip_reports'] = np.where(data['re_discip_reports']>2, 1, 0)\n",
    "\n",
    "data['re_override_up'] = np.where(data['re_ovride_cust_lvl']-data['re_custody_level']>0,1,0)\n",
    "data['high_re'] = np.where(data['re_custody_level']>3, 1, 0)\n",
    "\n",
    "data = data[\n",
    "    [\n",
    "        \"gender_female\",\n",
    "        \"age_gt_45\",\n",
    "        \"age_lt_25\",\n",
    "        \"race_B\",\n",
    "        \"race_A\",\n",
    "        \"race_H\",\n",
    "        \"race_I\",\n",
    "        \"race_O\",\n",
    "        \"off_1_prs_max\",\n",
    "        \"off_1_gs_max\",\n",
    "        #\"ic_custdy_level\",\n",
    "        \"prior_commits\",\n",
    "        \"re_discip_reports\",\n",
    "        \"re_escp_hist_1\",\n",
    "        \"re_escp_hist_2\",\n",
    "        \"re_escp_hist_3\",\n",
    "        \"re_escp_hist_4\",\n",
    "        \"re_escp_hist_5\",\n",
    "        \"mrt_stat_DIV\",\n",
    "        \"mrt_stat_SEP\",\n",
    "        \"mrt_stat_MAR\",\n",
    "        \"mrt_stat_WID\",\n",
    "        \"employed\",\n",
    "        \"high_re_discip_reports\",\n",
    "        \"high_re\",\n",
    "        \"re_override_up\"\n",
    "    ]\n",
    "]\n",
    "data = data.dropna()\n",
    "\n",
    "df_re_or = data[ll]"
   ]
  },
  {
   "cell_type": "markdown",
   "metadata": {},
   "source": [
    "---\n",
    "## Data exploration"
   ]
  },
  {
   "cell_type": "code",
   "execution_count": 88,
   "metadata": {},
   "outputs": [
    {
     "data": {
      "text/plain": [
       "0    13746\n",
       "1     2797\n",
       "Name: re_override_up, dtype: int64"
      ]
     },
     "execution_count": 88,
     "metadata": {},
     "output_type": "execute_result"
    }
   ],
   "source": [
    "df_re_or['re_override_up'].value_counts()"
   ]
  },
  {
   "cell_type": "code",
   "execution_count": null,
   "metadata": {},
   "outputs": [],
   "source": [
    "\n"
   ]
  },
  {
   "cell_type": "code",
   "execution_count": 82,
   "metadata": {},
   "outputs": [
    {
     "name": "stdout",
     "output_type": "stream",
     "text": [
      "Collecting imblearn\n",
      "  Downloading imblearn-0.0-py2.py3-none-any.whl (1.9 kB)\n",
      "Collecting imbalanced-learn\n",
      "  Downloading imbalanced_learn-0.8.1-py3-none-any.whl (189 kB)\n",
      "\u001b[K     |████████████████████████████████| 189 kB 2.3 MB/s eta 0:00:01\n",
      "\u001b[?25hRequirement already satisfied: scipy>=0.19.1 in /home/ncr006/anaconda2/envs/psapm/lib/python3.8/site-packages (from imbalanced-learn->imblearn) (1.6.2)\n",
      "Requirement already satisfied: scikit-learn>=0.24 in /home/ncr006/anaconda2/envs/psapm/lib/python3.8/site-packages (from imbalanced-learn->imblearn) (0.24.2)\n",
      "Requirement already satisfied: numpy>=1.13.3 in /home/ncr006/.local/lib/python3.8/site-packages (from imbalanced-learn->imblearn) (1.21.2)\n",
      "Requirement already satisfied: joblib>=0.11 in /home/ncr006/anaconda2/envs/psapm/lib/python3.8/site-packages (from imbalanced-learn->imblearn) (1.0.1)\n",
      "Requirement already satisfied: threadpoolctl>=2.0.0 in /home/ncr006/anaconda2/envs/psapm/lib/python3.8/site-packages (from scikit-learn>=0.24->imbalanced-learn->imblearn) (2.1.0)\n",
      "Installing collected packages: imbalanced-learn, imblearn\n",
      "Successfully installed imbalanced-learn-0.8.1 imblearn-0.0\n"
     ]
    }
   ],
   "source": [
    "# I need to balance these classes\n",
    "#!pip install imblearn"
   ]
  },
  {
   "cell_type": "markdown",
   "metadata": {},
   "source": [
    "### Fitting a model (with oversampling to balance classes)"
   ]
  },
  {
   "cell_type": "code",
   "execution_count": 89,
   "metadata": {},
   "outputs": [
    {
     "data": {
      "text/plain": [
       "SMOTE(random_state=0)"
      ]
     },
     "execution_count": 89,
     "metadata": {},
     "output_type": "execute_result"
    }
   ],
   "source": [
    "X = df_re_or.loc[:, df_re_or.columns != 're_override_up']\n",
    "y = df_re_or.loc[:, df_re_or.columns == 're_override_up']\n",
    "\n",
    "from imblearn.over_sampling import SMOTE\n",
    "\n",
    "os = SMOTE(random_state=0)\n",
    "\n",
    "os"
   ]
  },
  {
   "cell_type": "code",
   "execution_count": 106,
   "metadata": {},
   "outputs": [
    {
     "name": "stdout",
     "output_type": "stream",
     "text": [
      "Counter({0: 9492, 1: 182})\n"
     ]
    }
   ],
   "source": [
    "\n"
   ]
  },
  {
   "cell_type": "code",
   "execution_count": 90,
   "metadata": {},
   "outputs": [
    {
     "name": "stdout",
     "output_type": "stream",
     "text": [
      "Optimization terminated successfully.\n",
      "         Current function value: 0.474267\n",
      "         Iterations 8\n",
      "                          Results: Logit\n",
      "==================================================================\n",
      "Model:               Logit            Pseudo R-squared: 0.316     \n",
      "Dependent Variable:  re_override_up   AIC:              26101.1122\n",
      "Date:                2021-09-30 13:07 BIC:              26199.7720\n",
      "No. Observations:    27492            Log-Likelihood:   -13039.   \n",
      "Df Model:            11               LL-Null:          -19056.   \n",
      "Df Residuals:        27480            LLR p-value:      0.0000    \n",
      "Converged:           1.0000           Scale:            1.0000    \n",
      "No. Iterations:      8.0000                                       \n",
      "------------------------------------------------------------------\n",
      "                   Coef.  Std.Err.    z     P>|z|   [0.025  0.975]\n",
      "------------------------------------------------------------------\n",
      "gender_female     -1.8129   0.1394 -13.0053 0.0000 -2.0861 -1.5397\n",
      "age_gt_45          0.3792   0.0321  11.7977 0.0000  0.3162  0.4422\n",
      "age_lt_25         -2.6809   0.2043 -13.1224 0.0000 -3.0813 -2.2805\n",
      "race_A            -0.4436   0.3487  -1.2722 0.2033 -1.1271  0.2398\n",
      "race_O            -1.2871   0.4024  -3.1987 0.0014 -2.0758 -0.4984\n",
      "re_discip_reports -0.9292   0.0165 -56.3402 0.0000 -0.9615 -0.8969\n",
      "re_escp_hist_3    -0.3005   0.2073  -1.4495 0.1472 -0.7069  0.1058\n",
      "employed          -1.1486   0.0410 -28.0015 0.0000 -1.2290 -1.0682\n",
      "race_B             0.2026   0.0324   6.2471 0.0000  0.1391  0.2662\n",
      "off_1_gs_max       0.1688   0.0035  48.4929 0.0000  0.1620  0.1756\n",
      "off_1_prs_max     -0.0888   0.0131  -6.7895 0.0000 -0.1144 -0.0631\n",
      "prior_commits     -0.2158   0.0064 -33.9552 0.0000 -0.2282 -0.2033\n",
      "==================================================================\n",
      "\n",
      "                         OR        z-value      2.5%     97.5%\n",
      "gender_female      0.163176   1.141154e-38  0.124166  0.214444\n",
      "age_gt_45          1.461134   4.011449e-32  1.371923  1.556145\n",
      "age_lt_25          0.068500   2.449449e-39  0.045897  0.102233\n",
      "race_A             0.641695   2.032901e-01  0.323970  1.271020\n",
      "race_O             0.276067   1.380589e-03  0.125459  0.607475\n",
      "re_discip_reports  0.394871   0.000000e+00  0.382311  0.407844\n",
      "re_escp_hist_3     0.740430   1.471995e-01  0.493178  1.111639\n",
      "employed           0.317084  1.558051e-172  0.292590  0.343629\n",
      "race_B             1.224635   4.180248e-10  1.149200  1.305021\n",
      "off_1_gs_max       1.183851   0.000000e+00  1.175803  1.191954\n",
      "off_1_prs_max      0.915055   1.125362e-11  0.891903  0.938807\n",
      "prior_commits      0.805905  1.023649e-252  0.795929  0.816006\n"
     ]
    }
   ],
   "source": [
    "X, y = os.fit_resample(X, y)\n",
    "\n",
    "logit_model=sm.Logit(y,X)\n",
    "result=logit_model.fit()\n",
    "print(result.summary2())\n",
    "\n",
    "model_odds = pd.DataFrame(np.exp(result.params), columns= ['OR'])\n",
    "model_odds['z-value']= result.pvalues\n",
    "model_odds[['2.5%', '97.5%']] = np.exp(result.conf_int())\n",
    "print(model_odds)"
   ]
  },
  {
   "cell_type": "code",
   "execution_count": null,
   "metadata": {},
   "outputs": [],
   "source": []
  },
  {
   "cell_type": "code",
   "execution_count": null,
   "metadata": {},
   "outputs": [],
   "source": [
    "\n",
    "\n"
   ]
  },
  {
   "cell_type": "code",
   "execution_count": 91,
   "metadata": {},
   "outputs": [
    {
     "name": "stdout",
     "output_type": "stream",
     "text": [
      "Accuracy of logistic regression classifier on test set: 0.83\n"
     ]
    }
   ],
   "source": [
    "X_train, X_test, y_train, y_test = train_test_split(X, y, test_size=0.3, random_state=0)\n",
    "\n",
    "X_train_os, y_train_os = os.fit_resample(X_train, y_train)\n",
    "\n",
    "\n",
    "logreg = LogisticRegression(max_iter=300)\n",
    "logreg.fit(X_train_os, y_train_os.values.ravel())\n",
    "y_pred = logreg.predict(X_test)\n",
    "print('Accuracy of logistic regression classifier on test set: {:.2f}'.format(logreg.score(X_test, y_test)))\n",
    "\n"
   ]
  },
  {
   "cell_type": "code",
   "execution_count": 92,
   "metadata": {},
   "outputs": [
    {
     "name": "stdout",
     "output_type": "stream",
     "text": [
      "[[3229  892]\n",
      " [ 522 3605]]\n",
      "              precision    recall  f1-score   support\n",
      "\n",
      "           0       0.86      0.78      0.82      4121\n",
      "           1       0.80      0.87      0.84      4127\n",
      "\n",
      "    accuracy                           0.83      8248\n",
      "   macro avg       0.83      0.83      0.83      8248\n",
      "weighted avg       0.83      0.83      0.83      8248\n",
      "\n"
     ]
    },
    {
     "data": {
      "image/png": "[encoded data removed]",
      "text/plain": [
       "<Figure size 432x288 with 1 Axes>"
      ]
     },
     "metadata": {
      "needs_background": "light"
     },
     "output_type": "display_data"
    }
   ],
   "source": [
    "from sklearn.metrics import confusion_matrix\n",
    "cm = confusion_matrix(y_test, y_pred)\n",
    "print(cm)\n",
    "\n",
    "print(classification_report(y_test, y_pred))\n",
    "\n",
    "logit_roc_auc = roc_auc_score(y_test, logreg.predict(X_test))\n",
    "fpr, tpr, thresholds = roc_curve(y_test, logreg.predict_proba(X_test)[:,1])\n",
    "plt.figure()\n",
    "plt.plot(fpr, tpr, label='Logistic Regression (area = %0.2f)' % logit_roc_auc)\n",
    "plt.plot([0, 1], [0, 1],'r--')\n",
    "plt.xlim([0.0, 1.0])\n",
    "plt.ylim([0.0, 1.05])\n",
    "plt.xlabel('False Positive Rate')\n",
    "plt.ylabel('True Positive Rate')\n",
    "plt.title('Receiver operating characteristic')\n",
    "plt.legend(loc=\"lower right\")\n",
    "plt.show()"
   ]
  },
  {
   "cell_type": "code",
   "execution_count": null,
   "metadata": {},
   "outputs": [],
   "source": []
  }
 ],
 "metadata": {
  "kernelspec": {
   "display_name": "Python [conda env:psapm]",
   "language": "python",
   "name": "conda-env-psapm-py"
  },
  "language_info": {
   "codemirror_mode": {
    "name": "ipython",
    "version": 3
   },
   "file_extension": ".py",
   "mimetype": "text/x-python",
   "name": "python",
   "nbconvert_exporter": "python",
   "pygments_lexer": "ipython3",
   "version": "3.8.10"
  }
 },
 "nbformat": 4,
 "nbformat_minor": 5
}

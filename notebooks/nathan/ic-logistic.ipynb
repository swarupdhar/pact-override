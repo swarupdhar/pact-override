{
 "cells": [
  {
   "cell_type": "markdown",
   "metadata": {},
   "source": [
    "First I followed <a href=\"https://towardsdatascience.com/building-a-logistic-regression-in-python-step-by-step-becd4d56c9c8\">this</a> to build a model.  This ended up (after automatic feature selection--recursive feature elimination) to not use almost any demographic data to predict high custody level.  \n",
    "\n",
    "Next, I followed <a href=\"https://pythonfordatascienceorg.wordpress.com/logistic-regression-python/\">this</a> to see if this feature selected model satistifed conditions.\n",
    "\n",
    "Things I want to do:\n",
    "1. do the same thing but with manual feature selection (done)\n",
    "1. do the same thing but with a different number of features to be selected\n",
    "1. figure out why the data set shrunk so much based on the confusion matrix being much smaller than the original one (done--confusion matrix just based on training data)\n",
    "1. do the same but with overrides.  Override yes/no and override up yes/no.\n",
    "1. do the same but with only 2017 data"
   ]
  },
  {
   "cell_type": "markdown",
   "metadata": {},
   "source": [
    "## Setting up the notebook"
   ]
  },
  {
   "cell_type": "code",
   "execution_count": 1,
   "metadata": {},
   "outputs": [],
   "source": [
    "import sys\n",
    "sys.path.append(\"../../src\")\n",
    "%load_ext autoreload\n",
    "%autoreload 2"
   ]
  },
  {
   "cell_type": "code",
   "execution_count": 2,
   "metadata": {},
   "outputs": [],
   "source": [
    "import pandas as pd\n",
    "import numpy as np\n",
    "import matplotlib.pyplot as plt\n",
    "import statsmodels.api as sm\n",
    "import seaborn as sns\n",
    "from heatmap import heatmap\n",
    "import statsmodels.formula.api as smf\n",
    "import bioinfokit"
   ]
  },
  {
   "cell_type": "code",
   "execution_count": 3,
   "metadata": {},
   "outputs": [],
   "source": [
    "plt.style.use('ggplot')"
   ]
  },
  {
   "cell_type": "code",
   "execution_count": 4,
   "metadata": {},
   "outputs": [],
   "source": [
    "from math391.models.logit_models import LogitModelRunner\n",
    "from math391.preprocessing import preprocess_for_logit\n",
    "from math391.plotting import roc_plot"
   ]
  },
  {
   "cell_type": "code",
   "execution_count": 5,
   "metadata": {},
   "outputs": [],
   "source": [
    "%matplotlib inline\n",
    "\n",
    "from project import rf_models, preprocessing\n",
    "\n",
    "df = pd.read_csv(\"../../data/initial_custody_2017_gsprs.csv\", low_memory=False)\n",
    "\n",
    "df['high_ic_instit_adj'] = np.where(df['ic_institut_adj']>2, 1, 0)\n",
    "df['ic_override_up'] = np.where(df['ic_ovride_cust_lvl']-df['ic_custdy_level']>0,1,0)\n",
    "df['high_ic'] = np.where(df['ic_custdy_level']>3, 1, 0)\n",
    "\n",
    "\n",
    "# preprocessing\n",
    "data = preprocessing.preprocess_input_vars(df)\n",
    "data = data[\n",
    "    [\n",
    "        \"gender_female\",\n",
    "        \"age_gt_45\",\n",
    "        \"age_lt_25\",\n",
    "        \"race_B\",\n",
    "        \"race_A\",\n",
    "        \"race_H\",\n",
    "        \"race_I\",\n",
    "        \"race_O\",\n",
    "        \"off_1_prs_max\",\n",
    "        \"off_1_gs_max\",\n",
    "        #\"ic_custdy_level\",\n",
    "        \"prior_commits\",\n",
    "        \"ic_institut_adj\",\n",
    "        \"escape_hist_1\",\n",
    "        \"escape_hist_2\",\n",
    "        \"escape_hist_3\",\n",
    "        \"escape_hist_4\",\n",
    "        \"escape_hist_5\",\n",
    "        \"mrt_stat_DIV\",\n",
    "        \"mrt_stat_SEP\",\n",
    "        \"mrt_stat_MAR\",\n",
    "        \"mrt_stat_WID\",\n",
    "        \"employed\",\n",
    "        \"high_ic_instit_adj\",\n",
    "        \"high_ic\"\n",
    "    ]\n",
    "]\n",
    "data = data.dropna()\n",
    "\n",
    "df_ic_all = data"
   ]
  },
  {
   "cell_type": "code",
   "execution_count": null,
   "metadata": {},
   "outputs": [],
   "source": []
  },
  {
   "cell_type": "markdown",
   "metadata": {},
   "source": [
    "---\n",
    "\n",
    "## Data exploration"
   ]
  },
  {
   "cell_type": "code",
   "execution_count": 6,
   "metadata": {},
   "outputs": [
    {
     "data": {
      "text/plain": [
       "1    7750\n",
       "0    6070\n",
       "Name: high_ic, dtype: int64"
      ]
     },
     "execution_count": 6,
     "metadata": {},
     "output_type": "execute_result"
    }
   ],
   "source": [
    "df_ic_all['high_ic'].value_counts()"
   ]
  },
  {
   "cell_type": "code",
   "execution_count": 7,
   "metadata": {},
   "outputs": [
    {
     "data": {
      "image/png": "[encoded data removed]",
      "text/plain": [
       "<Figure size 432x288 with 1 Axes>"
      ]
     },
     "metadata": {
      "needs_background": "light"
     },
     "output_type": "display_data"
    }
   ],
   "source": [
    "sns.countplot(x='high_ic', data=df_ic_all, palette='hls')\n",
    "plt.show()"
   ]
  },
  {
   "cell_type": "code",
   "execution_count": 9,
   "metadata": {},
   "outputs": [
    {
     "name": "stdout",
     "output_type": "stream",
     "text": [
      "percentage of high lev is 43.92185238784371\n",
      "percentage of low lev is 56.07814761215629\n"
     ]
    }
   ],
   "source": [
    "count_hi = len(df_ic_all[df_ic_all['high_ic']==0])\n",
    "count_lo = len(df_ic_all[df_ic_all['high_ic']==1])\n",
    "pct_hi = count_hi/(count_hi+count_lo)\n",
    "print(\"percentage of high lev is\", pct_hi*100)\n",
    "pct_lo = count_lo/(count_hi+count_lo)\n",
    "print(\"percentage of low lev is\", pct_lo*100)"
   ]
  },
  {
   "cell_type": "code",
   "execution_count": 10,
   "metadata": {
    "scrolled": true
   },
   "outputs": [
    {
     "data": {
      "image/png": "[encoded data removed]",
      "text/plain": [
       "<Figure size 432x288 with 1 Axes>"
      ]
     },
     "metadata": {
      "needs_background": "light"
     },
     "output_type": "display_data"
    }
   ],
   "source": [
    "sns.countplot(x='gender_female', data=df_ic_all, palette='hls')\n",
    "plt.show()"
   ]
  },
  {
   "cell_type": "code",
   "execution_count": 11,
   "metadata": {},
   "outputs": [
    {
     "data": {
      "image/png": "[encoded data removed]",
      "text/plain": [
       "<Figure size 432x288 with 1 Axes>"
      ]
     },
     "metadata": {
      "needs_background": "light"
     },
     "output_type": "display_data"
    }
   ],
   "source": [
    "sns.countplot(x='race_B', data=df_ic_all, palette='hls')\n",
    "plt.show()"
   ]
  },
  {
   "cell_type": "markdown",
   "metadata": {},
   "source": [
    "###  See how quantitative variables vary with custody level"
   ]
  },
  {
   "cell_type": "code",
   "execution_count": 12,
   "metadata": {},
   "outputs": [
    {
     "data": {
      "text/plain": [
       "high_ic\n",
       "0    3.226030\n",
       "1    3.330968\n",
       "Name: prior_commits, dtype: float64"
      ]
     },
     "execution_count": 12,
     "metadata": {},
     "output_type": "execute_result"
    }
   ],
   "source": [
    "df_ic_all.groupby('high_ic').mean()['prior_commits']"
   ]
  },
  {
   "cell_type": "code",
   "execution_count": 13,
   "metadata": {},
   "outputs": [
    {
     "data": {
      "text/plain": [
       "high_ic\n",
       "0    10.914168\n",
       "1    12.455613\n",
       "Name: off_1_gs_max, dtype: float64"
      ]
     },
     "execution_count": 13,
     "metadata": {},
     "output_type": "execute_result"
    }
   ],
   "source": [
    "df_ic_all.groupby('high_ic').mean()['off_1_gs_max']"
   ]
  },
  {
   "cell_type": "code",
   "execution_count": 14,
   "metadata": {},
   "outputs": [
    {
     "data": {
      "text/plain": [
       "high_ic\n",
       "0    2.363591\n",
       "1    2.648839\n",
       "Name: off_1_prs_max, dtype: float64"
      ]
     },
     "execution_count": 14,
     "metadata": {},
     "output_type": "execute_result"
    }
   ],
   "source": [
    "df_ic_all.groupby('high_ic').mean()['off_1_prs_max']"
   ]
  },
  {
   "cell_type": "code",
   "execution_count": 15,
   "metadata": {},
   "outputs": [
    {
     "data": {
      "text/plain": [
       "high_ic\n",
       "0    2.299671\n",
       "1    3.816258\n",
       "Name: ic_institut_adj, dtype: float64"
      ]
     },
     "execution_count": 15,
     "metadata": {},
     "output_type": "execute_result"
    }
   ],
   "source": [
    "df_ic_all.groupby('high_ic').mean()['ic_institut_adj']"
   ]
  },
  {
   "cell_type": "markdown",
   "metadata": {},
   "source": [
    "###  See how quantitative variables vary with race_B"
   ]
  },
  {
   "cell_type": "code",
   "execution_count": 16,
   "metadata": {},
   "outputs": [
    {
     "data": {
      "text/plain": [
       "race_B\n",
       "0    2.950759\n",
       "1    3.328174\n",
       "Name: ic_institut_adj, dtype: float64"
      ]
     },
     "execution_count": 16,
     "metadata": {},
     "output_type": "execute_result"
    }
   ],
   "source": [
    "df_ic_all.groupby('race_B').mean()['ic_institut_adj']"
   ]
  },
  {
   "cell_type": "code",
   "execution_count": 17,
   "metadata": {},
   "outputs": [
    {
     "data": {
      "text/plain": [
       "race_B\n",
       "0    2.400522\n",
       "1    2.633406\n",
       "Name: off_1_prs_max, dtype: float64"
      ]
     },
     "execution_count": 17,
     "metadata": {},
     "output_type": "execute_result"
    }
   ],
   "source": [
    "df_ic_all.groupby('race_B').mean()['off_1_prs_max']"
   ]
  },
  {
   "cell_type": "code",
   "execution_count": 18,
   "metadata": {},
   "outputs": [
    {
     "data": {
      "text/plain": [
       "race_B\n",
       "0    11.149409\n",
       "1    12.340364\n",
       "Name: off_1_gs_max, dtype: float64"
      ]
     },
     "execution_count": 18,
     "metadata": {},
     "output_type": "execute_result"
    }
   ],
   "source": [
    "df_ic_all.groupby('race_B').mean()['off_1_gs_max']"
   ]
  },
  {
   "cell_type": "code",
   "execution_count": 19,
   "metadata": {},
   "outputs": [
    {
     "data": {
      "text/plain": [
       "race_B\n",
       "0    3.342997\n",
       "1    3.232982\n",
       "Name: prior_commits, dtype: float64"
      ]
     },
     "execution_count": 19,
     "metadata": {},
     "output_type": "execute_result"
    }
   ],
   "source": [
    "df_ic_all.groupby('race_B').mean()['prior_commits']"
   ]
  },
  {
   "cell_type": "markdown",
   "metadata": {},
   "source": [
    "###  Visualizations"
   ]
  },
  {
   "cell_type": "code",
   "execution_count": 20,
   "metadata": {},
   "outputs": [
    {
     "data": {
      "text/plain": [
       "Text(0, 0.5, 'Count of people')"
      ]
     },
     "execution_count": 20,
     "metadata": {},
     "output_type": "execute_result"
    },
    {
     "data": {
      "image/png": "[encoded data removed]",
      "text/plain": [
       "<Figure size 432x288 with 1 Axes>"
      ]
     },
     "metadata": {
      "needs_background": "light"
     },
     "output_type": "display_data"
    }
   ],
   "source": [
    "%matplotlib inline\n",
    "pd.crosstab(df_ic_all.race_B,df_ic_all.high_ic).plot(kind='bar')\n",
    "plt.title('Custody level by Black or not')\n",
    "plt.xlabel('Black')\n",
    "plt.ylabel('Count of people')\n"
   ]
  },
  {
   "cell_type": "code",
   "execution_count": 21,
   "metadata": {},
   "outputs": [
    {
     "data": {
      "text/plain": [
       "Text(0, 0.5, 'Proportion of people')"
      ]
     },
     "execution_count": 21,
     "metadata": {},
     "output_type": "execute_result"
    },
    {
     "data": {
      "image/png": "[encoded data removed]",
      "text/plain": [
       "<Figure size 432x288 with 1 Axes>"
      ]
     },
     "metadata": {
      "needs_background": "light"
     },
     "output_type": "display_data"
    }
   ],
   "source": [
    "table=pd.crosstab(df_ic_all.ic_institut_adj,df_ic_all.high_ic)\n",
    "table.div(table.sum(1).astype(float), axis=0).plot(kind='bar', stacked=True)\n",
    "plt.title('Stacked Bar Chart of Custody level vs Institutional Adjustment')\n",
    "plt.xlabel('Institutional adjustment')\n",
    "plt.ylabel('Proportion of people')\n"
   ]
  },
  {
   "cell_type": "code",
   "execution_count": 22,
   "metadata": {},
   "outputs": [
    {
     "data": {
      "text/plain": [
       "Text(0, 0.5, 'Proportion of people')"
      ]
     },
     "execution_count": 22,
     "metadata": {},
     "output_type": "execute_result"
    },
    {
     "data": {
      "image/png": "[encoded data removed]",
      "text/plain": [
       "<Figure size 432x288 with 1 Axes>"
      ]
     },
     "metadata": {
      "needs_background": "light"
     },
     "output_type": "display_data"
    }
   ],
   "source": [
    "table=pd.crosstab(df_ic_all.employed,df_ic_all.high_ic)\n",
    "table.div(table.sum(1).astype(float), axis=0).plot(kind='bar', stacked=True)\n",
    "plt.title('Stacked Bar Chart of Custody level vs Employment status')\n",
    "plt.xlabel('Employment status')\n",
    "plt.ylabel('Proportion of people')"
   ]
  },
  {
   "cell_type": "code",
   "execution_count": 23,
   "metadata": {},
   "outputs": [
    {
     "data": {
      "text/plain": [
       "Text(0, 0.5, 'Proportion of people')"
      ]
     },
     "execution_count": 23,
     "metadata": {},
     "output_type": "execute_result"
    },
    {
     "data": {
      "image/png": "[encoded data removed]",
      "text/plain": [
       "<Figure size 432x288 with 1 Axes>"
      ]
     },
     "metadata": {
      "needs_background": "light"
     },
     "output_type": "display_data"
    }
   ],
   "source": [
    "table=pd.crosstab(df_ic_all.gender_female,df_ic_all.high_ic)\n",
    "table.div(table.sum(1).astype(float), axis=0).plot(kind='bar', stacked=True)\n",
    "plt.title('Stacked Bar Chart of Custody level vs Female or not')\n",
    "plt.xlabel('Female')\n",
    "plt.ylabel('Proportion of people')"
   ]
  },
  {
   "cell_type": "markdown",
   "metadata": {},
   "source": [
    "---\n",
    "\n",
    "## Recursive feature elimination"
   ]
  },
  {
   "cell_type": "code",
   "execution_count": 24,
   "metadata": {},
   "outputs": [],
   "source": [
    "data_final = df_ic_all # make a copy"
   ]
  },
  {
   "cell_type": "code",
   "execution_count": 25,
   "metadata": {},
   "outputs": [],
   "source": [
    "data_final_vars=data_final.columns.values.tolist()"
   ]
  },
  {
   "cell_type": "code",
   "execution_count": 26,
   "metadata": {},
   "outputs": [],
   "source": [
    "yvars = ['high_ic']"
   ]
  },
  {
   "cell_type": "code",
   "execution_count": 27,
   "metadata": {},
   "outputs": [],
   "source": [
    "Xvars = [i for i in data_final_vars if i not in yvars]"
   ]
  },
  {
   "cell_type": "code",
   "execution_count": 28,
   "metadata": {},
   "outputs": [],
   "source": [
    "X = data_final.loc[:, data_final.columns != 'high_ic']\n",
    "y = data_final.loc[:, data_final.columns == 'high_ic']"
   ]
  },
  {
   "cell_type": "code",
   "execution_count": 29,
   "metadata": {},
   "outputs": [],
   "source": [
    "from sklearn.feature_selection import RFE\n",
    "from sklearn.linear_model import LogisticRegression\n",
    "logreg = LogisticRegression(max_iter=300) # increase the number of iterations to get convergence\n"
   ]
  },
  {
   "cell_type": "code",
   "execution_count": 30,
   "metadata": {},
   "outputs": [
    {
     "name": "stderr",
     "output_type": "stream",
     "text": [
      "/home/ncr006/anaconda2/envs/psapm/lib/python3.8/site-packages/sklearn/linear_model/_logistic.py:763: ConvergenceWarning: lbfgs failed to converge (status=1):\n",
      "STOP: TOTAL NO. of ITERATIONS REACHED LIMIT.\n",
      "\n",
      "Increase the number of iterations (max_iter) or scale the data as shown in:\n",
      "    https://scikit-learn.org/stable/modules/preprocessing.html\n",
      "Please also refer to the documentation for alternative solver options:\n",
      "    https://scikit-learn.org/stable/modules/linear_model.html#logistic-regression\n",
      "  n_iter_i = _check_optimize_result(\n",
      "/home/ncr006/anaconda2/envs/psapm/lib/python3.8/site-packages/sklearn/linear_model/_logistic.py:763: ConvergenceWarning: lbfgs failed to converge (status=1):\n",
      "STOP: TOTAL NO. of ITERATIONS REACHED LIMIT.\n",
      "\n",
      "Increase the number of iterations (max_iter) or scale the data as shown in:\n",
      "    https://scikit-learn.org/stable/modules/preprocessing.html\n",
      "Please also refer to the documentation for alternative solver options:\n",
      "    https://scikit-learn.org/stable/modules/linear_model.html#logistic-regression\n",
      "  n_iter_i = _check_optimize_result(\n"
     ]
    }
   ],
   "source": [
    "rfe = RFE(logreg, n_features_to_select=8, step=1)\n",
    "rfe = rfe.fit(X, y.values.ravel())"
   ]
  },
  {
   "cell_type": "code",
   "execution_count": 31,
   "metadata": {},
   "outputs": [
    {
     "name": "stdout",
     "output_type": "stream",
     "text": [
      "[False  True False False False False False False False False False  True\n",
      " False False False  True  True  True  True  True  True False False]\n"
     ]
    }
   ],
   "source": [
    "print(rfe.support_)"
   ]
  },
  {
   "cell_type": "code",
   "execution_count": 32,
   "metadata": {},
   "outputs": [],
   "source": [
    "zz= list(zip(Xvars,list(rfe.support_)))"
   ]
  },
  {
   "cell_type": "code",
   "execution_count": 33,
   "metadata": {},
   "outputs": [],
   "source": [
    "ll = [a for (a,b) in zz if b]"
   ]
  },
  {
   "cell_type": "code",
   "execution_count": 34,
   "metadata": {},
   "outputs": [
    {
     "data": {
      "text/plain": [
       "['age_gt_45',\n",
       " 'ic_institut_adj',\n",
       " 'escape_hist_4',\n",
       " 'escape_hist_5',\n",
       " 'mrt_stat_DIV',\n",
       " 'mrt_stat_SEP',\n",
       " 'mrt_stat_MAR',\n",
       " 'mrt_stat_WID']"
      ]
     },
     "execution_count": 34,
     "metadata": {},
     "output_type": "execute_result"
    }
   ],
   "source": [
    "ll"
   ]
  },
  {
   "cell_type": "code",
   "execution_count": 35,
   "metadata": {},
   "outputs": [],
   "source": [
    "X = X[ll]\n"
   ]
  },
  {
   "cell_type": "code",
   "execution_count": null,
   "metadata": {},
   "outputs": [],
   "source": []
  },
  {
   "cell_type": "markdown",
   "metadata": {},
   "source": [
    "---\n",
    "\n",
    "## Implementing the model"
   ]
  },
  {
   "cell_type": "code",
   "execution_count": 36,
   "metadata": {},
   "outputs": [
    {
     "name": "stdout",
     "output_type": "stream",
     "text": [
      "Optimization terminated successfully.\n",
      "         Current function value: 0.496312\n",
      "         Iterations 7\n",
      "                         Results: Logit\n",
      "=================================================================\n",
      "Model:              Logit            Pseudo R-squared: 0.276     \n",
      "Dependent Variable: high_ic          AIC:              13734.0521\n",
      "Date:               2021-09-29 09:53 BIC:              13794.3231\n",
      "No. Observations:   13820            Log-Likelihood:   -6859.0   \n",
      "Df Model:           7                LL-Null:          -9476.9   \n",
      "Df Residuals:       13812            LLR p-value:      0.0000    \n",
      "Converged:          1.0000           Scale:            1.0000    \n",
      "No. Iterations:     7.0000                                       \n",
      "-----------------------------------------------------------------\n",
      "                  Coef.  Std.Err.    z     P>|z|   [0.025  0.975]\n",
      "-----------------------------------------------------------------\n",
      "age_gt_45        -1.6687   0.0620 -26.9225 0.0000 -1.7901 -1.5472\n",
      "ic_institut_adj   0.3771   0.0077  49.2291 0.0000  0.3621  0.3921\n",
      "escape_hist_4     1.2009   0.0948  12.6711 0.0000  1.0151  1.3867\n",
      "escape_hist_5     1.7942   0.1998   8.9809 0.0000  1.4026  2.1857\n",
      "mrt_stat_DIV     -2.1306   0.0852 -24.9976 0.0000 -2.2976 -1.9635\n",
      "mrt_stat_SEP     -2.2041   0.1047 -21.0547 0.0000 -2.4093 -1.9989\n",
      "mrt_stat_MAR     -1.8130   0.0687 -26.4018 0.0000 -1.9476 -1.6784\n",
      "mrt_stat_WID     -1.5040   0.1911  -7.8691 0.0000 -1.8786 -1.1294\n",
      "=================================================================\n",
      "\n"
     ]
    }
   ],
   "source": [
    "import statsmodels.api as sm\n",
    "logit_model=sm.Logit(y,X)\n",
    "result=logit_model.fit()\n",
    "print(result.summary2())"
   ]
  },
  {
   "cell_type": "code",
   "execution_count": 37,
   "metadata": {},
   "outputs": [
    {
     "data": {
      "text/html": [
       "<div>\n",
       "<style scoped>\n",
       "    .dataframe tbody tr th:only-of-type {\n",
       "        vertical-align: middle;\n",
       "    }\n",
       "\n",
       "    .dataframe tbody tr th {\n",
       "        vertical-align: top;\n",
       "    }\n",
       "\n",
       "    .dataframe thead th {\n",
       "        text-align: right;\n",
       "    }\n",
       "</style>\n",
       "<table border=\"1\" class=\"dataframe\">\n",
       "  <thead>\n",
       "    <tr style=\"text-align: right;\">\n",
       "      <th></th>\n",
       "      <th>OR</th>\n",
       "      <th>z-value</th>\n",
       "      <th>2.5%</th>\n",
       "      <th>97.5%</th>\n",
       "    </tr>\n",
       "  </thead>\n",
       "  <tbody>\n",
       "    <tr>\n",
       "      <th>age_gt_45</th>\n",
       "      <td>0.188498</td>\n",
       "      <td>1.197615e-159</td>\n",
       "      <td>0.166936</td>\n",
       "      <td>0.212846</td>\n",
       "    </tr>\n",
       "    <tr>\n",
       "      <th>ic_institut_adj</th>\n",
       "      <td>1.458053</td>\n",
       "      <td>0.000000e+00</td>\n",
       "      <td>1.436326</td>\n",
       "      <td>1.480109</td>\n",
       "    </tr>\n",
       "    <tr>\n",
       "      <th>escape_hist_4</th>\n",
       "      <td>3.323122</td>\n",
       "      <td>8.554223e-37</td>\n",
       "      <td>2.759773</td>\n",
       "      <td>4.001466</td>\n",
       "    </tr>\n",
       "    <tr>\n",
       "      <th>escape_hist_5</th>\n",
       "      <td>6.014469</td>\n",
       "      <td>2.686413e-19</td>\n",
       "      <td>4.065810</td>\n",
       "      <td>8.897081</td>\n",
       "    </tr>\n",
       "    <tr>\n",
       "      <th>mrt_stat_DIV</th>\n",
       "      <td>0.118767</td>\n",
       "      <td>6.490911e-138</td>\n",
       "      <td>0.100495</td>\n",
       "      <td>0.140361</td>\n",
       "    </tr>\n",
       "    <tr>\n",
       "      <th>mrt_stat_SEP</th>\n",
       "      <td>0.110352</td>\n",
       "      <td>2.068819e-98</td>\n",
       "      <td>0.089882</td>\n",
       "      <td>0.135484</td>\n",
       "    </tr>\n",
       "    <tr>\n",
       "      <th>mrt_stat_MAR</th>\n",
       "      <td>0.163160</td>\n",
       "      <td>1.307146e-153</td>\n",
       "      <td>0.142613</td>\n",
       "      <td>0.186666</td>\n",
       "    </tr>\n",
       "    <tr>\n",
       "      <th>mrt_stat_WID</th>\n",
       "      <td>0.222237</td>\n",
       "      <td>3.572382e-15</td>\n",
       "      <td>0.152802</td>\n",
       "      <td>0.323226</td>\n",
       "    </tr>\n",
       "  </tbody>\n",
       "</table>\n",
       "</div>"
      ],
      "text/plain": [
       "                       OR        z-value      2.5%     97.5%\n",
       "age_gt_45        0.188498  1.197615e-159  0.166936  0.212846\n",
       "ic_institut_adj  1.458053   0.000000e+00  1.436326  1.480109\n",
       "escape_hist_4    3.323122   8.554223e-37  2.759773  4.001466\n",
       "escape_hist_5    6.014469   2.686413e-19  4.065810  8.897081\n",
       "mrt_stat_DIV     0.118767  6.490911e-138  0.100495  0.140361\n",
       "mrt_stat_SEP     0.110352   2.068819e-98  0.089882  0.135484\n",
       "mrt_stat_MAR     0.163160  1.307146e-153  0.142613  0.186666\n",
       "mrt_stat_WID     0.222237   3.572382e-15  0.152802  0.323226"
      ]
     },
     "execution_count": 37,
     "metadata": {},
     "output_type": "execute_result"
    }
   ],
   "source": [
    "model_odds = pd.DataFrame(np.exp(result.params), columns= ['OR'])\n",
    "model_odds['z-value']= result.pvalues\n",
    "model_odds[['2.5%', '97.5%']] = np.exp(result.conf_int())\n",
    "model_odds"
   ]
  },
  {
   "cell_type": "markdown",
   "metadata": {},
   "source": [
    "## Model fitting"
   ]
  },
  {
   "cell_type": "code",
   "execution_count": 38,
   "metadata": {},
   "outputs": [],
   "source": [
    "from sklearn.linear_model import LogisticRegression\n",
    "from sklearn.model_selection import train_test_split\n",
    "from sklearn import metrics"
   ]
  },
  {
   "cell_type": "code",
   "execution_count": 39,
   "metadata": {},
   "outputs": [
    {
     "data": {
      "text/plain": [
       "LogisticRegression()"
      ]
     },
     "execution_count": 39,
     "metadata": {},
     "output_type": "execute_result"
    }
   ],
   "source": [
    "X_train, X_test, y_train, y_test = train_test_split(X, y, test_size=0.3, random_state=0)\n",
    "logreg = LogisticRegression()\n",
    "logreg.fit(X_train, y_train.values.ravel())"
   ]
  },
  {
   "cell_type": "code",
   "execution_count": 40,
   "metadata": {},
   "outputs": [
    {
     "name": "stdout",
     "output_type": "stream",
     "text": [
      "Accuracy of logistic regression classifier on test set: 0.80\n"
     ]
    }
   ],
   "source": [
    "y_pred = logreg.predict(X_test)\n",
    "print('Accuracy of logistic regression classifier on test set: {:.2f}'.format(logreg.score(X_test, y_test)))"
   ]
  },
  {
   "cell_type": "code",
   "execution_count": 41,
   "metadata": {},
   "outputs": [
    {
     "name": "stdout",
     "output_type": "stream",
     "text": [
      "[[1568  225]\n",
      " [ 620 1733]]\n"
     ]
    }
   ],
   "source": [
    "from sklearn.metrics import confusion_matrix\n",
    "confusion_matrix = confusion_matrix(y_test, y_pred)\n",
    "print(confusion_matrix)"
   ]
  },
  {
   "cell_type": "code",
   "execution_count": 42,
   "metadata": {},
   "outputs": [
    {
     "name": "stdout",
     "output_type": "stream",
     "text": [
      "              precision    recall  f1-score   support\n",
      "\n",
      "           0       0.72      0.87      0.79      1793\n",
      "           1       0.89      0.74      0.80      2353\n",
      "\n",
      "    accuracy                           0.80      4146\n",
      "   macro avg       0.80      0.81      0.80      4146\n",
      "weighted avg       0.81      0.80      0.80      4146\n",
      "\n"
     ]
    }
   ],
   "source": [
    "from sklearn.metrics import classification_report\n",
    "print(classification_report(y_test, y_pred))"
   ]
  },
  {
   "cell_type": "code",
   "execution_count": 43,
   "metadata": {},
   "outputs": [
    {
     "data": {
      "image/png": "[encoded data removed]",
      "text/plain": [
       "<Figure size 432x288 with 1 Axes>"
      ]
     },
     "metadata": {
      "needs_background": "light"
     },
     "output_type": "display_data"
    }
   ],
   "source": [
    "from sklearn.metrics import roc_auc_score\n",
    "from sklearn.metrics import roc_curve\n",
    "logit_roc_auc = roc_auc_score(y_test, logreg.predict(X_test))\n",
    "fpr, tpr, thresholds = roc_curve(y_test, logreg.predict_proba(X_test)[:,1])\n",
    "plt.figure()\n",
    "plt.plot(fpr, tpr, label='Logistic Regression (area = %0.2f)' % logit_roc_auc)\n",
    "plt.plot([0, 1], [0, 1],'r--')\n",
    "plt.xlim([0.0, 1.0])\n",
    "plt.ylim([0.0, 1.05])\n",
    "plt.xlabel('False Positive Rate')\n",
    "plt.ylabel('True Positive Rate')\n",
    "plt.title('Receiver operating characteristic')\n",
    "plt.legend(loc=\"lower right\")\n",
    "plt.show()"
   ]
  },
  {
   "cell_type": "markdown",
   "metadata": {},
   "source": [
    "---\n",
    "\n",
    "## Checking conditions"
   ]
  },
  {
   "cell_type": "markdown",
   "metadata": {},
   "source": [
    "### Continuous IVs linearly related to log odds"
   ]
  },
  {
   "cell_type": "code",
   "execution_count": 44,
   "metadata": {},
   "outputs": [],
   "source": [
    "#gre = sns.regplot(x= 'gre', y= 'admit', data= df, logistic= True).set_title(\"GRE Log Odds Linear Plot\")\n",
    "#gre.figure.savefig(\"gre log lin.png\")\n",
    "\n",
    "#gpa = sns.regplot(x= 'gpa', y= 'admit', data= df, logistic= True).set_title(\"GPA Log Odds Linear Plot\")\n",
    "#gpa.figure.savefig(\"gpa log lin.png\")\n",
    "\n",
    "# Don't have any continuous IVs after feature selection so this condition is trivially/vacuously met"
   ]
  },
  {
   "cell_type": "markdown",
   "metadata": {},
   "source": [
    "### Assumption of Absence of Multicollinearity"
   ]
  },
  {
   "cell_type": "code",
   "execution_count": 45,
   "metadata": {},
   "outputs": [
    {
     "data": {
      "text/html": [
       "<div>\n",
       "<style scoped>\n",
       "    .dataframe tbody tr th:only-of-type {\n",
       "        vertical-align: middle;\n",
       "    }\n",
       "\n",
       "    .dataframe tbody tr th {\n",
       "        vertical-align: top;\n",
       "    }\n",
       "\n",
       "    .dataframe thead th {\n",
       "        text-align: right;\n",
       "    }\n",
       "</style>\n",
       "<table border=\"1\" class=\"dataframe\">\n",
       "  <thead>\n",
       "    <tr style=\"text-align: right;\">\n",
       "      <th></th>\n",
       "      <th>age_gt_45</th>\n",
       "      <th>ic_institut_adj</th>\n",
       "      <th>escape_hist_4</th>\n",
       "      <th>escape_hist_5</th>\n",
       "      <th>mrt_stat_DIV</th>\n",
       "      <th>mrt_stat_SEP</th>\n",
       "      <th>mrt_stat_MAR</th>\n",
       "      <th>mrt_stat_WID</th>\n",
       "    </tr>\n",
       "  </thead>\n",
       "  <tbody>\n",
       "    <tr>\n",
       "      <th>age_gt_45</th>\n",
       "      <td>1.000000</td>\n",
       "      <td>-0.198507</td>\n",
       "      <td>0.030520</td>\n",
       "      <td>-0.040292</td>\n",
       "      <td>0.271554</td>\n",
       "      <td>0.068125</td>\n",
       "      <td>0.100037</td>\n",
       "      <td>0.116616</td>\n",
       "    </tr>\n",
       "    <tr>\n",
       "      <th>ic_institut_adj</th>\n",
       "      <td>-0.198507</td>\n",
       "      <td>1.000000</td>\n",
       "      <td>0.037038</td>\n",
       "      <td>0.083080</td>\n",
       "      <td>-0.114501</td>\n",
       "      <td>-0.059544</td>\n",
       "      <td>-0.094386</td>\n",
       "      <td>-0.039503</td>\n",
       "    </tr>\n",
       "    <tr>\n",
       "      <th>escape_hist_4</th>\n",
       "      <td>0.030520</td>\n",
       "      <td>0.037038</td>\n",
       "      <td>1.000000</td>\n",
       "      <td>0.045124</td>\n",
       "      <td>-0.004655</td>\n",
       "      <td>-0.008942</td>\n",
       "      <td>0.000252</td>\n",
       "      <td>0.009612</td>\n",
       "    </tr>\n",
       "    <tr>\n",
       "      <th>escape_hist_5</th>\n",
       "      <td>-0.040292</td>\n",
       "      <td>0.083080</td>\n",
       "      <td>0.045124</td>\n",
       "      <td>1.000000</td>\n",
       "      <td>-0.016482</td>\n",
       "      <td>-0.012668</td>\n",
       "      <td>-0.004189</td>\n",
       "      <td>-0.011525</td>\n",
       "    </tr>\n",
       "    <tr>\n",
       "      <th>mrt_stat_DIV</th>\n",
       "      <td>0.271554</td>\n",
       "      <td>-0.114501</td>\n",
       "      <td>-0.004655</td>\n",
       "      <td>-0.016482</td>\n",
       "      <td>1.000000</td>\n",
       "      <td>-0.067900</td>\n",
       "      <td>-0.102418</td>\n",
       "      <td>-0.034910</td>\n",
       "    </tr>\n",
       "    <tr>\n",
       "      <th>mrt_stat_SEP</th>\n",
       "      <td>0.068125</td>\n",
       "      <td>-0.059544</td>\n",
       "      <td>-0.008942</td>\n",
       "      <td>-0.012668</td>\n",
       "      <td>-0.067900</td>\n",
       "      <td>1.000000</td>\n",
       "      <td>-0.073604</td>\n",
       "      <td>-0.025089</td>\n",
       "    </tr>\n",
       "    <tr>\n",
       "      <th>mrt_stat_MAR</th>\n",
       "      <td>0.100037</td>\n",
       "      <td>-0.094386</td>\n",
       "      <td>0.000252</td>\n",
       "      <td>-0.004189</td>\n",
       "      <td>-0.102418</td>\n",
       "      <td>-0.073604</td>\n",
       "      <td>1.000000</td>\n",
       "      <td>-0.037843</td>\n",
       "    </tr>\n",
       "    <tr>\n",
       "      <th>mrt_stat_WID</th>\n",
       "      <td>0.116616</td>\n",
       "      <td>-0.039503</td>\n",
       "      <td>0.009612</td>\n",
       "      <td>-0.011525</td>\n",
       "      <td>-0.034910</td>\n",
       "      <td>-0.025089</td>\n",
       "      <td>-0.037843</td>\n",
       "      <td>1.000000</td>\n",
       "    </tr>\n",
       "  </tbody>\n",
       "</table>\n",
       "</div>"
      ],
      "text/plain": [
       "                 age_gt_45  ic_institut_adj  escape_hist_4  escape_hist_5  \\\n",
       "age_gt_45         1.000000        -0.198507       0.030520      -0.040292   \n",
       "ic_institut_adj  -0.198507         1.000000       0.037038       0.083080   \n",
       "escape_hist_4     0.030520         0.037038       1.000000       0.045124   \n",
       "escape_hist_5    -0.040292         0.083080       0.045124       1.000000   \n",
       "mrt_stat_DIV      0.271554        -0.114501      -0.004655      -0.016482   \n",
       "mrt_stat_SEP      0.068125        -0.059544      -0.008942      -0.012668   \n",
       "mrt_stat_MAR      0.100037        -0.094386       0.000252      -0.004189   \n",
       "mrt_stat_WID      0.116616        -0.039503       0.009612      -0.011525   \n",
       "\n",
       "                 mrt_stat_DIV  mrt_stat_SEP  mrt_stat_MAR  mrt_stat_WID  \n",
       "age_gt_45            0.271554      0.068125      0.100037      0.116616  \n",
       "ic_institut_adj     -0.114501     -0.059544     -0.094386     -0.039503  \n",
       "escape_hist_4       -0.004655     -0.008942      0.000252      0.009612  \n",
       "escape_hist_5       -0.016482     -0.012668     -0.004189     -0.011525  \n",
       "mrt_stat_DIV         1.000000     -0.067900     -0.102418     -0.034910  \n",
       "mrt_stat_SEP        -0.067900      1.000000     -0.073604     -0.025089  \n",
       "mrt_stat_MAR        -0.102418     -0.073604      1.000000     -0.037843  \n",
       "mrt_stat_WID        -0.034910     -0.025089     -0.037843      1.000000  "
      ]
     },
     "execution_count": 45,
     "metadata": {},
     "output_type": "execute_result"
    }
   ],
   "source": [
    "X.corr()"
   ]
  },
  {
   "cell_type": "code",
   "execution_count": 46,
   "metadata": {},
   "outputs": [],
   "source": [
    "# Condition is satisfied because that's what RFE does (I think)"
   ]
  },
  {
   "cell_type": "markdown",
   "metadata": {},
   "source": [
    "### Assumption of Lack of Outliers"
   ]
  },
  {
   "cell_type": "code",
   "execution_count": 47,
   "metadata": {},
   "outputs": [],
   "source": [
    "#gpa_rank_box = sns.boxplot(data= df[['gpa', 'rank']]).set_title(\"GPA and Rank Box Plot\")\n",
    "#gpa_rank_box.figure.savefig(\"GPA and Rank Box Plot.png\")\n",
    "\n",
    "#gre_box = sns.boxplot(x= 'gre', data= df, orient= 'v').set_title(\"GRE Box Plot\")\n",
    "#gre_box.figure.savefig(\"GRE Box Plot.png\")\n",
    "\n",
    "# Again, no continuous IVs and so no outliers"
   ]
  },
  {
   "cell_type": "markdown",
   "metadata": {},
   "source": [
    "###  Residuals\n",
    "\n",
    "Based on <a href=\"https://www.pythonfordatascience.org/logistic-regression-python/#test_with_python\">this</a>"
   ]
  },
  {
   "cell_type": "code",
   "execution_count": 48,
   "metadata": {
    "scrolled": true
   },
   "outputs": [
    {
     "name": "stderr",
     "output_type": "stream",
     "text": [
      "/home/ncr006/anaconda2/envs/psapm/lib/python3.8/site-packages/seaborn/_decorators.py:36: FutureWarning: Pass the following variables as keyword args: x, y. From version 0.12, the only valid positional argument will be `data`, and passing other arguments without an explicit keyword will result in an error or misinterpretation.\n",
      "  warnings.warn(\n",
      "/home/ncr006/anaconda2/envs/psapm/lib/python3.8/site-packages/seaborn/_decorators.py:36: FutureWarning: Pass the following variables as keyword args: x, y. From version 0.12, the only valid positional argument will be `data`, and passing other arguments without an explicit keyword will result in an error or misinterpretation.\n",
      "  warnings.warn(\n"
     ]
    },
    {
     "data": {
      "image/png": "[encoded data removed]",
      "text/plain": [
       "<Figure size 1080x1080 with 2 Axes>"
      ]
     },
     "metadata": {
      "needs_background": "light"
     },
     "output_type": "display_data"
    }
   ],
   "source": [
    "## Plotting multiple plots same figure\n",
    "fig, (axL, axR) = plt.subplots(2, figsize=(15, 15))\n",
    "plt.suptitle(\"Logistic Regression Residual Plots \\n using Seaborn Lowess line (N = 400)\")\n",
    "\n",
    "\n",
    "# Deviance Residuals\n",
    "sns.regplot(result.fittedvalues, result.resid_dev, ax= axL,\n",
    "            color=\"black\", scatter_kws={\"s\": 5},\n",
    "            line_kws={\"color\":\"b\", \"alpha\":1, \"lw\":2}, lowess=True)\n",
    "\n",
    "axL.set_title(\"Deviance Residuals \\n against Fitted Values\")\n",
    "axL.set_xlabel(\"Linear Predictor Values\")\n",
    "axL.set_ylabel(\"Deviance Residuals\")\n",
    "\n",
    "# Studentized Pearson Residuals\n",
    "sns.regplot(result.fittedvalues, result.resid_pearson, ax= axR,\n",
    "            color=\"black\", scatter_kws={\"s\": 5},\n",
    "            line_kws={\"color\":\"g\", \"alpha\":1, \"lw\":2}, lowess=True)\n",
    "\n",
    "axR.set_title(\"Studentized Pearson Residuals \\n against Fitted Values\")\n",
    "axR.set_xlabel(\"Linear Predictor Values\")\n",
    "axR.set_ylabel(\"Studentized Pearson Residuals\")\n",
    "\n",
    "plt.show()"
   ]
  },
  {
   "cell_type": "code",
   "execution_count": 49,
   "metadata": {},
   "outputs": [],
   "source": [
    "# We see that the second line is pretty straight and has y-intercept close to 0"
   ]
  },
  {
   "cell_type": "markdown",
   "metadata": {},
   "source": [
    "---\n",
    "\n",
    "## Adding in other variables to control\n",
    "\n"
   ]
  },
  {
   "cell_type": "code",
   "execution_count": 50,
   "metadata": {},
   "outputs": [],
   "source": [
    "data_control = data_final"
   ]
  },
  {
   "cell_type": "code",
   "execution_count": 51,
   "metadata": {
    "scrolled": true
   },
   "outputs": [
    {
     "name": "stdout",
     "output_type": "stream",
     "text": [
      "Optimization terminated successfully.\n",
      "         Current function value: 0.435310\n",
      "         Iterations 7\n",
      "                         Results: Logit\n",
      "=================================================================\n",
      "Model:              Logit            Pseudo R-squared: 0.365     \n",
      "Dependent Variable: high_ic          AIC:              12063.9729\n",
      "Date:               2021-09-29 09:54 BIC:              12184.5148\n",
      "No. Observations:   13820            Log-Likelihood:   -6016.0   \n",
      "Df Model:           15               LL-Null:          -9476.9   \n",
      "Df Residuals:       13804            LLR p-value:      0.0000    \n",
      "Converged:          1.0000           Scale:            1.0000    \n",
      "No. Iterations:     7.0000                                       \n",
      "-----------------------------------------------------------------\n",
      "                  Coef.  Std.Err.    z     P>|z|   [0.025  0.975]\n",
      "-----------------------------------------------------------------\n",
      "age_gt_45        -1.3108   0.0704 -18.6069 0.0000 -1.4489 -1.1727\n",
      "ic_institut_adj   0.7270   0.0185  39.2805 0.0000  0.6907  0.7633\n",
      "escape_hist_1    -1.0665   0.0494 -21.5888 0.0000 -1.1633 -0.9697\n",
      "escape_hist_4     1.0204   0.1028   9.9212 0.0000  0.8188  1.2220\n",
      "escape_hist_5     1.3516   0.2067   6.5405 0.0000  0.9466  1.7566\n",
      "mrt_stat_DIV     -1.8330   0.0965 -18.9980 0.0000 -2.0221 -1.6439\n",
      "mrt_stat_SEP     -1.9699   0.1175 -16.7611 0.0000 -2.2003 -1.7396\n",
      "mrt_stat_MAR     -1.4632   0.0787 -18.5934 0.0000 -1.6175 -1.3090\n",
      "mrt_stat_WID     -0.9871   0.2040  -4.8385 0.0000 -1.3869 -0.5872\n",
      "employed         -1.1236   0.0552 -20.3536 0.0000 -1.2318 -1.0154\n",
      "race_B            0.2694   0.0474   5.6836 0.0000  0.1765  0.3622\n",
      "off_1_gs_max     -0.0328   0.0056  -5.8233 0.0000 -0.0438 -0.0217\n",
      "off_1_prs_max    -0.0429   0.0193  -2.2208 0.0264 -0.0807 -0.0050\n",
      "prior_commits    -0.0580   0.0074  -7.8291 0.0000 -0.0725 -0.0435\n",
      "age_lt_25         0.3640   0.0609   5.9750 0.0000  0.2446  0.4834\n",
      "gender_female    -1.0636   0.1253  -8.4885 0.0000 -1.3092 -0.8180\n",
      "=================================================================\n",
      "\n",
      "                       OR        z-value      2.5%     97.5%\n",
      "age_gt_45        0.269607   2.824524e-77  0.234838  0.309525\n",
      "ic_institut_adj  2.068884   0.000000e+00  1.995179  2.145311\n",
      "escape_hist_1    0.344211  2.290761e-103  0.312446  0.379206\n",
      "escape_hist_4    2.774246   3.367231e-23  2.267776  3.393827\n",
      "escape_hist_5    3.863606   6.131861e-11  2.576860  5.792884\n",
      "mrt_stat_DIV     0.159938   1.772909e-80  0.132381  0.193232\n",
      "mrt_stat_SEP     0.139467   4.694895e-63  0.110772  0.175595\n",
      "mrt_stat_MAR     0.231488   3.635715e-77  0.198400  0.270094\n",
      "mrt_stat_WID     0.372669   1.308271e-06  0.249848  0.555867\n",
      "employed         0.325104   4.310667e-92  0.291764  0.362253\n",
      "race_B           1.309119   1.319188e-08  1.192996  1.436544\n",
      "off_1_gs_max     0.967780   5.769011e-09  0.957170  0.978507\n",
      "off_1_prs_max    0.958045   2.636157e-02  0.922483  0.994978\n",
      "prior_commits    0.943662   4.912688e-15  0.930063  0.957461\n",
      "age_lt_25        1.439081   2.300800e-09  1.277112  1.621591\n",
      "gender_female    0.345198   2.092421e-17  0.270029  0.441292\n",
      "Accuracy of logistic regression classifier on test set: 0.84\n",
      "[[1439  354]\n",
      " [ 303 2050]]\n",
      "              precision    recall  f1-score   support\n",
      "\n",
      "           0       0.83      0.80      0.81      1793\n",
      "           1       0.85      0.87      0.86      2353\n",
      "\n",
      "    accuracy                           0.84      4146\n",
      "   macro avg       0.84      0.84      0.84      4146\n",
      "weighted avg       0.84      0.84      0.84      4146\n",
      "\n"
     ]
    },
    {
     "name": "stderr",
     "output_type": "stream",
     "text": [
      "/home/ncr006/anaconda2/envs/psapm/lib/python3.8/site-packages/sklearn/linear_model/_logistic.py:763: ConvergenceWarning: lbfgs failed to converge (status=1):\n",
      "STOP: TOTAL NO. of ITERATIONS REACHED LIMIT.\n",
      "\n",
      "Increase the number of iterations (max_iter) or scale the data as shown in:\n",
      "    https://scikit-learn.org/stable/modules/preprocessing.html\n",
      "Please also refer to the documentation for alternative solver options:\n",
      "    https://scikit-learn.org/stable/modules/linear_model.html#logistic-regression\n",
      "  n_iter_i = _check_optimize_result(\n"
     ]
    },
    {
     "data": {
      "image/png": "[encoded data removed]",
      "text/plain": [
       "<Figure size 432x288 with 1 Axes>"
      ]
     },
     "metadata": {
      "needs_background": "light"
     },
     "output_type": "display_data"
    }
   ],
   "source": [
    "data_control_vars=data_final.columns.values.tolist()\n",
    "yvars = ['high_ic']\n",
    "Xvars = [i for i in data_final_vars if i not in y]\n",
    "X = data_control.loc[:, data_control.columns != 'high_ic']\n",
    "y = data_control.loc[:, data_control.columns == 'high_ic']\n",
    "ll = ['age_gt_45',\n",
    " 'ic_institut_adj',\n",
    " 'escape_hist_1',\n",
    " 'escape_hist_4',\n",
    " 'escape_hist_5',\n",
    " 'mrt_stat_DIV',\n",
    " 'mrt_stat_SEP',\n",
    " 'mrt_stat_MAR',\n",
    " 'mrt_stat_WID',\n",
    " 'employed']\n",
    "ll.append('race_B')\n",
    "ll.append('off_1_gs_max')\n",
    "ll.append('off_1_prs_max')\n",
    "ll.append('prior_commits')\n",
    "ll.append('age_lt_25')\n",
    "ll.append('gender_female')\n",
    "X = X[ll]\n",
    "logit_model=sm.Logit(y,X)\n",
    "result=logit_model.fit()\n",
    "print(result.summary2())\n",
    "\n",
    "model_odds = pd.DataFrame(np.exp(result.params), columns= ['OR'])\n",
    "model_odds['z-value']= result.pvalues\n",
    "model_odds[['2.5%', '97.5%']] = np.exp(result.conf_int())\n",
    "print(model_odds)\n",
    "\n",
    "X_train, X_test, y_train, y_test = train_test_split(X, y, test_size=0.3, random_state=0)\n",
    "logreg = LogisticRegression()\n",
    "logreg.fit(X_train, y_train.values.ravel())\n",
    "y_pred = logreg.predict(X_test)\n",
    "print('Accuracy of logistic regression classifier on test set: {:.2f}'.format(logreg.score(X_test, y_test)))\n",
    "\n",
    "from sklearn.metrics import confusion_matrix\n",
    "cm = confusion_matrix(y_test, y_pred)\n",
    "print(cm)\n",
    "\n",
    "print(classification_report(y_test, y_pred))\n",
    "\n",
    "logit_roc_auc = roc_auc_score(y_test, logreg.predict(X_test))\n",
    "fpr, tpr, thresholds = roc_curve(y_test, logreg.predict_proba(X_test)[:,1])\n",
    "plt.figure()\n",
    "plt.plot(fpr, tpr, label='Logistic Regression (area = %0.2f)' % logit_roc_auc)\n",
    "plt.plot([0, 1], [0, 1],'r--')\n",
    "plt.xlim([0.0, 1.0])\n",
    "plt.ylim([0.0, 1.05])\n",
    "plt.xlabel('False Positive Rate')\n",
    "plt.ylabel('True Positive Rate')\n",
    "plt.title('Receiver operating characteristic')\n",
    "plt.legend(loc=\"lower right\")\n",
    "plt.show()\n"
   ]
  },
  {
   "cell_type": "code",
   "execution_count": 52,
   "metadata": {},
   "outputs": [
    {
     "data": {
      "image/png": "[encoded data removed]",
      "text/plain": [
       "<Figure size 432x288 with 1 Axes>"
      ]
     },
     "metadata": {
      "needs_background": "light"
     },
     "output_type": "display_data"
    }
   ],
   "source": [
    "gs = sns.regplot(x= 'off_1_gs_max', y= 'high_ic', data= data_control, logistic= True).set_title(\"GS Log Odds Linear Plot\")\n",
    "\n",
    "plt.show()\n",
    "\n"
   ]
  },
  {
   "cell_type": "code",
   "execution_count": 53,
   "metadata": {},
   "outputs": [
    {
     "data": {
      "image/png": "[encoded data removed]",
      "text/plain": [
       "<Figure size 432x288 with 1 Axes>"
      ]
     },
     "metadata": {
      "needs_background": "light"
     },
     "output_type": "display_data"
    }
   ],
   "source": [
    "prs = sns.regplot(x= 'off_1_prs_max', y= 'high_ic', data= data_control, logistic= True).set_title(\"PRS Log Odds Linear Plot\")\n",
    "\n",
    "plt.show()"
   ]
  },
  {
   "cell_type": "code",
   "execution_count": 54,
   "metadata": {},
   "outputs": [
    {
     "data": {
      "image/png": "[encoded data removed]",
      "text/plain": [
       "<Figure size 432x288 with 1 Axes>"
      ]
     },
     "metadata": {
      "needs_background": "light"
     },
     "output_type": "display_data"
    }
   ],
   "source": [
    "pc = sns.regplot(x= 'prior_commits', y= 'high_ic', data= data_control, logistic= True).set_title(\"Prior Commits Log Odds Linear Plot\")\n",
    "\n",
    "plt.show()"
   ]
  },
  {
   "cell_type": "code",
   "execution_count": 55,
   "metadata": {},
   "outputs": [],
   "source": [
    "# should be looking for something consistent with an S-shaped curve\n",
    "# these all seem to have it"
   ]
  },
  {
   "cell_type": "code",
   "execution_count": 56,
   "metadata": {},
   "outputs": [
    {
     "data": {
      "text/html": [
       "<div>\n",
       "<style scoped>\n",
       "    .dataframe tbody tr th:only-of-type {\n",
       "        vertical-align: middle;\n",
       "    }\n",
       "\n",
       "    .dataframe tbody tr th {\n",
       "        vertical-align: top;\n",
       "    }\n",
       "\n",
       "    .dataframe thead th {\n",
       "        text-align: right;\n",
       "    }\n",
       "</style>\n",
       "<table border=\"1\" class=\"dataframe\">\n",
       "  <thead>\n",
       "    <tr style=\"text-align: right;\">\n",
       "      <th></th>\n",
       "      <th>age_gt_45</th>\n",
       "      <th>ic_institut_adj</th>\n",
       "      <th>escape_hist_1</th>\n",
       "      <th>escape_hist_4</th>\n",
       "      <th>escape_hist_5</th>\n",
       "      <th>mrt_stat_DIV</th>\n",
       "      <th>mrt_stat_SEP</th>\n",
       "      <th>mrt_stat_MAR</th>\n",
       "      <th>mrt_stat_WID</th>\n",
       "      <th>employed</th>\n",
       "      <th>race_B</th>\n",
       "      <th>off_1_gs_max</th>\n",
       "      <th>off_1_prs_max</th>\n",
       "      <th>prior_commits</th>\n",
       "      <th>age_lt_25</th>\n",
       "      <th>gender_female</th>\n",
       "    </tr>\n",
       "  </thead>\n",
       "  <tbody>\n",
       "    <tr>\n",
       "      <th>age_gt_45</th>\n",
       "      <td>1.000000</td>\n",
       "      <td>-0.198507</td>\n",
       "      <td>0.036476</td>\n",
       "      <td>0.030520</td>\n",
       "      <td>-0.040292</td>\n",
       "      <td>0.271554</td>\n",
       "      <td>0.068125</td>\n",
       "      <td>0.100037</td>\n",
       "      <td>0.116616</td>\n",
       "      <td>0.114331</td>\n",
       "      <td>-0.103432</td>\n",
       "      <td>-0.097230</td>\n",
       "      <td>0.067206</td>\n",
       "      <td>0.203317</td>\n",
       "      <td>-0.249919</td>\n",
       "      <td>0.006164</td>\n",
       "    </tr>\n",
       "    <tr>\n",
       "      <th>ic_institut_adj</th>\n",
       "      <td>-0.198507</td>\n",
       "      <td>1.000000</td>\n",
       "      <td>-0.069811</td>\n",
       "      <td>0.037038</td>\n",
       "      <td>0.083080</td>\n",
       "      <td>-0.114501</td>\n",
       "      <td>-0.059544</td>\n",
       "      <td>-0.094386</td>\n",
       "      <td>-0.039503</td>\n",
       "      <td>-0.157653</td>\n",
       "      <td>0.141643</td>\n",
       "      <td>0.075736</td>\n",
       "      <td>-0.004466</td>\n",
       "      <td>-0.037940</td>\n",
       "      <td>0.238882</td>\n",
       "      <td>-0.012788</td>\n",
       "    </tr>\n",
       "    <tr>\n",
       "      <th>escape_hist_1</th>\n",
       "      <td>0.036476</td>\n",
       "      <td>-0.069811</td>\n",
       "      <td>1.000000</td>\n",
       "      <td>-0.273208</td>\n",
       "      <td>-0.164016</td>\n",
       "      <td>0.039969</td>\n",
       "      <td>0.022940</td>\n",
       "      <td>0.025101</td>\n",
       "      <td>0.019692</td>\n",
       "      <td>0.116087</td>\n",
       "      <td>-0.062309</td>\n",
       "      <td>0.104968</td>\n",
       "      <td>-0.122550</td>\n",
       "      <td>-0.334841</td>\n",
       "      <td>0.073570</td>\n",
       "      <td>0.023996</td>\n",
       "    </tr>\n",
       "    <tr>\n",
       "      <th>escape_hist_4</th>\n",
       "      <td>0.030520</td>\n",
       "      <td>0.037038</td>\n",
       "      <td>-0.273208</td>\n",
       "      <td>1.000000</td>\n",
       "      <td>0.045124</td>\n",
       "      <td>-0.004655</td>\n",
       "      <td>-0.008942</td>\n",
       "      <td>0.000252</td>\n",
       "      <td>0.009612</td>\n",
       "      <td>-0.030802</td>\n",
       "      <td>0.014316</td>\n",
       "      <td>-0.055733</td>\n",
       "      <td>0.037850</td>\n",
       "      <td>0.253162</td>\n",
       "      <td>-0.077898</td>\n",
       "      <td>-0.026452</td>\n",
       "    </tr>\n",
       "    <tr>\n",
       "      <th>escape_hist_5</th>\n",
       "      <td>-0.040292</td>\n",
       "      <td>0.083080</td>\n",
       "      <td>-0.164016</td>\n",
       "      <td>0.045124</td>\n",
       "      <td>1.000000</td>\n",
       "      <td>-0.016482</td>\n",
       "      <td>-0.012668</td>\n",
       "      <td>-0.004189</td>\n",
       "      <td>-0.011525</td>\n",
       "      <td>-0.035505</td>\n",
       "      <td>0.002186</td>\n",
       "      <td>-0.053057</td>\n",
       "      <td>-0.003058</td>\n",
       "      <td>0.029621</td>\n",
       "      <td>0.031411</td>\n",
       "      <td>-0.013529</td>\n",
       "    </tr>\n",
       "    <tr>\n",
       "      <th>mrt_stat_DIV</th>\n",
       "      <td>0.271554</td>\n",
       "      <td>-0.114501</td>\n",
       "      <td>0.039969</td>\n",
       "      <td>-0.004655</td>\n",
       "      <td>-0.016482</td>\n",
       "      <td>1.000000</td>\n",
       "      <td>-0.067900</td>\n",
       "      <td>-0.102418</td>\n",
       "      <td>-0.034910</td>\n",
       "      <td>0.112184</td>\n",
       "      <td>-0.177678</td>\n",
       "      <td>-0.035686</td>\n",
       "      <td>-0.029034</td>\n",
       "      <td>0.036463</td>\n",
       "      <td>-0.171299</td>\n",
       "      <td>0.002701</td>\n",
       "    </tr>\n",
       "    <tr>\n",
       "      <th>mrt_stat_SEP</th>\n",
       "      <td>0.068125</td>\n",
       "      <td>-0.059544</td>\n",
       "      <td>0.022940</td>\n",
       "      <td>-0.008942</td>\n",
       "      <td>-0.012668</td>\n",
       "      <td>-0.067900</td>\n",
       "      <td>1.000000</td>\n",
       "      <td>-0.073604</td>\n",
       "      <td>-0.025089</td>\n",
       "      <td>0.056770</td>\n",
       "      <td>-0.069984</td>\n",
       "      <td>-0.025547</td>\n",
       "      <td>-0.005044</td>\n",
       "      <td>0.018171</td>\n",
       "      <td>-0.112104</td>\n",
       "      <td>0.018422</td>\n",
       "    </tr>\n",
       "    <tr>\n",
       "      <th>mrt_stat_MAR</th>\n",
       "      <td>0.100037</td>\n",
       "      <td>-0.094386</td>\n",
       "      <td>0.025101</td>\n",
       "      <td>0.000252</td>\n",
       "      <td>-0.004189</td>\n",
       "      <td>-0.102418</td>\n",
       "      <td>-0.073604</td>\n",
       "      <td>1.000000</td>\n",
       "      <td>-0.037843</td>\n",
       "      <td>0.138024</td>\n",
       "      <td>-0.069875</td>\n",
       "      <td>0.001788</td>\n",
       "      <td>0.016936</td>\n",
       "      <td>0.015867</td>\n",
       "      <td>-0.150296</td>\n",
       "      <td>0.012111</td>\n",
       "    </tr>\n",
       "    <tr>\n",
       "      <th>mrt_stat_WID</th>\n",
       "      <td>0.116616</td>\n",
       "      <td>-0.039503</td>\n",
       "      <td>0.019692</td>\n",
       "      <td>0.009612</td>\n",
       "      <td>-0.011525</td>\n",
       "      <td>-0.034910</td>\n",
       "      <td>-0.025089</td>\n",
       "      <td>-0.037843</td>\n",
       "      <td>1.000000</td>\n",
       "      <td>0.042457</td>\n",
       "      <td>-0.043925</td>\n",
       "      <td>0.012377</td>\n",
       "      <td>-0.010303</td>\n",
       "      <td>0.012312</td>\n",
       "      <td>-0.060120</td>\n",
       "      <td>0.063709</td>\n",
       "    </tr>\n",
       "    <tr>\n",
       "      <th>employed</th>\n",
       "      <td>0.114331</td>\n",
       "      <td>-0.157653</td>\n",
       "      <td>0.116087</td>\n",
       "      <td>-0.030802</td>\n",
       "      <td>-0.035505</td>\n",
       "      <td>0.112184</td>\n",
       "      <td>0.056770</td>\n",
       "      <td>0.138024</td>\n",
       "      <td>0.042457</td>\n",
       "      <td>1.000000</td>\n",
       "      <td>-0.127717</td>\n",
       "      <td>-0.034391</td>\n",
       "      <td>-0.039653</td>\n",
       "      <td>-0.058335</td>\n",
       "      <td>-0.181614</td>\n",
       "      <td>-0.001282</td>\n",
       "    </tr>\n",
       "    <tr>\n",
       "      <th>race_B</th>\n",
       "      <td>-0.103432</td>\n",
       "      <td>0.141643</td>\n",
       "      <td>-0.062309</td>\n",
       "      <td>0.014316</td>\n",
       "      <td>0.002186</td>\n",
       "      <td>-0.177678</td>\n",
       "      <td>-0.069984</td>\n",
       "      <td>-0.069875</td>\n",
       "      <td>-0.043925</td>\n",
       "      <td>-0.127717</td>\n",
       "      <td>1.000000</td>\n",
       "      <td>0.193369</td>\n",
       "      <td>0.099551</td>\n",
       "      <td>-0.016154</td>\n",
       "      <td>0.183912</td>\n",
       "      <td>-0.053139</td>\n",
       "    </tr>\n",
       "    <tr>\n",
       "      <th>off_1_gs_max</th>\n",
       "      <td>-0.097230</td>\n",
       "      <td>0.075736</td>\n",
       "      <td>0.104968</td>\n",
       "      <td>-0.055733</td>\n",
       "      <td>-0.053057</td>\n",
       "      <td>-0.035686</td>\n",
       "      <td>-0.025547</td>\n",
       "      <td>0.001788</td>\n",
       "      <td>0.012377</td>\n",
       "      <td>-0.034391</td>\n",
       "      <td>0.193369</td>\n",
       "      <td>1.000000</td>\n",
       "      <td>0.011660</td>\n",
       "      <td>-0.235816</td>\n",
       "      <td>0.123545</td>\n",
       "      <td>-0.024228</td>\n",
       "    </tr>\n",
       "    <tr>\n",
       "      <th>off_1_prs_max</th>\n",
       "      <td>0.067206</td>\n",
       "      <td>-0.004466</td>\n",
       "      <td>-0.122550</td>\n",
       "      <td>0.037850</td>\n",
       "      <td>-0.003058</td>\n",
       "      <td>-0.029034</td>\n",
       "      <td>-0.005044</td>\n",
       "      <td>0.016936</td>\n",
       "      <td>-0.010303</td>\n",
       "      <td>-0.039653</td>\n",
       "      <td>0.099551</td>\n",
       "      <td>0.011660</td>\n",
       "      <td>1.000000</td>\n",
       "      <td>0.229316</td>\n",
       "      <td>-0.080020</td>\n",
       "      <td>-0.054727</td>\n",
       "    </tr>\n",
       "    <tr>\n",
       "      <th>prior_commits</th>\n",
       "      <td>0.203317</td>\n",
       "      <td>-0.037940</td>\n",
       "      <td>-0.334841</td>\n",
       "      <td>0.253162</td>\n",
       "      <td>0.029621</td>\n",
       "      <td>0.036463</td>\n",
       "      <td>0.018171</td>\n",
       "      <td>0.015867</td>\n",
       "      <td>0.012312</td>\n",
       "      <td>-0.058335</td>\n",
       "      <td>-0.016154</td>\n",
       "      <td>-0.235816</td>\n",
       "      <td>0.229316</td>\n",
       "      <td>1.000000</td>\n",
       "      <td>-0.257277</td>\n",
       "      <td>-0.033617</td>\n",
       "    </tr>\n",
       "    <tr>\n",
       "      <th>age_lt_25</th>\n",
       "      <td>-0.249919</td>\n",
       "      <td>0.238882</td>\n",
       "      <td>0.073570</td>\n",
       "      <td>-0.077898</td>\n",
       "      <td>0.031411</td>\n",
       "      <td>-0.171299</td>\n",
       "      <td>-0.112104</td>\n",
       "      <td>-0.150296</td>\n",
       "      <td>-0.060120</td>\n",
       "      <td>-0.181614</td>\n",
       "      <td>0.183912</td>\n",
       "      <td>0.123545</td>\n",
       "      <td>-0.080020</td>\n",
       "      <td>-0.257277</td>\n",
       "      <td>1.000000</td>\n",
       "      <td>-0.042193</td>\n",
       "    </tr>\n",
       "    <tr>\n",
       "      <th>gender_female</th>\n",
       "      <td>0.006164</td>\n",
       "      <td>-0.012788</td>\n",
       "      <td>0.023996</td>\n",
       "      <td>-0.026452</td>\n",
       "      <td>-0.013529</td>\n",
       "      <td>0.002701</td>\n",
       "      <td>0.018422</td>\n",
       "      <td>0.012111</td>\n",
       "      <td>0.063709</td>\n",
       "      <td>-0.001282</td>\n",
       "      <td>-0.053139</td>\n",
       "      <td>-0.024228</td>\n",
       "      <td>-0.054727</td>\n",
       "      <td>-0.033617</td>\n",
       "      <td>-0.042193</td>\n",
       "      <td>1.000000</td>\n",
       "    </tr>\n",
       "  </tbody>\n",
       "</table>\n",
       "</div>"
      ],
      "text/plain": [
       "                 age_gt_45  ic_institut_adj  escape_hist_1  escape_hist_4  \\\n",
       "age_gt_45         1.000000        -0.198507       0.036476       0.030520   \n",
       "ic_institut_adj  -0.198507         1.000000      -0.069811       0.037038   \n",
       "escape_hist_1     0.036476        -0.069811       1.000000      -0.273208   \n",
       "escape_hist_4     0.030520         0.037038      -0.273208       1.000000   \n",
       "escape_hist_5    -0.040292         0.083080      -0.164016       0.045124   \n",
       "mrt_stat_DIV      0.271554        -0.114501       0.039969      -0.004655   \n",
       "mrt_stat_SEP      0.068125        -0.059544       0.022940      -0.008942   \n",
       "mrt_stat_MAR      0.100037        -0.094386       0.025101       0.000252   \n",
       "mrt_stat_WID      0.116616        -0.039503       0.019692       0.009612   \n",
       "employed          0.114331        -0.157653       0.116087      -0.030802   \n",
       "race_B           -0.103432         0.141643      -0.062309       0.014316   \n",
       "off_1_gs_max     -0.097230         0.075736       0.104968      -0.055733   \n",
       "off_1_prs_max     0.067206        -0.004466      -0.122550       0.037850   \n",
       "prior_commits     0.203317        -0.037940      -0.334841       0.253162   \n",
       "age_lt_25        -0.249919         0.238882       0.073570      -0.077898   \n",
       "gender_female     0.006164        -0.012788       0.023996      -0.026452   \n",
       "\n",
       "                 escape_hist_5  mrt_stat_DIV  mrt_stat_SEP  mrt_stat_MAR  \\\n",
       "age_gt_45            -0.040292      0.271554      0.068125      0.100037   \n",
       "ic_institut_adj       0.083080     -0.114501     -0.059544     -0.094386   \n",
       "escape_hist_1        -0.164016      0.039969      0.022940      0.025101   \n",
       "escape_hist_4         0.045124     -0.004655     -0.008942      0.000252   \n",
       "escape_hist_5         1.000000     -0.016482     -0.012668     -0.004189   \n",
       "mrt_stat_DIV         -0.016482      1.000000     -0.067900     -0.102418   \n",
       "mrt_stat_SEP         -0.012668     -0.067900      1.000000     -0.073604   \n",
       "mrt_stat_MAR         -0.004189     -0.102418     -0.073604      1.000000   \n",
       "mrt_stat_WID         -0.011525     -0.034910     -0.025089     -0.037843   \n",
       "employed             -0.035505      0.112184      0.056770      0.138024   \n",
       "race_B                0.002186     -0.177678     -0.069984     -0.069875   \n",
       "off_1_gs_max         -0.053057     -0.035686     -0.025547      0.001788   \n",
       "off_1_prs_max        -0.003058     -0.029034     -0.005044      0.016936   \n",
       "prior_commits         0.029621      0.036463      0.018171      0.015867   \n",
       "age_lt_25             0.031411     -0.171299     -0.112104     -0.150296   \n",
       "gender_female        -0.013529      0.002701      0.018422      0.012111   \n",
       "\n",
       "                 mrt_stat_WID  employed    race_B  off_1_gs_max  \\\n",
       "age_gt_45            0.116616  0.114331 -0.103432     -0.097230   \n",
       "ic_institut_adj     -0.039503 -0.157653  0.141643      0.075736   \n",
       "escape_hist_1        0.019692  0.116087 -0.062309      0.104968   \n",
       "escape_hist_4        0.009612 -0.030802  0.014316     -0.055733   \n",
       "escape_hist_5       -0.011525 -0.035505  0.002186     -0.053057   \n",
       "mrt_stat_DIV        -0.034910  0.112184 -0.177678     -0.035686   \n",
       "mrt_stat_SEP        -0.025089  0.056770 -0.069984     -0.025547   \n",
       "mrt_stat_MAR        -0.037843  0.138024 -0.069875      0.001788   \n",
       "mrt_stat_WID         1.000000  0.042457 -0.043925      0.012377   \n",
       "employed             0.042457  1.000000 -0.127717     -0.034391   \n",
       "race_B              -0.043925 -0.127717  1.000000      0.193369   \n",
       "off_1_gs_max         0.012377 -0.034391  0.193369      1.000000   \n",
       "off_1_prs_max       -0.010303 -0.039653  0.099551      0.011660   \n",
       "prior_commits        0.012312 -0.058335 -0.016154     -0.235816   \n",
       "age_lt_25           -0.060120 -0.181614  0.183912      0.123545   \n",
       "gender_female        0.063709 -0.001282 -0.053139     -0.024228   \n",
       "\n",
       "                 off_1_prs_max  prior_commits  age_lt_25  gender_female  \n",
       "age_gt_45             0.067206       0.203317  -0.249919       0.006164  \n",
       "ic_institut_adj      -0.004466      -0.037940   0.238882      -0.012788  \n",
       "escape_hist_1        -0.122550      -0.334841   0.073570       0.023996  \n",
       "escape_hist_4         0.037850       0.253162  -0.077898      -0.026452  \n",
       "escape_hist_5        -0.003058       0.029621   0.031411      -0.013529  \n",
       "mrt_stat_DIV         -0.029034       0.036463  -0.171299       0.002701  \n",
       "mrt_stat_SEP         -0.005044       0.018171  -0.112104       0.018422  \n",
       "mrt_stat_MAR          0.016936       0.015867  -0.150296       0.012111  \n",
       "mrt_stat_WID         -0.010303       0.012312  -0.060120       0.063709  \n",
       "employed             -0.039653      -0.058335  -0.181614      -0.001282  \n",
       "race_B                0.099551      -0.016154   0.183912      -0.053139  \n",
       "off_1_gs_max          0.011660      -0.235816   0.123545      -0.024228  \n",
       "off_1_prs_max         1.000000       0.229316  -0.080020      -0.054727  \n",
       "prior_commits         0.229316       1.000000  -0.257277      -0.033617  \n",
       "age_lt_25            -0.080020      -0.257277   1.000000      -0.042193  \n",
       "gender_female        -0.054727      -0.033617  -0.042193       1.000000  "
      ]
     },
     "execution_count": 56,
     "metadata": {},
     "output_type": "execute_result"
    }
   ],
   "source": [
    "data_control[ll].corr()"
   ]
  },
  {
   "cell_type": "code",
   "execution_count": 57,
   "metadata": {},
   "outputs": [],
   "source": [
    "# all are in [-.3, .3]"
   ]
  },
  {
   "cell_type": "code",
   "execution_count": 58,
   "metadata": {},
   "outputs": [
    {
     "data": {
      "image/png": "[encoded data removed]",
      "text/plain": [
       "<Figure size 432x288 with 1 Axes>"
      ]
     },
     "metadata": {
      "needs_background": "light"
     },
     "output_type": "display_data"
    }
   ],
   "source": [
    "gs_rank_box = sns.boxplot(data= data_control[ll][['off_1_gs_max', 'off_1_prs_max','prior_commits']]).set_title(\"Box Plot\")\n",
    "\n",
    "plt.show()"
   ]
  },
  {
   "cell_type": "code",
   "execution_count": 59,
   "metadata": {},
   "outputs": [
    {
     "data": {
      "text/plain": [
       "count    13820.000000\n",
       "mean         3.284877\n",
       "std          3.399891\n",
       "min          0.000000\n",
       "25%          1.000000\n",
       "50%          2.000000\n",
       "75%          5.000000\n",
       "max         42.000000\n",
       "Name: prior_commits, dtype: float64"
      ]
     },
     "execution_count": 59,
     "metadata": {},
     "output_type": "execute_result"
    }
   ],
   "source": [
    "data_control['prior_commits'].describe()"
   ]
  },
  {
   "cell_type": "code",
   "execution_count": 61,
   "metadata": {},
   "outputs": [],
   "source": [
    "outlier = data_control[data_control['prior_commits']>11]"
   ]
  },
  {
   "cell_type": "code",
   "execution_count": 62,
   "metadata": {},
   "outputs": [
    {
     "data": {
      "text/html": [
       "<div>\n",
       "<style scoped>\n",
       "    .dataframe tbody tr th:only-of-type {\n",
       "        vertical-align: middle;\n",
       "    }\n",
       "\n",
       "    .dataframe tbody tr th {\n",
       "        vertical-align: top;\n",
       "    }\n",
       "\n",
       "    .dataframe thead th {\n",
       "        text-align: right;\n",
       "    }\n",
       "</style>\n",
       "<table border=\"1\" class=\"dataframe\">\n",
       "  <thead>\n",
       "    <tr style=\"text-align: right;\">\n",
       "      <th></th>\n",
       "      <th>gender_female</th>\n",
       "      <th>age_gt_45</th>\n",
       "      <th>age_lt_25</th>\n",
       "      <th>race_B</th>\n",
       "      <th>race_A</th>\n",
       "      <th>race_H</th>\n",
       "      <th>race_I</th>\n",
       "      <th>race_O</th>\n",
       "      <th>off_1_prs_max</th>\n",
       "      <th>off_1_gs_max</th>\n",
       "      <th>...</th>\n",
       "      <th>escape_hist_3</th>\n",
       "      <th>escape_hist_4</th>\n",
       "      <th>escape_hist_5</th>\n",
       "      <th>mrt_stat_DIV</th>\n",
       "      <th>mrt_stat_SEP</th>\n",
       "      <th>mrt_stat_MAR</th>\n",
       "      <th>mrt_stat_WID</th>\n",
       "      <th>employed</th>\n",
       "      <th>high_ic_instit_adj</th>\n",
       "      <th>high_ic</th>\n",
       "    </tr>\n",
       "  </thead>\n",
       "  <tbody>\n",
       "    <tr>\n",
       "      <th>count</th>\n",
       "      <td>460.000000</td>\n",
       "      <td>460.000000</td>\n",
       "      <td>460.000000</td>\n",
       "      <td>460.000000</td>\n",
       "      <td>460.0</td>\n",
       "      <td>460.000000</td>\n",
       "      <td>460.000000</td>\n",
       "      <td>460.0</td>\n",
       "      <td>460.000000</td>\n",
       "      <td>460.000000</td>\n",
       "      <td>...</td>\n",
       "      <td>460.000000</td>\n",
       "      <td>460.000000</td>\n",
       "      <td>460.000000</td>\n",
       "      <td>460.000000</td>\n",
       "      <td>460.000000</td>\n",
       "      <td>460.000000</td>\n",
       "      <td>460.000000</td>\n",
       "      <td>460.000000</td>\n",
       "      <td>460.000000</td>\n",
       "      <td>460.000000</td>\n",
       "    </tr>\n",
       "    <tr>\n",
       "      <th>mean</th>\n",
       "      <td>0.032609</td>\n",
       "      <td>0.469565</td>\n",
       "      <td>0.008696</td>\n",
       "      <td>0.467391</td>\n",
       "      <td>0.0</td>\n",
       "      <td>0.065217</td>\n",
       "      <td>0.002174</td>\n",
       "      <td>0.0</td>\n",
       "      <td>2.921739</td>\n",
       "      <td>9.576087</td>\n",
       "      <td>...</td>\n",
       "      <td>0.319565</td>\n",
       "      <td>0.271739</td>\n",
       "      <td>0.028261</td>\n",
       "      <td>0.141304</td>\n",
       "      <td>0.058696</td>\n",
       "      <td>0.100000</td>\n",
       "      <td>0.021739</td>\n",
       "      <td>0.184783</td>\n",
       "      <td>0.397826</td>\n",
       "      <td>0.408696</td>\n",
       "    </tr>\n",
       "    <tr>\n",
       "      <th>std</th>\n",
       "      <td>0.177804</td>\n",
       "      <td>0.499616</td>\n",
       "      <td>0.092945</td>\n",
       "      <td>0.499479</td>\n",
       "      <td>0.0</td>\n",
       "      <td>0.247178</td>\n",
       "      <td>0.046625</td>\n",
       "      <td>0.0</td>\n",
       "      <td>0.933733</td>\n",
       "      <td>3.278748</td>\n",
       "      <td>...</td>\n",
       "      <td>0.466816</td>\n",
       "      <td>0.445340</td>\n",
       "      <td>0.165898</td>\n",
       "      <td>0.348714</td>\n",
       "      <td>0.235310</td>\n",
       "      <td>0.300327</td>\n",
       "      <td>0.145989</td>\n",
       "      <td>0.388544</td>\n",
       "      <td>0.489982</td>\n",
       "      <td>0.492128</td>\n",
       "    </tr>\n",
       "    <tr>\n",
       "      <th>min</th>\n",
       "      <td>0.000000</td>\n",
       "      <td>0.000000</td>\n",
       "      <td>0.000000</td>\n",
       "      <td>0.000000</td>\n",
       "      <td>0.0</td>\n",
       "      <td>0.000000</td>\n",
       "      <td>0.000000</td>\n",
       "      <td>0.0</td>\n",
       "      <td>0.500000</td>\n",
       "      <td>1.000000</td>\n",
       "      <td>...</td>\n",
       "      <td>0.000000</td>\n",
       "      <td>0.000000</td>\n",
       "      <td>0.000000</td>\n",
       "      <td>0.000000</td>\n",
       "      <td>0.000000</td>\n",
       "      <td>0.000000</td>\n",
       "      <td>0.000000</td>\n",
       "      <td>0.000000</td>\n",
       "      <td>0.000000</td>\n",
       "      <td>0.000000</td>\n",
       "    </tr>\n",
       "    <tr>\n",
       "      <th>25%</th>\n",
       "      <td>0.000000</td>\n",
       "      <td>0.000000</td>\n",
       "      <td>0.000000</td>\n",
       "      <td>0.000000</td>\n",
       "      <td>0.0</td>\n",
       "      <td>0.000000</td>\n",
       "      <td>0.000000</td>\n",
       "      <td>0.0</td>\n",
       "      <td>3.000000</td>\n",
       "      <td>7.000000</td>\n",
       "      <td>...</td>\n",
       "      <td>0.000000</td>\n",
       "      <td>0.000000</td>\n",
       "      <td>0.000000</td>\n",
       "      <td>0.000000</td>\n",
       "      <td>0.000000</td>\n",
       "      <td>0.000000</td>\n",
       "      <td>0.000000</td>\n",
       "      <td>0.000000</td>\n",
       "      <td>0.000000</td>\n",
       "      <td>0.000000</td>\n",
       "    </tr>\n",
       "    <tr>\n",
       "      <th>50%</th>\n",
       "      <td>0.000000</td>\n",
       "      <td>0.000000</td>\n",
       "      <td>0.000000</td>\n",
       "      <td>0.000000</td>\n",
       "      <td>0.0</td>\n",
       "      <td>0.000000</td>\n",
       "      <td>0.000000</td>\n",
       "      <td>0.0</td>\n",
       "      <td>3.000000</td>\n",
       "      <td>8.500000</td>\n",
       "      <td>...</td>\n",
       "      <td>0.000000</td>\n",
       "      <td>0.000000</td>\n",
       "      <td>0.000000</td>\n",
       "      <td>0.000000</td>\n",
       "      <td>0.000000</td>\n",
       "      <td>0.000000</td>\n",
       "      <td>0.000000</td>\n",
       "      <td>0.000000</td>\n",
       "      <td>0.000000</td>\n",
       "      <td>0.000000</td>\n",
       "    </tr>\n",
       "    <tr>\n",
       "      <th>75%</th>\n",
       "      <td>0.000000</td>\n",
       "      <td>1.000000</td>\n",
       "      <td>0.000000</td>\n",
       "      <td>1.000000</td>\n",
       "      <td>0.0</td>\n",
       "      <td>0.000000</td>\n",
       "      <td>0.000000</td>\n",
       "      <td>0.0</td>\n",
       "      <td>4.000000</td>\n",
       "      <td>12.000000</td>\n",
       "      <td>...</td>\n",
       "      <td>1.000000</td>\n",
       "      <td>1.000000</td>\n",
       "      <td>0.000000</td>\n",
       "      <td>0.000000</td>\n",
       "      <td>0.000000</td>\n",
       "      <td>0.000000</td>\n",
       "      <td>0.000000</td>\n",
       "      <td>0.000000</td>\n",
       "      <td>1.000000</td>\n",
       "      <td>1.000000</td>\n",
       "    </tr>\n",
       "    <tr>\n",
       "      <th>max</th>\n",
       "      <td>1.000000</td>\n",
       "      <td>1.000000</td>\n",
       "      <td>1.000000</td>\n",
       "      <td>1.000000</td>\n",
       "      <td>0.0</td>\n",
       "      <td>1.000000</td>\n",
       "      <td>1.000000</td>\n",
       "      <td>0.0</td>\n",
       "      <td>4.000000</td>\n",
       "      <td>15.000000</td>\n",
       "      <td>...</td>\n",
       "      <td>1.000000</td>\n",
       "      <td>1.000000</td>\n",
       "      <td>1.000000</td>\n",
       "      <td>1.000000</td>\n",
       "      <td>1.000000</td>\n",
       "      <td>1.000000</td>\n",
       "      <td>1.000000</td>\n",
       "      <td>1.000000</td>\n",
       "      <td>1.000000</td>\n",
       "      <td>1.000000</td>\n",
       "    </tr>\n",
       "  </tbody>\n",
       "</table>\n",
       "<p>8 rows × 24 columns</p>\n",
       "</div>"
      ],
      "text/plain": [
       "       gender_female   age_gt_45   age_lt_25      race_B  race_A      race_H  \\\n",
       "count     460.000000  460.000000  460.000000  460.000000   460.0  460.000000   \n",
       "mean        0.032609    0.469565    0.008696    0.467391     0.0    0.065217   \n",
       "std         0.177804    0.499616    0.092945    0.499479     0.0    0.247178   \n",
       "min         0.000000    0.000000    0.000000    0.000000     0.0    0.000000   \n",
       "25%         0.000000    0.000000    0.000000    0.000000     0.0    0.000000   \n",
       "50%         0.000000    0.000000    0.000000    0.000000     0.0    0.000000   \n",
       "75%         0.000000    1.000000    0.000000    1.000000     0.0    0.000000   \n",
       "max         1.000000    1.000000    1.000000    1.000000     0.0    1.000000   \n",
       "\n",
       "           race_I  race_O  off_1_prs_max  off_1_gs_max  ...  escape_hist_3  \\\n",
       "count  460.000000   460.0     460.000000    460.000000  ...     460.000000   \n",
       "mean     0.002174     0.0       2.921739      9.576087  ...       0.319565   \n",
       "std      0.046625     0.0       0.933733      3.278748  ...       0.466816   \n",
       "min      0.000000     0.0       0.500000      1.000000  ...       0.000000   \n",
       "25%      0.000000     0.0       3.000000      7.000000  ...       0.000000   \n",
       "50%      0.000000     0.0       3.000000      8.500000  ...       0.000000   \n",
       "75%      0.000000     0.0       4.000000     12.000000  ...       1.000000   \n",
       "max      1.000000     0.0       4.000000     15.000000  ...       1.000000   \n",
       "\n",
       "       escape_hist_4  escape_hist_5  mrt_stat_DIV  mrt_stat_SEP  mrt_stat_MAR  \\\n",
       "count     460.000000     460.000000    460.000000    460.000000    460.000000   \n",
       "mean        0.271739       0.028261      0.141304      0.058696      0.100000   \n",
       "std         0.445340       0.165898      0.348714      0.235310      0.300327   \n",
       "min         0.000000       0.000000      0.000000      0.000000      0.000000   \n",
       "25%         0.000000       0.000000      0.000000      0.000000      0.000000   \n",
       "50%         0.000000       0.000000      0.000000      0.000000      0.000000   \n",
       "75%         1.000000       0.000000      0.000000      0.000000      0.000000   \n",
       "max         1.000000       1.000000      1.000000      1.000000      1.000000   \n",
       "\n",
       "       mrt_stat_WID    employed  high_ic_instit_adj     high_ic  \n",
       "count    460.000000  460.000000          460.000000  460.000000  \n",
       "mean       0.021739    0.184783            0.397826    0.408696  \n",
       "std        0.145989    0.388544            0.489982    0.492128  \n",
       "min        0.000000    0.000000            0.000000    0.000000  \n",
       "25%        0.000000    0.000000            0.000000    0.000000  \n",
       "50%        0.000000    0.000000            0.000000    0.000000  \n",
       "75%        0.000000    0.000000            1.000000    1.000000  \n",
       "max        1.000000    1.000000            1.000000    1.000000  \n",
       "\n",
       "[8 rows x 24 columns]"
      ]
     },
     "execution_count": 62,
     "metadata": {},
     "output_type": "execute_result"
    }
   ],
   "source": [
    "outlier.describe()"
   ]
  },
  {
   "cell_type": "code",
   "execution_count": 63,
   "metadata": {},
   "outputs": [
    {
     "data": {
      "text/html": [
       "<div>\n",
       "<style scoped>\n",
       "    .dataframe tbody tr th:only-of-type {\n",
       "        vertical-align: middle;\n",
       "    }\n",
       "\n",
       "    .dataframe tbody tr th {\n",
       "        vertical-align: top;\n",
       "    }\n",
       "\n",
       "    .dataframe thead th {\n",
       "        text-align: right;\n",
       "    }\n",
       "</style>\n",
       "<table border=\"1\" class=\"dataframe\">\n",
       "  <thead>\n",
       "    <tr style=\"text-align: right;\">\n",
       "      <th></th>\n",
       "      <th>gender_female</th>\n",
       "      <th>age_gt_45</th>\n",
       "      <th>age_lt_25</th>\n",
       "      <th>race_B</th>\n",
       "      <th>race_A</th>\n",
       "      <th>race_H</th>\n",
       "      <th>race_I</th>\n",
       "      <th>race_O</th>\n",
       "      <th>off_1_prs_max</th>\n",
       "      <th>off_1_gs_max</th>\n",
       "      <th>...</th>\n",
       "      <th>escape_hist_3</th>\n",
       "      <th>escape_hist_4</th>\n",
       "      <th>escape_hist_5</th>\n",
       "      <th>mrt_stat_DIV</th>\n",
       "      <th>mrt_stat_SEP</th>\n",
       "      <th>mrt_stat_MAR</th>\n",
       "      <th>mrt_stat_WID</th>\n",
       "      <th>employed</th>\n",
       "      <th>high_ic_instit_adj</th>\n",
       "      <th>high_ic</th>\n",
       "    </tr>\n",
       "  </thead>\n",
       "  <tbody>\n",
       "    <tr>\n",
       "      <th>count</th>\n",
       "      <td>13820.000000</td>\n",
       "      <td>13820.000000</td>\n",
       "      <td>13820.000000</td>\n",
       "      <td>13820.000000</td>\n",
       "      <td>13820.000000</td>\n",
       "      <td>13820.000000</td>\n",
       "      <td>13820.000000</td>\n",
       "      <td>13820.000000</td>\n",
       "      <td>13820.000000</td>\n",
       "      <td>13820.000000</td>\n",
       "      <td>...</td>\n",
       "      <td>13820.000000</td>\n",
       "      <td>13820.000000</td>\n",
       "      <td>13820.000000</td>\n",
       "      <td>13820.000000</td>\n",
       "      <td>13820.000000</td>\n",
       "      <td>13820.000000</td>\n",
       "      <td>13820.000000</td>\n",
       "      <td>13820.000000</td>\n",
       "      <td>13820.00000</td>\n",
       "      <td>13820.000000</td>\n",
       "    </tr>\n",
       "    <tr>\n",
       "      <th>mean</th>\n",
       "      <td>0.031983</td>\n",
       "      <td>0.161722</td>\n",
       "      <td>0.244573</td>\n",
       "      <td>0.528292</td>\n",
       "      <td>0.002315</td>\n",
       "      <td>0.105065</td>\n",
       "      <td>0.000941</td>\n",
       "      <td>0.003473</td>\n",
       "      <td>2.523553</td>\n",
       "      <td>11.778582</td>\n",
       "      <td>...</td>\n",
       "      <td>0.238712</td>\n",
       "      <td>0.074385</td>\n",
       "      <td>0.028148</td>\n",
       "      <td>0.086324</td>\n",
       "      <td>0.046527</td>\n",
       "      <td>0.099928</td>\n",
       "      <td>0.012735</td>\n",
       "      <td>0.220116</td>\n",
       "      <td>0.47576</td>\n",
       "      <td>0.560781</td>\n",
       "    </tr>\n",
       "    <tr>\n",
       "      <th>std</th>\n",
       "      <td>0.175960</td>\n",
       "      <td>0.368209</td>\n",
       "      <td>0.429849</td>\n",
       "      <td>0.499217</td>\n",
       "      <td>0.048065</td>\n",
       "      <td>0.306648</td>\n",
       "      <td>0.030657</td>\n",
       "      <td>0.058834</td>\n",
       "      <td>1.167841</td>\n",
       "      <td>3.074661</td>\n",
       "      <td>...</td>\n",
       "      <td>0.426312</td>\n",
       "      <td>0.262406</td>\n",
       "      <td>0.165400</td>\n",
       "      <td>0.280852</td>\n",
       "      <td>0.210631</td>\n",
       "      <td>0.299914</td>\n",
       "      <td>0.112133</td>\n",
       "      <td>0.414340</td>\n",
       "      <td>0.49943</td>\n",
       "      <td>0.496310</td>\n",
       "    </tr>\n",
       "    <tr>\n",
       "      <th>min</th>\n",
       "      <td>0.000000</td>\n",
       "      <td>0.000000</td>\n",
       "      <td>0.000000</td>\n",
       "      <td>0.000000</td>\n",
       "      <td>0.000000</td>\n",
       "      <td>0.000000</td>\n",
       "      <td>0.000000</td>\n",
       "      <td>0.000000</td>\n",
       "      <td>0.500000</td>\n",
       "      <td>1.000000</td>\n",
       "      <td>...</td>\n",
       "      <td>0.000000</td>\n",
       "      <td>0.000000</td>\n",
       "      <td>0.000000</td>\n",
       "      <td>0.000000</td>\n",
       "      <td>0.000000</td>\n",
       "      <td>0.000000</td>\n",
       "      <td>0.000000</td>\n",
       "      <td>0.000000</td>\n",
       "      <td>0.00000</td>\n",
       "      <td>0.000000</td>\n",
       "    </tr>\n",
       "    <tr>\n",
       "      <th>25%</th>\n",
       "      <td>0.000000</td>\n",
       "      <td>0.000000</td>\n",
       "      <td>0.000000</td>\n",
       "      <td>0.000000</td>\n",
       "      <td>0.000000</td>\n",
       "      <td>0.000000</td>\n",
       "      <td>0.000000</td>\n",
       "      <td>0.000000</td>\n",
       "      <td>1.000000</td>\n",
       "      <td>10.000000</td>\n",
       "      <td>...</td>\n",
       "      <td>0.000000</td>\n",
       "      <td>0.000000</td>\n",
       "      <td>0.000000</td>\n",
       "      <td>0.000000</td>\n",
       "      <td>0.000000</td>\n",
       "      <td>0.000000</td>\n",
       "      <td>0.000000</td>\n",
       "      <td>0.000000</td>\n",
       "      <td>0.00000</td>\n",
       "      <td>0.000000</td>\n",
       "    </tr>\n",
       "    <tr>\n",
       "      <th>50%</th>\n",
       "      <td>0.000000</td>\n",
       "      <td>0.000000</td>\n",
       "      <td>0.000000</td>\n",
       "      <td>1.000000</td>\n",
       "      <td>0.000000</td>\n",
       "      <td>0.000000</td>\n",
       "      <td>0.000000</td>\n",
       "      <td>0.000000</td>\n",
       "      <td>3.000000</td>\n",
       "      <td>12.000000</td>\n",
       "      <td>...</td>\n",
       "      <td>0.000000</td>\n",
       "      <td>0.000000</td>\n",
       "      <td>0.000000</td>\n",
       "      <td>0.000000</td>\n",
       "      <td>0.000000</td>\n",
       "      <td>0.000000</td>\n",
       "      <td>0.000000</td>\n",
       "      <td>0.000000</td>\n",
       "      <td>0.00000</td>\n",
       "      <td>1.000000</td>\n",
       "    </tr>\n",
       "    <tr>\n",
       "      <th>75%</th>\n",
       "      <td>0.000000</td>\n",
       "      <td>0.000000</td>\n",
       "      <td>0.000000</td>\n",
       "      <td>1.000000</td>\n",
       "      <td>0.000000</td>\n",
       "      <td>0.000000</td>\n",
       "      <td>0.000000</td>\n",
       "      <td>0.000000</td>\n",
       "      <td>3.000000</td>\n",
       "      <td>14.000000</td>\n",
       "      <td>...</td>\n",
       "      <td>0.000000</td>\n",
       "      <td>0.000000</td>\n",
       "      <td>0.000000</td>\n",
       "      <td>0.000000</td>\n",
       "      <td>0.000000</td>\n",
       "      <td>0.000000</td>\n",
       "      <td>0.000000</td>\n",
       "      <td>0.000000</td>\n",
       "      <td>1.00000</td>\n",
       "      <td>1.000000</td>\n",
       "    </tr>\n",
       "    <tr>\n",
       "      <th>max</th>\n",
       "      <td>1.000000</td>\n",
       "      <td>1.000000</td>\n",
       "      <td>1.000000</td>\n",
       "      <td>1.000000</td>\n",
       "      <td>1.000000</td>\n",
       "      <td>1.000000</td>\n",
       "      <td>1.000000</td>\n",
       "      <td>1.000000</td>\n",
       "      <td>4.000000</td>\n",
       "      <td>15.000000</td>\n",
       "      <td>...</td>\n",
       "      <td>1.000000</td>\n",
       "      <td>1.000000</td>\n",
       "      <td>1.000000</td>\n",
       "      <td>1.000000</td>\n",
       "      <td>1.000000</td>\n",
       "      <td>1.000000</td>\n",
       "      <td>1.000000</td>\n",
       "      <td>1.000000</td>\n",
       "      <td>1.00000</td>\n",
       "      <td>1.000000</td>\n",
       "    </tr>\n",
       "  </tbody>\n",
       "</table>\n",
       "<p>8 rows × 24 columns</p>\n",
       "</div>"
      ],
      "text/plain": [
       "       gender_female     age_gt_45     age_lt_25        race_B        race_A  \\\n",
       "count   13820.000000  13820.000000  13820.000000  13820.000000  13820.000000   \n",
       "mean        0.031983      0.161722      0.244573      0.528292      0.002315   \n",
       "std         0.175960      0.368209      0.429849      0.499217      0.048065   \n",
       "min         0.000000      0.000000      0.000000      0.000000      0.000000   \n",
       "25%         0.000000      0.000000      0.000000      0.000000      0.000000   \n",
       "50%         0.000000      0.000000      0.000000      1.000000      0.000000   \n",
       "75%         0.000000      0.000000      0.000000      1.000000      0.000000   \n",
       "max         1.000000      1.000000      1.000000      1.000000      1.000000   \n",
       "\n",
       "             race_H        race_I        race_O  off_1_prs_max  off_1_gs_max  \\\n",
       "count  13820.000000  13820.000000  13820.000000   13820.000000  13820.000000   \n",
       "mean       0.105065      0.000941      0.003473       2.523553     11.778582   \n",
       "std        0.306648      0.030657      0.058834       1.167841      3.074661   \n",
       "min        0.000000      0.000000      0.000000       0.500000      1.000000   \n",
       "25%        0.000000      0.000000      0.000000       1.000000     10.000000   \n",
       "50%        0.000000      0.000000      0.000000       3.000000     12.000000   \n",
       "75%        0.000000      0.000000      0.000000       3.000000     14.000000   \n",
       "max        1.000000      1.000000      1.000000       4.000000     15.000000   \n",
       "\n",
       "       ...  escape_hist_3  escape_hist_4  escape_hist_5  mrt_stat_DIV  \\\n",
       "count  ...   13820.000000   13820.000000   13820.000000  13820.000000   \n",
       "mean   ...       0.238712       0.074385       0.028148      0.086324   \n",
       "std    ...       0.426312       0.262406       0.165400      0.280852   \n",
       "min    ...       0.000000       0.000000       0.000000      0.000000   \n",
       "25%    ...       0.000000       0.000000       0.000000      0.000000   \n",
       "50%    ...       0.000000       0.000000       0.000000      0.000000   \n",
       "75%    ...       0.000000       0.000000       0.000000      0.000000   \n",
       "max    ...       1.000000       1.000000       1.000000      1.000000   \n",
       "\n",
       "       mrt_stat_SEP  mrt_stat_MAR  mrt_stat_WID      employed  \\\n",
       "count  13820.000000  13820.000000  13820.000000  13820.000000   \n",
       "mean       0.046527      0.099928      0.012735      0.220116   \n",
       "std        0.210631      0.299914      0.112133      0.414340   \n",
       "min        0.000000      0.000000      0.000000      0.000000   \n",
       "25%        0.000000      0.000000      0.000000      0.000000   \n",
       "50%        0.000000      0.000000      0.000000      0.000000   \n",
       "75%        0.000000      0.000000      0.000000      0.000000   \n",
       "max        1.000000      1.000000      1.000000      1.000000   \n",
       "\n",
       "       high_ic_instit_adj       high_ic  \n",
       "count         13820.00000  13820.000000  \n",
       "mean              0.47576      0.560781  \n",
       "std               0.49943      0.496310  \n",
       "min               0.00000      0.000000  \n",
       "25%               0.00000      0.000000  \n",
       "50%               0.00000      1.000000  \n",
       "75%               1.00000      1.000000  \n",
       "max               1.00000      1.000000  \n",
       "\n",
       "[8 rows x 24 columns]"
      ]
     },
     "execution_count": 63,
     "metadata": {},
     "output_type": "execute_result"
    }
   ],
   "source": [
    "data_control.describe()"
   ]
  },
  {
   "cell_type": "code",
   "execution_count": 64,
   "metadata": {},
   "outputs": [
    {
     "data": {
      "text/plain": [
       "0.03328509406657019"
      ]
     },
     "execution_count": 64,
     "metadata": {},
     "output_type": "execute_result"
    }
   ],
   "source": [
    "  460/13820\n",
    "# this percent of outliers for prior_commits"
   ]
  },
  {
   "cell_type": "code",
   "execution_count": 65,
   "metadata": {
    "scrolled": true
   },
   "outputs": [
    {
     "name": "stderr",
     "output_type": "stream",
     "text": [
      "/home/ncr006/anaconda2/envs/psapm/lib/python3.8/site-packages/seaborn/_decorators.py:36: FutureWarning: Pass the following variables as keyword args: x, y. From version 0.12, the only valid positional argument will be `data`, and passing other arguments without an explicit keyword will result in an error or misinterpretation.\n",
      "  warnings.warn(\n",
      "/home/ncr006/anaconda2/envs/psapm/lib/python3.8/site-packages/seaborn/_decorators.py:36: FutureWarning: Pass the following variables as keyword args: x, y. From version 0.12, the only valid positional argument will be `data`, and passing other arguments without an explicit keyword will result in an error or misinterpretation.\n",
      "  warnings.warn(\n"
     ]
    },
    {
     "data": {
      "image/png": "[encoded data removed]",
      "text/plain": [
       "<Figure size 1080x1080 with 2 Axes>"
      ]
     },
     "metadata": {
      "needs_background": "light"
     },
     "output_type": "display_data"
    }
   ],
   "source": [
    "## Plotting multiple plots same figure\n",
    "fig, (axL, axR) = plt.subplots(2, figsize=(15, 15))\n",
    "plt.suptitle(\"Logistic Regression Residual Plots \\n using Seaborn Lowess line (N = 400)\")\n",
    "\n",
    "\n",
    "# Deviance Residuals\n",
    "sns.regplot(result.fittedvalues, result.resid_dev, ax= axL,\n",
    "            color=\"black\", scatter_kws={\"s\": 5},\n",
    "            line_kws={\"color\":\"b\", \"alpha\":1, \"lw\":2}, lowess=True)\n",
    "\n",
    "axL.set_title(\"Deviance Residuals \\n against Fitted Values\")\n",
    "axL.set_xlabel(\"Linear Predictor Values\")\n",
    "axL.set_ylabel(\"Deviance Residuals\")\n",
    "\n",
    "# Studentized Pearson Residuals\n",
    "sns.regplot(result.fittedvalues, result.resid_pearson, ax= axR,\n",
    "            color=\"black\", scatter_kws={\"s\": 5},\n",
    "            line_kws={\"color\":\"g\", \"alpha\":1, \"lw\":2}, lowess=True)\n",
    "\n",
    "axR.set_title(\"Studentized Pearson Residuals \\n against Fitted Values\")\n",
    "axR.set_xlabel(\"Linear Predictor Values\")\n",
    "axR.set_ylabel(\"Studentized Pearson Residuals\")\n",
    "\n",
    "plt.show()"
   ]
  },
  {
   "cell_type": "code",
   "execution_count": 66,
   "metadata": {},
   "outputs": [],
   "source": [
    "# The second graph looks flat and to have a y-intercept of close to 0 and so this condition is met"
   ]
  },
  {
   "cell_type": "code",
   "execution_count": 67,
   "metadata": {},
   "outputs": [
    {
     "data": {
      "text/plain": [
       "['age_gt_45',\n",
       " 'ic_institut_adj',\n",
       " 'escape_hist_1',\n",
       " 'escape_hist_4',\n",
       " 'escape_hist_5',\n",
       " 'mrt_stat_DIV',\n",
       " 'mrt_stat_SEP',\n",
       " 'mrt_stat_MAR',\n",
       " 'mrt_stat_WID',\n",
       " 'employed',\n",
       " 'race_B',\n",
       " 'off_1_gs_max',\n",
       " 'off_1_prs_max',\n",
       " 'prior_commits',\n",
       " 'age_lt_25',\n",
       " 'gender_female']"
      ]
     },
     "execution_count": 67,
     "metadata": {},
     "output_type": "execute_result"
    }
   ],
   "source": [
    "ll"
   ]
  },
  {
   "cell_type": "code",
   "execution_count": null,
   "metadata": {},
   "outputs": [],
   "source": []
  },
  {
   "cell_type": "markdown",
   "metadata": {},
   "source": [
    "---\n",
    "\n",
    "## Repeated but for overrides\n",
    "\n"
   ]
  },
  {
   "cell_type": "code",
   "execution_count": 78,
   "metadata": {},
   "outputs": [
    {
     "data": {
      "text/plain": [
       "['age_gt_45',\n",
       " 'ic_institut_adj',\n",
       " 'escape_hist_1',\n",
       " 'escape_hist_4',\n",
       " 'escape_hist_5',\n",
       " 'mrt_stat_DIV',\n",
       " 'mrt_stat_SEP',\n",
       " 'mrt_stat_MAR',\n",
       " 'mrt_stat_WID',\n",
       " 'employed',\n",
       " 'race_B',\n",
       " 'off_1_gs_max',\n",
       " 'off_1_prs_max',\n",
       " 'prior_commits',\n",
       " 'age_lt_25',\n",
       " 'gender_female',\n",
       " 'ic_override_up']"
      ]
     },
     "execution_count": 78,
     "metadata": {},
     "output_type": "execute_result"
    }
   ],
   "source": [
    "#ll.append('ic_override_up')\n",
    "# \n",
    "##ll.remove('ic_override_up')\n",
    "##ll"
   ]
  },
  {
   "cell_type": "code",
   "execution_count": 79,
   "metadata": {},
   "outputs": [],
   "source": [
    "df = pd.read_csv(\"../../data/initial_custody_2017_gsprs.csv\", low_memory=False)\n",
    "\n",
    "df['high_ic_instit_adj'] = np.where(df['ic_institut_adj']>2, 1, 0)\n",
    "df['ic_override_up'] = np.where(df['ic_ovride_cust_lvl']-df['ic_custdy_level']>0,1,0)\n",
    "df['high_ic'] = np.where(df['ic_custdy_level']>3, 1, 0)\n",
    "\n",
    "\n",
    "# preprocessing\n",
    "data = preprocessing.preprocess_input_vars(df)\n",
    "data = data[\n",
    "    ll\n",
    "]\n",
    "data = data.dropna()\n",
    "\n",
    "df_or_all = data"
   ]
  },
  {
   "cell_type": "markdown",
   "metadata": {},
   "source": [
    "---\n",
    "## Data exploration"
   ]
  },
  {
   "cell_type": "code",
   "execution_count": 95,
   "metadata": {},
   "outputs": [
    {
     "data": {
      "text/plain": [
       "0    13567\n",
       "1      253\n",
       "Name: ic_override_up, dtype: int64"
      ]
     },
     "execution_count": 95,
     "metadata": {},
     "output_type": "execute_result"
    }
   ],
   "source": [
    "df_or_all['ic_override_up'].value_counts()"
   ]
  },
  {
   "cell_type": "code",
   "execution_count": 82,
   "metadata": {},
   "outputs": [
    {
     "name": "stdout",
     "output_type": "stream",
     "text": [
      "Collecting imblearn\n",
      "  Downloading imblearn-0.0-py2.py3-none-any.whl (1.9 kB)\n",
      "Collecting imbalanced-learn\n",
      "  Downloading imbalanced_learn-0.8.1-py3-none-any.whl (189 kB)\n",
      "\u001b[K     |████████████████████████████████| 189 kB 2.3 MB/s eta 0:00:01\n",
      "\u001b[?25hRequirement already satisfied: scipy>=0.19.1 in /home/ncr006/anaconda2/envs/psapm/lib/python3.8/site-packages (from imbalanced-learn->imblearn) (1.6.2)\n",
      "Requirement already satisfied: scikit-learn>=0.24 in /home/ncr006/anaconda2/envs/psapm/lib/python3.8/site-packages (from imbalanced-learn->imblearn) (0.24.2)\n",
      "Requirement already satisfied: numpy>=1.13.3 in /home/ncr006/.local/lib/python3.8/site-packages (from imbalanced-learn->imblearn) (1.21.2)\n",
      "Requirement already satisfied: joblib>=0.11 in /home/ncr006/anaconda2/envs/psapm/lib/python3.8/site-packages (from imbalanced-learn->imblearn) (1.0.1)\n",
      "Requirement already satisfied: threadpoolctl>=2.0.0 in /home/ncr006/anaconda2/envs/psapm/lib/python3.8/site-packages (from scikit-learn>=0.24->imbalanced-learn->imblearn) (2.1.0)\n",
      "Installing collected packages: imbalanced-learn, imblearn\n",
      "Successfully installed imbalanced-learn-0.8.1 imblearn-0.0\n"
     ]
    }
   ],
   "source": [
    "# I need to balance these classes\n",
    "#!pip install imblearn"
   ]
  },
  {
   "cell_type": "markdown",
   "metadata": {},
   "source": [
    "### Fitting a model (with oversampling to balance classes)"
   ]
  },
  {
   "cell_type": "code",
   "execution_count": 117,
   "metadata": {},
   "outputs": [
    {
     "data": {
      "text/plain": [
       "SMOTE(random_state=0)"
      ]
     },
     "execution_count": 117,
     "metadata": {},
     "output_type": "execute_result"
    }
   ],
   "source": [
    "X = df_or_all.loc[:, df_or_all.columns != 'ic_override_up']\n",
    "y = df_or_all.loc[:, df_or_all.columns == 'ic_override_up']\n",
    "\n",
    "from imblearn.over_sampling import SMOTE\n",
    "\n",
    "os = SMOTE(random_state=0)\n",
    "\n",
    "os"
   ]
  },
  {
   "cell_type": "code",
   "execution_count": 106,
   "metadata": {},
   "outputs": [
    {
     "name": "stdout",
     "output_type": "stream",
     "text": [
      "Counter({0: 9492, 1: 182})\n"
     ]
    }
   ],
   "source": [
    "from collections import Counter\n",
    "\n",
    "X_train, X_test, y_train, y_test = train_test_split(X, y, test_size=0.3, random_state=0)\n",
    "\n",
    "ctr = Counter(y_train['ic_override_up'])\n",
    "\n",
    "print(ctr)"
   ]
  },
  {
   "cell_type": "code",
   "execution_count": 118,
   "metadata": {},
   "outputs": [],
   "source": [
    "X, y = os.fit_resample(X, y)"
   ]
  },
  {
   "cell_type": "code",
   "execution_count": 119,
   "metadata": {},
   "outputs": [
    {
     "name": "stdout",
     "output_type": "stream",
     "text": [
      "Counter({1: 13567, 0: 13567})\n"
     ]
    }
   ],
   "source": [
    "ctr = Counter(y['ic_override_up'])\n",
    "\n",
    "print(ctr)"
   ]
  },
  {
   "cell_type": "code",
   "execution_count": 120,
   "metadata": {},
   "outputs": [
    {
     "name": "stdout",
     "output_type": "stream",
     "text": [
      "Optimization terminated successfully.\n",
      "         Current function value: 0.552891\n",
      "         Iterations 8\n",
      "                         Results: Logit\n",
      "=================================================================\n",
      "Model:              Logit            Pseudo R-squared: 0.202     \n",
      "Dependent Variable: ic_override_up   AIC:              30036.2856\n",
      "Date:               2021-09-29 11:27 BIC:              30167.6223\n",
      "No. Observations:   27134            Log-Likelihood:   -15002.   \n",
      "Df Model:           15               LL-Null:          -18808.   \n",
      "Df Residuals:       27118            LLR p-value:      0.0000    \n",
      "Converged:          1.0000           Scale:            1.0000    \n",
      "No. Iterations:     8.0000                                       \n",
      "-----------------------------------------------------------------\n",
      "                  Coef.  Std.Err.    z     P>|z|   [0.025  0.975]\n",
      "-----------------------------------------------------------------\n",
      "age_gt_45        -1.3568   0.0574 -23.6199 0.0000 -1.4693 -1.2442\n",
      "ic_institut_adj  -0.0439   0.0105  -4.1836 0.0000 -0.0645 -0.0233\n",
      "escape_hist_1    -0.9768   0.0312 -31.3361 0.0000 -1.0379 -0.9158\n",
      "escape_hist_4    -1.1103   0.0695 -15.9644 0.0000 -1.2466 -0.9739\n",
      "escape_hist_5    -1.1249   0.1045 -10.7631 0.0000 -1.3297 -0.9200\n",
      "mrt_stat_DIV     -0.9203   0.0621 -14.8148 0.0000 -1.0420 -0.7985\n",
      "mrt_stat_SEP     -2.0049   0.1123 -17.8484 0.0000 -2.2251 -1.7848\n",
      "mrt_stat_MAR     -1.0624   0.0578 -18.3743 0.0000 -1.1758 -0.9491\n",
      "mrt_stat_WID     -1.5475   0.1912  -8.0958 0.0000 -1.9222 -1.1729\n",
      "employed         -0.7946   0.0399 -19.9042 0.0000 -0.8729 -0.7164\n",
      "race_B           -1.1596   0.0311 -37.3325 0.0000 -1.2205 -1.0988\n",
      "off_1_gs_max      0.1536   0.0036  42.2051 0.0000  0.1464  0.1607\n",
      "off_1_prs_max     0.0735   0.0118   6.2138 0.0000  0.0503  0.0967\n",
      "prior_commits    -0.0920   0.0051 -17.9877 0.0000 -0.1021 -0.0820\n",
      "age_lt_25        -1.1163   0.0381 -29.2818 0.0000 -1.1910 -1.0416\n",
      "gender_female    -4.3428   0.3863 -11.2413 0.0000 -5.1000 -3.5856\n",
      "=================================================================\n",
      "\n",
      "                       OR        z-value      2.5%     97.5%\n",
      "age_gt_45        0.257492  2.409942e-123  0.230075  0.288177\n",
      "ic_institut_adj  0.957034   2.869705e-05  0.937544  0.976928\n",
      "escape_hist_1    0.376496  1.502622e-215  0.354181  0.400216\n",
      "escape_hist_4    0.329476   2.261765e-57  0.287493  0.377590\n",
      "escape_hist_5    0.324698   5.138958e-27  0.264557  0.398509\n",
      "mrt_stat_DIV     0.398409   1.174682e-49  0.352739  0.449991\n",
      "mrt_stat_SEP     0.134670   2.973865e-71  0.108057  0.167837\n",
      "mrt_stat_MAR     0.345615   2.109610e-75  0.308585  0.387089\n",
      "mrt_stat_WID     0.212776   5.690185e-16  0.146290  0.309479\n",
      "employed         0.451757   3.739601e-88  0.417757  0.488524\n",
      "race_B           0.313600  4.872678e-305  0.295077  0.333286\n",
      "off_1_gs_max     1.165975   0.000000e+00  1.157690  1.174319\n",
      "off_1_prs_max    1.076278   5.171814e-10  1.051610  1.101524\n",
      "prior_commits    0.912069   2.430588e-72  0.902968  0.921262\n",
      "age_lt_25        0.327494  1.767581e-188  0.303916  0.352901\n",
      "gender_female    0.013000   2.555354e-29  0.006097  0.027720\n"
     ]
    }
   ],
   "source": [
    "logit_model=sm.Logit(y,X)\n",
    "result=logit_model.fit()\n",
    "print(result.summary2())\n",
    "\n",
    "model_odds = pd.DataFrame(np.exp(result.params), columns= ['OR'])\n",
    "model_odds['z-value']= result.pvalues\n",
    "model_odds[['2.5%', '97.5%']] = np.exp(result.conf_int())\n",
    "print(model_odds)\n",
    "\n"
   ]
  },
  {
   "cell_type": "code",
   "execution_count": 122,
   "metadata": {},
   "outputs": [
    {
     "name": "stdout",
     "output_type": "stream",
     "text": [
      "Counter({0: 9500, 1: 9493})\n",
      "Counter({0: 9500, 1: 9500})\n",
      "Accuracy of logistic regression classifier on test set: 0.73\n"
     ]
    }
   ],
   "source": [
    "X_train, X_test, y_train, y_test = train_test_split(X, y, test_size=0.3, random_state=0)\n",
    "ctr = Counter(y_train['ic_override_up'])\n",
    "\n",
    "print(ctr)\n",
    "\n",
    "X_train, y_train = os.fit_resample(X_train, y_train)\n",
    "\n",
    "ctr = Counter(y_train['ic_override_up'])\n",
    "\n",
    "print(ctr)\n",
    "\n",
    "logreg = LogisticRegression(max_iter=300)\n",
    "logreg.fit(X_train, y_train.values.ravel())\n",
    "y_pred = logreg.predict(X_test)\n",
    "print('Accuracy of logistic regression classifier on test set: {:.2f}'.format(logreg.score(X_test, y_test)))\n",
    "\n"
   ]
  },
  {
   "cell_type": "code",
   "execution_count": 123,
   "metadata": {},
   "outputs": [
    {
     "name": "stdout",
     "output_type": "stream",
     "text": [
      "[[2870 1197]\n",
      " [1034 3040]]\n",
      "              precision    recall  f1-score   support\n",
      "\n",
      "           0       0.74      0.71      0.72      4067\n",
      "           1       0.72      0.75      0.73      4074\n",
      "\n",
      "    accuracy                           0.73      8141\n",
      "   macro avg       0.73      0.73      0.73      8141\n",
      "weighted avg       0.73      0.73      0.73      8141\n",
      "\n"
     ]
    },
    {
     "data": {
      "image/png": "[encoded data removed]",
      "text/plain": [
       "<Figure size 432x288 with 1 Axes>"
      ]
     },
     "metadata": {
      "needs_background": "light"
     },
     "output_type": "display_data"
    }
   ],
   "source": [
    "from sklearn.metrics import confusion_matrix\n",
    "cm = confusion_matrix(y_test, y_pred)\n",
    "print(cm)\n",
    "\n",
    "print(classification_report(y_test, y_pred))\n",
    "\n",
    "logit_roc_auc = roc_auc_score(y_test, logreg.predict(X_test))\n",
    "fpr, tpr, thresholds = roc_curve(y_test, logreg.predict_proba(X_test)[:,1])\n",
    "plt.figure()\n",
    "plt.plot(fpr, tpr, label='Logistic Regression (area = %0.2f)' % logit_roc_auc)\n",
    "plt.plot([0, 1], [0, 1],'r--')\n",
    "plt.xlim([0.0, 1.0])\n",
    "plt.ylim([0.0, 1.05])\n",
    "plt.xlabel('False Positive Rate')\n",
    "plt.ylabel('True Positive Rate')\n",
    "plt.title('Receiver operating characteristic')\n",
    "plt.legend(loc=\"lower right\")\n",
    "plt.show()"
   ]
  },
  {
   "cell_type": "code",
   "execution_count": null,
   "metadata": {},
   "outputs": [],
   "source": []
  }
 ],
 "metadata": {
  "kernelspec": {
   "display_name": "Python [conda env:psapm]",
   "language": "python",
   "name": "conda-env-psapm-py"
  },
  "language_info": {
   "codemirror_mode": {
    "name": "ipython",
    "version": 3
   },
   "file_extension": ".py",
   "mimetype": "text/x-python",
   "name": "python",
   "nbconvert_exporter": "python",
   "pygments_lexer": "ipython3",
   "version": "3.8.10"
  }
 },
 "nbformat": 4,
 "nbformat_minor": 5
}

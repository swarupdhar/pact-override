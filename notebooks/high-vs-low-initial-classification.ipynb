{
 "cells": [
  {
   "cell_type": "markdown",
   "metadata": {},
   "source": [
    "# Classifying high vs low custody level"
   ]
  },
  {
   "cell_type": "markdown",
   "metadata": {},
   "source": [
    "## Initial classification"
   ]
  },
  {
   "cell_type": "markdown",
   "metadata": {},
   "source": [
    "**Notebook Setup**"
   ]
  },
  {
   "cell_type": "code",
   "execution_count": 34,
   "metadata": {},
   "outputs": [],
   "source": [
    "#!pip install bioinfokit"
   ]
  },
  {
   "cell_type": "code",
   "execution_count": 35,
   "metadata": {},
   "outputs": [
    {
     "name": "stdout",
     "output_type": "stream",
     "text": [
      "The autoreload extension is already loaded. To reload it, use:\n",
      "  %reload_ext autoreload\n"
     ]
    }
   ],
   "source": [
    "import sys\n",
    "sys.path.append(\"../src\")\n",
    "%load_ext autoreload\n",
    "%autoreload 2"
   ]
  },
  {
   "cell_type": "code",
   "execution_count": 36,
   "metadata": {},
   "outputs": [],
   "source": [
    "import pandas as pd\n",
    "import numpy as np\n",
    "import matplotlib.pyplot as plt\n",
    "import statsmodels.api as sm\n",
    "import seaborn as sns\n",
    "#from heatmap import heatmap\n",
    "import statsmodels.formula.api as smf\n",
    "#import bioinfokit"
   ]
  },
  {
   "cell_type": "code",
   "execution_count": 37,
   "metadata": {},
   "outputs": [],
   "source": [
    "plt.style.use('ggplot')"
   ]
  },
  {
   "cell_type": "code",
   "execution_count": 47,
   "metadata": {},
   "outputs": [],
   "source": [
    "%matplotlib inline\n",
    "\n",
    "from project import rf_models, preprocessing\n",
    "\n",
    "df = pd.read_csv(\"../data/initial_custody_2017_gsprs.csv\", low_memory=False)\n",
    "\n",
    "df['high_ic_instit_adj'] = np.where(df['ic_institut_adj']>2, 1, 0)\n",
    "df['ic_override_up'] = np.where(df['ic_ovride_cust_lvl']-df['ic_custdy_level']>0,1,0)\n",
    "df['high_ic'] = np.where(df['ic_custdy_level']>3, 1, 0)\n",
    "\n",
    "\n",
    "# preprocessing\n",
    "data = preprocessing.preprocess_input_vars(df)\n",
    "data = data[data.ic_custdy_level > 1]\n",
    "data = data[\n",
    "    [\n",
    "        \"gender_female\",\n",
    "        \"age_gt_45\",\n",
    "        \"age_lt_25\",\n",
    "        \"race_B\",\n",
    "        \"race_A\",\n",
    "        \"race_H\",\n",
    "        \"race_I\",\n",
    "        \"race_O\",\n",
    "        \"off_1_prs_max\",\n",
    "        \"off_1_gs_max\",\n",
    "        #\"ic_custdy_level\",\n",
    "        \"prior_commits\",\n",
    "        \"ic_institut_adj\",\n",
    "        \"escape_hist_1\",\n",
    "        #\"escape_hist_2\",\n",
    "        #\"escape_hist_3\",\n",
    "        #\"escape_hist_4\",\n",
    "        \"escape_hist_5\",\n",
    "        \"mrt_stat_DIV\",\n",
    "        \"mrt_stat_SEP\",\n",
    "        \"mrt_stat_MAR\",\n",
    "        \"mrt_stat_WID\",\n",
    "        \"employed\",\n",
    "        #\"high_ic_instit_adj\",\n",
    "        \"high_ic\"\n",
    "    ]\n",
    "]\n",
    "data = data.dropna()\n",
    "\n",
    "df_ic_all = data"
   ]
  },
  {
   "cell_type": "markdown",
   "metadata": {},
   "source": [
    "#### Exploratory data analysis"
   ]
  },
  {
   "cell_type": "code",
   "execution_count": 48,
   "metadata": {},
   "outputs": [
    {
     "data": {
      "text/plain": [
       "1    7750\n",
       "0    6065\n",
       "Name: high_ic, dtype: int64"
      ]
     },
     "execution_count": 48,
     "metadata": {},
     "output_type": "execute_result"
    }
   ],
   "source": [
    "df_ic_all['high_ic'].value_counts()"
   ]
  },
  {
   "cell_type": "code",
   "execution_count": 49,
   "metadata": {},
   "outputs": [
    {
     "name": "stdout",
     "output_type": "stream",
     "text": [
      "percentage of high lev is 43.90155627940644\n",
      "percentage of low lev is 56.09844372059356\n"
     ]
    }
   ],
   "source": [
    "count_hi = len(df_ic_all[df_ic_all['high_ic']==0])\n",
    "count_lo = len(df_ic_all[df_ic_all['high_ic']==1])\n",
    "pct_hi = count_hi/(count_hi+count_lo)\n",
    "print(\"percentage of high lev is\", pct_hi*100)\n",
    "pct_lo = count_lo/(count_hi+count_lo)\n",
    "print(\"percentage of low lev is\", pct_lo*100)"
   ]
  },
  {
   "cell_type": "markdown",
   "metadata": {},
   "source": [
    "#### See how quantitative variables vary with custody level"
   ]
  },
  {
   "cell_type": "code",
   "execution_count": 50,
   "metadata": {},
   "outputs": [
    {
     "data": {
      "text/plain": [
       "high_ic\n",
       "0    3.226216\n",
       "1    3.330968\n",
       "Name: prior_commits, dtype: float64"
      ]
     },
     "execution_count": 50,
     "metadata": {},
     "output_type": "execute_result"
    }
   ],
   "source": [
    "df_ic_all.groupby('high_ic').mean()['prior_commits']"
   ]
  },
  {
   "cell_type": "code",
   "execution_count": 51,
   "metadata": {},
   "outputs": [
    {
     "data": {
      "text/plain": [
       "high_ic\n",
       "0    10.915581\n",
       "1    12.455613\n",
       "Name: off_1_gs_max, dtype: float64"
      ]
     },
     "execution_count": 51,
     "metadata": {},
     "output_type": "execute_result"
    }
   ],
   "source": [
    "df_ic_all.groupby('high_ic').mean()['off_1_gs_max']"
   ]
  },
  {
   "cell_type": "code",
   "execution_count": 52,
   "metadata": {},
   "outputs": [
    {
     "data": {
      "text/plain": [
       "high_ic\n",
       "0    2.363726\n",
       "1    2.648839\n",
       "Name: off_1_prs_max, dtype: float64"
      ]
     },
     "execution_count": 52,
     "metadata": {},
     "output_type": "execute_result"
    }
   ],
   "source": [
    "df_ic_all.groupby('high_ic').mean()['off_1_prs_max']"
   ]
  },
  {
   "cell_type": "code",
   "execution_count": 53,
   "metadata": {},
   "outputs": [
    {
     "data": {
      "text/plain": [
       "high_ic\n",
       "0    2.297939\n",
       "1    3.816258\n",
       "Name: ic_institut_adj, dtype: float64"
      ]
     },
     "execution_count": 53,
     "metadata": {},
     "output_type": "execute_result"
    }
   ],
   "source": [
    "df_ic_all.groupby('high_ic').mean()['ic_institut_adj']"
   ]
  },
  {
   "cell_type": "markdown",
   "metadata": {},
   "source": [
    "####  See how quantitative variables vary with race_B"
   ]
  },
  {
   "cell_type": "code",
   "execution_count": 54,
   "metadata": {},
   "outputs": [
    {
     "data": {
      "text/plain": [
       "race_B\n",
       "0    3.272099\n",
       "1    3.644472\n",
       "Name: ic_custdy_level, dtype: float64"
      ]
     },
     "execution_count": 54,
     "metadata": {},
     "output_type": "execute_result"
    }
   ],
   "source": [
    "#df_ic_all.groupby('race_B').mean()['ic_custdy_level']"
   ]
  },
  {
   "cell_type": "code",
   "execution_count": 13,
   "metadata": {},
   "outputs": [
    {
     "data": {
      "text/plain": [
       "race_B\n",
       "0    2.949816\n",
       "1    3.328127\n",
       "Name: ic_institut_adj, dtype: float64"
      ]
     },
     "execution_count": 13,
     "metadata": {},
     "output_type": "execute_result"
    }
   ],
   "source": [
    "df_ic_all.groupby('race_B').mean()['ic_institut_adj']"
   ]
  },
  {
   "cell_type": "code",
   "execution_count": 14,
   "metadata": {},
   "outputs": [
    {
     "data": {
      "text/plain": [
       "race_B\n",
       "0    2.401013\n",
       "1    2.633169\n",
       "Name: off_1_prs_max, dtype: float64"
      ]
     },
     "execution_count": 14,
     "metadata": {},
     "output_type": "execute_result"
    }
   ],
   "source": [
    "df_ic_all.groupby('race_B').mean()['off_1_prs_max']"
   ]
  },
  {
   "cell_type": "code",
   "execution_count": 15,
   "metadata": {},
   "outputs": [
    {
     "data": {
      "text/plain": [
       "race_B\n",
       "0    11.151473\n",
       "1    12.340184\n",
       "Name: off_1_gs_max, dtype: float64"
      ]
     },
     "execution_count": 15,
     "metadata": {},
     "output_type": "execute_result"
    }
   ],
   "source": [
    "df_ic_all.groupby('race_B').mean()['off_1_gs_max']"
   ]
  },
  {
   "cell_type": "code",
   "execution_count": 16,
   "metadata": {},
   "outputs": [
    {
     "data": {
      "text/plain": [
       "race_B\n",
       "0    3.343002\n",
       "1    3.233183\n",
       "Name: prior_commits, dtype: float64"
      ]
     },
     "execution_count": 16,
     "metadata": {},
     "output_type": "execute_result"
    }
   ],
   "source": [
    "df_ic_all.groupby('race_B').mean()['prior_commits']"
   ]
  },
  {
   "cell_type": "markdown",
   "metadata": {},
   "source": [
    "#### Visualizations"
   ]
  },
  {
   "cell_type": "code",
   "execution_count": 17,
   "metadata": {},
   "outputs": [
    {
     "data": {
      "text/plain": [
       "Text(0, 0.5, 'Count of people')"
      ]
     },
     "execution_count": 17,
     "metadata": {},
     "output_type": "execute_result"
    },
    {
     "data": {
      "image/png": "[encoded data removed]",
      "text/plain": [
       "<Figure size 432x288 with 1 Axes>"
      ]
     },
     "metadata": {
      "needs_background": "light"
     },
     "output_type": "display_data"
    }
   ],
   "source": [
    "%matplotlib inline\n",
    "pd.crosstab(df_ic_all.race_B,df_ic_all.high_ic).plot(kind='bar')\n",
    "plt.title('Custody level by Black or not')\n",
    "plt.xlabel('Black')\n",
    "plt.ylabel('Count of people')"
   ]
  },
  {
   "cell_type": "code",
   "execution_count": 18,
   "metadata": {},
   "outputs": [
    {
     "data": {
      "text/plain": [
       "Text(0, 0.5, 'Proportion of people')"
      ]
     },
     "execution_count": 18,
     "metadata": {},
     "output_type": "execute_result"
    },
    {
     "data": {
      "image/png": "[encoded data removed]",
      "text/plain": [
       "<Figure size 432x288 with 1 Axes>"
      ]
     },
     "metadata": {
      "needs_background": "light"
     },
     "output_type": "display_data"
    }
   ],
   "source": [
    "table=pd.crosstab(df_ic_all.ic_institut_adj,df_ic_all.high_ic)\n",
    "table.div(table.sum(1).astype(float), axis=0).plot(kind='bar', stacked=True)\n",
    "plt.title('Stacked Bar Chart of Custody level vs Institutional Adjustment')\n",
    "plt.xlabel('Institutional adjustment')\n",
    "plt.ylabel('Proportion of people')"
   ]
  },
  {
   "cell_type": "code",
   "execution_count": 19,
   "metadata": {},
   "outputs": [
    {
     "data": {
      "text/plain": [
       "Text(0, 0.5, 'Proportion of people')"
      ]
     },
     "execution_count": 19,
     "metadata": {},
     "output_type": "execute_result"
    },
    {
     "data": {
      "image/png": "[encoded data removed]",
      "text/plain": [
       "<Figure size 432x288 with 1 Axes>"
      ]
     },
     "metadata": {
      "needs_background": "light"
     },
     "output_type": "display_data"
    }
   ],
   "source": [
    "table=pd.crosstab(df_ic_all.employed,df_ic_all.high_ic)\n",
    "table.div(table.sum(1).astype(float), axis=0).plot(kind='bar', stacked=True)\n",
    "plt.title('Stacked Bar Chart of Custody level vs Employment status')\n",
    "plt.xlabel('Employment status')\n",
    "plt.ylabel('Proportion of people')"
   ]
  },
  {
   "cell_type": "code",
   "execution_count": 20,
   "metadata": {},
   "outputs": [
    {
     "data": {
      "text/plain": [
       "Text(0, 0.5, 'Proportion of people')"
      ]
     },
     "execution_count": 20,
     "metadata": {},
     "output_type": "execute_result"
    },
    {
     "data": {
      "image/png": "[encoded data removed]",
      "text/plain": [
       "<Figure size 432x288 with 1 Axes>"
      ]
     },
     "metadata": {
      "needs_background": "light"
     },
     "output_type": "display_data"
    }
   ],
   "source": [
    "table=pd.crosstab(df_ic_all.gender_female,df_ic_all.high_ic)\n",
    "table.div(table.sum(1).astype(float), axis=0).plot(kind='bar', stacked=True)\n",
    "plt.title('Stacked Bar Chart of Custody level vs Female or not')\n",
    "plt.xlabel('Female')\n",
    "plt.ylabel('Proportion of people')"
   ]
  },
  {
   "cell_type": "markdown",
   "metadata": {},
   "source": [
    "### Building the full model with all features used by the PACT"
   ]
  },
  {
   "cell_type": "code",
   "execution_count": 21,
   "metadata": {},
   "outputs": [],
   "source": [
    "from sklearn.linear_model import LogisticRegression\n",
    "from sklearn.model_selection import train_test_split\n",
    "from sklearn import metrics\n",
    "from sklearn.metrics import classification_report\n",
    "from sklearn.metrics import roc_auc_score\n",
    "from sklearn.metrics import roc_curve"
   ]
  },
  {
   "cell_type": "code",
   "execution_count": 22,
   "metadata": {},
   "outputs": [],
   "source": [
    "data_final = df_ic_all"
   ]
  },
  {
   "cell_type": "code",
   "execution_count": 23,
   "metadata": {},
   "outputs": [
    {
     "name": "stdout",
     "output_type": "stream",
     "text": [
      "Optimization terminated successfully.\n",
      "         Current function value: 0.437898\n",
      "         Iterations 7\n",
      "                         Results: Logit\n",
      "=================================================================\n",
      "Model:              Logit            Pseudo R-squared: 0.361     \n",
      "Dependent Variable: high_ic          AIC:              12137.1222\n",
      "Date:               2021-12-03 22:18 BIC:              12280.2589\n",
      "No. Observations:   13815            Log-Likelihood:   -6049.6   \n",
      "Df Model:           18               LL-Null:          -9472.8   \n",
      "Df Residuals:       13796            LLR p-value:      0.0000    \n",
      "Converged:          1.0000           Scale:            1.0000    \n",
      "No. Iterations:     7.0000                                       \n",
      "-----------------------------------------------------------------\n",
      "                  Coef.  Std.Err.    z     P>|z|   [0.025  0.975]\n",
      "-----------------------------------------------------------------\n",
      "age_gt_45        -1.2860   0.0696 -18.4665 0.0000 -1.4225 -1.1495\n",
      "ic_institut_adj   0.7361   0.0185  39.6932 0.0000  0.6997  0.7724\n",
      "escape_hist_1    -1.1611   0.0487 -23.8299 0.0000 -1.2566 -1.0656\n",
      "escape_hist_5     1.3892   0.2082   6.6718 0.0000  0.9811  1.7973\n",
      "mrt_stat_DIV     -1.8194   0.0961 -18.9245 0.0000 -2.0079 -1.6310\n",
      "mrt_stat_SEP     -1.9666   0.1174 -16.7565 0.0000 -2.1966 -1.7365\n",
      "mrt_stat_MAR     -1.4545   0.0782 -18.5992 0.0000 -1.6077 -1.3012\n",
      "mrt_stat_WID     -0.9711   0.2040  -4.7600 0.0000 -1.3710 -0.5712\n",
      "employed         -1.1164   0.0551 -20.2569 0.0000 -1.2245 -1.0084\n",
      "race_B            0.2360   0.0518   4.5585 0.0000  0.1345  0.3374\n",
      "race_A            1.0809   0.4825   2.2404 0.0251  0.1353  2.0265\n",
      "race_H           -0.1501   0.0789  -1.9026 0.0571 -0.3048  0.0045\n",
      "race_I            1.4281   0.7679   1.8598 0.0629 -0.0769  2.9331\n",
      "race_O           -0.0271   0.3642  -0.0744 0.9407 -0.7409  0.6868\n",
      "off_1_gs_max     -0.0279   0.0057  -4.8824 0.0000 -0.0392 -0.0167\n",
      "off_1_prs_max    -0.0426   0.0193  -2.2109 0.0270 -0.0803 -0.0048\n",
      "prior_commits    -0.0426   0.0071  -5.9626 0.0000 -0.0566 -0.0286\n",
      "age_lt_25         0.3759   0.0611   6.1571 0.0000  0.2563  0.4956\n",
      "gender_female    -1.0848   0.1249  -8.6855 0.0000 -1.3296 -0.8400\n",
      "=================================================================\n",
      "\n",
      "                       OR        z-value      2.5%      97.5%\n",
      "age_gt_45        0.276370   3.841796e-76  0.241108   0.316788\n",
      "ic_institut_adj  2.087734   0.000000e+00  2.013215   2.165010\n",
      "escape_hist_1    0.313151  1.637142e-125  0.284630   0.344530\n",
      "escape_hist_5    4.011488   2.526451e-11  2.667313   6.033051\n",
      "mrt_stat_DIV     0.162120   7.165302e-80  0.134277   0.195736\n",
      "mrt_stat_SEP     0.139938   5.080266e-63  0.111183   0.176130\n",
      "mrt_stat_MAR     0.233525   3.259833e-77  0.200341   0.272206\n",
      "mrt_stat_WID     0.378662   1.936199e-06  0.253859   0.564821\n",
      "employed         0.327441   3.088106e-91  0.293914   0.364794\n",
      "race_B           1.266143   5.151480e-06  1.143983   1.401347\n",
      "race_A           2.947295   2.506634e-02  1.144867   7.587389\n",
      "race_H           0.860596   5.708859e-02  0.737282   1.004534\n",
      "race_I           4.170659   6.291484e-02  0.925966  18.785144\n",
      "race_O           0.973272   9.407063e-01  0.476663   1.987272\n",
      "off_1_gs_max     0.972450   1.048198e-06  0.961606   0.983417\n",
      "off_1_prs_max    0.958308   2.704107e-02  0.922805   0.995178\n",
      "prior_commits    0.958314   2.483260e-09  0.944994   0.971821\n",
      "age_lt_25        1.456340   7.409221e-10  1.292088   1.641473\n",
      "gender_female    0.337977   3.769223e-18  0.264592   0.431715\n",
      "\n",
      "Accuracy of logistic regression classifier on test set: 0.83\n",
      "\n",
      "\n",
      "[[1471  360]\n",
      " [ 335 1979]]\n",
      "\n",
      "\n",
      "              precision    recall  f1-score   support\n",
      "\n",
      "           0       0.81      0.80      0.81      1831\n",
      "           1       0.85      0.86      0.85      2314\n",
      "\n",
      "    accuracy                           0.83      4145\n",
      "   macro avg       0.83      0.83      0.83      4145\n",
      "weighted avg       0.83      0.83      0.83      4145\n",
      "\n"
     ]
    },
    {
     "data": {
      "image/png": "[encoded data removed]",
      "text/plain": [
       "<Figure size 432x288 with 1 Axes>"
      ]
     },
     "metadata": {
      "needs_background": "light"
     },
     "output_type": "display_data"
    }
   ],
   "source": [
    "#We ommitted escape histories 2, 3 and 4 because they were highly correlated with escape history 1\n",
    "#and because we want to know if they're frequent escapees or not, and not necessarily how many times\n",
    "\n",
    "data_final_vars=data_final.columns.values.tolist()\n",
    "yvars = ['high_ic']\n",
    "Xvars = [i for i in data_final_vars if i not in yvars]\n",
    "X = data_final.loc[:, data_final.columns != 'high_ic']\n",
    "y = data_final.loc[:, data_final.columns == 'high_ic']\n",
    "ll = ['age_gt_45',\n",
    " 'ic_institut_adj',\n",
    " 'escape_hist_1',\n",
    " #'escape_hist_2',\n",
    " #'escape_hist_3',\n",
    " #'escape_hist_4',\n",
    " 'escape_hist_5',\n",
    " 'mrt_stat_DIV',\n",
    " 'mrt_stat_SEP',\n",
    " 'mrt_stat_MAR',\n",
    " 'mrt_stat_WID',\n",
    " 'employed']\n",
    "ll.append('race_B')\n",
    "ll.append('race_A')\n",
    "ll.append('race_H')\n",
    "ll.append('race_I')\n",
    "ll.append('race_O')\n",
    "ll.append('off_1_gs_max')\n",
    "ll.append('off_1_prs_max')\n",
    "ll.append('prior_commits')\n",
    "ll.append('age_lt_25')\n",
    "ll.append('gender_female')\n",
    "X = X[ll]\n",
    "logit_model=sm.Logit(y,X)\n",
    "result=logit_model.fit()\n",
    "print(result.summary2())\n",
    "\n",
    "model_odds = pd.DataFrame(np.exp(result.params), columns= ['OR'])\n",
    "model_odds['z-value']= result.pvalues\n",
    "model_odds[['2.5%', '97.5%']] = np.exp(result.conf_int())\n",
    "print(model_odds)\n",
    "\n",
    "X_train, X_test, y_train, y_test = train_test_split(X, y, test_size=0.3, random_state=0)\n",
    "logreg = LogisticRegression(max_iter=1000)\n",
    "logreg.fit(X_train, y_train.values.ravel())\n",
    "y_pred = logreg.predict(X_test)\n",
    "print('\\nAccuracy of logistic regression classifier on test set: {:.2f}'.format(logreg.score(X_test, y_test)))\n",
    "\n",
    "from sklearn.metrics import confusion_matrix\n",
    "cm = confusion_matrix(y_test, y_pred)\n",
    "print(\"\\n\")\n",
    "print(cm)\n",
    "print(\"\\n\")\n",
    "print(classification_report(y_test, y_pred))\n",
    "\n",
    "logit_roc_auc = roc_auc_score(y_test, logreg.predict(X_test))\n",
    "fpr, tpr, thresholds = roc_curve(y_test, logreg.predict_proba(X_test)[:,1])\n",
    "plt.figure()\n",
    "plt.plot(fpr, tpr, label='Logistic Regression (area = %0.2f)' % logit_roc_auc)\n",
    "plt.plot([0, 1], [0, 1],'r--')\n",
    "plt.xlim([0.0, 1.0])\n",
    "plt.ylim([0.0, 1.05])\n",
    "plt.xlabel('False Positive Rate')\n",
    "plt.ylabel('True Positive Rate')\n",
    "plt.title('Receiver operating characteristic')\n",
    "plt.legend(loc=\"lower right\")\n",
    "plt.show()\n"
   ]
  },
  {
   "cell_type": "markdown",
   "metadata": {},
   "source": [
    "#### Checking conditions on this model"
   ]
  },
  {
   "cell_type": "code",
   "execution_count": 24,
   "metadata": {},
   "outputs": [
    {
     "name": "stdout",
     "output_type": "stream",
     "text": [
      "-0.3625729098397436\n",
      "0.2716285891254191\n"
     ]
    }
   ],
   "source": [
    "# Absence of colinearity\n",
    "Xc = np.asarray(X.corr())\n",
    "print(Xc.min())\n",
    "print(Xc[Xc < 1].max())"
   ]
  },
  {
   "cell_type": "code",
   "execution_count": 25,
   "metadata": {},
   "outputs": [
    {
     "data": {
      "text/html": [
       "<div>\n",
       "<style scoped>\n",
       "    .dataframe tbody tr th:only-of-type {\n",
       "        vertical-align: middle;\n",
       "    }\n",
       "\n",
       "    .dataframe tbody tr th {\n",
       "        vertical-align: top;\n",
       "    }\n",
       "\n",
       "    .dataframe thead th {\n",
       "        text-align: right;\n",
       "    }\n",
       "</style>\n",
       "<table border=\"1\" class=\"dataframe\">\n",
       "  <thead>\n",
       "    <tr style=\"text-align: right;\">\n",
       "      <th></th>\n",
       "      <th>age_gt_45</th>\n",
       "      <th>ic_institut_adj</th>\n",
       "      <th>escape_hist_1</th>\n",
       "      <th>escape_hist_5</th>\n",
       "      <th>mrt_stat_DIV</th>\n",
       "      <th>mrt_stat_SEP</th>\n",
       "      <th>mrt_stat_MAR</th>\n",
       "      <th>mrt_stat_WID</th>\n",
       "      <th>employed</th>\n",
       "      <th>race_B</th>\n",
       "      <th>race_A</th>\n",
       "      <th>race_H</th>\n",
       "      <th>race_I</th>\n",
       "      <th>race_O</th>\n",
       "      <th>off_1_gs_max</th>\n",
       "      <th>off_1_prs_max</th>\n",
       "      <th>prior_commits</th>\n",
       "      <th>age_lt_25</th>\n",
       "      <th>gender_female</th>\n",
       "    </tr>\n",
       "  </thead>\n",
       "  <tbody>\n",
       "    <tr>\n",
       "      <th>age_gt_45</th>\n",
       "      <td>1.000000</td>\n",
       "      <td>-0.198292</td>\n",
       "      <td>0.036324</td>\n",
       "      <td>-0.040152</td>\n",
       "      <td>0.271629</td>\n",
       "      <td>0.068148</td>\n",
       "      <td>0.100073</td>\n",
       "      <td>0.115500</td>\n",
       "      <td>0.114381</td>\n",
       "      <td>-0.103700</td>\n",
       "      <td>-0.000714</td>\n",
       "      <td>-0.047862</td>\n",
       "      <td>0.005757</td>\n",
       "      <td>-0.009228</td>\n",
       "      <td>-0.097557</td>\n",
       "      <td>0.067116</td>\n",
       "      <td>0.203549</td>\n",
       "      <td>-0.249819</td>\n",
       "      <td>0.005241</td>\n",
       "    </tr>\n",
       "    <tr>\n",
       "      <th>ic_institut_adj</th>\n",
       "      <td>-0.198292</td>\n",
       "      <td>1.000000</td>\n",
       "      <td>-0.069795</td>\n",
       "      <td>0.082658</td>\n",
       "      <td>-0.114433</td>\n",
       "      <td>-0.059488</td>\n",
       "      <td>-0.094304</td>\n",
       "      <td>-0.039029</td>\n",
       "      <td>-0.157529</td>\n",
       "      <td>0.141996</td>\n",
       "      <td>-0.014481</td>\n",
       "      <td>0.027124</td>\n",
       "      <td>0.005421</td>\n",
       "      <td>0.005378</td>\n",
       "      <td>0.076324</td>\n",
       "      <td>-0.004263</td>\n",
       "      <td>-0.038069</td>\n",
       "      <td>0.238531</td>\n",
       "      <td>-0.012389</td>\n",
       "    </tr>\n",
       "    <tr>\n",
       "      <th>escape_hist_1</th>\n",
       "      <td>0.036324</td>\n",
       "      <td>-0.069795</td>\n",
       "      <td>1.000000</td>\n",
       "      <td>-0.163816</td>\n",
       "      <td>0.040004</td>\n",
       "      <td>0.022963</td>\n",
       "      <td>0.025134</td>\n",
       "      <td>0.019090</td>\n",
       "      <td>0.116160</td>\n",
       "      <td>-0.062252</td>\n",
       "      <td>0.013838</td>\n",
       "      <td>-0.005512</td>\n",
       "      <td>-0.005951</td>\n",
       "      <td>-0.000276</td>\n",
       "      <td>0.105121</td>\n",
       "      <td>-0.122262</td>\n",
       "      <td>-0.334744</td>\n",
       "      <td>0.073472</td>\n",
       "      <td>0.023615</td>\n",
       "    </tr>\n",
       "    <tr>\n",
       "      <th>escape_hist_5</th>\n",
       "      <td>-0.040152</td>\n",
       "      <td>0.082658</td>\n",
       "      <td>-0.163816</td>\n",
       "      <td>1.000000</td>\n",
       "      <td>-0.016387</td>\n",
       "      <td>-0.012601</td>\n",
       "      <td>-0.004069</td>\n",
       "      <td>-0.011420</td>\n",
       "      <td>-0.035352</td>\n",
       "      <td>0.002637</td>\n",
       "      <td>0.010037</td>\n",
       "      <td>0.000354</td>\n",
       "      <td>-0.005217</td>\n",
       "      <td>-0.010038</td>\n",
       "      <td>-0.052512</td>\n",
       "      <td>-0.003258</td>\n",
       "      <td>0.029433</td>\n",
       "      <td>0.031762</td>\n",
       "      <td>-0.013423</td>\n",
       "    </tr>\n",
       "    <tr>\n",
       "      <th>mrt_stat_DIV</th>\n",
       "      <td>0.271629</td>\n",
       "      <td>-0.114433</td>\n",
       "      <td>0.040004</td>\n",
       "      <td>-0.016387</td>\n",
       "      <td>1.000000</td>\n",
       "      <td>-0.067926</td>\n",
       "      <td>-0.102458</td>\n",
       "      <td>-0.034823</td>\n",
       "      <td>0.112132</td>\n",
       "      <td>-0.177743</td>\n",
       "      <td>-0.014814</td>\n",
       "      <td>-0.036396</td>\n",
       "      <td>-0.001031</td>\n",
       "      <td>-0.000635</td>\n",
       "      <td>-0.035792</td>\n",
       "      <td>-0.029074</td>\n",
       "      <td>0.036456</td>\n",
       "      <td>-0.171271</td>\n",
       "      <td>0.002811</td>\n",
       "    </tr>\n",
       "    <tr>\n",
       "      <th>mrt_stat_SEP</th>\n",
       "      <td>0.068148</td>\n",
       "      <td>-0.059488</td>\n",
       "      <td>0.022963</td>\n",
       "      <td>-0.012601</td>\n",
       "      <td>-0.067926</td>\n",
       "      <td>1.000000</td>\n",
       "      <td>-0.073633</td>\n",
       "      <td>-0.025026</td>\n",
       "      <td>0.056731</td>\n",
       "      <td>-0.070018</td>\n",
       "      <td>-0.010646</td>\n",
       "      <td>-0.016290</td>\n",
       "      <td>0.004426</td>\n",
       "      <td>0.004473</td>\n",
       "      <td>-0.025622</td>\n",
       "      <td>-0.005067</td>\n",
       "      <td>0.018166</td>\n",
       "      <td>-0.112079</td>\n",
       "      <td>0.018519</td>\n",
       "    </tr>\n",
       "    <tr>\n",
       "      <th>mrt_stat_MAR</th>\n",
       "      <td>0.100073</td>\n",
       "      <td>-0.094304</td>\n",
       "      <td>0.025134</td>\n",
       "      <td>-0.004069</td>\n",
       "      <td>-0.102458</td>\n",
       "      <td>-0.073633</td>\n",
       "      <td>1.000000</td>\n",
       "      <td>-0.037749</td>\n",
       "      <td>0.137970</td>\n",
       "      <td>-0.069920</td>\n",
       "      <td>0.014062</td>\n",
       "      <td>0.003111</td>\n",
       "      <td>0.013384</td>\n",
       "      <td>0.009030</td>\n",
       "      <td>0.001687</td>\n",
       "      <td>0.016908</td>\n",
       "      <td>0.015858</td>\n",
       "      <td>-0.150253</td>\n",
       "      <td>0.012240</td>\n",
       "    </tr>\n",
       "    <tr>\n",
       "      <th>mrt_stat_WID</th>\n",
       "      <td>0.115500</td>\n",
       "      <td>-0.039029</td>\n",
       "      <td>0.019090</td>\n",
       "      <td>-0.011420</td>\n",
       "      <td>-0.034823</td>\n",
       "      <td>-0.025026</td>\n",
       "      <td>-0.037749</td>\n",
       "      <td>1.000000</td>\n",
       "      <td>0.042901</td>\n",
       "      <td>-0.044680</td>\n",
       "      <td>-0.005458</td>\n",
       "      <td>-0.024025</td>\n",
       "      <td>-0.003476</td>\n",
       "      <td>0.026311</td>\n",
       "      <td>0.011914</td>\n",
       "      <td>-0.010611</td>\n",
       "      <td>0.012969</td>\n",
       "      <td>-0.059909</td>\n",
       "      <td>0.060434</td>\n",
       "    </tr>\n",
       "    <tr>\n",
       "      <th>employed</th>\n",
       "      <td>0.114381</td>\n",
       "      <td>-0.157529</td>\n",
       "      <td>0.116160</td>\n",
       "      <td>-0.035352</td>\n",
       "      <td>0.112132</td>\n",
       "      <td>0.056731</td>\n",
       "      <td>0.137970</td>\n",
       "      <td>0.042901</td>\n",
       "      <td>1.000000</td>\n",
       "      <td>-0.127797</td>\n",
       "      <td>-0.000168</td>\n",
       "      <td>-0.049286</td>\n",
       "      <td>0.006480</td>\n",
       "      <td>0.025028</td>\n",
       "      <td>-0.034565</td>\n",
       "      <td>-0.039719</td>\n",
       "      <td>-0.058357</td>\n",
       "      <td>-0.181530</td>\n",
       "      <td>-0.001099</td>\n",
       "    </tr>\n",
       "    <tr>\n",
       "      <th>race_B</th>\n",
       "      <td>-0.103700</td>\n",
       "      <td>0.141996</td>\n",
       "      <td>-0.062252</td>\n",
       "      <td>0.002637</td>\n",
       "      <td>-0.177743</td>\n",
       "      <td>-0.070018</td>\n",
       "      <td>-0.069920</td>\n",
       "      <td>-0.044680</td>\n",
       "      <td>-0.127797</td>\n",
       "      <td>1.000000</td>\n",
       "      <td>-0.050997</td>\n",
       "      <td>-0.362573</td>\n",
       "      <td>-0.032482</td>\n",
       "      <td>-0.062495</td>\n",
       "      <td>0.193031</td>\n",
       "      <td>0.099250</td>\n",
       "      <td>-0.016123</td>\n",
       "      <td>0.184157</td>\n",
       "      <td>-0.053614</td>\n",
       "    </tr>\n",
       "    <tr>\n",
       "      <th>race_A</th>\n",
       "      <td>-0.000714</td>\n",
       "      <td>-0.014481</td>\n",
       "      <td>0.013838</td>\n",
       "      <td>0.010037</td>\n",
       "      <td>-0.014814</td>\n",
       "      <td>-0.010646</td>\n",
       "      <td>0.014062</td>\n",
       "      <td>-0.005458</td>\n",
       "      <td>-0.000168</td>\n",
       "      <td>-0.050997</td>\n",
       "      <td>1.000000</td>\n",
       "      <td>-0.016507</td>\n",
       "      <td>-0.001479</td>\n",
       "      <td>-0.002845</td>\n",
       "      <td>0.016681</td>\n",
       "      <td>-0.002266</td>\n",
       "      <td>-0.015110</td>\n",
       "      <td>0.004127</td>\n",
       "      <td>-0.000184</td>\n",
       "    </tr>\n",
       "    <tr>\n",
       "      <th>race_H</th>\n",
       "      <td>-0.047862</td>\n",
       "      <td>0.027124</td>\n",
       "      <td>-0.005512</td>\n",
       "      <td>0.000354</td>\n",
       "      <td>-0.036396</td>\n",
       "      <td>-0.016290</td>\n",
       "      <td>0.003111</td>\n",
       "      <td>-0.024025</td>\n",
       "      <td>-0.049286</td>\n",
       "      <td>-0.362573</td>\n",
       "      <td>-0.016507</td>\n",
       "      <td>1.000000</td>\n",
       "      <td>-0.010514</td>\n",
       "      <td>-0.020228</td>\n",
       "      <td>0.051604</td>\n",
       "      <td>0.012871</td>\n",
       "      <td>-0.017672</td>\n",
       "      <td>0.004566</td>\n",
       "      <td>0.007630</td>\n",
       "    </tr>\n",
       "    <tr>\n",
       "      <th>race_I</th>\n",
       "      <td>0.005757</td>\n",
       "      <td>0.005421</td>\n",
       "      <td>-0.005951</td>\n",
       "      <td>-0.005217</td>\n",
       "      <td>-0.001031</td>\n",
       "      <td>0.004426</td>\n",
       "      <td>0.013384</td>\n",
       "      <td>-0.003476</td>\n",
       "      <td>0.006480</td>\n",
       "      <td>-0.032482</td>\n",
       "      <td>-0.001479</td>\n",
       "      <td>-0.010514</td>\n",
       "      <td>1.000000</td>\n",
       "      <td>-0.001812</td>\n",
       "      <td>0.002201</td>\n",
       "      <td>0.005443</td>\n",
       "      <td>0.009231</td>\n",
       "      <td>-0.011963</td>\n",
       "      <td>0.021286</td>\n",
       "    </tr>\n",
       "    <tr>\n",
       "      <th>race_O</th>\n",
       "      <td>-0.009228</td>\n",
       "      <td>0.005378</td>\n",
       "      <td>-0.000276</td>\n",
       "      <td>-0.010038</td>\n",
       "      <td>-0.000635</td>\n",
       "      <td>0.004473</td>\n",
       "      <td>0.009030</td>\n",
       "      <td>0.026311</td>\n",
       "      <td>0.025028</td>\n",
       "      <td>-0.062495</td>\n",
       "      <td>-0.002845</td>\n",
       "      <td>-0.020228</td>\n",
       "      <td>-0.001812</td>\n",
       "      <td>1.000000</td>\n",
       "      <td>-0.001767</td>\n",
       "      <td>-0.003304</td>\n",
       "      <td>-0.016164</td>\n",
       "      <td>-0.016411</td>\n",
       "      <td>0.017269</td>\n",
       "    </tr>\n",
       "    <tr>\n",
       "      <th>off_1_gs_max</th>\n",
       "      <td>-0.097557</td>\n",
       "      <td>0.076324</td>\n",
       "      <td>0.105121</td>\n",
       "      <td>-0.052512</td>\n",
       "      <td>-0.035792</td>\n",
       "      <td>-0.025622</td>\n",
       "      <td>0.001687</td>\n",
       "      <td>0.011914</td>\n",
       "      <td>-0.034565</td>\n",
       "      <td>0.193031</td>\n",
       "      <td>0.016681</td>\n",
       "      <td>0.051604</td>\n",
       "      <td>0.002201</td>\n",
       "      <td>-0.001767</td>\n",
       "      <td>1.000000</td>\n",
       "      <td>0.011254</td>\n",
       "      <td>-0.235855</td>\n",
       "      <td>0.124023</td>\n",
       "      <td>-0.024615</td>\n",
       "    </tr>\n",
       "    <tr>\n",
       "      <th>off_1_prs_max</th>\n",
       "      <td>0.067116</td>\n",
       "      <td>-0.004263</td>\n",
       "      <td>-0.122262</td>\n",
       "      <td>-0.003258</td>\n",
       "      <td>-0.029074</td>\n",
       "      <td>-0.005067</td>\n",
       "      <td>0.016908</td>\n",
       "      <td>-0.010611</td>\n",
       "      <td>-0.039719</td>\n",
       "      <td>0.099250</td>\n",
       "      <td>-0.002266</td>\n",
       "      <td>0.012871</td>\n",
       "      <td>0.005443</td>\n",
       "      <td>-0.003304</td>\n",
       "      <td>0.011254</td>\n",
       "      <td>1.000000</td>\n",
       "      <td>0.229304</td>\n",
       "      <td>-0.079758</td>\n",
       "      <td>-0.054990</td>\n",
       "    </tr>\n",
       "    <tr>\n",
       "      <th>prior_commits</th>\n",
       "      <td>0.203549</td>\n",
       "      <td>-0.038069</td>\n",
       "      <td>-0.334744</td>\n",
       "      <td>0.029433</td>\n",
       "      <td>0.036456</td>\n",
       "      <td>0.018166</td>\n",
       "      <td>0.015858</td>\n",
       "      <td>0.012969</td>\n",
       "      <td>-0.058357</td>\n",
       "      <td>-0.016123</td>\n",
       "      <td>-0.015110</td>\n",
       "      <td>-0.017672</td>\n",
       "      <td>0.009231</td>\n",
       "      <td>-0.016164</td>\n",
       "      <td>-0.235855</td>\n",
       "      <td>0.229304</td>\n",
       "      <td>1.000000</td>\n",
       "      <td>-0.257409</td>\n",
       "      <td>-0.033264</td>\n",
       "    </tr>\n",
       "    <tr>\n",
       "      <th>age_lt_25</th>\n",
       "      <td>-0.249819</td>\n",
       "      <td>0.238531</td>\n",
       "      <td>0.073472</td>\n",
       "      <td>0.031762</td>\n",
       "      <td>-0.171271</td>\n",
       "      <td>-0.112079</td>\n",
       "      <td>-0.150253</td>\n",
       "      <td>-0.059909</td>\n",
       "      <td>-0.181530</td>\n",
       "      <td>0.184157</td>\n",
       "      <td>0.004127</td>\n",
       "      <td>0.004566</td>\n",
       "      <td>-0.011963</td>\n",
       "      <td>-0.016411</td>\n",
       "      <td>0.124023</td>\n",
       "      <td>-0.079758</td>\n",
       "      <td>-0.257409</td>\n",
       "      <td>1.000000</td>\n",
       "      <td>-0.041966</td>\n",
       "    </tr>\n",
       "    <tr>\n",
       "      <th>gender_female</th>\n",
       "      <td>0.005241</td>\n",
       "      <td>-0.012389</td>\n",
       "      <td>0.023615</td>\n",
       "      <td>-0.013423</td>\n",
       "      <td>0.002811</td>\n",
       "      <td>0.018519</td>\n",
       "      <td>0.012240</td>\n",
       "      <td>0.060434</td>\n",
       "      <td>-0.001099</td>\n",
       "      <td>-0.053614</td>\n",
       "      <td>-0.000184</td>\n",
       "      <td>0.007630</td>\n",
       "      <td>0.021286</td>\n",
       "      <td>0.017269</td>\n",
       "      <td>-0.024615</td>\n",
       "      <td>-0.054990</td>\n",
       "      <td>-0.033264</td>\n",
       "      <td>-0.041966</td>\n",
       "      <td>1.000000</td>\n",
       "    </tr>\n",
       "  </tbody>\n",
       "</table>\n",
       "</div>"
      ],
      "text/plain": [
       "                 age_gt_45  ic_institut_adj  escape_hist_1  escape_hist_5  \\\n",
       "age_gt_45         1.000000        -0.198292       0.036324      -0.040152   \n",
       "ic_institut_adj  -0.198292         1.000000      -0.069795       0.082658   \n",
       "escape_hist_1     0.036324        -0.069795       1.000000      -0.163816   \n",
       "escape_hist_5    -0.040152         0.082658      -0.163816       1.000000   \n",
       "mrt_stat_DIV      0.271629        -0.114433       0.040004      -0.016387   \n",
       "mrt_stat_SEP      0.068148        -0.059488       0.022963      -0.012601   \n",
       "mrt_stat_MAR      0.100073        -0.094304       0.025134      -0.004069   \n",
       "mrt_stat_WID      0.115500        -0.039029       0.019090      -0.011420   \n",
       "employed          0.114381        -0.157529       0.116160      -0.035352   \n",
       "race_B           -0.103700         0.141996      -0.062252       0.002637   \n",
       "race_A           -0.000714        -0.014481       0.013838       0.010037   \n",
       "race_H           -0.047862         0.027124      -0.005512       0.000354   \n",
       "race_I            0.005757         0.005421      -0.005951      -0.005217   \n",
       "race_O           -0.009228         0.005378      -0.000276      -0.010038   \n",
       "off_1_gs_max     -0.097557         0.076324       0.105121      -0.052512   \n",
       "off_1_prs_max     0.067116        -0.004263      -0.122262      -0.003258   \n",
       "prior_commits     0.203549        -0.038069      -0.334744       0.029433   \n",
       "age_lt_25        -0.249819         0.238531       0.073472       0.031762   \n",
       "gender_female     0.005241        -0.012389       0.023615      -0.013423   \n",
       "\n",
       "                 mrt_stat_DIV  mrt_stat_SEP  mrt_stat_MAR  mrt_stat_WID  \\\n",
       "age_gt_45            0.271629      0.068148      0.100073      0.115500   \n",
       "ic_institut_adj     -0.114433     -0.059488     -0.094304     -0.039029   \n",
       "escape_hist_1        0.040004      0.022963      0.025134      0.019090   \n",
       "escape_hist_5       -0.016387     -0.012601     -0.004069     -0.011420   \n",
       "mrt_stat_DIV         1.000000     -0.067926     -0.102458     -0.034823   \n",
       "mrt_stat_SEP        -0.067926      1.000000     -0.073633     -0.025026   \n",
       "mrt_stat_MAR        -0.102458     -0.073633      1.000000     -0.037749   \n",
       "mrt_stat_WID        -0.034823     -0.025026     -0.037749      1.000000   \n",
       "employed             0.112132      0.056731      0.137970      0.042901   \n",
       "race_B              -0.177743     -0.070018     -0.069920     -0.044680   \n",
       "race_A              -0.014814     -0.010646      0.014062     -0.005458   \n",
       "race_H              -0.036396     -0.016290      0.003111     -0.024025   \n",
       "race_I              -0.001031      0.004426      0.013384     -0.003476   \n",
       "race_O              -0.000635      0.004473      0.009030      0.026311   \n",
       "off_1_gs_max        -0.035792     -0.025622      0.001687      0.011914   \n",
       "off_1_prs_max       -0.029074     -0.005067      0.016908     -0.010611   \n",
       "prior_commits        0.036456      0.018166      0.015858      0.012969   \n",
       "age_lt_25           -0.171271     -0.112079     -0.150253     -0.059909   \n",
       "gender_female        0.002811      0.018519      0.012240      0.060434   \n",
       "\n",
       "                 employed    race_B    race_A    race_H    race_I    race_O  \\\n",
       "age_gt_45        0.114381 -0.103700 -0.000714 -0.047862  0.005757 -0.009228   \n",
       "ic_institut_adj -0.157529  0.141996 -0.014481  0.027124  0.005421  0.005378   \n",
       "escape_hist_1    0.116160 -0.062252  0.013838 -0.005512 -0.005951 -0.000276   \n",
       "escape_hist_5   -0.035352  0.002637  0.010037  0.000354 -0.005217 -0.010038   \n",
       "mrt_stat_DIV     0.112132 -0.177743 -0.014814 -0.036396 -0.001031 -0.000635   \n",
       "mrt_stat_SEP     0.056731 -0.070018 -0.010646 -0.016290  0.004426  0.004473   \n",
       "mrt_stat_MAR     0.137970 -0.069920  0.014062  0.003111  0.013384  0.009030   \n",
       "mrt_stat_WID     0.042901 -0.044680 -0.005458 -0.024025 -0.003476  0.026311   \n",
       "employed         1.000000 -0.127797 -0.000168 -0.049286  0.006480  0.025028   \n",
       "race_B          -0.127797  1.000000 -0.050997 -0.362573 -0.032482 -0.062495   \n",
       "race_A          -0.000168 -0.050997  1.000000 -0.016507 -0.001479 -0.002845   \n",
       "race_H          -0.049286 -0.362573 -0.016507  1.000000 -0.010514 -0.020228   \n",
       "race_I           0.006480 -0.032482 -0.001479 -0.010514  1.000000 -0.001812   \n",
       "race_O           0.025028 -0.062495 -0.002845 -0.020228 -0.001812  1.000000   \n",
       "off_1_gs_max    -0.034565  0.193031  0.016681  0.051604  0.002201 -0.001767   \n",
       "off_1_prs_max   -0.039719  0.099250 -0.002266  0.012871  0.005443 -0.003304   \n",
       "prior_commits   -0.058357 -0.016123 -0.015110 -0.017672  0.009231 -0.016164   \n",
       "age_lt_25       -0.181530  0.184157  0.004127  0.004566 -0.011963 -0.016411   \n",
       "gender_female   -0.001099 -0.053614 -0.000184  0.007630  0.021286  0.017269   \n",
       "\n",
       "                 off_1_gs_max  off_1_prs_max  prior_commits  age_lt_25  \\\n",
       "age_gt_45           -0.097557       0.067116       0.203549  -0.249819   \n",
       "ic_institut_adj      0.076324      -0.004263      -0.038069   0.238531   \n",
       "escape_hist_1        0.105121      -0.122262      -0.334744   0.073472   \n",
       "escape_hist_5       -0.052512      -0.003258       0.029433   0.031762   \n",
       "mrt_stat_DIV        -0.035792      -0.029074       0.036456  -0.171271   \n",
       "mrt_stat_SEP        -0.025622      -0.005067       0.018166  -0.112079   \n",
       "mrt_stat_MAR         0.001687       0.016908       0.015858  -0.150253   \n",
       "mrt_stat_WID         0.011914      -0.010611       0.012969  -0.059909   \n",
       "employed            -0.034565      -0.039719      -0.058357  -0.181530   \n",
       "race_B               0.193031       0.099250      -0.016123   0.184157   \n",
       "race_A               0.016681      -0.002266      -0.015110   0.004127   \n",
       "race_H               0.051604       0.012871      -0.017672   0.004566   \n",
       "race_I               0.002201       0.005443       0.009231  -0.011963   \n",
       "race_O              -0.001767      -0.003304      -0.016164  -0.016411   \n",
       "off_1_gs_max         1.000000       0.011254      -0.235855   0.124023   \n",
       "off_1_prs_max        0.011254       1.000000       0.229304  -0.079758   \n",
       "prior_commits       -0.235855       0.229304       1.000000  -0.257409   \n",
       "age_lt_25            0.124023      -0.079758      -0.257409   1.000000   \n",
       "gender_female       -0.024615      -0.054990      -0.033264  -0.041966   \n",
       "\n",
       "                 gender_female  \n",
       "age_gt_45             0.005241  \n",
       "ic_institut_adj      -0.012389  \n",
       "escape_hist_1         0.023615  \n",
       "escape_hist_5        -0.013423  \n",
       "mrt_stat_DIV          0.002811  \n",
       "mrt_stat_SEP          0.018519  \n",
       "mrt_stat_MAR          0.012240  \n",
       "mrt_stat_WID          0.060434  \n",
       "employed             -0.001099  \n",
       "race_B               -0.053614  \n",
       "race_A               -0.000184  \n",
       "race_H                0.007630  \n",
       "race_I                0.021286  \n",
       "race_O                0.017269  \n",
       "off_1_gs_max         -0.024615  \n",
       "off_1_prs_max        -0.054990  \n",
       "prior_commits        -0.033264  \n",
       "age_lt_25            -0.041966  \n",
       "gender_female         1.000000  "
      ]
     },
     "execution_count": 25,
     "metadata": {},
     "output_type": "execute_result"
    }
   ],
   "source": [
    "X.corr()"
   ]
  },
  {
   "cell_type": "markdown",
   "metadata": {},
   "source": [
    "#### Continuous IVs linearly related to log odss"
   ]
  },
  {
   "cell_type": "code",
   "execution_count": 26,
   "metadata": {},
   "outputs": [
    {
     "data": {
      "image/png": "[encoded data removed]",
      "text/plain": [
       "<Figure size 432x288 with 1 Axes>"
      ]
     },
     "metadata": {
      "needs_background": "light"
     },
     "output_type": "display_data"
    }
   ],
   "source": [
    "prior_commits = sns.regplot(x= 'prior_commits', y= 'high_ic', data=data_final, logistic= True).set_title(\"Prior Commits Log Odds Linear Plot\")\n",
    "\n"
   ]
  },
  {
   "cell_type": "code",
   "execution_count": 27,
   "metadata": {},
   "outputs": [
    {
     "data": {
      "image/png": "[encoded data removed]",
      "text/plain": [
       "<Figure size 432x288 with 1 Axes>"
      ]
     },
     "metadata": {
      "needs_background": "light"
     },
     "output_type": "display_data"
    }
   ],
   "source": [
    "off_1_gs_max = sns.regplot(x= 'off_1_gs_max', y= 'high_ic', data=data_final, logistic= True).set_title(\"Offense gravity score Log Odds Linear Plot\")\n"
   ]
  },
  {
   "cell_type": "code",
   "execution_count": 28,
   "metadata": {},
   "outputs": [
    {
     "data": {
      "image/png": "[encoded data removed]",
      "text/plain": [
       "<Figure size 432x288 with 1 Axes>"
      ]
     },
     "metadata": {
      "needs_background": "light"
     },
     "output_type": "display_data"
    }
   ],
   "source": [
    "off_1_prs_max = sns.regplot(x= 'off_1_prs_max', y= 'high_ic', data=data_final, logistic= True).set_title(\"Prior record score Log Odds Linear Plot\")\n"
   ]
  },
  {
   "cell_type": "markdown",
   "metadata": {},
   "source": [
    "#### Outliers"
   ]
  },
  {
   "cell_type": "code",
   "execution_count": 29,
   "metadata": {},
   "outputs": [
    {
     "data": {
      "image/png": "[encoded data removed]",
      "text/plain": [
       "<Figure size 432x288 with 1 Axes>"
      ]
     },
     "metadata": {
      "needs_background": "light"
     },
     "output_type": "display_data"
    }
   ],
   "source": [
    "prior_commits_box = sns.boxplot(data= data_final[['prior_commits']]).set_title(\"Prior commits and low/high Box Plot\")\n"
   ]
  },
  {
   "cell_type": "code",
   "execution_count": 30,
   "metadata": {},
   "outputs": [
    {
     "name": "stderr",
     "output_type": "stream",
     "text": [
      "/home/ncr006/anaconda3/lib/python3.9/site-packages/seaborn/_decorators.py:36: FutureWarning: Pass the following variables as keyword args: x, y. From version 0.12, the only valid positional argument will be `data`, and passing other arguments without an explicit keyword will result in an error or misinterpretation.\n",
      "  warnings.warn(\n",
      "/home/ncr006/anaconda3/lib/python3.9/site-packages/seaborn/_decorators.py:36: FutureWarning: Pass the following variables as keyword args: x, y. From version 0.12, the only valid positional argument will be `data`, and passing other arguments without an explicit keyword will result in an error or misinterpretation.\n",
      "  warnings.warn(\n"
     ]
    },
    {
     "data": {
      "image/png": "[encoded data removed]",
      "text/plain": [
       "<Figure size 1080x1080 with 2 Axes>"
      ]
     },
     "metadata": {
      "needs_background": "light"
     },
     "output_type": "display_data"
    }
   ],
   "source": [
    "#### Residuals\n",
    "## Plotting multiple plots same figure\n",
    "fig, (axL, axR) = plt.subplots(2, figsize=(15, 15))\n",
    "plt.suptitle(\"Logistic Regression Residual Plots \\n using Seaborn Lowess line (N = 400)\")\n",
    "\n",
    "\n",
    "# Deviance Residuals\n",
    "sns.regplot(result.fittedvalues, result.resid_dev, ax= axL,\n",
    "            color=\"black\", scatter_kws={\"s\": 5},\n",
    "            line_kws={\"color\":\"b\", \"alpha\":1, \"lw\":2}, lowess=True)\n",
    "\n",
    "axL.set_title(\"Deviance Residuals \\n against Fitted Values\")\n",
    "axL.set_xlabel(\"Linear Predictor Values\")\n",
    "axL.set_ylabel(\"Deviance Residuals\")\n",
    "\n",
    "# Studentized Pearson Residuals\n",
    "sns.regplot(result.fittedvalues, result.resid_pearson, ax= axR,\n",
    "            color=\"black\", scatter_kws={\"s\": 5},\n",
    "            line_kws={\"color\":\"g\", \"alpha\":1, \"lw\":2}, lowess=True)\n",
    "\n",
    "axR.set_title(\"Studentized Pearson Residuals \\n against Fitted Values\")\n",
    "axR.set_xlabel(\"Linear Predictor Values\")\n",
    "axR.set_ylabel(\"Studentized Pearson Residuals\")\n",
    "\n",
    "plt.show()"
   ]
  },
  {
   "cell_type": "markdown",
   "metadata": {},
   "source": [
    "### Feature selection"
   ]
  },
  {
   "cell_type": "code",
   "execution_count": 31,
   "metadata": {},
   "outputs": [],
   "source": [
    "ll = ['age_gt_45',\n",
    " 'ic_institut_adj',\n",
    " 'escape_hist_1',\n",
    " #'escape_hist_2',\n",
    " #'escape_hist_3',\n",
    " #'escape_hist_4',\n",
    " 'escape_hist_5',\n",
    " 'mrt_stat_DIV',\n",
    " 'mrt_stat_SEP',\n",
    " 'mrt_stat_MAR',\n",
    " 'mrt_stat_WID',\n",
    " 'employed']\n",
    "ll.append('race_B')\n",
    "ll.append('race_A')\n",
    "ll.append('race_H')\n",
    "ll.append('race_I')\n",
    "ll.append('race_O')\n",
    "ll.append('off_1_gs_max')\n",
    "ll.append('off_1_prs_max')\n",
    "ll.append('prior_commits')\n",
    "ll.append('age_lt_25')\n",
    "ll.append('gender_female')"
   ]
  },
  {
   "cell_type": "code",
   "execution_count": 32,
   "metadata": {},
   "outputs": [],
   "source": [
    "yvars = ['high_ic']\n",
    "Xvars = [i for i in data_final_vars if i not in yvars]\n",
    "X = data_final.loc[:, data_final.columns != 'high_ic']\n",
    "y = data_final.loc[:, data_final.columns == 'high_ic']\n",
    "X=X[ll]\n",
    "from sklearn.feature_selection import RFE\n",
    "from sklearn.linear_model import LogisticRegression\n",
    "logreg = LogisticRegression(max_iter=500) # increase the number of iterations to get convergence\n",
    "rfe = RFE(logreg, n_features_to_select=4, step=1)\n",
    "rfe = rfe.fit(X, y.values.ravel())"
   ]
  },
  {
   "cell_type": "code",
   "execution_count": 33,
   "metadata": {},
   "outputs": [
    {
     "data": {
      "text/plain": [
       "['gender_female', 'race_B', 'race_A', 'race_H']"
      ]
     },
     "execution_count": 33,
     "metadata": {},
     "output_type": "execute_result"
    }
   ],
   "source": [
    "zz= list(zip(Xvars,list(rfe.support_)))\n",
    "features = [a for (a,b) in zz if b]\n",
    "features"
   ]
  },
  {
   "cell_type": "code",
   "execution_count": null,
   "metadata": {},
   "outputs": [],
   "source": []
  },
  {
   "cell_type": "code",
   "execution_count": null,
   "metadata": {},
   "outputs": [],
   "source": []
  },
  {
   "cell_type": "code",
   "execution_count": null,
   "metadata": {},
   "outputs": [],
   "source": []
  },
  {
   "cell_type": "code",
   "execution_count": null,
   "metadata": {},
   "outputs": [],
   "source": []
  },
  {
   "cell_type": "code",
   "execution_count": null,
   "metadata": {},
   "outputs": [],
   "source": []
  },
  {
   "cell_type": "code",
   "execution_count": null,
   "metadata": {},
   "outputs": [],
   "source": []
  },
  {
   "cell_type": "code",
   "execution_count": null,
   "metadata": {},
   "outputs": [],
   "source": []
  },
  {
   "cell_type": "code",
   "execution_count": null,
   "metadata": {},
   "outputs": [],
   "source": []
  },
  {
   "cell_type": "code",
   "execution_count": null,
   "metadata": {},
   "outputs": [],
   "source": []
  },
  {
   "cell_type": "code",
   "execution_count": null,
   "metadata": {},
   "outputs": [],
   "source": []
  },
  {
   "cell_type": "code",
   "execution_count": null,
   "metadata": {},
   "outputs": [],
   "source": []
  },
  {
   "cell_type": "code",
   "execution_count": null,
   "metadata": {},
   "outputs": [],
   "source": []
  },
  {
   "cell_type": "code",
   "execution_count": null,
   "metadata": {},
   "outputs": [],
   "source": []
  }
 ],
 "metadata": {
  "interpreter": {
   "hash": "20ee1cfdc84c60eed2c3b984f4d3a2f31ec1d88fe692b137e9191f9b5e219ca2"
  },
  "kernelspec": {
   "display_name": "Python 3 (ipykernel)",
   "language": "python",
   "name": "python3"
  },
  "language_info": {
   "codemirror_mode": {
    "name": "ipython",
    "version": 3
   },
   "file_extension": ".py",
   "mimetype": "text/x-python",
   "name": "python",
   "nbconvert_exporter": "python",
   "pygments_lexer": "ipython3",
   "version": "3.9.7"
  }
 },
 "nbformat": 4,
 "nbformat_minor": 2
}

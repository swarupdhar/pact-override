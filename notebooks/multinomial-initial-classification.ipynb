{
 "cells": [
  {
   "cell_type": "markdown",
   "metadata": {},
   "source": [
    "# Multinomial regression"
   ]
  },
  {
   "cell_type": "markdown",
   "metadata": {},
   "source": [
    "## Initial classification"
   ]
  },
  {
   "cell_type": "markdown",
   "metadata": {},
   "source": [
    "**Notebook Setup**"
   ]
  },
  {
   "cell_type": "code",
   "execution_count": 1,
   "metadata": {},
   "outputs": [],
   "source": [
    "import sys\n",
    "sys.path.append(\"../src\")\n",
    "%load_ext autoreload\n",
    "%autoreload 2"
   ]
  },
  {
   "cell_type": "code",
   "execution_count": 2,
   "metadata": {},
   "outputs": [],
   "source": [
    "import pandas as pd\n",
    "import numpy as np\n",
    "import matplotlib.pyplot as plt\n",
    "from sklearn.model_selection import train_test_split\n",
    "from sklearn.linear_model import LogisticRegression\n",
    "\n",
    "%matplotlib inline"
   ]
  },
  {
   "cell_type": "code",
   "execution_count": 3,
   "metadata": {},
   "outputs": [],
   "source": [
    "plt.style.use('ggplot')"
   ]
  },
  {
   "cell_type": "code",
   "execution_count": 4,
   "metadata": {},
   "outputs": [],
   "source": [
    "%matplotlib inline\n",
    "\n",
    "from project import rf_models, preprocessing\n",
    "\n",
    "df = pd.read_csv(\"../data/initial_custody_2017_gsprs.csv\", low_memory=False)\n",
    "\n",
    "#df['high_ic_instit_adj'] = np.where(df['ic_institut_adj']>2, 1, 0)\n",
    "#df['ic_override_up'] = np.where(df['ic_ovride_cust_lvl']-df['ic_custdy_level']>0,1,0)\n",
    "#df['high_ic'] = np.where(df['ic_custdy_level']>3, 1, 0)\n",
    "\n",
    "\n",
    "# preprocessing\n",
    "data = preprocessing.preprocess_input_vars(df)\n",
    "data = data[data.ic_custdy_level > 1]\n",
    "data = data[\n",
    "    [\n",
    "        \"gender_female\",\n",
    "        \"age_gt_45\",\n",
    "        \"age_lt_25\",\n",
    "        \"race_B\",\n",
    "        \"race_A\",\n",
    "        \"race_H\",\n",
    "        \"race_I\",\n",
    "        \"race_O\",\n",
    "        \"off_1_prs_max\",\n",
    "        \"off_1_gs_max\",\n",
    "        \"ic_custdy_level\",\n",
    "        \"prior_commits\",\n",
    "        \"ic_institut_adj\",\n",
    "        \"escape_hist_1\",\n",
    "        #\"escape_hist_2\",\n",
    "        #\"escape_hist_3\",\n",
    "        #\"escape_hist_4\",\n",
    "        \"escape_hist_5\",\n",
    "        \"mrt_stat_DIV\",\n",
    "        \"mrt_stat_SEP\",\n",
    "        \"mrt_stat_MAR\",\n",
    "        \"mrt_stat_WID\",\n",
    "        \"employed\",\n",
    "        #\"high_ic_instit_adj\",\n",
    "        #\"high_ic\"\n",
    "    ]\n",
    "]\n",
    "data = data.dropna()\n",
    "\n",
    "df_ic_all = data"
   ]
  },
  {
   "cell_type": "markdown",
   "metadata": {},
   "source": [
    "#### Multinomial"
   ]
  },
  {
   "cell_type": "code",
   "execution_count": 5,
   "metadata": {},
   "outputs": [
    {
     "data": {
      "text/plain": [
       "LogisticRegression(max_iter=10000, multi_class='multinomial')"
      ]
     },
     "execution_count": 5,
     "metadata": {},
     "output_type": "execute_result"
    }
   ],
   "source": [
    "X = df_ic_all.drop(\"ic_custdy_level\", axis=1)\n",
    "y = df_ic_all[\"ic_custdy_level\"]\n",
    "X_train, X_test, Y_train, Y_test = train_test_split(X, y, train_size=0.2, random_state=1)\n",
    "model = LogisticRegression(multi_class=\"multinomial\", max_iter=10_000)\n",
    "model.fit(X_train, Y_train)"
   ]
  },
  {
   "cell_type": "code",
   "execution_count": 6,
   "metadata": {},
   "outputs": [
    {
     "name": "stdout",
     "output_type": "stream",
     "text": [
      "Mean Accuracy: 0.772 (0.011)\n"
     ]
    }
   ],
   "source": [
    "from sklearn.model_selection import RepeatedStratifiedKFold\n",
    "from sklearn.model_selection import cross_val_score\n",
    "\n",
    "cv = RepeatedStratifiedKFold(n_splits=10, n_repeats=3, random_state=1)\n",
    "# evaluate the model and collect the scores\n",
    "n_scores = cross_val_score(model, X_test, Y_test, scoring='accuracy', cv=cv, n_jobs=-1)\n",
    "# report the model performance\n",
    "print('Mean Accuracy: %.3f (%.3f)' % (np.mean(n_scores), np.std(n_scores)))"
   ]
  },
  {
   "cell_type": "code",
   "execution_count": 7,
   "metadata": {},
   "outputs": [
    {
     "data": {
      "text/plain": [
       "array([[ 9.45366089e-01,  1.32697981e+00, -1.35227195e+00,\n",
       "        -7.61379257e-01, -1.48722442e-01, -1.99960007e-01,\n",
       "        -9.41225456e-02, -1.88991453e-01, -4.90122256e-01,\n",
       "        -5.73972280e-01, -2.18661719e-01, -1.14357995e+00,\n",
       "         1.36935526e+00, -6.74878609e-01,  1.96726545e+00,\n",
       "         1.89798759e+00,  1.90235272e+00,  1.44611041e+00,\n",
       "         8.06675193e-01],\n",
       "       [-1.19255729e-01,  2.56929169e-01, -2.31747133e-01,\n",
       "         1.62365286e-01,  4.86575829e-01,  1.80671958e-01,\n",
       "        -1.49862137e-01,  2.36247082e-02, -1.52595785e-01,\n",
       "        -3.70023558e-01, -2.58003711e-02, -5.15920908e-01,\n",
       "         5.24294545e-01, -9.94631180e-01,  3.10534589e-01,\n",
       "         3.60910689e-01,  5.61153855e-02, -2.90173546e-01,\n",
       "         2.71477560e-01],\n",
       "       [-6.10461031e-01, -1.01932573e+00,  6.88172594e-01,\n",
       "         2.52715464e-01, -3.25992644e-01,  1.00374904e-01,\n",
       "         2.45080684e-01,  1.67520739e-01,  2.25145230e-01,\n",
       "        -1.03636713e-01,  5.91245261e-02,  7.16175334e-01,\n",
       "        -1.52325921e-01,  1.82420988e+00, -1.42708177e+00,\n",
       "        -1.55144466e+00, -1.36265043e+00, -1.01438636e+00,\n",
       "        -5.16168531e-01],\n",
       "       [-2.15649329e-01, -5.64583249e-01,  8.95846491e-01,\n",
       "         3.46298508e-01, -1.18607438e-02, -8.10868551e-02,\n",
       "        -1.09600173e-03, -2.15399397e-03,  4.17572810e-01,\n",
       "         1.04763255e+00,  1.85337564e-01,  9.43325520e-01,\n",
       "        -1.74132388e+00, -1.54700088e-01, -8.50718267e-01,\n",
       "        -7.07453621e-01, -5.95817676e-01, -1.41550501e-01,\n",
       "        -5.61984222e-01]])"
      ]
     },
     "execution_count": 7,
     "metadata": {},
     "output_type": "execute_result"
    }
   ],
   "source": [
    "model.coef_"
   ]
  },
  {
   "cell_type": "code",
   "execution_count": 38,
   "metadata": {},
   "outputs": [
    {
     "data": {
      "text/plain": [
       "array([[2.55032921, 3.78123441, 0.25807213, 0.46751328, 0.86119173,\n",
       "        0.82094573, 0.90848852, 0.83186223, 0.61212444, 0.56326397,\n",
       "        0.80342801, 0.31890363, 3.92946757, 0.49630633, 7.12750585,\n",
       "        6.63981256, 6.68216363, 4.24406331, 2.23795295],\n",
       "       [0.88186853, 1.29866519, 0.79240551, 1.17683539, 1.63041391,\n",
       "        1.20061604, 0.86189373, 1.02083758, 0.85773488, 0.6908533 ,\n",
       "        0.97440912, 0.59729353, 1.68700526, 0.37247144, 1.36004621,\n",
       "        1.42938388, 1.05635068, 0.74616376, 1.31056831],\n",
       "       [0.53874968, 0.36202239, 1.98992413, 1.28848841, 0.72046968,\n",
       "        1.10860623, 1.27899284, 1.17932683, 1.25215346, 0.90192462,\n",
       "        1.06094581, 2.04861795, 0.85849543, 6.23459349, 0.23930786,\n",
       "        0.21119664, 0.25565838, 0.36345578, 0.59628303],\n",
       "       [0.82530198, 0.56251456, 2.45739457, 1.41061925, 0.98852252,\n",
       "        0.91517489, 0.99852449, 0.99852229, 1.52107157, 2.84925912,\n",
       "        1.20397784, 2.56266454, 0.17571623, 0.86765899, 0.43107397,\n",
       "        0.49889401, 0.55413393, 0.86882521, 0.57179049]])"
      ]
     },
     "execution_count": 38,
     "metadata": {},
     "output_type": "execute_result"
    }
   ],
   "source": [
    "np.exp(model.coef_)"
   ]
  },
  {
   "cell_type": "markdown",
   "metadata": {},
   "source": [
    "### Feature selection"
   ]
  },
  {
   "cell_type": "code",
   "execution_count": null,
   "metadata": {},
   "outputs": [],
   "source": []
  },
  {
   "cell_type": "code",
   "execution_count": 39,
   "metadata": {},
   "outputs": [
    {
     "data": {
      "text/plain": [
       "['age_lt_25', 'escape_hist_5', 'mrt_stat_DIV', 'mrt_stat_SEP']"
      ]
     },
     "execution_count": 39,
     "metadata": {},
     "output_type": "execute_result"
    }
   ],
   "source": [
    "from sklearn.feature_selection import RFE\n",
    "\n",
    "data_final_vars=df_ic_all.columns.values.tolist()\n",
    "yvars = ['ic_custdy_level']\n",
    "Xvars = [i for i in data_final_vars if i not in yvars]\n",
    "\n",
    "rfe = RFE(model, n_features_to_select=4, step=1)\n",
    "rfe = rfe.fit(X, y.values.ravel())\n",
    "\n",
    "zz= list(zip(Xvars,list(rfe.support_)))\n",
    "ll = [a for (a,b) in zz if b]\n",
    "ll"
   ]
  },
  {
   "cell_type": "markdown",
   "metadata": {},
   "source": [
    "#### Class imbalance"
   ]
  },
  {
   "cell_type": "code",
   "execution_count": 40,
   "metadata": {},
   "outputs": [
    {
     "name": "stdout",
     "output_type": "stream",
     "text": [
      "percentage of lev 1 is 9.583785740137532\n",
      "percentage of lev 1 is 34.31777053926891\n",
      "percentage of lev 1 is 55.72927976836771\n",
      "percentage of lev 1 is 0.3691639522258415\n",
      "1324 4741 7699 51 13815\n"
     ]
    }
   ],
   "source": [
    "count_2 = len(df_ic_all[df_ic_all['ic_custdy_level']==2])\n",
    "count_3 = len(df_ic_all[df_ic_all['ic_custdy_level']==3])\n",
    "count_4 = len(df_ic_all[df_ic_all['ic_custdy_level']==4])\n",
    "count_5 = len(df_ic_all[df_ic_all['ic_custdy_level']==5])\n",
    "\n",
    "tot = count_2 + count_3 + count_4 + count_5\n",
    "\n",
    "pct_2 = count_2/tot\n",
    "print(\"percentage of lev 1 is\", pct_2*100)\n",
    "pct_3 = count_3/tot\n",
    "print(\"percentage of lev 1 is\", pct_3*100)\n",
    "pct_4 = count_4/tot\n",
    "print(\"percentage of lev 1 is\", pct_4*100)\n",
    "pct_5 = count_5/tot\n",
    "print(\"percentage of lev 1 is\", pct_5*100)\n",
    "\n",
    "\n",
    "pct_2 +pct_3 + pct_4 +pct_5 \n",
    "print(count_2,count_3,count_4,count_5,count_2+count_3+count_4+count_5)"
   ]
  },
  {
   "cell_type": "markdown",
   "metadata": {},
   "source": [
    "#### Oversampling to fix"
   ]
  },
  {
   "cell_type": "code",
   "execution_count": 8,
   "metadata": {},
   "outputs": [],
   "source": [
    "from imblearn.over_sampling import SMOTE\n",
    "\n",
    "os = SMOTE(random_state=0)\n",
    "\n",
    "X, y = os.fit_resample(X, y)"
   ]
  },
  {
   "cell_type": "code",
   "execution_count": 9,
   "metadata": {},
   "outputs": [
    {
     "data": {
      "text/plain": [
       "LogisticRegression(max_iter=10000, multi_class='multinomial')"
      ]
     },
     "execution_count": 9,
     "metadata": {},
     "output_type": "execute_result"
    }
   ],
   "source": [
    "X_train, X_test, Y_train, Y_test = train_test_split(X, y, train_size=0.2, random_state=1)\n",
    "model = LogisticRegression(multi_class=\"multinomial\", max_iter=10_000)\n",
    "model.fit(X_train, Y_train)"
   ]
  },
  {
   "cell_type": "code",
   "execution_count": 43,
   "metadata": {},
   "outputs": [
    {
     "name": "stdout",
     "output_type": "stream",
     "text": [
      "Mean Accuracy: 0.678 (0.009)\n"
     ]
    }
   ],
   "source": [
    "cv = RepeatedStratifiedKFold(n_splits=10, n_repeats=3, random_state=1)\n",
    "# evaluate the model and collect the scores\n",
    "n_scores = cross_val_score(model, X_test, Y_test, scoring='accuracy', cv=cv, n_jobs=-1)\n",
    "# report the model performance\n",
    "print('Mean Accuracy: %.3f (%.3f)' % (np.mean(n_scores), np.std(n_scores)))"
   ]
  },
  {
   "cell_type": "code",
   "execution_count": 44,
   "metadata": {},
   "outputs": [
    {
     "data": {
      "text/plain": [
       "array([[ 2.13066577,  4.40448155,  0.10124403,  0.291185  ,  0.41872623,\n",
       "         0.68737375,  0.61844444,  0.61796751,  0.6853197 ,  0.75550368,\n",
       "         0.86554388,  0.26505451,  2.93421788,  0.17593156,  7.48962171,\n",
       "         5.15211257,  9.58336416,  1.54281008,  4.19074125],\n",
       "       [ 1.5645998 ,  1.60363264,  1.05123428,  1.2234713 ,  0.89188043,\n",
       "         1.457986  ,  1.05187855,  1.08091995,  0.89806976,  0.88113592,\n",
       "         1.03184466,  0.59807166,  2.11002938,  1.21107011,  2.55265688,\n",
       "         2.61108532,  2.52238615,  0.96694274,  2.45712923],\n",
       "       [ 1.88186724,  0.58781152,  3.05249295,  2.78889814,  3.92800236,\n",
       "         2.38785672,  2.02616705,  2.44192558,  1.29234711,  1.11049595,\n",
       "         1.10098153,  2.19965653,  1.21627785, 13.39777959,  0.73220734,\n",
       "         0.75602257,  0.85175168,  1.95662238,  1.42831084],\n",
       "       [ 0.15940151,  0.24085864,  3.07805523,  1.00647864,  0.68169711,\n",
       "         0.41787409,  0.7586797 ,  0.61306765,  1.2572381 ,  1.35270636,\n",
       "         1.0169897 ,  2.86785183,  0.13279641,  0.35031129,  0.07143542,\n",
       "         0.09832384,  0.04856881,  0.342594  ,  0.06799209]])"
      ]
     },
     "execution_count": 44,
     "metadata": {},
     "output_type": "execute_result"
    }
   ],
   "source": [
    "np.exp(model.coef_)"
   ]
  },
  {
   "cell_type": "code",
   "execution_count": 45,
   "metadata": {},
   "outputs": [
    {
     "data": {
      "text/plain": [
       "array([2., 3., 4., 5.])"
      ]
     },
     "execution_count": 45,
     "metadata": {},
     "output_type": "execute_result"
    }
   ],
   "source": [
    "model.classes_"
   ]
  },
  {
   "cell_type": "code",
   "execution_count": 46,
   "metadata": {},
   "outputs": [
    {
     "data": {
      "text/plain": [
       "[('gender_female', 2.1306657677712715),\n",
       " ('age_gt_45', 4.404481549784025),\n",
       " ('age_lt_25', 0.10124402608437318),\n",
       " ('race_B', 0.2911850000018083),\n",
       " ('race_A', 0.41872623090653205),\n",
       " ('race_H', 0.6873737507628503),\n",
       " ('race_I', 0.6184444399949701),\n",
       " ('race_O', 0.6179675104573243),\n",
       " ('off_1_prs_max', 0.685319702406421),\n",
       " ('off_1_gs_max', 0.7555036810814972),\n",
       " ('prior_commits', 0.8655438829101658),\n",
       " ('ic_institut_adj', 0.26505450575176054),\n",
       " ('escape_hist_1', 2.934217882716126),\n",
       " ('escape_hist_5', 0.17593156068491284),\n",
       " ('mrt_stat_DIV', 7.489621711936725),\n",
       " ('mrt_stat_SEP', 5.152112572979169),\n",
       " ('mrt_stat_MAR', 9.583364157799284),\n",
       " ('mrt_stat_WID', 1.5428100823077298),\n",
       " ('employed', 4.190741247082359)]"
      ]
     },
     "execution_count": 46,
     "metadata": {},
     "output_type": "execute_result"
    }
   ],
   "source": [
    "# For CL 2\n",
    "features = list(X_train.columns.values)\n",
    "coeffs = list(np.exp(model.coef_)[0])\n",
    "list(zip(features, coeffs))"
   ]
  },
  {
   "cell_type": "code",
   "execution_count": 47,
   "metadata": {},
   "outputs": [
    {
     "data": {
      "text/plain": [
       "[('gender_female', 1.5645998006924493),\n",
       " ('age_gt_45', 1.6036326401257435),\n",
       " ('age_lt_25', 1.051234279884506),\n",
       " ('race_B', 1.2234712996365984),\n",
       " ('race_A', 0.8918804347840003),\n",
       " ('race_H', 1.457985996135163),\n",
       " ('race_I', 1.0518785483572728),\n",
       " ('race_O', 1.0809199485372003),\n",
       " ('off_1_prs_max', 0.898069761772171),\n",
       " ('off_1_gs_max', 0.8811359158494946),\n",
       " ('prior_commits', 1.031844661994937),\n",
       " ('ic_institut_adj', 0.5980716642989681),\n",
       " ('escape_hist_1', 2.1100293767681446),\n",
       " ('escape_hist_5', 1.2110701051971025),\n",
       " ('mrt_stat_DIV', 2.5526568778154797),\n",
       " ('mrt_stat_SEP', 2.6110853175241417),\n",
       " ('mrt_stat_MAR', 2.5223861502919322),\n",
       " ('mrt_stat_WID', 0.9669427434631649),\n",
       " ('employed', 2.4571292280294657)]"
      ]
     },
     "execution_count": 47,
     "metadata": {},
     "output_type": "execute_result"
    }
   ],
   "source": [
    "# For CL 3\n",
    "features = list(X_train.columns.values)\n",
    "coeffs = list(np.exp(model.coef_)[1])\n",
    "list(zip(features, coeffs))"
   ]
  },
  {
   "cell_type": "code",
   "execution_count": 48,
   "metadata": {},
   "outputs": [
    {
     "data": {
      "text/plain": [
       "[('gender_female', 1.8818672401169523),\n",
       " ('age_gt_45', 0.5878115150094636),\n",
       " ('age_lt_25', 3.0524929547513513),\n",
       " ('race_B', 2.7888981379734674),\n",
       " ('race_A', 3.928002362413417),\n",
       " ('race_H', 2.387856722204119),\n",
       " ('race_I', 2.026167046202765),\n",
       " ('race_O', 2.4419255755611013),\n",
       " ('off_1_prs_max', 1.2923471116617713),\n",
       " ('off_1_gs_max', 1.110495950300301),\n",
       " ('prior_commits', 1.100981525039836),\n",
       " ('ic_institut_adj', 2.1996565289146686),\n",
       " ('escape_hist_1', 1.2162778513157915),\n",
       " ('escape_hist_5', 13.397779587496688),\n",
       " ('mrt_stat_DIV', 0.7322073350101205),\n",
       " ('mrt_stat_SEP', 0.7560225660448033),\n",
       " ('mrt_stat_MAR', 0.8517516801329712),\n",
       " ('mrt_stat_WID', 1.9566223761447437),\n",
       " ('employed', 1.4283108428081206)]"
      ]
     },
     "execution_count": 48,
     "metadata": {},
     "output_type": "execute_result"
    }
   ],
   "source": [
    "# For CL 4\n",
    "features = list(X_train.columns.values)\n",
    "coeffs = list(np.exp(model.coef_)[2])\n",
    "list(zip(features, coeffs))"
   ]
  },
  {
   "cell_type": "code",
   "execution_count": 49,
   "metadata": {},
   "outputs": [
    {
     "data": {
      "text/plain": [
       "[('gender_female', 0.15940150555143648),\n",
       " ('age_gt_45', 0.24085863910972877),\n",
       " ('age_lt_25', 3.0780552306648845),\n",
       " ('race_B', 1.0064786399181076),\n",
       " ('race_A', 0.6816971131898661),\n",
       " ('race_H', 0.41787408587951747),\n",
       " ('race_I', 0.7586797013146075),\n",
       " ('race_O', 0.6130676525028547),\n",
       " ('off_1_prs_max', 1.2572380953020987),\n",
       " ('off_1_gs_max', 1.3527063612331396),\n",
       " ('prior_commits', 1.0169897022775576),\n",
       " ('ic_institut_adj', 2.867851833246515),\n",
       " ('escape_hist_1', 0.13279641179705792),\n",
       " ('escape_hist_5', 0.35031128827025243),\n",
       " ('mrt_stat_DIV', 0.07143541961856172),\n",
       " ('mrt_stat_SEP', 0.09832384079125706),\n",
       " ('mrt_stat_MAR', 0.04856880708292741),\n",
       " ('mrt_stat_WID', 0.34259400360706777),\n",
       " ('employed', 0.06799209489002236)]"
      ]
     },
     "execution_count": 49,
     "metadata": {},
     "output_type": "execute_result"
    }
   ],
   "source": [
    "# For CL 5\n",
    "features = list(X_train.columns.values)\n",
    "coeffs = list(np.exp(model.coef_)[3])\n",
    "list(zip(features, coeffs))"
   ]
  },
  {
   "cell_type": "markdown",
   "metadata": {},
   "source": [
    "## Feature selection"
   ]
  },
  {
   "cell_type": "code",
   "execution_count": 50,
   "metadata": {},
   "outputs": [
    {
     "data": {
      "text/plain": [
       "['escape_hist_5', 'mrt_stat_DIV', 'mrt_stat_SEP', 'mrt_stat_MAR']"
      ]
     },
     "execution_count": 50,
     "metadata": {},
     "output_type": "execute_result"
    }
   ],
   "source": [
    "rfe = RFE(model, n_features_to_select=4, step=1)\n",
    "rfe = rfe.fit(X, y.values.ravel())\n",
    "\n",
    "\n",
    "zz= list(zip(Xvars,list(rfe.support_)))\n",
    "ll = [a for (a,b) in zz if b]\n",
    "ll"
   ]
  },
  {
   "cell_type": "markdown",
   "metadata": {},
   "source": [
    "## SVM"
   ]
  },
  {
   "cell_type": "code",
   "execution_count": 18,
   "metadata": {},
   "outputs": [
    {
     "name": "stdout",
     "output_type": "stream",
     "text": [
      "Accuracy for our dataset in predicting test data is : 66.81%\n",
      "              precision    recall  f1-score   support\n",
      "\n",
      "         2.0       0.75      0.76      0.76      6187\n",
      "         3.0       0.56      0.62      0.59      6157\n",
      "         4.0       0.68      0.50      0.57      6161\n",
      "         5.0       0.70      0.79      0.74      6132\n",
      "\n",
      "    accuracy                           0.67     24637\n",
      "   macro avg       0.67      0.67      0.66     24637\n",
      "weighted avg       0.67      0.67      0.66     24637\n",
      "\n"
     ]
    }
   ],
   "source": [
    "#We ommitted escape histories 2, 3 and 4 because they were highly correlated with escape history 1\n",
    "#and because we want to know if they're frequent escapees or not, and not necessarily how many times\n",
    "\n",
    "from sklearn.metrics import accuracy_score\n",
    "\n",
    "\n",
    "\n",
    "\n",
    "\n",
    "#applying Support Vector Classifier \n",
    "#fitting kernel SVM to training dataset\n",
    "from sklearn.svm import SVC\n",
    "classifier_df = SVC(kernel = 'linear' , random_state = 0)\n",
    "classifier_df.fit(X_train,Y_train)\n",
    "\n",
    "#predicting test data result\n",
    "y_pred = classifier_df.predict(X_test)\n",
    "\n",
    "\n",
    "#setting up accuracy score\n",
    "\n",
    "acc = accuracy_score(Y_test,y_pred) *100\n",
    "print(\"Accuracy for our dataset in predicting test data is : {:.2f}%\".format(acc))\n",
    "\n",
    "\n",
    "from sklearn.metrics import classification_report\n",
    "print(classification_report(Y_test, y_pred))\n"
   ]
  },
  {
   "cell_type": "markdown",
   "metadata": {},
   "source": [
    "## Neural network"
   ]
  },
  {
   "cell_type": "code",
   "execution_count": 19,
   "metadata": {},
   "outputs": [
    {
     "name": "stdout",
     "output_type": "stream",
     "text": [
      "Accuracy for our dataset in predicting test data is : 71.24%\n",
      "              precision    recall  f1-score   support\n",
      "\n",
      "         2.0       0.75      0.76      0.76      6187\n",
      "         3.0       0.56      0.62      0.59      6157\n",
      "         4.0       0.68      0.50      0.57      6161\n",
      "         5.0       0.70      0.79      0.74      6132\n",
      "\n",
      "    accuracy                           0.67     24637\n",
      "   macro avg       0.67      0.67      0.66     24637\n",
      "weighted avg       0.67      0.67      0.66     24637\n",
      "\n"
     ]
    }
   ],
   "source": [
    "from sklearn.neural_network import MLPClassifier\n",
    "\n",
    "clf = MLPClassifier(solver='lbfgs', \n",
    "                    alpha=1e-5,\n",
    "                    hidden_layer_sizes=(14,), \n",
    "                    random_state=1, \n",
    "                    max_iter=10000)\n",
    "\n",
    "clf.fit(X_train, Y_train)\n",
    "\n",
    "Y_pred = clf.predict(X_test)\n",
    "\n",
    "acc = accuracy_score(Y_test,Y_pred) *100\n",
    "print(\"Accuracy for our dataset in predicting test data is : {:.2f}%\".format(acc))\n",
    "\n",
    "from sklearn.metrics import classification_report\n",
    "print(classification_report(Y_test, Y_pred))"
   ]
  },
  {
   "cell_type": "markdown",
   "metadata": {},
   "source": [
    "## Random forest"
   ]
  },
  {
   "cell_type": "code",
   "execution_count": 20,
   "metadata": {},
   "outputs": [
    {
     "name": "stdout",
     "output_type": "stream",
     "text": [
      "Accuracy for our dataset in predicting test data is : 83.96%\n",
      "              precision    recall  f1-score   support\n",
      "\n",
      "         2.0       0.84      0.83      0.84      6187\n",
      "         3.0       0.71      0.73      0.72      6157\n",
      "         4.0       0.84      0.81      0.83      6161\n",
      "         5.0       0.97      0.98      0.97      6132\n",
      "\n",
      "    accuracy                           0.84     24637\n",
      "   macro avg       0.84      0.84      0.84     24637\n",
      "weighted avg       0.84      0.84      0.84     24637\n",
      "\n"
     ]
    }
   ],
   "source": [
    "from sklearn.ensemble import RandomForestClassifier\n",
    "from sklearn.metrics import confusion_matrix\n",
    "\n",
    "clf = RandomForestClassifier(n_estimators = 100, criterion = 'gini', random_state = 0)\n",
    "clf.fit(X_train, Y_train)\n",
    "\n",
    "from sklearn.metrics import accuracy_score\n",
    "\n",
    "y_pred = clf.predict(X_test)\n",
    "\n",
    "acc = accuracy_score(Y_test,y_pred) *100\n",
    "print(\"Accuracy for our dataset in predicting test data is : {:.2f}%\".format(acc))\n",
    "\n",
    "from sklearn.metrics import classification_report\n",
    "print(classification_report(Y_test, y_pred))"
   ]
  },
  {
   "cell_type": "code",
   "execution_count": null,
   "metadata": {},
   "outputs": [],
   "source": []
  }
 ],
 "metadata": {
  "interpreter": {
   "hash": "20ee1cfdc84c60eed2c3b984f4d3a2f31ec1d88fe692b137e9191f9b5e219ca2"
  },
  "kernelspec": {
   "display_name": "Python 3",
   "language": "python",
   "name": "python3"
  },
  "language_info": {
   "codemirror_mode": {
    "name": "ipython",
    "version": 3
   },
   "file_extension": ".py",
   "mimetype": "text/x-python",
   "name": "python",
   "nbconvert_exporter": "python",
   "pygments_lexer": "ipython3",
   "version": "3.8.10"
  }
 },
 "nbformat": 4,
 "nbformat_minor": 2
}
